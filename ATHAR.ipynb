{
  "nbformat": 4,
  "nbformat_minor": 0,
  "metadata": {
    "colab": {
      "provenance": []
    },
    "kernelspec": {
      "name": "python3",
      "display_name": "Python 3"
    },
    "language_info": {
      "name": "python"
    }
  },
  "cells": [
    {
      "cell_type": "code",
      "execution_count": null,
      "metadata": {
        "id": "Sanoe8gseSyg"
      },
      "outputs": [],
      "source": [
        "%%capture\n",
        "!git clone https://github.com/alphaameer007/RHM_FYP"
      ]
    },
    {
      "cell_type": "code",
      "source": [
        "!pip install keras-tcn --no-dependencies\n",
        "!pip install EMD-signal"
      ],
      "metadata": {
        "id": "Nh_LgvPUeWuy"
      },
      "execution_count": null,
      "outputs": []
    },
    {
      "cell_type": "code",
      "source": [
        "from tcn import TCN\n",
        "import pandas as pd\n",
        "import tensorflow as tf\n",
        "from tensorflow import keras\n",
        "import matplotlib.pyplot as plt\n",
        "import numpy as np\n",
        "from tensorflow.keras import Sequential\n",
        "from tensorflow.keras.layers import Dense\n",
        "import matplotlib.pyplot as plt\n",
        "from PyEMD import CEEMDAN"
      ],
      "metadata": {
        "id": "2Z9kfxzCeWxP"
      },
      "execution_count": null,
      "outputs": []
    },
    {
      "cell_type": "code",
      "source": [
        "train = pd.read_csv('/content/RHM_FYP/Dataset/Training_data_Sotavento.csv')\n",
        "print(train)\n"
      ],
      "metadata": {
        "id": "Osz4ZpQoeWz2"
      },
      "execution_count": null,
      "outputs": []
    },
    {
      "cell_type": "code",
      "source": [
        "train_angle = train['Wind Direction']\n",
        "\n",
        "\n",
        "train_min = train_angle.min(axis=0)\n",
        "train_max = train_angle.max(axis=0)\n",
        "train_angle = (train_angle - train_min) / ( train_max - train_min)\n",
        "\n",
        "print(train_angle.head(10))"
      ],
      "metadata": {
        "id": "usg2BZUAeeMh"
      },
      "execution_count": null,
      "outputs": []
    },
    {
      "cell_type": "code",
      "source": [
        "train_angle = train_angle.values.reshape(-1,1)\n",
        "print(train_angle.shape)\n",
        "in_sample = train_angle\n",
        "print(in_sample.shape)"
      ],
      "metadata": {
        "id": "5D5oytpreePa"
      },
      "execution_count": null,
      "outputs": []
    },
    {
      "cell_type": "code",
      "source": [
        "eemd = CEEMDAN()\n",
        "eemd.extrema_detection = \"simple\"\n",
        "t = np.linspace(0, in_sample.shape[0], in_sample.shape[0])\n",
        "t = t.reshape(-1,1)\n",
        "print(t.shape, in_sample.shape)\n",
        "t = np.squeeze(t)\n",
        "in_sample = np.squeeze(in_sample)\n",
        "\n",
        "\n",
        "imfs = eemd(in_sample, t)\n",
        "imfs1,residual = eemd.get_imfs_and_residue()\n",
        "\n",
        "print(imfs1.shape)\n",
        "plt.plot(residual)"
      ],
      "metadata": {
        "id": "IZL5VQA2eeVZ"
      },
      "execution_count": null,
      "outputs": []
    },
    {
      "cell_type": "code",
      "source": [
        "for i in range(len(imfs1)):\n",
        "  fig, ax = plt.subplots(figsize=(25,1))\n",
        "  fig = plt.plot(imfs1[i], label = \"IMF{}\".format(i))\n",
        "  plt.legend()\n",
        "  plt.show()"
      ],
      "metadata": {
        "id": "4_H4E4bAeW2X"
      },
      "execution_count": null,
      "outputs": []
    },
    {
      "cell_type": "code",
      "source": [
        "train_IMF = pd.DataFrame(imfs1)\n",
        "train_IMF = train_IMF.transpose()\n",
        "residual = pd.DataFrame(residual)\n",
        "original_signal = pd.DataFrame(in_sample)\n",
        "\n",
        "train_data_decomposition = pd.concat([train_IMF,residual,original_signal],axis=1)\n",
        "train_data_decomposition.to_csv('SOTAVENTO_CEEMDAN_TRAIN_ANGLE.csv')\n",
        "train_data_decomposition"
      ],
      "metadata": {
        "id": "E-Grv0yXeW4p"
      },
      "execution_count": null,
      "outputs": []
    }
  ]
}