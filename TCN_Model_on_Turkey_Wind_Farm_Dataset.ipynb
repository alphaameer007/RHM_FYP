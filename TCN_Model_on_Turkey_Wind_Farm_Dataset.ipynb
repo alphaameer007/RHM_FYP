{
  "metadata": {
    "colab": {
      "provenance": [],
      "include_colab_link": true
    },
    "kernelspec": {
      "name": "python3",
      "display_name": "Python 3",
      "language": "python"
    },
    "language_info": {
      "name": "python",
      "version": "3.7.12",
      "mimetype": "text/x-python",
      "codemirror_mode": {
        "name": "ipython",
        "version": 3
      },
      "pygments_lexer": "ipython3",
      "nbconvert_exporter": "python",
      "file_extension": ".py"
    },
    "accelerator": "GPU",
    "gpuClass": "standard"
  },
  "nbformat_minor": 0,
  "nbformat": 4,
  "cells": [
    {
      "cell_type": "markdown",
      "metadata": {
        "id": "view-in-github",
        "colab_type": "text"
      },
      "source": [
        "<a href=\"https://colab.research.google.com/github/alphaameer007/RHM_FYP/blob/main/TCN_Model_on_Turkey_Wind_Farm_Dataset.ipynb\" target=\"_parent\"><img src=\"https://colab.research.google.com/assets/colab-badge.svg\" alt=\"Open In Colab\"/></a>"
      ]
    },
    {
      "cell_type": "code",
      "source": [
        "%%capture\n",
        "!git clone https://github.com/alphaameer007/RHM_FYP"
      ],
      "metadata": {
        "id": "Hw76cocj6xjp",
        "execution": {
          "iopub.status.busy": "2023-01-09T10:34:29.368761Z",
          "iopub.execute_input": "2023-01-09T10:34:29.369140Z",
          "iopub.status.idle": "2023-01-09T10:34:30.452419Z",
          "shell.execute_reply.started": "2023-01-09T10:34:29.369107Z",
          "shell.execute_reply": "2023-01-09T10:34:30.451084Z"
        },
        "trusted": true
      },
      "execution_count": null,
      "outputs": []
    },
    {
      "cell_type": "code",
      "source": [
        "!pip install keras-tcn --no-dependencies "
      ],
      "metadata": {
        "id": "g0l5Cyv6KgZQ",
        "outputId": "3983927b-4d2f-4b99-cb8e-9a3af4e6a60a",
        "colab": {
          "base_uri": "https://localhost:8080/"
        },
        "execution": {
          "iopub.status.busy": "2023-01-09T10:34:30.454890Z",
          "iopub.execute_input": "2023-01-09T10:34:30.455648Z",
          "iopub.status.idle": "2023-01-09T10:34:33.293190Z",
          "shell.execute_reply.started": "2023-01-09T10:34:30.455605Z",
          "shell.execute_reply": "2023-01-09T10:34:33.291946Z"
        },
        "trusted": true
      },
      "execution_count": null,
      "outputs": [
        {
          "name": "stdout",
          "text": "Requirement already satisfied: keras-tcn in /opt/conda/lib/python3.7/site-packages (3.5.0)\n\u001b[33mWARNING: Running pip as the 'root' user can result in broken permissions and conflicting behaviour with the system package manager. It is recommended to use a virtual environment instead: https://pip.pypa.io/warnings/venv\u001b[0m\u001b[33m\n\u001b[0m",
          "output_type": "stream"
        }
      ]
    },
    {
      "cell_type": "code",
      "source": [
        "!pip install keras --upgrade"
      ],
      "metadata": {
        "execution": {
          "iopub.status.busy": "2023-01-09T10:34:33.295433Z",
          "iopub.execute_input": "2023-01-09T10:34:33.295851Z",
          "iopub.status.idle": "2023-01-09T10:34:43.221156Z",
          "shell.execute_reply.started": "2023-01-09T10:34:33.295811Z",
          "shell.execute_reply": "2023-01-09T10:34:43.219788Z"
        },
        "trusted": true,
        "id": "SG07NPGqe2gW",
        "outputId": "8e5ac411-420e-4762-93af-6a1a28aabd3a"
      },
      "execution_count": null,
      "outputs": [
        {
          "name": "stdout",
          "text": "Requirement already satisfied: keras in /opt/conda/lib/python3.7/site-packages (2.11.0)\n\u001b[33mWARNING: Running pip as the 'root' user can result in broken permissions and conflicting behaviour with the system package manager. It is recommended to use a virtual environment instead: https://pip.pypa.io/warnings/venv\u001b[0m\u001b[33m\n\u001b[0m",
          "output_type": "stream"
        }
      ]
    },
    {
      "cell_type": "code",
      "source": [
        "from tcn import TCN\n",
        "import pandas as pd\n",
        "import tensorflow as tf\n",
        "from tensorflow import keras\n",
        "import matplotlib.pyplot as plt\n",
        "import numpy as np\n",
        "from tensorflow.keras import Sequential\n",
        "from tensorflow.keras.layers import Dense\n",
        "from keras.utils.multi_gpu_utils import multi_gpu_model"
      ],
      "metadata": {
        "id": "Au7SgwNIAFZx",
        "execution": {
          "iopub.status.busy": "2023-01-09T10:34:43.225164Z",
          "iopub.execute_input": "2023-01-09T10:34:43.225595Z",
          "iopub.status.idle": "2023-01-09T10:34:43.232325Z",
          "shell.execute_reply.started": "2023-01-09T10:34:43.225554Z",
          "shell.execute_reply": "2023-01-09T10:34:43.231348Z"
        },
        "trusted": true
      },
      "execution_count": null,
      "outputs": []
    },
    {
      "cell_type": "code",
      "source": [
        "df=pd.read_csv('/kaggle/input/t2csv/T2.csv')\n",
        "df"
      ],
      "metadata": {
        "colab": {
          "base_uri": "https://localhost:8080/",
          "height": 424
        },
        "id": "6R0YOhAXAewT",
        "outputId": "e449dbb7-5afd-49f3-bf2c-09e3cdc47a7a",
        "execution": {
          "iopub.status.busy": "2023-01-09T10:34:43.233680Z",
          "iopub.execute_input": "2023-01-09T10:34:43.234026Z",
          "iopub.status.idle": "2023-01-09T10:34:43.335835Z",
          "shell.execute_reply.started": "2023-01-09T10:34:43.233991Z",
          "shell.execute_reply": "2023-01-09T10:34:43.334576Z"
        },
        "trusted": true
      },
      "execution_count": null,
      "outputs": [
        {
          "execution_count": 55,
          "output_type": "execute_result",
          "data": {
            "text/plain": "                   time  LV ActivePower (kW)  Wind Speed (m/s)  wind energy  \\\n0         1/1/2018 0:00           380.047791          5.311336   416.328908   \n1         1/1/2018 0:10           453.769196          5.672167   519.917511   \n2         1/1/2018 0:20           306.376587          5.216037   390.900016   \n3         1/1/2018 0:30           419.645904          5.659674   516.127569   \n4         1/1/2018 0:40           380.650696          5.577941   491.702972   \n...                 ...                  ...               ...          ...   \n52555  12/31/2018 23:10          2963.980957         11.404030  3397.190793   \n52556  12/31/2018 23:20          1684.353027          7.332648  1173.055771   \n52557  12/31/2018 23:30          2201.106934          8.435358  1788.284755   \n52558  12/31/2018 23:40          2515.694092          9.421366  2418.382503   \n52559  12/31/2018 23:50          2820.466064          9.979332  2779.184096   \n\n       Wind Direction (°)  \n0              259.994904  \n1              268.641113  \n2              272.564789  \n3              271.258087  \n4              265.674286  \n...                   ...  \n52555           80.502724  \n52556           84.062599  \n52557           84.742500  \n52558           84.297913  \n52559           82.274620  \n\n[52560 rows x 5 columns]",
            "text/html": "<div>\n<style scoped>\n    .dataframe tbody tr th:only-of-type {\n        vertical-align: middle;\n    }\n\n    .dataframe tbody tr th {\n        vertical-align: top;\n    }\n\n    .dataframe thead th {\n        text-align: right;\n    }\n</style>\n<table border=\"1\" class=\"dataframe\">\n  <thead>\n    <tr style=\"text-align: right;\">\n      <th></th>\n      <th>time</th>\n      <th>LV ActivePower (kW)</th>\n      <th>Wind Speed (m/s)</th>\n      <th>wind energy</th>\n      <th>Wind Direction (°)</th>\n    </tr>\n  </thead>\n  <tbody>\n    <tr>\n      <th>0</th>\n      <td>1/1/2018 0:00</td>\n      <td>380.047791</td>\n      <td>5.311336</td>\n      <td>416.328908</td>\n      <td>259.994904</td>\n    </tr>\n    <tr>\n      <th>1</th>\n      <td>1/1/2018 0:10</td>\n      <td>453.769196</td>\n      <td>5.672167</td>\n      <td>519.917511</td>\n      <td>268.641113</td>\n    </tr>\n    <tr>\n      <th>2</th>\n      <td>1/1/2018 0:20</td>\n      <td>306.376587</td>\n      <td>5.216037</td>\n      <td>390.900016</td>\n      <td>272.564789</td>\n    </tr>\n    <tr>\n      <th>3</th>\n      <td>1/1/2018 0:30</td>\n      <td>419.645904</td>\n      <td>5.659674</td>\n      <td>516.127569</td>\n      <td>271.258087</td>\n    </tr>\n    <tr>\n      <th>4</th>\n      <td>1/1/2018 0:40</td>\n      <td>380.650696</td>\n      <td>5.577941</td>\n      <td>491.702972</td>\n      <td>265.674286</td>\n    </tr>\n    <tr>\n      <th>...</th>\n      <td>...</td>\n      <td>...</td>\n      <td>...</td>\n      <td>...</td>\n      <td>...</td>\n    </tr>\n    <tr>\n      <th>52555</th>\n      <td>12/31/2018 23:10</td>\n      <td>2963.980957</td>\n      <td>11.404030</td>\n      <td>3397.190793</td>\n      <td>80.502724</td>\n    </tr>\n    <tr>\n      <th>52556</th>\n      <td>12/31/2018 23:20</td>\n      <td>1684.353027</td>\n      <td>7.332648</td>\n      <td>1173.055771</td>\n      <td>84.062599</td>\n    </tr>\n    <tr>\n      <th>52557</th>\n      <td>12/31/2018 23:30</td>\n      <td>2201.106934</td>\n      <td>8.435358</td>\n      <td>1788.284755</td>\n      <td>84.742500</td>\n    </tr>\n    <tr>\n      <th>52558</th>\n      <td>12/31/2018 23:40</td>\n      <td>2515.694092</td>\n      <td>9.421366</td>\n      <td>2418.382503</td>\n      <td>84.297913</td>\n    </tr>\n    <tr>\n      <th>52559</th>\n      <td>12/31/2018 23:50</td>\n      <td>2820.466064</td>\n      <td>9.979332</td>\n      <td>2779.184096</td>\n      <td>82.274620</td>\n    </tr>\n  </tbody>\n</table>\n<p>52560 rows × 5 columns</p>\n</div>"
          },
          "metadata": {}
        }
      ]
    },
    {
      "cell_type": "code",
      "source": [
        "df.drop('time', inplace=True, axis=1)"
      ],
      "metadata": {
        "id": "ezO81MDWAink",
        "execution": {
          "iopub.status.busy": "2023-01-09T10:34:43.338272Z",
          "iopub.execute_input": "2023-01-09T10:34:43.339102Z",
          "iopub.status.idle": "2023-01-09T10:34:43.348196Z",
          "shell.execute_reply.started": "2023-01-09T10:34:43.339055Z",
          "shell.execute_reply": "2023-01-09T10:34:43.346827Z"
        },
        "trusted": true
      },
      "execution_count": null,
      "outputs": []
    },
    {
      "cell_type": "code",
      "source": [
        "df"
      ],
      "metadata": {
        "colab": {
          "base_uri": "https://localhost:8080/",
          "height": 424
        },
        "id": "SQsNnFhUA2DB",
        "outputId": "e3d388ce-ac29-4978-cc3e-92a99376117c",
        "execution": {
          "iopub.status.busy": "2023-01-09T10:34:43.350089Z",
          "iopub.execute_input": "2023-01-09T10:34:43.350428Z",
          "iopub.status.idle": "2023-01-09T10:34:43.369480Z",
          "shell.execute_reply.started": "2023-01-09T10:34:43.350399Z",
          "shell.execute_reply": "2023-01-09T10:34:43.368349Z"
        },
        "trusted": true
      },
      "execution_count": null,
      "outputs": [
        {
          "execution_count": 57,
          "output_type": "execute_result",
          "data": {
            "text/plain": "       LV ActivePower (kW)  Wind Speed (m/s)  wind energy  Wind Direction (°)\n0               380.047791          5.311336   416.328908          259.994904\n1               453.769196          5.672167   519.917511          268.641113\n2               306.376587          5.216037   390.900016          272.564789\n3               419.645904          5.659674   516.127569          271.258087\n4               380.650696          5.577941   491.702972          265.674286\n...                    ...               ...          ...                 ...\n52555          2963.980957         11.404030  3397.190793           80.502724\n52556          1684.353027          7.332648  1173.055771           84.062599\n52557          2201.106934          8.435358  1788.284755           84.742500\n52558          2515.694092          9.421366  2418.382503           84.297913\n52559          2820.466064          9.979332  2779.184096           82.274620\n\n[52560 rows x 4 columns]",
            "text/html": "<div>\n<style scoped>\n    .dataframe tbody tr th:only-of-type {\n        vertical-align: middle;\n    }\n\n    .dataframe tbody tr th {\n        vertical-align: top;\n    }\n\n    .dataframe thead th {\n        text-align: right;\n    }\n</style>\n<table border=\"1\" class=\"dataframe\">\n  <thead>\n    <tr style=\"text-align: right;\">\n      <th></th>\n      <th>LV ActivePower (kW)</th>\n      <th>Wind Speed (m/s)</th>\n      <th>wind energy</th>\n      <th>Wind Direction (°)</th>\n    </tr>\n  </thead>\n  <tbody>\n    <tr>\n      <th>0</th>\n      <td>380.047791</td>\n      <td>5.311336</td>\n      <td>416.328908</td>\n      <td>259.994904</td>\n    </tr>\n    <tr>\n      <th>1</th>\n      <td>453.769196</td>\n      <td>5.672167</td>\n      <td>519.917511</td>\n      <td>268.641113</td>\n    </tr>\n    <tr>\n      <th>2</th>\n      <td>306.376587</td>\n      <td>5.216037</td>\n      <td>390.900016</td>\n      <td>272.564789</td>\n    </tr>\n    <tr>\n      <th>3</th>\n      <td>419.645904</td>\n      <td>5.659674</td>\n      <td>516.127569</td>\n      <td>271.258087</td>\n    </tr>\n    <tr>\n      <th>4</th>\n      <td>380.650696</td>\n      <td>5.577941</td>\n      <td>491.702972</td>\n      <td>265.674286</td>\n    </tr>\n    <tr>\n      <th>...</th>\n      <td>...</td>\n      <td>...</td>\n      <td>...</td>\n      <td>...</td>\n    </tr>\n    <tr>\n      <th>52555</th>\n      <td>2963.980957</td>\n      <td>11.404030</td>\n      <td>3397.190793</td>\n      <td>80.502724</td>\n    </tr>\n    <tr>\n      <th>52556</th>\n      <td>1684.353027</td>\n      <td>7.332648</td>\n      <td>1173.055771</td>\n      <td>84.062599</td>\n    </tr>\n    <tr>\n      <th>52557</th>\n      <td>2201.106934</td>\n      <td>8.435358</td>\n      <td>1788.284755</td>\n      <td>84.742500</td>\n    </tr>\n    <tr>\n      <th>52558</th>\n      <td>2515.694092</td>\n      <td>9.421366</td>\n      <td>2418.382503</td>\n      <td>84.297913</td>\n    </tr>\n    <tr>\n      <th>52559</th>\n      <td>2820.466064</td>\n      <td>9.979332</td>\n      <td>2779.184096</td>\n      <td>82.274620</td>\n    </tr>\n  </tbody>\n</table>\n<p>52560 rows × 4 columns</p>\n</div>"
          },
          "metadata": {}
        }
      ]
    },
    {
      "cell_type": "code",
      "source": [
        "max_values = df.max()              #normalizing data in between range [0,1]\n",
        "df = df.div(max_values) "
      ],
      "metadata": {
        "id": "7Uz47b-mTZsi",
        "execution": {
          "iopub.status.busy": "2023-01-09T10:34:43.370906Z",
          "iopub.execute_input": "2023-01-09T10:34:43.371511Z",
          "iopub.status.idle": "2023-01-09T10:34:43.385645Z",
          "shell.execute_reply.started": "2023-01-09T10:34:43.371475Z",
          "shell.execute_reply": "2023-01-09T10:34:43.384760Z"
        },
        "trusted": true
      },
      "execution_count": null,
      "outputs": []
    },
    {
      "cell_type": "code",
      "source": [
        "df"
      ],
      "metadata": {
        "id": "zk5wMX9XVdyw",
        "outputId": "6520e832-5ef0-46ca-cdee-068d31df43b9",
        "colab": {
          "base_uri": "https://localhost:8080/",
          "height": 424
        },
        "execution": {
          "iopub.status.busy": "2023-01-09T10:34:43.387040Z",
          "iopub.execute_input": "2023-01-09T10:34:43.387502Z",
          "iopub.status.idle": "2023-01-09T10:34:43.409224Z",
          "shell.execute_reply.started": "2023-01-09T10:34:43.387465Z",
          "shell.execute_reply": "2023-01-09T10:34:43.407386Z"
        },
        "trusted": true
      },
      "execution_count": null,
      "outputs": [
        {
          "execution_count": 59,
          "output_type": "execute_result",
          "data": {
            "text/plain": "       LV ActivePower (kW)  Wind Speed (m/s)  wind energy  Wind Direction (°)\n0                 0.105022          0.210717     0.115647            0.722213\n1                 0.125394          0.225032     0.144422            0.746230\n2                 0.084664          0.206936     0.108583            0.757129\n3                 0.115965          0.224537     0.143369            0.753500\n4                 0.105189          0.221294     0.136584            0.737989\n...                    ...               ...          ...                 ...\n52555             0.819066          0.452433     0.943664            0.223620\n52556             0.465454          0.290909     0.325849            0.233509\n52557             0.608253          0.334657     0.496746            0.235397\n52558             0.695186          0.373775     0.671773            0.234162\n52559             0.779407          0.395911     0.771996            0.228542\n\n[52560 rows x 4 columns]",
            "text/html": "<div>\n<style scoped>\n    .dataframe tbody tr th:only-of-type {\n        vertical-align: middle;\n    }\n\n    .dataframe tbody tr th {\n        vertical-align: top;\n    }\n\n    .dataframe thead th {\n        text-align: right;\n    }\n</style>\n<table border=\"1\" class=\"dataframe\">\n  <thead>\n    <tr style=\"text-align: right;\">\n      <th></th>\n      <th>LV ActivePower (kW)</th>\n      <th>Wind Speed (m/s)</th>\n      <th>wind energy</th>\n      <th>Wind Direction (°)</th>\n    </tr>\n  </thead>\n  <tbody>\n    <tr>\n      <th>0</th>\n      <td>0.105022</td>\n      <td>0.210717</td>\n      <td>0.115647</td>\n      <td>0.722213</td>\n    </tr>\n    <tr>\n      <th>1</th>\n      <td>0.125394</td>\n      <td>0.225032</td>\n      <td>0.144422</td>\n      <td>0.746230</td>\n    </tr>\n    <tr>\n      <th>2</th>\n      <td>0.084664</td>\n      <td>0.206936</td>\n      <td>0.108583</td>\n      <td>0.757129</td>\n    </tr>\n    <tr>\n      <th>3</th>\n      <td>0.115965</td>\n      <td>0.224537</td>\n      <td>0.143369</td>\n      <td>0.753500</td>\n    </tr>\n    <tr>\n      <th>4</th>\n      <td>0.105189</td>\n      <td>0.221294</td>\n      <td>0.136584</td>\n      <td>0.737989</td>\n    </tr>\n    <tr>\n      <th>...</th>\n      <td>...</td>\n      <td>...</td>\n      <td>...</td>\n      <td>...</td>\n    </tr>\n    <tr>\n      <th>52555</th>\n      <td>0.819066</td>\n      <td>0.452433</td>\n      <td>0.943664</td>\n      <td>0.223620</td>\n    </tr>\n    <tr>\n      <th>52556</th>\n      <td>0.465454</td>\n      <td>0.290909</td>\n      <td>0.325849</td>\n      <td>0.233509</td>\n    </tr>\n    <tr>\n      <th>52557</th>\n      <td>0.608253</td>\n      <td>0.334657</td>\n      <td>0.496746</td>\n      <td>0.235397</td>\n    </tr>\n    <tr>\n      <th>52558</th>\n      <td>0.695186</td>\n      <td>0.373775</td>\n      <td>0.671773</td>\n      <td>0.234162</td>\n    </tr>\n    <tr>\n      <th>52559</th>\n      <td>0.779407</td>\n      <td>0.395911</td>\n      <td>0.771996</td>\n      <td>0.228542</td>\n    </tr>\n  </tbody>\n</table>\n<p>52560 rows × 4 columns</p>\n</div>"
          },
          "metadata": {}
        }
      ]
    },
    {
      "cell_type": "code",
      "source": [
        "#switching columns to make LV activePower (kW) last column so that it will be easy\n",
        "# to prepare training and test datasets\n",
        "cols = df.columns.tolist()\n",
        "cols[0], cols[3] = cols[3], cols[0]\n",
        "df = df[cols]"
      ],
      "metadata": {
        "id": "pbMyw7MH-DZx",
        "execution": {
          "iopub.status.busy": "2023-01-09T10:34:43.414028Z",
          "iopub.execute_input": "2023-01-09T10:34:43.414358Z",
          "iopub.status.idle": "2023-01-09T10:34:43.421703Z",
          "shell.execute_reply.started": "2023-01-09T10:34:43.414298Z",
          "shell.execute_reply": "2023-01-09T10:34:43.420664Z"
        },
        "trusted": true
      },
      "execution_count": null,
      "outputs": []
    },
    {
      "cell_type": "code",
      "source": [
        "df"
      ],
      "metadata": {
        "id": "ws-IXmPN-NR-",
        "outputId": "f857f1a7-5fba-47cf-e629-3b1f6fd342eb",
        "colab": {
          "base_uri": "https://localhost:8080/",
          "height": 424
        },
        "execution": {
          "iopub.status.busy": "2023-01-09T10:34:43.423335Z",
          "iopub.execute_input": "2023-01-09T10:34:43.424455Z",
          "iopub.status.idle": "2023-01-09T10:34:43.444124Z",
          "shell.execute_reply.started": "2023-01-09T10:34:43.424416Z",
          "shell.execute_reply": "2023-01-09T10:34:43.443154Z"
        },
        "trusted": true
      },
      "execution_count": null,
      "outputs": [
        {
          "execution_count": 61,
          "output_type": "execute_result",
          "data": {
            "text/plain": "       Wind Direction (°)  Wind Speed (m/s)  wind energy  LV ActivePower (kW)\n0                0.722213          0.210717     0.115647             0.105022\n1                0.746230          0.225032     0.144422             0.125394\n2                0.757129          0.206936     0.108583             0.084664\n3                0.753500          0.224537     0.143369             0.115965\n4                0.737989          0.221294     0.136584             0.105189\n...                   ...               ...          ...                  ...\n52555            0.223620          0.452433     0.943664             0.819066\n52556            0.233509          0.290909     0.325849             0.465454\n52557            0.235397          0.334657     0.496746             0.608253\n52558            0.234162          0.373775     0.671773             0.695186\n52559            0.228542          0.395911     0.771996             0.779407\n\n[52560 rows x 4 columns]",
            "text/html": "<div>\n<style scoped>\n    .dataframe tbody tr th:only-of-type {\n        vertical-align: middle;\n    }\n\n    .dataframe tbody tr th {\n        vertical-align: top;\n    }\n\n    .dataframe thead th {\n        text-align: right;\n    }\n</style>\n<table border=\"1\" class=\"dataframe\">\n  <thead>\n    <tr style=\"text-align: right;\">\n      <th></th>\n      <th>Wind Direction (°)</th>\n      <th>Wind Speed (m/s)</th>\n      <th>wind energy</th>\n      <th>LV ActivePower (kW)</th>\n    </tr>\n  </thead>\n  <tbody>\n    <tr>\n      <th>0</th>\n      <td>0.722213</td>\n      <td>0.210717</td>\n      <td>0.115647</td>\n      <td>0.105022</td>\n    </tr>\n    <tr>\n      <th>1</th>\n      <td>0.746230</td>\n      <td>0.225032</td>\n      <td>0.144422</td>\n      <td>0.125394</td>\n    </tr>\n    <tr>\n      <th>2</th>\n      <td>0.757129</td>\n      <td>0.206936</td>\n      <td>0.108583</td>\n      <td>0.084664</td>\n    </tr>\n    <tr>\n      <th>3</th>\n      <td>0.753500</td>\n      <td>0.224537</td>\n      <td>0.143369</td>\n      <td>0.115965</td>\n    </tr>\n    <tr>\n      <th>4</th>\n      <td>0.737989</td>\n      <td>0.221294</td>\n      <td>0.136584</td>\n      <td>0.105189</td>\n    </tr>\n    <tr>\n      <th>...</th>\n      <td>...</td>\n      <td>...</td>\n      <td>...</td>\n      <td>...</td>\n    </tr>\n    <tr>\n      <th>52555</th>\n      <td>0.223620</td>\n      <td>0.452433</td>\n      <td>0.943664</td>\n      <td>0.819066</td>\n    </tr>\n    <tr>\n      <th>52556</th>\n      <td>0.233509</td>\n      <td>0.290909</td>\n      <td>0.325849</td>\n      <td>0.465454</td>\n    </tr>\n    <tr>\n      <th>52557</th>\n      <td>0.235397</td>\n      <td>0.334657</td>\n      <td>0.496746</td>\n      <td>0.608253</td>\n    </tr>\n    <tr>\n      <th>52558</th>\n      <td>0.234162</td>\n      <td>0.373775</td>\n      <td>0.671773</td>\n      <td>0.695186</td>\n    </tr>\n    <tr>\n      <th>52559</th>\n      <td>0.228542</td>\n      <td>0.395911</td>\n      <td>0.771996</td>\n      <td>0.779407</td>\n    </tr>\n  </tbody>\n</table>\n<p>52560 rows × 4 columns</p>\n</div>"
          },
          "metadata": {}
        }
      ]
    },
    {
      "cell_type": "code",
      "source": [
        "target=df['LV ActivePower (kW)']\n",
        "target.shape"
      ],
      "metadata": {
        "colab": {
          "base_uri": "https://localhost:8080/"
        },
        "id": "mj3pFE96NeoW",
        "outputId": "271e0269-252a-4f43-ad3f-7526ffc3d2eb",
        "execution": {
          "iopub.status.busy": "2023-01-09T10:34:43.446373Z",
          "iopub.execute_input": "2023-01-09T10:34:43.447277Z",
          "iopub.status.idle": "2023-01-09T10:34:43.457216Z",
          "shell.execute_reply.started": "2023-01-09T10:34:43.447233Z",
          "shell.execute_reply": "2023-01-09T10:34:43.456342Z"
        },
        "trusted": true
      },
      "execution_count": null,
      "outputs": [
        {
          "execution_count": 62,
          "output_type": "execute_result",
          "data": {
            "text/plain": "(52560,)"
          },
          "metadata": {}
        }
      ]
    },
    {
      "cell_type": "code",
      "source": [
        "# Calculate the number of readings per day\n",
        "readings_per_day = 144\n",
        "\n",
        "#n = number of day\n",
        "n = 3\n",
        "\n",
        "# Calculate the sequence length (n days in readings)\n",
        "sequence_length = readings_per_day * n\n",
        "\n",
        "# Set the lookback window to be the same as the sequence length\n",
        "lookback_window = sequence_length\n",
        "\n",
        "# Convert the data to a NumPy array\n",
        "df = df.values\n",
        "\n",
        "x, y = [], []\n",
        "for i in range(lookback_window, len(df)):\n",
        "    x.append(df[i - lookback_window:i, :])\n",
        "    y.append(df[i, -1])\n",
        "x = np.array(x)\n",
        "y = np.array(y)"
      ],
      "metadata": {
        "id": "M876lXATn8oh",
        "execution": {
          "iopub.status.busy": "2023-01-09T10:34:43.459203Z",
          "iopub.execute_input": "2023-01-09T10:34:43.460380Z",
          "iopub.status.idle": "2023-01-09T10:34:43.910741Z",
          "shell.execute_reply.started": "2023-01-09T10:34:43.460342Z",
          "shell.execute_reply": "2023-01-09T10:34:43.909716Z"
        },
        "trusted": true
      },
      "execution_count": null,
      "outputs": []
    },
    {
      "cell_type": "code",
      "source": [
        "print(x.shape)\n",
        "print(y.shape)"
      ],
      "metadata": {
        "colab": {
          "base_uri": "https://localhost:8080/"
        },
        "id": "OZhcw_5dn_p5",
        "outputId": "4040a0f7-a579-4fde-8bd1-9de685fd37b1",
        "execution": {
          "iopub.status.busy": "2023-01-09T10:34:43.912362Z",
          "iopub.execute_input": "2023-01-09T10:34:43.912771Z",
          "iopub.status.idle": "2023-01-09T10:34:43.919393Z",
          "shell.execute_reply.started": "2023-01-09T10:34:43.912724Z",
          "shell.execute_reply": "2023-01-09T10:34:43.917626Z"
        },
        "trusted": true
      },
      "execution_count": null,
      "outputs": [
        {
          "name": "stdout",
          "text": "(52128, 432, 4)\n(52128,)\n",
          "output_type": "stream"
        }
      ]
    },
    {
      "cell_type": "code",
      "source": [
        "# Calculate the number of test samples (last 3 days of the year)\n",
        "num_test_samples = readings_per_day * 3\n",
        "\n",
        "# Split the data into training and test sets\n",
        "x_train = x[:-num_test_samples]\n",
        "y_train = y[:-num_test_samples]\n",
        "x_test = x[-num_test_samples:]\n",
        "y_test = y[-num_test_samples:]"
      ],
      "metadata": {
        "id": "De9UykRToUgh",
        "execution": {
          "iopub.status.busy": "2023-01-09T10:34:43.920749Z",
          "iopub.execute_input": "2023-01-09T10:34:43.921784Z",
          "iopub.status.idle": "2023-01-09T10:34:43.931867Z",
          "shell.execute_reply.started": "2023-01-09T10:34:43.921732Z",
          "shell.execute_reply": "2023-01-09T10:34:43.930904Z"
        },
        "trusted": true
      },
      "execution_count": null,
      "outputs": []
    },
    {
      "cell_type": "code",
      "source": [
        "x_train[lookback_window-1]"
      ],
      "metadata": {
        "id": "N0XeitG-5Fag",
        "outputId": "04a80d19-4741-4ced-80a7-59eefba52e24",
        "colab": {
          "base_uri": "https://localhost:8080/"
        },
        "execution": {
          "iopub.status.busy": "2023-01-09T10:34:43.933327Z",
          "iopub.execute_input": "2023-01-09T10:34:43.933809Z",
          "iopub.status.idle": "2023-01-09T10:34:43.951994Z",
          "shell.execute_reply.started": "2023-01-09T10:34:43.933773Z",
          "shell.execute_reply": "2023-01-09T10:34:43.950702Z"
        },
        "trusted": true
      },
      "execution_count": null,
      "outputs": [
        {
          "execution_count": 66,
          "output_type": "execute_result",
          "data": {
            "text/plain": "array([[0.5493698 , 0.60997117, 1.        , 0.95625377],\n       [0.54131557, 0.72062099, 1.        , 0.99583008],\n       [0.54306224, 0.72051505, 1.        , 0.9957137 ],\n       ...,\n       [0.16005037, 0.32161255, 0.44211176, 0.37089142],\n       [0.15487882, 0.32176385, 0.44272998, 0.37636131],\n       [0.14924783, 0.2971684 , 0.34806015, 0.27876553]])"
          },
          "metadata": {}
        }
      ]
    },
    {
      "cell_type": "code",
      "source": [
        "y_train[0]"
      ],
      "metadata": {
        "id": "XWaRKBIe5HZf",
        "outputId": "731f9667-579a-4517-c2f4-d9dfbf951d6e",
        "colab": {
          "base_uri": "https://localhost:8080/"
        },
        "execution": {
          "iopub.status.busy": "2023-01-09T10:34:43.953939Z",
          "iopub.execute_input": "2023-01-09T10:34:43.954369Z",
          "iopub.status.idle": "2023-01-09T10:34:43.964589Z",
          "shell.execute_reply.started": "2023-01-09T10:34:43.954329Z",
          "shell.execute_reply": "2023-01-09T10:34:43.963369Z"
        },
        "trusted": true
      },
      "execution_count": null,
      "outputs": [
        {
          "execution_count": 67,
          "output_type": "execute_result",
          "data": {
            "text/plain": "0.9958300752292879"
          },
          "metadata": {}
        }
      ]
    },
    {
      "cell_type": "markdown",
      "source": [
        "\n",
        "       array([[0.5493698 , 0.60997117, 1.        , 0.95625377],\n",
        "\n",
        "              [0.54131557, 0.72062099, 1.        , 0.99583008], <--- This 2nd sample will be predicted by the model that is stored as ground truth of first sample which is y_train[0]. \n",
        "       "
      ],
      "metadata": {
        "id": "Yr3qQprzA9wg"
      }
    },
    {
      "cell_type": "code",
      "source": [
        "model = keras.models.Sequential([\n",
        "    TCN(input_shape=(lookback_window, 4), \n",
        "        kernel_size=10,\n",
        "        nb_filters=32,\n",
        "        dilations=[1, 2, 4, 8, 16],\n",
        "        padding='causal',\n",
        "        activation='relu',\n",
        "        return_sequences=False,\n",
        "        nb_stacks=4,\n",
        "        use_skip_connections=False,\n",
        "        use_batch_norm=False\n",
        "        ),\n",
        "    keras.layers.Dense(1)\n",
        "])\n",
        "model.summary()\n",
        "model.compile('adam', 'mae',metrics=keras.metrics.MeanAbsolutePercentageError())"
      ],
      "metadata": {
        "colab": {
          "base_uri": "https://localhost:8080/"
        },
        "id": "IWOEdJ3dq1Zr",
        "outputId": "8357133e-6d1d-4d75-f169-61a67c003250",
        "execution": {
          "iopub.status.busy": "2023-01-09T10:34:43.966653Z",
          "iopub.execute_input": "2023-01-09T10:34:43.967061Z",
          "iopub.status.idle": "2023-01-09T10:34:44.770424Z",
          "shell.execute_reply.started": "2023-01-09T10:34:43.967025Z",
          "shell.execute_reply": "2023-01-09T10:34:44.769212Z"
        },
        "trusted": true
      },
      "execution_count": null,
      "outputs": [
        {
          "name": "stdout",
          "text": "Model: \"sequential_2\"\n_________________________________________________________________\nLayer (type)                 Output Shape              Param #   \n=================================================================\ntcn_2 (TCN)                  (None, 32)                402080    \n_________________________________________________________________\ndense_2 (Dense)              (None, 1)                 33        \n=================================================================\nTotal params: 402,113\nTrainable params: 402,113\nNon-trainable params: 0\n_________________________________________________________________\n",
          "output_type": "stream"
        }
      ]
    },
    {
      "cell_type": "code",
      "source": [
        "print('Train...')\n",
        "history = model.fit(x_train, y_train,\n",
        "                    epochs=50,\n",
        "                    verbose=1)"
      ],
      "metadata": {
        "id": "UrACcwd8fCie"
      },
      "execution_count": null,
      "outputs": []
    },
    {
      "cell_type": "code",
      "source": [
        "# Load the model\n",
        "model = keras.models.Sequential([\n",
        "    TCN(input_shape=(lookback_window, 4), \n",
        "        kernel_size=10,\n",
        "        nb_filters=32,\n",
        "        dilations=[1, 2, 4, 8, 16],\n",
        "        padding='causal',\n",
        "        activation='relu',\n",
        "        return_sequences=False,\n",
        "        nb_stacks=4,\n",
        "        use_skip_connections=False,\n",
        "        use_batch_norm=False\n",
        "        ),\n",
        "    keras.layers.Dense(1)\n",
        "])\n",
        "model.summary()\n",
        "\n",
        "# Make a copy of the model to run on multiple GPUs\n",
        "parallel_model = multi_gpu_model(model, gpus=2)\n",
        "\n",
        "# Compile the model\n",
        "parallel_model.compile('adam', 'mae', metrics=keras.metrics.MeanAbsolutePercentageError())\n",
        "\n",
        "print('Train...')\n",
        "# Fit the model on the training data\n",
        "history = parallel_model.fit(x_train, y_train,\n",
        "                    epochs=50,\n",
        "                    verbose=1)"
      ],
      "metadata": {
        "execution": {
          "iopub.status.busy": "2023-01-09T10:34:44.772215Z",
          "iopub.execute_input": "2023-01-09T10:34:44.772660Z",
          "iopub.status.idle": "2023-01-09T11:25:26.901787Z",
          "shell.execute_reply.started": "2023-01-09T10:34:44.772620Z",
          "shell.execute_reply": "2023-01-09T11:25:26.900816Z"
        },
        "trusted": true,
        "id": "L7o5WwOoe2gg",
        "outputId": "54d78930-d8c5-4711-ddd8-8587f1efc358"
      },
      "execution_count": null,
      "outputs": [
        {
          "name": "stdout",
          "text": "Model: \"sequential_3\"\n_________________________________________________________________\nLayer (type)                 Output Shape              Param #   \n=================================================================\ntcn_3 (TCN)                  (None, 32)                402080    \n_________________________________________________________________\ndense_3 (Dense)              (None, 1)                 33        \n=================================================================\nTotal params: 402,113\nTrainable params: 402,113\nNon-trainable params: 0\n_________________________________________________________________\n",
          "output_type": "stream"
        },
        {
          "name": "stderr",
          "text": "2023-01-09 10:35:28.725298: I tensorflow/stream_executor/cuda/cuda_gpu_executor.cc:937] successful NUMA node read from SysFS had negative value (-1), but there must be at least one NUMA node, so returning NUMA node zero\n2023-01-09 10:35:28.726504: I tensorflow/stream_executor/cuda/cuda_gpu_executor.cc:937] successful NUMA node read from SysFS had negative value (-1), but there must be at least one NUMA node, so returning NUMA node zero\n2023-01-09 10:35:28.727689: I tensorflow/stream_executor/cuda/cuda_gpu_executor.cc:937] successful NUMA node read from SysFS had negative value (-1), but there must be at least one NUMA node, so returning NUMA node zero\n2023-01-09 10:35:28.728431: I tensorflow/stream_executor/cuda/cuda_gpu_executor.cc:937] successful NUMA node read from SysFS had negative value (-1), but there must be at least one NUMA node, so returning NUMA node zero\n2023-01-09 10:35:28.729636: I tensorflow/stream_executor/cuda/cuda_gpu_executor.cc:937] successful NUMA node read from SysFS had negative value (-1), but there must be at least one NUMA node, so returning NUMA node zero\n2023-01-09 10:35:28.730391: I tensorflow/stream_executor/cuda/cuda_gpu_executor.cc:937] successful NUMA node read from SysFS had negative value (-1), but there must be at least one NUMA node, so returning NUMA node zero\n2023-01-09 10:35:28.731661: I tensorflow/stream_executor/cuda/cuda_gpu_executor.cc:937] successful NUMA node read from SysFS had negative value (-1), but there must be at least one NUMA node, so returning NUMA node zero\n2023-01-09 10:35:28.732362: I tensorflow/stream_executor/cuda/cuda_gpu_executor.cc:937] successful NUMA node read from SysFS had negative value (-1), but there must be at least one NUMA node, so returning NUMA node zero\n2023-01-09 10:35:28.733538: I tensorflow/stream_executor/cuda/cuda_gpu_executor.cc:937] successful NUMA node read from SysFS had negative value (-1), but there must be at least one NUMA node, so returning NUMA node zero\n2023-01-09 10:35:28.734158: I tensorflow/core/common_runtime/gpu/gpu_device.cc:1510] Created device /job:localhost/replica:0/task:0/device:GPU:0 with 13789 MB memory:  -> device: 0, name: Tesla T4, pci bus id: 0000:00:04.0, compute capability: 7.5\n2023-01-09 10:35:28.734432: I tensorflow/stream_executor/cuda/cuda_gpu_executor.cc:937] successful NUMA node read from SysFS had negative value (-1), but there must be at least one NUMA node, so returning NUMA node zero\n2023-01-09 10:35:28.735611: I tensorflow/core/common_runtime/gpu/gpu_device.cc:1510] Created device /job:localhost/replica:0/task:0/device:GPU:1 with 13789 MB memory:  -> device: 1, name: Tesla T4, pci bus id: 0000:00:05.0, compute capability: 7.5\n",
          "output_type": "stream"
        },
        {
          "name": "stdout",
          "text": "Train...\nEpoch 1/50\n1616/1616 [==============================] - 70s 38ms/step - loss: 7.8300 - mean_absolute_percentage_error: 83257.8516\nEpoch 2/50\n1616/1616 [==============================] - 61s 38ms/step - loss: 0.1818 - mean_absolute_percentage_error: 14734.8115\nEpoch 3/50\n1616/1616 [==============================] - 61s 38ms/step - loss: 0.1207 - mean_absolute_percentage_error: 6387.2017\nEpoch 4/50\n1616/1616 [==============================] - 61s 38ms/step - loss: 0.0928 - mean_absolute_percentage_error: 4173.2417\nEpoch 5/50\n1616/1616 [==============================] - 61s 38ms/step - loss: 0.0718 - mean_absolute_percentage_error: 3768.6970\nEpoch 6/50\n1616/1616 [==============================] - 60s 37ms/step - loss: 0.0629 - mean_absolute_percentage_error: 3677.5542\nEpoch 7/50\n1616/1616 [==============================] - 60s 37ms/step - loss: 0.0525 - mean_absolute_percentage_error: 3459.3572\nEpoch 8/50\n1616/1616 [==============================] - 61s 38ms/step - loss: 0.0474 - mean_absolute_percentage_error: 1501.9244\nEpoch 9/50\n1616/1616 [==============================] - 61s 38ms/step - loss: 0.0424 - mean_absolute_percentage_error: 1848.2678\nEpoch 10/50\n1616/1616 [==============================] - 60s 37ms/step - loss: 0.0378 - mean_absolute_percentage_error: 1019.4489\nEpoch 11/50\n1616/1616 [==============================] - 60s 37ms/step - loss: 0.0363 - mean_absolute_percentage_error: 1087.8519\nEpoch 12/50\n1616/1616 [==============================] - 61s 38ms/step - loss: 0.0357 - mean_absolute_percentage_error: 941.8550\nEpoch 13/50\n1616/1616 [==============================] - 60s 37ms/step - loss: 0.0358 - mean_absolute_percentage_error: 969.9780\nEpoch 14/50\n1616/1616 [==============================] - 60s 37ms/step - loss: 0.0356 - mean_absolute_percentage_error: 996.7041\nEpoch 15/50\n1616/1616 [==============================] - 60s 37ms/step - loss: 0.0355 - mean_absolute_percentage_error: 811.5168\nEpoch 16/50\n1616/1616 [==============================] - 60s 37ms/step - loss: 0.0355 - mean_absolute_percentage_error: 879.5810\nEpoch 17/50\n1616/1616 [==============================] - 59s 37ms/step - loss: 0.0355 - mean_absolute_percentage_error: 1022.2560\nEpoch 18/50\n1616/1616 [==============================] - 60s 37ms/step - loss: 0.0355 - mean_absolute_percentage_error: 1016.1401\nEpoch 19/50\n1616/1616 [==============================] - 59s 37ms/step - loss: 0.0355 - mean_absolute_percentage_error: 712.2936\nEpoch 20/50\n1616/1616 [==============================] - 60s 37ms/step - loss: 0.0354 - mean_absolute_percentage_error: 947.2176\nEpoch 21/50\n1616/1616 [==============================] - 60s 37ms/step - loss: 0.0354 - mean_absolute_percentage_error: 729.8599\nEpoch 22/50\n1616/1616 [==============================] - 59s 37ms/step - loss: 0.0354 - mean_absolute_percentage_error: 756.9879\nEpoch 23/50\n1616/1616 [==============================] - 60s 37ms/step - loss: 0.0354 - mean_absolute_percentage_error: 859.7310\nEpoch 24/50\n1616/1616 [==============================] - 59s 37ms/step - loss: 0.0352 - mean_absolute_percentage_error: 844.6553\nEpoch 25/50\n1616/1616 [==============================] - 59s 37ms/step - loss: 0.0353 - mean_absolute_percentage_error: 809.9335\nEpoch 26/50\n1616/1616 [==============================] - 59s 37ms/step - loss: 0.0352 - mean_absolute_percentage_error: 872.2020\nEpoch 27/50\n1616/1616 [==============================] - 59s 37ms/step - loss: 0.0352 - mean_absolute_percentage_error: 827.5750\nEpoch 28/50\n1616/1616 [==============================] - 60s 37ms/step - loss: 0.0351 - mean_absolute_percentage_error: 862.5249\nEpoch 29/50\n1616/1616 [==============================] - 59s 37ms/step - loss: 0.0352 - mean_absolute_percentage_error: 842.5070\nEpoch 30/50\n1616/1616 [==============================] - 59s 37ms/step - loss: 0.0352 - mean_absolute_percentage_error: 887.5606\nEpoch 31/50\n1616/1616 [==============================] - 60s 37ms/step - loss: 0.0351 - mean_absolute_percentage_error: 777.4294\nEpoch 32/50\n1616/1616 [==============================] - 59s 37ms/step - loss: 0.0351 - mean_absolute_percentage_error: 866.4850\nEpoch 33/50\n1616/1616 [==============================] - 60s 37ms/step - loss: 0.0351 - mean_absolute_percentage_error: 731.9728\nEpoch 34/50\n1616/1616 [==============================] - 59s 37ms/step - loss: 0.0350 - mean_absolute_percentage_error: 784.1769\nEpoch 35/50\n1616/1616 [==============================] - 59s 37ms/step - loss: 0.0350 - mean_absolute_percentage_error: 833.9106\nEpoch 36/50\n1616/1616 [==============================] - 60s 37ms/step - loss: 0.0349 - mean_absolute_percentage_error: 822.4296\nEpoch 37/50\n1616/1616 [==============================] - 59s 37ms/step - loss: 0.0349 - mean_absolute_percentage_error: 790.5281\nEpoch 38/50\n1616/1616 [==============================] - 59s 37ms/step - loss: 0.0351 - mean_absolute_percentage_error: 766.5781\nEpoch 39/50\n1616/1616 [==============================] - 59s 36ms/step - loss: 0.0348 - mean_absolute_percentage_error: 800.6375\nEpoch 40/50\n1616/1616 [==============================] - 60s 37ms/step - loss: 0.0350 - mean_absolute_percentage_error: 843.0942\nEpoch 41/50\n1616/1616 [==============================] - 59s 37ms/step - loss: 0.0349 - mean_absolute_percentage_error: 758.2043\nEpoch 42/50\n1616/1616 [==============================] - 59s 37ms/step - loss: 0.0348 - mean_absolute_percentage_error: 808.4921\nEpoch 43/50\n1616/1616 [==============================] - 60s 37ms/step - loss: 0.0348 - mean_absolute_percentage_error: 776.8270\nEpoch 44/50\n1616/1616 [==============================] - 59s 37ms/step - loss: 0.0348 - mean_absolute_percentage_error: 793.6805\nEpoch 45/50\n1616/1616 [==============================] - 59s 37ms/step - loss: 0.0348 - mean_absolute_percentage_error: 805.4119\nEpoch 46/50\n1616/1616 [==============================] - 59s 37ms/step - loss: 0.0348 - mean_absolute_percentage_error: 764.8181\nEpoch 47/50\n1616/1616 [==============================] - 59s 37ms/step - loss: 0.0348 - mean_absolute_percentage_error: 820.9953\nEpoch 48/50\n1616/1616 [==============================] - 59s 37ms/step - loss: 0.0347 - mean_absolute_percentage_error: 778.1249\nEpoch 49/50\n1616/1616 [==============================] - 60s 37ms/step - loss: 0.0346 - mean_absolute_percentage_error: 802.7219\nEpoch 50/50\n1616/1616 [==============================] - 59s 37ms/step - loss: 0.0347 - mean_absolute_percentage_error: 739.2576\n",
          "output_type": "stream"
        }
      ]
    },
    {
      "cell_type": "code",
      "source": [
        "import matplotlib.pyplot as plt\n",
        "\n",
        "# Extract the history of loss and metric result from the history object\n",
        "loss_history = history.history['loss']\n",
        "mape_history = history.history['mean_absolute_percentage_error']\n",
        "\n",
        "# Plot the history of loss\n",
        "plt.plot(loss_history)\n",
        "plt.title('Loss history')\n",
        "plt.xlabel('Epoch')\n",
        "plt.ylabel('Loss')\n",
        "plt.show()\n",
        "\n",
        "# Plot the history of metric result\n",
        "plt.plot(mape_history)\n",
        "plt.title('Metric result history')\n",
        "plt.xlabel('Epoch')\n",
        "plt.ylabel('Metric result')\n",
        "plt.show()\n"
      ],
      "metadata": {
        "id": "rfXrRz9447D_",
        "outputId": "7baaebd8-98e5-4085-8293-58f604fa727d",
        "execution": {
          "iopub.status.busy": "2023-01-09T11:25:26.903348Z",
          "iopub.execute_input": "2023-01-09T11:25:26.903696Z",
          "iopub.status.idle": "2023-01-09T11:25:27.349462Z",
          "shell.execute_reply.started": "2023-01-09T11:25:26.903662Z",
          "shell.execute_reply": "2023-01-09T11:25:27.348262Z"
        },
        "trusted": true
      },
      "execution_count": null,
      "outputs": [
        {
          "output_type": "display_data",
          "data": {
            "text/plain": "<Figure size 432x288 with 1 Axes>",
            "image/png": "[encoded data removed]"
          },
          "metadata": {
            "needs_background": "light"
          }
        },
        {
          "output_type": "display_data",
          "data": {
            "text/plain": "<Figure size 432x288 with 1 Axes>",
            "image/png": "[encoded data removed]"
          },
          "metadata": {
            "needs_background": "light"
          }
        }
      ]
    },
    {
      "cell_type": "code",
      "source": [
        "p = model.predict(x_test)"
      ],
      "metadata": {
        "id": "pbEAZ5uiaazH",
        "execution": {
          "iopub.status.busy": "2023-01-09T11:25:27.350875Z",
          "iopub.execute_input": "2023-01-09T11:25:27.351333Z",
          "iopub.status.idle": "2023-01-09T11:25:29.481289Z",
          "shell.execute_reply.started": "2023-01-09T11:25:27.351206Z",
          "shell.execute_reply": "2023-01-09T11:25:29.480348Z"
        },
        "trusted": true,
        "outputId": "7462b8fe-e328-49f7-d628-f168c71dfdf2"
      },
      "execution_count": null,
      "outputs": [
        {
          "name": "stdout",
          "text": "WARNING: AutoGraph could not transform <function Model.make_predict_function.<locals>.predict_function at 0x7f2140424f80> and will run it as-is.\nPlease report this to the TensorFlow team. When filing the bug, set the verbosity to 10 (on Linux, `export AUTOGRAPH_VERBOSITY=10`) and attach the full output.\nCause: closure mismatch, requested ('self', 'step_function'), but source function had ()\nTo silence this warning, decorate the function with @tf.autograph.experimental.do_not_convert\n",
          "output_type": "stream"
        }
      ]
    },
    {
      "cell_type": "code",
      "source": [
        "print(x_test.shape)\n",
        "print(y_test.shape)\n",
        "print(p.shape)"
      ],
      "metadata": {
        "colab": {
          "base_uri": "https://localhost:8080/"
        },
        "id": "m9dNOhN1g2Mp",
        "outputId": "60d9739f-fbf0-4f29-f7fa-50e049ab088d",
        "execution": {
          "iopub.status.busy": "2023-01-09T11:25:29.482902Z",
          "iopub.execute_input": "2023-01-09T11:25:29.483855Z",
          "iopub.status.idle": "2023-01-09T11:25:29.489958Z",
          "shell.execute_reply.started": "2023-01-09T11:25:29.483815Z",
          "shell.execute_reply": "2023-01-09T11:25:29.489009Z"
        },
        "trusted": true
      },
      "execution_count": null,
      "outputs": [
        {
          "name": "stdout",
          "text": "(432, 432, 4)\n(432,)\n(432, 1)\n",
          "output_type": "stream"
        }
      ]
    },
    {
      "cell_type": "code",
      "source": [
        "p = model.predict(x_test)\n",
        "plt.plot(p*max_values[0]) #denormalizing prediction back\n",
        "plt.plot(y_test*max_values[0]) #denormalizing original data back\n",
        "plt.title('Two day window results')\n",
        "plt.legend(['predicted', 'actual'])\n",
        "plt.show()"
      ],
      "metadata": {
        "colab": {
          "base_uri": "https://localhost:8080/",
          "height": 298
        },
        "id": "AG6zcu_0ac-t",
        "outputId": "5fc7ec2d-4ec2-4e19-d1ff-f18afb8aeab7",
        "execution": {
          "iopub.status.busy": "2023-01-09T11:25:29.491555Z",
          "iopub.execute_input": "2023-01-09T11:25:29.492707Z",
          "iopub.status.idle": "2023-01-09T11:25:29.875235Z",
          "shell.execute_reply.started": "2023-01-09T11:25:29.492671Z",
          "shell.execute_reply": "2023-01-09T11:25:29.874495Z"
        },
        "trusted": true
      },
      "execution_count": null,
      "outputs": [
        {
          "output_type": "display_data",
          "data": {
            "text/plain": "<Figure size 432x288 with 1 Axes>",
            "image/png": "[encoded data removed]"
          },
          "metadata": {
            "needs_background": "light"
          }
        }
      ]
    }
  ]
}