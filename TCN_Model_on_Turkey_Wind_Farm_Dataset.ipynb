{
  "metadata": {
    "colab": {
      "provenance": [],
      "include_colab_link": true
    },
    "kernelspec": {
      "name": "python3",
      "display_name": "Python 3",
      "language": "python"
    },
    "language_info": {
      "name": "python",
      "version": "3.7.12",
      "mimetype": "text/x-python",
      "codemirror_mode": {
        "name": "ipython",
        "version": 3
      },
      "pygments_lexer": "ipython3",
      "nbconvert_exporter": "python",
      "file_extension": ".py"
    },
    "accelerator": "GPU",
    "gpuClass": "standard"
  },
  "nbformat_minor": 0,
  "nbformat": 4,
  "cells": [
    {
      "cell_type": "markdown",
      "metadata": {
        "id": "view-in-github",
        "colab_type": "text"
      },
      "source": [
        "<a href=\"https://colab.research.google.com/github/alphaameer007/RHM_FYP/blob/main/TCN_Model_on_Turkey_Wind_Farm_Dataset.ipynb\" target=\"_parent\"><img src=\"https://colab.research.google.com/assets/colab-badge.svg\" alt=\"Open In Colab\"/></a>"
      ]
    },
    {
      "cell_type": "code",
      "source": [
        "!pip install keras-tcn --no-dependencies "
      ],
      "metadata": {
        "id": "g0l5Cyv6KgZQ",
        "outputId": "97cc287f-be5c-4691-a7c4-dbfb7c82c8ab",
        "colab": {
          "base_uri": "https://localhost:8080/"
        },
        "execution": {
          "iopub.status.busy": "2023-01-08T18:47:42.711142Z",
          "iopub.execute_input": "2023-01-08T18:47:42.711524Z",
          "iopub.status.idle": "2023-01-08T18:47:44.816186Z",
          "shell.execute_reply.started": "2023-01-08T18:47:42.711493Z",
          "shell.execute_reply": "2023-01-08T18:47:44.814978Z"
        },
        "trusted": true
      },
      "execution_count": null,
      "outputs": [
        {
          "name": "stdout",
          "text": "Requirement already satisfied: keras-tcn in /opt/conda/lib/python3.7/site-packages (3.5.0)\n\u001b[33mWARNING: Running pip as the 'root' user can result in broken permissions and conflicting behaviour with the system package manager. It is recommended to use a virtual environment instead: https://pip.pypa.io/warnings/venv\u001b[0m\u001b[33m\n\u001b[0m",
          "output_type": "stream"
        }
      ]
    },
    {
      "cell_type": "code",
      "source": [
        "from tcn import TCN\n",
        "import pandas as pd\n",
        "from sklearn.model_selection import train_test_split\n",
        "from sklearn.preprocessing import RobustScaler\n",
        "import tensorflow as tf\n",
        "from tensorflow import keras\n",
        "import matplotlib.pyplot as plt\n",
        "import numpy as np\n",
        "from tensorflow.keras import Sequential\n",
        "from tensorflow.keras.layers import Dense"
      ],
      "metadata": {
        "id": "Au7SgwNIAFZx",
        "execution": {
          "iopub.status.busy": "2023-01-08T18:47:44.819694Z",
          "iopub.execute_input": "2023-01-08T18:47:44.820684Z",
          "iopub.status.idle": "2023-01-08T18:47:44.827469Z",
          "shell.execute_reply.started": "2023-01-08T18:47:44.820651Z",
          "shell.execute_reply": "2023-01-08T18:47:44.826175Z"
        },
        "trusted": true
      },
      "execution_count": null,
      "outputs": []
    },
    {
      "cell_type": "code",
      "source": [
        "df=pd.read_csv('/kaggle/input/t2csv/T2.csv')\n",
        "df"
      ],
      "metadata": {
        "colab": {
          "base_uri": "https://localhost:8080/",
          "height": 424
        },
        "id": "6R0YOhAXAewT",
        "outputId": "f7e79f4a-7f85-4226-e268-39984c454b18",
        "execution": {
          "iopub.status.busy": "2023-01-08T18:47:44.829200Z",
          "iopub.execute_input": "2023-01-08T18:47:44.829669Z",
          "iopub.status.idle": "2023-01-08T18:47:44.909851Z",
          "shell.execute_reply.started": "2023-01-08T18:47:44.829632Z",
          "shell.execute_reply": "2023-01-08T18:47:44.908858Z"
        },
        "trusted": true
      },
      "execution_count": null,
      "outputs": [
        {
          "execution_count": 157,
          "output_type": "execute_result",
          "data": {
            "text/plain": "                   time  LV ActivePower (kW)  Wind Speed (m/s)  wind energy  \\\n0         1/1/2018 0:00           380.047791          5.311336   416.328908   \n1         1/1/2018 0:10           453.769196          5.672167   519.917511   \n2         1/1/2018 0:20           306.376587          5.216037   390.900016   \n3         1/1/2018 0:30           419.645904          5.659674   516.127569   \n4         1/1/2018 0:40           380.650696          5.577941   491.702972   \n...                 ...                  ...               ...          ...   \n52555  12/31/2018 23:10          2963.980957         11.404030  3397.190793   \n52556  12/31/2018 23:20          1684.353027          7.332648  1173.055771   \n52557  12/31/2018 23:30          2201.106934          8.435358  1788.284755   \n52558  12/31/2018 23:40          2515.694092          9.421366  2418.382503   \n52559  12/31/2018 23:50          2820.466064          9.979332  2779.184096   \n\n       Wind Direction (°)  \n0              259.994904  \n1              268.641113  \n2              272.564789  \n3              271.258087  \n4              265.674286  \n...                   ...  \n52555           80.502724  \n52556           84.062599  \n52557           84.742500  \n52558           84.297913  \n52559           82.274620  \n\n[52560 rows x 5 columns]",
            "text/html": "<div>\n<style scoped>\n    .dataframe tbody tr th:only-of-type {\n        vertical-align: middle;\n    }\n\n    .dataframe tbody tr th {\n        vertical-align: top;\n    }\n\n    .dataframe thead th {\n        text-align: right;\n    }\n</style>\n<table border=\"1\" class=\"dataframe\">\n  <thead>\n    <tr style=\"text-align: right;\">\n      <th></th>\n      <th>time</th>\n      <th>LV ActivePower (kW)</th>\n      <th>Wind Speed (m/s)</th>\n      <th>wind energy</th>\n      <th>Wind Direction (°)</th>\n    </tr>\n  </thead>\n  <tbody>\n    <tr>\n      <th>0</th>\n      <td>1/1/2018 0:00</td>\n      <td>380.047791</td>\n      <td>5.311336</td>\n      <td>416.328908</td>\n      <td>259.994904</td>\n    </tr>\n    <tr>\n      <th>1</th>\n      <td>1/1/2018 0:10</td>\n      <td>453.769196</td>\n      <td>5.672167</td>\n      <td>519.917511</td>\n      <td>268.641113</td>\n    </tr>\n    <tr>\n      <th>2</th>\n      <td>1/1/2018 0:20</td>\n      <td>306.376587</td>\n      <td>5.216037</td>\n      <td>390.900016</td>\n      <td>272.564789</td>\n    </tr>\n    <tr>\n      <th>3</th>\n      <td>1/1/2018 0:30</td>\n      <td>419.645904</td>\n      <td>5.659674</td>\n      <td>516.127569</td>\n      <td>271.258087</td>\n    </tr>\n    <tr>\n      <th>4</th>\n      <td>1/1/2018 0:40</td>\n      <td>380.650696</td>\n      <td>5.577941</td>\n      <td>491.702972</td>\n      <td>265.674286</td>\n    </tr>\n    <tr>\n      <th>...</th>\n      <td>...</td>\n      <td>...</td>\n      <td>...</td>\n      <td>...</td>\n      <td>...</td>\n    </tr>\n    <tr>\n      <th>52555</th>\n      <td>12/31/2018 23:10</td>\n      <td>2963.980957</td>\n      <td>11.404030</td>\n      <td>3397.190793</td>\n      <td>80.502724</td>\n    </tr>\n    <tr>\n      <th>52556</th>\n      <td>12/31/2018 23:20</td>\n      <td>1684.353027</td>\n      <td>7.332648</td>\n      <td>1173.055771</td>\n      <td>84.062599</td>\n    </tr>\n    <tr>\n      <th>52557</th>\n      <td>12/31/2018 23:30</td>\n      <td>2201.106934</td>\n      <td>8.435358</td>\n      <td>1788.284755</td>\n      <td>84.742500</td>\n    </tr>\n    <tr>\n      <th>52558</th>\n      <td>12/31/2018 23:40</td>\n      <td>2515.694092</td>\n      <td>9.421366</td>\n      <td>2418.382503</td>\n      <td>84.297913</td>\n    </tr>\n    <tr>\n      <th>52559</th>\n      <td>12/31/2018 23:50</td>\n      <td>2820.466064</td>\n      <td>9.979332</td>\n      <td>2779.184096</td>\n      <td>82.274620</td>\n    </tr>\n  </tbody>\n</table>\n<p>52560 rows × 5 columns</p>\n</div>"
          },
          "metadata": {}
        }
      ]
    },
    {
      "cell_type": "code",
      "source": [
        "df.drop('time', inplace=True, axis=1)"
      ],
      "metadata": {
        "id": "ezO81MDWAink",
        "execution": {
          "iopub.status.busy": "2023-01-08T18:47:44.912961Z",
          "iopub.execute_input": "2023-01-08T18:47:44.913526Z",
          "iopub.status.idle": "2023-01-08T18:47:44.924730Z",
          "shell.execute_reply.started": "2023-01-08T18:47:44.913486Z",
          "shell.execute_reply": "2023-01-08T18:47:44.923600Z"
        },
        "trusted": true
      },
      "execution_count": null,
      "outputs": []
    },
    {
      "cell_type": "code",
      "source": [
        "df"
      ],
      "metadata": {
        "colab": {
          "base_uri": "https://localhost:8080/",
          "height": 424
        },
        "id": "SQsNnFhUA2DB",
        "outputId": "cdbf2166-b598-42d1-ec4d-98697ecd84e2",
        "execution": {
          "iopub.status.busy": "2023-01-08T18:47:44.926287Z",
          "iopub.execute_input": "2023-01-08T18:47:44.927744Z",
          "iopub.status.idle": "2023-01-08T18:47:44.944561Z",
          "shell.execute_reply.started": "2023-01-08T18:47:44.927709Z",
          "shell.execute_reply": "2023-01-08T18:47:44.943542Z"
        },
        "trusted": true
      },
      "execution_count": null,
      "outputs": [
        {
          "execution_count": 159,
          "output_type": "execute_result",
          "data": {
            "text/plain": "       LV ActivePower (kW)  Wind Speed (m/s)  wind energy  Wind Direction (°)\n0               380.047791          5.311336   416.328908          259.994904\n1               453.769196          5.672167   519.917511          268.641113\n2               306.376587          5.216037   390.900016          272.564789\n3               419.645904          5.659674   516.127569          271.258087\n4               380.650696          5.577941   491.702972          265.674286\n...                    ...               ...          ...                 ...\n52555          2963.980957         11.404030  3397.190793           80.502724\n52556          1684.353027          7.332648  1173.055771           84.062599\n52557          2201.106934          8.435358  1788.284755           84.742500\n52558          2515.694092          9.421366  2418.382503           84.297913\n52559          2820.466064          9.979332  2779.184096           82.274620\n\n[52560 rows x 4 columns]",
            "text/html": "<div>\n<style scoped>\n    .dataframe tbody tr th:only-of-type {\n        vertical-align: middle;\n    }\n\n    .dataframe tbody tr th {\n        vertical-align: top;\n    }\n\n    .dataframe thead th {\n        text-align: right;\n    }\n</style>\n<table border=\"1\" class=\"dataframe\">\n  <thead>\n    <tr style=\"text-align: right;\">\n      <th></th>\n      <th>LV ActivePower (kW)</th>\n      <th>Wind Speed (m/s)</th>\n      <th>wind energy</th>\n      <th>Wind Direction (°)</th>\n    </tr>\n  </thead>\n  <tbody>\n    <tr>\n      <th>0</th>\n      <td>380.047791</td>\n      <td>5.311336</td>\n      <td>416.328908</td>\n      <td>259.994904</td>\n    </tr>\n    <tr>\n      <th>1</th>\n      <td>453.769196</td>\n      <td>5.672167</td>\n      <td>519.917511</td>\n      <td>268.641113</td>\n    </tr>\n    <tr>\n      <th>2</th>\n      <td>306.376587</td>\n      <td>5.216037</td>\n      <td>390.900016</td>\n      <td>272.564789</td>\n    </tr>\n    <tr>\n      <th>3</th>\n      <td>419.645904</td>\n      <td>5.659674</td>\n      <td>516.127569</td>\n      <td>271.258087</td>\n    </tr>\n    <tr>\n      <th>4</th>\n      <td>380.650696</td>\n      <td>5.577941</td>\n      <td>491.702972</td>\n      <td>265.674286</td>\n    </tr>\n    <tr>\n      <th>...</th>\n      <td>...</td>\n      <td>...</td>\n      <td>...</td>\n      <td>...</td>\n    </tr>\n    <tr>\n      <th>52555</th>\n      <td>2963.980957</td>\n      <td>11.404030</td>\n      <td>3397.190793</td>\n      <td>80.502724</td>\n    </tr>\n    <tr>\n      <th>52556</th>\n      <td>1684.353027</td>\n      <td>7.332648</td>\n      <td>1173.055771</td>\n      <td>84.062599</td>\n    </tr>\n    <tr>\n      <th>52557</th>\n      <td>2201.106934</td>\n      <td>8.435358</td>\n      <td>1788.284755</td>\n      <td>84.742500</td>\n    </tr>\n    <tr>\n      <th>52558</th>\n      <td>2515.694092</td>\n      <td>9.421366</td>\n      <td>2418.382503</td>\n      <td>84.297913</td>\n    </tr>\n    <tr>\n      <th>52559</th>\n      <td>2820.466064</td>\n      <td>9.979332</td>\n      <td>2779.184096</td>\n      <td>82.274620</td>\n    </tr>\n  </tbody>\n</table>\n<p>52560 rows × 4 columns</p>\n</div>"
          },
          "metadata": {}
        }
      ]
    },
    {
      "cell_type": "code",
      "source": [
        "max_values = df.max()              #normalizing data in between range [0,1]\n",
        "df = df.div(max_values) "
      ],
      "metadata": {
        "id": "7Uz47b-mTZsi",
        "execution": {
          "iopub.status.busy": "2023-01-08T18:47:44.946793Z",
          "iopub.execute_input": "2023-01-08T18:47:44.947403Z",
          "iopub.status.idle": "2023-01-08T18:47:44.955900Z",
          "shell.execute_reply.started": "2023-01-08T18:47:44.947366Z",
          "shell.execute_reply": "2023-01-08T18:47:44.954979Z"
        },
        "trusted": true
      },
      "execution_count": null,
      "outputs": []
    },
    {
      "cell_type": "code",
      "source": [
        "df"
      ],
      "metadata": {
        "id": "zk5wMX9XVdyw",
        "outputId": "a0dddd14-b96c-49ef-de3c-99e6c1874137",
        "colab": {
          "base_uri": "https://localhost:8080/",
          "height": 424
        },
        "execution": {
          "iopub.status.busy": "2023-01-08T18:47:44.959027Z",
          "iopub.execute_input": "2023-01-08T18:47:44.959300Z",
          "iopub.status.idle": "2023-01-08T18:47:44.973062Z",
          "shell.execute_reply.started": "2023-01-08T18:47:44.959274Z",
          "shell.execute_reply": "2023-01-08T18:47:44.971856Z"
        },
        "trusted": true
      },
      "execution_count": null,
      "outputs": [
        {
          "execution_count": 161,
          "output_type": "execute_result",
          "data": {
            "text/plain": "       LV ActivePower (kW)  Wind Speed (m/s)  wind energy  Wind Direction (°)\n0                 0.105022          0.210717     0.115647            0.722213\n1                 0.125394          0.225032     0.144422            0.746230\n2                 0.084664          0.206936     0.108583            0.757129\n3                 0.115965          0.224537     0.143369            0.753500\n4                 0.105189          0.221294     0.136584            0.737989\n...                    ...               ...          ...                 ...\n52555             0.819066          0.452433     0.943664            0.223620\n52556             0.465454          0.290909     0.325849            0.233509\n52557             0.608253          0.334657     0.496746            0.235397\n52558             0.695186          0.373775     0.671773            0.234162\n52559             0.779407          0.395911     0.771996            0.228542\n\n[52560 rows x 4 columns]",
            "text/html": "<div>\n<style scoped>\n    .dataframe tbody tr th:only-of-type {\n        vertical-align: middle;\n    }\n\n    .dataframe tbody tr th {\n        vertical-align: top;\n    }\n\n    .dataframe thead th {\n        text-align: right;\n    }\n</style>\n<table border=\"1\" class=\"dataframe\">\n  <thead>\n    <tr style=\"text-align: right;\">\n      <th></th>\n      <th>LV ActivePower (kW)</th>\n      <th>Wind Speed (m/s)</th>\n      <th>wind energy</th>\n      <th>Wind Direction (°)</th>\n    </tr>\n  </thead>\n  <tbody>\n    <tr>\n      <th>0</th>\n      <td>0.105022</td>\n      <td>0.210717</td>\n      <td>0.115647</td>\n      <td>0.722213</td>\n    </tr>\n    <tr>\n      <th>1</th>\n      <td>0.125394</td>\n      <td>0.225032</td>\n      <td>0.144422</td>\n      <td>0.746230</td>\n    </tr>\n    <tr>\n      <th>2</th>\n      <td>0.084664</td>\n      <td>0.206936</td>\n      <td>0.108583</td>\n      <td>0.757129</td>\n    </tr>\n    <tr>\n      <th>3</th>\n      <td>0.115965</td>\n      <td>0.224537</td>\n      <td>0.143369</td>\n      <td>0.753500</td>\n    </tr>\n    <tr>\n      <th>4</th>\n      <td>0.105189</td>\n      <td>0.221294</td>\n      <td>0.136584</td>\n      <td>0.737989</td>\n    </tr>\n    <tr>\n      <th>...</th>\n      <td>...</td>\n      <td>...</td>\n      <td>...</td>\n      <td>...</td>\n    </tr>\n    <tr>\n      <th>52555</th>\n      <td>0.819066</td>\n      <td>0.452433</td>\n      <td>0.943664</td>\n      <td>0.223620</td>\n    </tr>\n    <tr>\n      <th>52556</th>\n      <td>0.465454</td>\n      <td>0.290909</td>\n      <td>0.325849</td>\n      <td>0.233509</td>\n    </tr>\n    <tr>\n      <th>52557</th>\n      <td>0.608253</td>\n      <td>0.334657</td>\n      <td>0.496746</td>\n      <td>0.235397</td>\n    </tr>\n    <tr>\n      <th>52558</th>\n      <td>0.695186</td>\n      <td>0.373775</td>\n      <td>0.671773</td>\n      <td>0.234162</td>\n    </tr>\n    <tr>\n      <th>52559</th>\n      <td>0.779407</td>\n      <td>0.395911</td>\n      <td>0.771996</td>\n      <td>0.228542</td>\n    </tr>\n  </tbody>\n</table>\n<p>52560 rows × 4 columns</p>\n</div>"
          },
          "metadata": {}
        }
      ]
    },
    {
      "cell_type": "code",
      "source": [
        "target=df['LV ActivePower (kW)']\n",
        "target.shape"
      ],
      "metadata": {
        "colab": {
          "base_uri": "https://localhost:8080/"
        },
        "id": "mj3pFE96NeoW",
        "outputId": "77a2ba39-634a-4421-c2e9-264d90a4f835",
        "execution": {
          "iopub.status.busy": "2023-01-08T18:47:44.975110Z",
          "iopub.execute_input": "2023-01-08T18:47:44.975519Z",
          "iopub.status.idle": "2023-01-08T18:47:44.984741Z",
          "shell.execute_reply.started": "2023-01-08T18:47:44.975486Z",
          "shell.execute_reply": "2023-01-08T18:47:44.983660Z"
        },
        "trusted": true
      },
      "execution_count": null,
      "outputs": [
        {
          "execution_count": 162,
          "output_type": "execute_result",
          "data": {
            "text/plain": "(52560,)"
          },
          "metadata": {}
        }
      ]
    },
    {
      "cell_type": "code",
      "source": [
        "# Calculate the number of readings per day\n",
        "readings_per_day = 144\n",
        "\n",
        "#n = number of day\n",
        "n = 3\n",
        "\n",
        "# Calculate the sequence length (n days in readings)\n",
        "sequence_length = readings_per_day * n\n",
        "\n",
        "# Set the lookback window to be the same as the sequence length\n",
        "lookback_window = sequence_length\n",
        "\n",
        "# Convert the data to a NumPy array\n",
        "df = df.values\n",
        "\n",
        "x, y = [], []\n",
        "for i in range(lookback_window, len(df)):\n",
        "    x.append(df[i - lookback_window:i, :])\n",
        "    y.append(df[i, -1])\n",
        "x = np.array(x)\n",
        "y = np.array(y)"
      ],
      "metadata": {
        "id": "M876lXATn8oh",
        "execution": {
          "iopub.status.busy": "2023-01-08T18:47:44.986368Z",
          "iopub.execute_input": "2023-01-08T18:47:44.986827Z",
          "iopub.status.idle": "2023-01-08T18:47:45.693354Z",
          "shell.execute_reply.started": "2023-01-08T18:47:44.986785Z",
          "shell.execute_reply": "2023-01-08T18:47:45.692363Z"
        },
        "trusted": true
      },
      "execution_count": null,
      "outputs": []
    },
    {
      "cell_type": "code",
      "source": [
        "print(x.shape)\n",
        "print(y.shape)"
      ],
      "metadata": {
        "colab": {
          "base_uri": "https://localhost:8080/"
        },
        "id": "OZhcw_5dn_p5",
        "outputId": "c52031e4-f63e-4a7e-8d8e-697c80ccc98d",
        "execution": {
          "iopub.status.busy": "2023-01-08T18:47:45.698200Z",
          "iopub.execute_input": "2023-01-08T18:47:45.698512Z",
          "iopub.status.idle": "2023-01-08T18:47:45.704580Z",
          "shell.execute_reply.started": "2023-01-08T18:47:45.698485Z",
          "shell.execute_reply": "2023-01-08T18:47:45.703224Z"
        },
        "trusted": true
      },
      "execution_count": null,
      "outputs": [
        {
          "name": "stdout",
          "text": "(52128, 432, 4)\n(52128,)\n",
          "output_type": "stream"
        }
      ]
    },
    {
      "cell_type": "code",
      "source": [
        "# Calculate the number of test samples (last 3 days of the year)\n",
        "num_test_samples = readings_per_day * 3\n",
        "\n",
        "# Split the data into training and test sets\n",
        "x_train = x[:-num_test_samples]\n",
        "y_train = y[:-num_test_samples]\n",
        "x_test = x[-num_test_samples:]\n",
        "y_test = y[-num_test_samples:]"
      ],
      "metadata": {
        "id": "De9UykRToUgh",
        "execution": {
          "iopub.status.busy": "2023-01-08T18:47:45.706320Z",
          "iopub.execute_input": "2023-01-08T18:47:45.707037Z",
          "iopub.status.idle": "2023-01-08T18:47:45.714257Z",
          "shell.execute_reply.started": "2023-01-08T18:47:45.707001Z",
          "shell.execute_reply": "2023-01-08T18:47:45.713031Z"
        },
        "trusted": true
      },
      "execution_count": null,
      "outputs": []
    },
    {
      "cell_type": "code",
      "source": [
        "model = keras.models.Sequential([\n",
        "    TCN(input_shape=(lookback_window, 4), \n",
        "        kernel_size=10,\n",
        "        nb_filters=32,\n",
        "        dilations=[1, 2, 4, 8, 16],\n",
        "        padding='causal',\n",
        "        activation='relu',\n",
        "        return_sequences=False,\n",
        "        nb_stacks=4,\n",
        "        use_skip_connections=False,\n",
        "        use_batch_norm=False\n",
        "        ),\n",
        "    keras.layers.Dense(1)\n",
        "])\n",
        "model.summary()\n",
        "model.compile('adam', 'mae',metrics=keras.metrics.MeanAbsolutePercentageError())"
      ],
      "metadata": {
        "colab": {
          "base_uri": "https://localhost:8080/"
        },
        "id": "IWOEdJ3dq1Zr",
        "outputId": "8cd9bddf-6b53-4647-f84b-9a5b66240a7a",
        "execution": {
          "iopub.status.busy": "2023-01-08T18:47:45.716074Z",
          "iopub.execute_input": "2023-01-08T18:47:45.716445Z",
          "iopub.status.idle": "2023-01-08T18:47:46.512523Z",
          "shell.execute_reply.started": "2023-01-08T18:47:45.716394Z",
          "shell.execute_reply": "2023-01-08T18:47:46.511487Z"
        },
        "trusted": true
      },
      "execution_count": null,
      "outputs": [
        {
          "name": "stdout",
          "text": "Model: \"sequential_9\"\n_________________________________________________________________\nLayer (type)                 Output Shape              Param #   \n=================================================================\ntcn_9 (TCN)                  (None, 32)                402080    \n_________________________________________________________________\ndense_9 (Dense)              (None, 1)                 33        \n=================================================================\nTotal params: 402,113\nTrainable params: 402,113\nNon-trainable params: 0\n_________________________________________________________________\n",
          "output_type": "stream"
        }
      ]
    },
    {
      "cell_type": "code",
      "source": [
        "print('Train...')\n",
        "history = model.fit(x_train, y_train,\n",
        "                    epochs=50,\n",
        "                    verbose=1)"
      ],
      "metadata": {
        "colab": {
          "base_uri": "https://localhost:8080/"
        },
        "id": "veKU4OzQrI3S",
        "outputId": "a510bd6a-3e33-48c1-ecdd-9624e9f448aa",
        "execution": {
          "iopub.status.busy": "2023-01-08T18:47:46.514147Z",
          "iopub.execute_input": "2023-01-08T18:47:46.514787Z",
          "iopub.status.idle": "2023-01-08T19:30:40.737636Z",
          "shell.execute_reply.started": "2023-01-08T18:47:46.514750Z",
          "shell.execute_reply": "2023-01-08T19:30:40.736691Z"
        },
        "trusted": true
      },
      "execution_count": null,
      "outputs": [
        {
          "name": "stdout",
          "text": "Train...\nEpoch 1/50\n1616/1616 [==============================] - 58s 33ms/step - loss: 11.4518 - mean_absolute_percentage_error: 6755.3457\nEpoch 2/50\n1616/1616 [==============================] - 53s 33ms/step - loss: 0.1434 - mean_absolute_percentage_error: 210.2987\nEpoch 3/50\n1616/1616 [==============================] - 52s 32ms/step - loss: 0.0945 - mean_absolute_percentage_error: 170.9978\nEpoch 4/50\n1616/1616 [==============================] - 52s 32ms/step - loss: 0.0720 - mean_absolute_percentage_error: 164.6912\nEpoch 5/50\n1616/1616 [==============================] - 52s 32ms/step - loss: 0.0576 - mean_absolute_percentage_error: 147.7433\nEpoch 6/50\n1616/1616 [==============================] - 51s 32ms/step - loss: 0.0476 - mean_absolute_percentage_error: 142.6748\nEpoch 7/50\n1616/1616 [==============================] - 52s 32ms/step - loss: 0.0423 - mean_absolute_percentage_error: 138.9996\nEpoch 8/50\n1616/1616 [==============================] - 52s 32ms/step - loss: 0.0377 - mean_absolute_percentage_error: 134.8218\nEpoch 9/50\n1616/1616 [==============================] - 52s 32ms/step - loss: 0.0347 - mean_absolute_percentage_error: 133.0872\nEpoch 10/50\n1616/1616 [==============================] - 52s 32ms/step - loss: 0.0320 - mean_absolute_percentage_error: 132.6221\nEpoch 11/50\n1616/1616 [==============================] - 52s 32ms/step - loss: 0.0305 - mean_absolute_percentage_error: 134.1482\nEpoch 12/50\n1616/1616 [==============================] - 52s 32ms/step - loss: 0.0294 - mean_absolute_percentage_error: 131.5412\nEpoch 13/50\n1616/1616 [==============================] - 52s 32ms/step - loss: 0.0289 - mean_absolute_percentage_error: 130.6158\nEpoch 14/50\n1616/1616 [==============================] - 52s 32ms/step - loss: 0.0284 - mean_absolute_percentage_error: 129.8388\nEpoch 15/50\n1616/1616 [==============================] - 51s 32ms/step - loss: 0.0283 - mean_absolute_percentage_error: 130.1244\nEpoch 16/50\n1616/1616 [==============================] - 52s 32ms/step - loss: 0.0281 - mean_absolute_percentage_error: 130.1549\nEpoch 17/50\n1616/1616 [==============================] - 51s 32ms/step - loss: 0.0280 - mean_absolute_percentage_error: 129.3141\nEpoch 18/50\n1616/1616 [==============================] - 52s 32ms/step - loss: 0.0278 - mean_absolute_percentage_error: 128.6494\nEpoch 19/50\n1616/1616 [==============================] - 52s 32ms/step - loss: 0.0278 - mean_absolute_percentage_error: 128.5766\nEpoch 20/50\n1616/1616 [==============================] - 51s 32ms/step - loss: 0.0275 - mean_absolute_percentage_error: 127.9836\nEpoch 21/50\n1616/1616 [==============================] - 51s 32ms/step - loss: 0.0276 - mean_absolute_percentage_error: 127.7502\nEpoch 22/50\n1616/1616 [==============================] - 51s 32ms/step - loss: 0.0275 - mean_absolute_percentage_error: 127.5459\nEpoch 23/50\n1616/1616 [==============================] - 51s 31ms/step - loss: 0.0275 - mean_absolute_percentage_error: 127.9156\nEpoch 24/50\n1616/1616 [==============================] - 51s 32ms/step - loss: 0.0274 - mean_absolute_percentage_error: 128.1761\nEpoch 25/50\n1616/1616 [==============================] - 51s 32ms/step - loss: 0.0272 - mean_absolute_percentage_error: 126.6225\nEpoch 26/50\n1616/1616 [==============================] - 51s 32ms/step - loss: 0.0272 - mean_absolute_percentage_error: 126.1226\nEpoch 27/50\n1616/1616 [==============================] - 51s 32ms/step - loss: 0.0270 - mean_absolute_percentage_error: 126.1328\nEpoch 28/50\n1616/1616 [==============================] - 51s 31ms/step - loss: 0.0270 - mean_absolute_percentage_error: 126.4831\nEpoch 29/50\n1616/1616 [==============================] - 51s 32ms/step - loss: 0.0270 - mean_absolute_percentage_error: 125.8468\nEpoch 30/50\n1616/1616 [==============================] - 51s 32ms/step - loss: 0.0269 - mean_absolute_percentage_error: 125.1657\nEpoch 31/50\n1616/1616 [==============================] - 51s 31ms/step - loss: 0.0268 - mean_absolute_percentage_error: 125.0477\nEpoch 32/50\n1616/1616 [==============================] - 51s 32ms/step - loss: 0.0267 - mean_absolute_percentage_error: 125.6985\nEpoch 33/50\n1616/1616 [==============================] - 51s 31ms/step - loss: 0.0267 - mean_absolute_percentage_error: 125.0074\nEpoch 34/50\n1616/1616 [==============================] - 51s 32ms/step - loss: 0.0266 - mean_absolute_percentage_error: 124.3488\nEpoch 35/50\n1616/1616 [==============================] - 51s 32ms/step - loss: 0.0265 - mean_absolute_percentage_error: 123.5199\nEpoch 36/50\n1616/1616 [==============================] - 50s 31ms/step - loss: 0.0265 - mean_absolute_percentage_error: 123.4631\nEpoch 37/50\n1616/1616 [==============================] - 51s 32ms/step - loss: 0.0264 - mean_absolute_percentage_error: 123.5178\nEpoch 38/50\n1616/1616 [==============================] - 51s 32ms/step - loss: 0.0264 - mean_absolute_percentage_error: 123.2746\nEpoch 39/50\n1616/1616 [==============================] - 51s 31ms/step - loss: 0.0264 - mean_absolute_percentage_error: 120.8914\nEpoch 40/50\n1616/1616 [==============================] - 51s 32ms/step - loss: 0.0263 - mean_absolute_percentage_error: 122.5277\nEpoch 41/50\n1616/1616 [==============================] - 51s 32ms/step - loss: 0.0262 - mean_absolute_percentage_error: 121.7650\nEpoch 42/50\n1616/1616 [==============================] - 51s 32ms/step - loss: 0.0261 - mean_absolute_percentage_error: 120.8307\nEpoch 43/50\n1616/1616 [==============================] - 51s 32ms/step - loss: 0.0261 - mean_absolute_percentage_error: 119.4410\nEpoch 44/50\n1616/1616 [==============================] - 51s 31ms/step - loss: 0.0260 - mean_absolute_percentage_error: 119.4625\nEpoch 45/50\n1616/1616 [==============================] - 51s 32ms/step - loss: 0.0260 - mean_absolute_percentage_error: 119.5530\nEpoch 46/50\n1616/1616 [==============================] - 51s 32ms/step - loss: 0.0260 - mean_absolute_percentage_error: 115.6999\nEpoch 47/50\n1616/1616 [==============================] - 51s 31ms/step - loss: 0.0258 - mean_absolute_percentage_error: 114.5774\nEpoch 48/50\n1616/1616 [==============================] - 51s 32ms/step - loss: 0.0257 - mean_absolute_percentage_error: 111.1185\nEpoch 49/50\n1616/1616 [==============================] - 51s 31ms/step - loss: 0.0257 - mean_absolute_percentage_error: 113.8343\nEpoch 50/50\n1616/1616 [==============================] - 51s 32ms/step - loss: 0.0256 - mean_absolute_percentage_error: 111.4620\n",
          "output_type": "stream"
        }
      ]
    },
    {
      "cell_type": "code",
      "source": [
        "import matplotlib.pyplot as plt\n",
        "\n",
        "# Extract the history of loss and metric result from the history object\n",
        "loss_history = history.history['loss']\n",
        "mape_history = history.history['mean_absolute_percentage_error']\n",
        "\n",
        "# Plot the history of loss\n",
        "plt.plot(loss_history)\n",
        "plt.title('Loss history')\n",
        "plt.xlabel('Epoch')\n",
        "plt.ylabel('Loss')\n",
        "plt.show()\n",
        "\n",
        "# Plot the history of metric result\n",
        "plt.plot(mape_history)\n",
        "plt.title('Metric result history')\n",
        "plt.xlabel('Epoch')\n",
        "plt.ylabel('Metric result')\n",
        "plt.show()\n"
      ],
      "metadata": {
        "execution": {
          "iopub.status.busy": "2023-01-08T19:30:40.740571Z",
          "iopub.execute_input": "2023-01-08T19:30:40.740902Z",
          "iopub.status.idle": "2023-01-08T19:30:41.130066Z",
          "shell.execute_reply.started": "2023-01-08T19:30:40.740873Z",
          "shell.execute_reply": "2023-01-08T19:30:41.129138Z"
        },
        "trusted": true,
        "id": "rfXrRz9447D_",
        "outputId": "7baaebd8-98e5-4085-8293-58f604fa727d"
      },
      "execution_count": null,
      "outputs": [
        {
          "output_type": "display_data",
          "data": {
            "text/plain": "<Figure size 432x288 with 1 Axes>",
            "image/png": "[encoded data removed]"
          },
          "metadata": {
            "needs_background": "light"
          }
        },
        {
          "output_type": "display_data",
          "data": {
            "text/plain": "<Figure size 432x288 with 1 Axes>",
            "image/png": "[encoded data removed]"
          },
          "metadata": {
            "needs_background": "light"
          }
        }
      ]
    },
    {
      "cell_type": "code",
      "source": [
        "p = model.predict(x_test)"
      ],
      "metadata": {
        "id": "pbEAZ5uiaazH",
        "execution": {
          "iopub.status.busy": "2023-01-08T19:30:41.132412Z",
          "iopub.execute_input": "2023-01-08T19:30:41.132803Z",
          "iopub.status.idle": "2023-01-08T19:30:42.382630Z",
          "shell.execute_reply.started": "2023-01-08T19:30:41.132767Z",
          "shell.execute_reply": "2023-01-08T19:30:42.381549Z"
        },
        "trusted": true
      },
      "execution_count": null,
      "outputs": []
    },
    {
      "cell_type": "code",
      "source": [
        "print(x_test.shape)\n",
        "print(y_test.shape)\n",
        "print(p.shape)"
      ],
      "metadata": {
        "colab": {
          "base_uri": "https://localhost:8080/"
        },
        "id": "m9dNOhN1g2Mp",
        "outputId": "60d9739f-fbf0-4f29-f7fa-50e049ab088d",
        "execution": {
          "iopub.status.busy": "2023-01-08T19:30:42.384265Z",
          "iopub.execute_input": "2023-01-08T19:30:42.384651Z",
          "iopub.status.idle": "2023-01-08T19:30:42.392251Z",
          "shell.execute_reply.started": "2023-01-08T19:30:42.384612Z",
          "shell.execute_reply": "2023-01-08T19:30:42.390775Z"
        },
        "trusted": true
      },
      "execution_count": null,
      "outputs": [
        {
          "name": "stdout",
          "text": "(432, 432, 4)\n(432,)\n(432, 1)\n",
          "output_type": "stream"
        }
      ]
    },
    {
      "cell_type": "code",
      "source": [
        "p = model.predict(x_test)\n",
        "plt.plot(p) #denormalizing prediction back\n",
        "plt.plot(y_test) #denormalizing original data back\n",
        "plt.title('Two day window results')\n",
        "plt.legend(['predicted', 'actual'])\n",
        "plt.show()"
      ],
      "metadata": {
        "colab": {
          "base_uri": "https://localhost:8080/",
          "height": 298
        },
        "id": "AG6zcu_0ac-t",
        "outputId": "5fc7ec2d-4ec2-4e19-d1ff-f18afb8aeab7",
        "execution": {
          "iopub.status.busy": "2023-01-08T19:32:06.461875Z",
          "iopub.execute_input": "2023-01-08T19:32:06.462524Z",
          "iopub.status.idle": "2023-01-08T19:32:06.917321Z",
          "shell.execute_reply.started": "2023-01-08T19:32:06.462485Z",
          "shell.execute_reply": "2023-01-08T19:32:06.916155Z"
        },
        "trusted": true
      },
      "execution_count": null,
      "outputs": [
        {
          "output_type": "display_data",
          "data": {
            "text/plain": "<Figure size 432x288 with 1 Axes>",
            "image/png": "[encoded data removed]"
          },
          "metadata": {
            "needs_background": "light"
          }
        }
      ]
    }
  ]
}