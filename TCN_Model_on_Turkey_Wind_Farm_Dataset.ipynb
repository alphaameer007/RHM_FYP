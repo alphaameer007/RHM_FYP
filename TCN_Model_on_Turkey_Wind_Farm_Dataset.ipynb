{
  "metadata": {
    "colab": {
      "provenance": [],
      "include_colab_link": true
    },
    "kernelspec": {
      "name": "python3",
      "display_name": "Python 3",
      "language": "python"
    },
    "language_info": {
      "name": "python",
      "version": "3.7.12",
      "mimetype": "text/x-python",
      "codemirror_mode": {
        "name": "ipython",
        "version": 3
      },
      "pygments_lexer": "ipython3",
      "nbconvert_exporter": "python",
      "file_extension": ".py"
    },
    "accelerator": "GPU",
    "gpuClass": "standard"
  },
  "nbformat_minor": 0,
  "nbformat": 4,
  "cells": [
    {
      "cell_type": "markdown",
      "metadata": {
        "id": "view-in-github",
        "colab_type": "text"
      },
      "source": [
        "<a href=\"https://colab.research.google.com/github/hammaad2002/RHM_FYP/blob/main/TCN_Model_on_Turkey_Wind_Farm_Dataset.ipynb\" target=\"_parent\"><img src=\"https://colab.research.google.com/assets/colab-badge.svg\" alt=\"Open In Colab\"/></a>"
      ]
    },
    {
      "cell_type": "code",
      "source": [
        "%%capture\n",
        "!git clone https://github.com/alphaameer007/RHM_FYP"
      ],
      "metadata": {
        "id": "Hw76cocj6xjp",
        "execution": {
          "iopub.status.busy": "2023-01-09T10:34:29.368761Z",
          "iopub.execute_input": "2023-01-09T10:34:29.369140Z",
          "iopub.status.idle": "2023-01-09T10:34:30.452419Z",
          "shell.execute_reply.started": "2023-01-09T10:34:29.369107Z",
          "shell.execute_reply": "2023-01-09T10:34:30.451084Z"
        },
        "trusted": true
      },
      "execution_count": 9,
      "outputs": []
    },
    {
      "cell_type": "code",
      "source": [
        "!pip install keras-tcn --no-dependencies "
      ],
      "metadata": {
        "id": "g0l5Cyv6KgZQ",
        "outputId": "7cebaca0-9694-435f-df0e-57db3d9d6aaf",
        "colab": {
          "base_uri": "https://localhost:8080/"
        },
        "execution": {
          "iopub.status.busy": "2023-01-09T10:34:30.454890Z",
          "iopub.execute_input": "2023-01-09T10:34:30.455648Z",
          "iopub.status.idle": "2023-01-09T10:34:33.293190Z",
          "shell.execute_reply.started": "2023-01-09T10:34:30.455605Z",
          "shell.execute_reply": "2023-01-09T10:34:33.291946Z"
        },
        "trusted": true
      },
      "execution_count": 10,
      "outputs": [
        {
          "output_type": "stream",
          "name": "stdout",
          "text": [
            "Looking in indexes: https://pypi.org/simple, https://us-python.pkg.dev/colab-wheels/public/simple/\n",
            "Requirement already satisfied: keras-tcn in /usr/local/lib/python3.8/dist-packages (3.5.0)\n"
          ]
        }
      ]
    },
    {
      "cell_type": "code",
      "source": [
        "from tcn import TCN\n",
        "import pandas as pd\n",
        "import tensorflow as tf\n",
        "from tensorflow import keras\n",
        "import matplotlib.pyplot as plt\n",
        "import numpy as np\n",
        "from tensorflow.keras import Sequential\n",
        "from tensorflow.keras.layers import Dense"
      ],
      "metadata": {
        "id": "Au7SgwNIAFZx",
        "execution": {
          "iopub.status.busy": "2023-01-09T10:34:43.225164Z",
          "iopub.execute_input": "2023-01-09T10:34:43.225595Z",
          "iopub.status.idle": "2023-01-09T10:34:43.232325Z",
          "shell.execute_reply.started": "2023-01-09T10:34:43.225554Z",
          "shell.execute_reply": "2023-01-09T10:34:43.231348Z"
        },
        "trusted": true
      },
      "execution_count": 11,
      "outputs": []
    },
    {
      "cell_type": "code",
      "source": [
        "df=pd.read_csv('/content/RHM_FYP/TurkeyWindFarm.csv')\n",
        "df"
      ],
      "metadata": {
        "colab": {
          "base_uri": "https://localhost:8080/",
          "height": 424
        },
        "id": "6R0YOhAXAewT",
        "outputId": "85966d92-2d4c-4abb-ed8b-a28d448a718d",
        "execution": {
          "iopub.status.busy": "2023-01-09T10:34:43.233680Z",
          "iopub.execute_input": "2023-01-09T10:34:43.234026Z",
          "iopub.status.idle": "2023-01-09T10:34:43.335835Z",
          "shell.execute_reply.started": "2023-01-09T10:34:43.233991Z",
          "shell.execute_reply": "2023-01-09T10:34:43.334576Z"
        },
        "trusted": true
      },
      "execution_count": 12,
      "outputs": [
        {
          "output_type": "execute_result",
          "data": {
            "text/plain": [
              "                   time  LV ActivePower (kW)  Wind Speed (m/s)  wind energy  \\\n",
              "0         1/1/2018 0:00           380.047791          5.311336   416.328908   \n",
              "1         1/1/2018 0:10           453.769196          5.672167   519.917511   \n",
              "2         1/1/2018 0:20           306.376587          5.216037   390.900016   \n",
              "3         1/1/2018 0:30           419.645904          5.659674   516.127569   \n",
              "4         1/1/2018 0:40           380.650696          5.577941   491.702972   \n",
              "...                 ...                  ...               ...          ...   \n",
              "52555  12/31/2018 23:10          2963.980957         11.404030  3397.190793   \n",
              "52556  12/31/2018 23:20          1684.353027          7.332648  1173.055771   \n",
              "52557  12/31/2018 23:30          2201.106934          8.435358  1788.284755   \n",
              "52558  12/31/2018 23:40          2515.694092          9.421366  2418.382503   \n",
              "52559  12/31/2018 23:50          2820.466064          9.979332  2779.184096   \n",
              "\n",
              "       Wind Direction (°)  \n",
              "0              259.994904  \n",
              "1              268.641113  \n",
              "2              272.564789  \n",
              "3              271.258087  \n",
              "4              265.674286  \n",
              "...                   ...  \n",
              "52555           80.502724  \n",
              "52556           84.062599  \n",
              "52557           84.742500  \n",
              "52558           84.297913  \n",
              "52559           82.274620  \n",
              "\n",
              "[52560 rows x 5 columns]"
            ],
            "text/html": [
              "\n",
              "  <div id=\"df-63dfe135-418c-41ba-9650-15a801549248\">\n",
              "    <div class=\"colab-df-container\">\n",
              "      <div>\n",
              "<style scoped>\n",
              "    .dataframe tbody tr th:only-of-type {\n",
              "        vertical-align: middle;\n",
              "    }\n",
              "\n",
              "    .dataframe tbody tr th {\n",
              "        vertical-align: top;\n",
              "    }\n",
              "\n",
              "    .dataframe thead th {\n",
              "        text-align: right;\n",
              "    }\n",
              "</style>\n",
              "<table border=\"1\" class=\"dataframe\">\n",
              "  <thead>\n",
              "    <tr style=\"text-align: right;\">\n",
              "      <th></th>\n",
              "      <th>time</th>\n",
              "      <th>LV ActivePower (kW)</th>\n",
              "      <th>Wind Speed (m/s)</th>\n",
              "      <th>wind energy</th>\n",
              "      <th>Wind Direction (°)</th>\n",
              "    </tr>\n",
              "  </thead>\n",
              "  <tbody>\n",
              "    <tr>\n",
              "      <th>0</th>\n",
              "      <td>1/1/2018 0:00</td>\n",
              "      <td>380.047791</td>\n",
              "      <td>5.311336</td>\n",
              "      <td>416.328908</td>\n",
              "      <td>259.994904</td>\n",
              "    </tr>\n",
              "    <tr>\n",
              "      <th>1</th>\n",
              "      <td>1/1/2018 0:10</td>\n",
              "      <td>453.769196</td>\n",
              "      <td>5.672167</td>\n",
              "      <td>519.917511</td>\n",
              "      <td>268.641113</td>\n",
              "    </tr>\n",
              "    <tr>\n",
              "      <th>2</th>\n",
              "      <td>1/1/2018 0:20</td>\n",
              "      <td>306.376587</td>\n",
              "      <td>5.216037</td>\n",
              "      <td>390.900016</td>\n",
              "      <td>272.564789</td>\n",
              "    </tr>\n",
              "    <tr>\n",
              "      <th>3</th>\n",
              "      <td>1/1/2018 0:30</td>\n",
              "      <td>419.645904</td>\n",
              "      <td>5.659674</td>\n",
              "      <td>516.127569</td>\n",
              "      <td>271.258087</td>\n",
              "    </tr>\n",
              "    <tr>\n",
              "      <th>4</th>\n",
              "      <td>1/1/2018 0:40</td>\n",
              "      <td>380.650696</td>\n",
              "      <td>5.577941</td>\n",
              "      <td>491.702972</td>\n",
              "      <td>265.674286</td>\n",
              "    </tr>\n",
              "    <tr>\n",
              "      <th>...</th>\n",
              "      <td>...</td>\n",
              "      <td>...</td>\n",
              "      <td>...</td>\n",
              "      <td>...</td>\n",
              "      <td>...</td>\n",
              "    </tr>\n",
              "    <tr>\n",
              "      <th>52555</th>\n",
              "      <td>12/31/2018 23:10</td>\n",
              "      <td>2963.980957</td>\n",
              "      <td>11.404030</td>\n",
              "      <td>3397.190793</td>\n",
              "      <td>80.502724</td>\n",
              "    </tr>\n",
              "    <tr>\n",
              "      <th>52556</th>\n",
              "      <td>12/31/2018 23:20</td>\n",
              "      <td>1684.353027</td>\n",
              "      <td>7.332648</td>\n",
              "      <td>1173.055771</td>\n",
              "      <td>84.062599</td>\n",
              "    </tr>\n",
              "    <tr>\n",
              "      <th>52557</th>\n",
              "      <td>12/31/2018 23:30</td>\n",
              "      <td>2201.106934</td>\n",
              "      <td>8.435358</td>\n",
              "      <td>1788.284755</td>\n",
              "      <td>84.742500</td>\n",
              "    </tr>\n",
              "    <tr>\n",
              "      <th>52558</th>\n",
              "      <td>12/31/2018 23:40</td>\n",
              "      <td>2515.694092</td>\n",
              "      <td>9.421366</td>\n",
              "      <td>2418.382503</td>\n",
              "      <td>84.297913</td>\n",
              "    </tr>\n",
              "    <tr>\n",
              "      <th>52559</th>\n",
              "      <td>12/31/2018 23:50</td>\n",
              "      <td>2820.466064</td>\n",
              "      <td>9.979332</td>\n",
              "      <td>2779.184096</td>\n",
              "      <td>82.274620</td>\n",
              "    </tr>\n",
              "  </tbody>\n",
              "</table>\n",
              "<p>52560 rows × 5 columns</p>\n",
              "</div>\n",
              "      <button class=\"colab-df-convert\" onclick=\"convertToInteractive('df-63dfe135-418c-41ba-9650-15a801549248')\"\n",
              "              title=\"Convert this dataframe to an interactive table.\"\n",
              "              style=\"display:none;\">\n",
              "        \n",
              "  <svg xmlns=\"http://www.w3.org/2000/svg\" height=\"24px\"viewBox=\"0 0 24 24\"\n",
              "       width=\"24px\">\n",
              "    <path d=\"M0 0h24v24H0V0z\" fill=\"none\"/>\n",
              "    <path d=\"M18.56 5.44l.94 2.06.94-2.06 2.06-.94-2.06-.94-.94-2.06-.94 2.06-2.06.94zm-11 1L8.5 8.5l.94-2.06 2.06-.94-2.06-.94L8.5 2.5l-.94 2.06-2.06.94zm10 10l.94 2.06.94-2.06 2.06-.94-2.06-.94-.94-2.06-.94 2.06-2.06.94z\"/><path d=\"M17.41 7.96l-1.37-1.37c-.4-.4-.92-.59-1.43-.59-.52 0-1.04.2-1.43.59L10.3 9.45l-7.72 7.72c-.78.78-.78 2.05 0 2.83L4 21.41c.39.39.9.59 1.41.59.51 0 1.02-.2 1.41-.59l7.78-7.78 2.81-2.81c.8-.78.8-2.07 0-2.86zM5.41 20L4 18.59l7.72-7.72 1.47 1.35L5.41 20z\"/>\n",
              "  </svg>\n",
              "      </button>\n",
              "      \n",
              "  <style>\n",
              "    .colab-df-container {\n",
              "      display:flex;\n",
              "      flex-wrap:wrap;\n",
              "      gap: 12px;\n",
              "    }\n",
              "\n",
              "    .colab-df-convert {\n",
              "      background-color: #E8F0FE;\n",
              "      border: none;\n",
              "      border-radius: 50%;\n",
              "      cursor: pointer;\n",
              "      display: none;\n",
              "      fill: #1967D2;\n",
              "      height: 32px;\n",
              "      padding: 0 0 0 0;\n",
              "      width: 32px;\n",
              "    }\n",
              "\n",
              "    .colab-df-convert:hover {\n",
              "      background-color: #E2EBFA;\n",
              "      box-shadow: 0px 1px 2px rgba(60, 64, 67, 0.3), 0px 1px 3px 1px rgba(60, 64, 67, 0.15);\n",
              "      fill: #174EA6;\n",
              "    }\n",
              "\n",
              "    [theme=dark] .colab-df-convert {\n",
              "      background-color: #3B4455;\n",
              "      fill: #D2E3FC;\n",
              "    }\n",
              "\n",
              "    [theme=dark] .colab-df-convert:hover {\n",
              "      background-color: #434B5C;\n",
              "      box-shadow: 0px 1px 3px 1px rgba(0, 0, 0, 0.15);\n",
              "      filter: drop-shadow(0px 1px 2px rgba(0, 0, 0, 0.3));\n",
              "      fill: #FFFFFF;\n",
              "    }\n",
              "  </style>\n",
              "\n",
              "      <script>\n",
              "        const buttonEl =\n",
              "          document.querySelector('#df-63dfe135-418c-41ba-9650-15a801549248 button.colab-df-convert');\n",
              "        buttonEl.style.display =\n",
              "          google.colab.kernel.accessAllowed ? 'block' : 'none';\n",
              "\n",
              "        async function convertToInteractive(key) {\n",
              "          const element = document.querySelector('#df-63dfe135-418c-41ba-9650-15a801549248');\n",
              "          const dataTable =\n",
              "            await google.colab.kernel.invokeFunction('convertToInteractive',\n",
              "                                                     [key], {});\n",
              "          if (!dataTable) return;\n",
              "\n",
              "          const docLinkHtml = 'Like what you see? Visit the ' +\n",
              "            '<a target=\"_blank\" href=https://colab.research.google.com/notebooks/data_table.ipynb>data table notebook</a>'\n",
              "            + ' to learn more about interactive tables.';\n",
              "          element.innerHTML = '';\n",
              "          dataTable['output_type'] = 'display_data';\n",
              "          await google.colab.output.renderOutput(dataTable, element);\n",
              "          const docLink = document.createElement('div');\n",
              "          docLink.innerHTML = docLinkHtml;\n",
              "          element.appendChild(docLink);\n",
              "        }\n",
              "      </script>\n",
              "    </div>\n",
              "  </div>\n",
              "  "
            ]
          },
          "metadata": {},
          "execution_count": 12
        }
      ]
    },
    {
      "cell_type": "code",
      "source": [
        "df.drop('time', inplace=True, axis=1)"
      ],
      "metadata": {
        "id": "ezO81MDWAink",
        "execution": {
          "iopub.status.busy": "2023-01-09T10:34:43.338272Z",
          "iopub.execute_input": "2023-01-09T10:34:43.339102Z",
          "iopub.status.idle": "2023-01-09T10:34:43.348196Z",
          "shell.execute_reply.started": "2023-01-09T10:34:43.339055Z",
          "shell.execute_reply": "2023-01-09T10:34:43.346827Z"
        },
        "trusted": true
      },
      "execution_count": 13,
      "outputs": []
    },
    {
      "cell_type": "code",
      "source": [
        "df"
      ],
      "metadata": {
        "colab": {
          "base_uri": "https://localhost:8080/",
          "height": 424
        },
        "id": "SQsNnFhUA2DB",
        "outputId": "a7174935-cd8b-4e0d-9b41-da4c094749a5",
        "execution": {
          "iopub.status.busy": "2023-01-09T10:34:43.350089Z",
          "iopub.execute_input": "2023-01-09T10:34:43.350428Z",
          "iopub.status.idle": "2023-01-09T10:34:43.369480Z",
          "shell.execute_reply.started": "2023-01-09T10:34:43.350399Z",
          "shell.execute_reply": "2023-01-09T10:34:43.368349Z"
        },
        "trusted": true
      },
      "execution_count": 14,
      "outputs": [
        {
          "output_type": "execute_result",
          "data": {
            "text/plain": [
              "       LV ActivePower (kW)  Wind Speed (m/s)  wind energy  Wind Direction (°)\n",
              "0               380.047791          5.311336   416.328908          259.994904\n",
              "1               453.769196          5.672167   519.917511          268.641113\n",
              "2               306.376587          5.216037   390.900016          272.564789\n",
              "3               419.645904          5.659674   516.127569          271.258087\n",
              "4               380.650696          5.577941   491.702972          265.674286\n",
              "...                    ...               ...          ...                 ...\n",
              "52555          2963.980957         11.404030  3397.190793           80.502724\n",
              "52556          1684.353027          7.332648  1173.055771           84.062599\n",
              "52557          2201.106934          8.435358  1788.284755           84.742500\n",
              "52558          2515.694092          9.421366  2418.382503           84.297913\n",
              "52559          2820.466064          9.979332  2779.184096           82.274620\n",
              "\n",
              "[52560 rows x 4 columns]"
            ],
            "text/html": [
              "\n",
              "  <div id=\"df-a573b32d-1dd5-48df-a893-f0f28d733bec\">\n",
              "    <div class=\"colab-df-container\">\n",
              "      <div>\n",
              "<style scoped>\n",
              "    .dataframe tbody tr th:only-of-type {\n",
              "        vertical-align: middle;\n",
              "    }\n",
              "\n",
              "    .dataframe tbody tr th {\n",
              "        vertical-align: top;\n",
              "    }\n",
              "\n",
              "    .dataframe thead th {\n",
              "        text-align: right;\n",
              "    }\n",
              "</style>\n",
              "<table border=\"1\" class=\"dataframe\">\n",
              "  <thead>\n",
              "    <tr style=\"text-align: right;\">\n",
              "      <th></th>\n",
              "      <th>LV ActivePower (kW)</th>\n",
              "      <th>Wind Speed (m/s)</th>\n",
              "      <th>wind energy</th>\n",
              "      <th>Wind Direction (°)</th>\n",
              "    </tr>\n",
              "  </thead>\n",
              "  <tbody>\n",
              "    <tr>\n",
              "      <th>0</th>\n",
              "      <td>380.047791</td>\n",
              "      <td>5.311336</td>\n",
              "      <td>416.328908</td>\n",
              "      <td>259.994904</td>\n",
              "    </tr>\n",
              "    <tr>\n",
              "      <th>1</th>\n",
              "      <td>453.769196</td>\n",
              "      <td>5.672167</td>\n",
              "      <td>519.917511</td>\n",
              "      <td>268.641113</td>\n",
              "    </tr>\n",
              "    <tr>\n",
              "      <th>2</th>\n",
              "      <td>306.376587</td>\n",
              "      <td>5.216037</td>\n",
              "      <td>390.900016</td>\n",
              "      <td>272.564789</td>\n",
              "    </tr>\n",
              "    <tr>\n",
              "      <th>3</th>\n",
              "      <td>419.645904</td>\n",
              "      <td>5.659674</td>\n",
              "      <td>516.127569</td>\n",
              "      <td>271.258087</td>\n",
              "    </tr>\n",
              "    <tr>\n",
              "      <th>4</th>\n",
              "      <td>380.650696</td>\n",
              "      <td>5.577941</td>\n",
              "      <td>491.702972</td>\n",
              "      <td>265.674286</td>\n",
              "    </tr>\n",
              "    <tr>\n",
              "      <th>...</th>\n",
              "      <td>...</td>\n",
              "      <td>...</td>\n",
              "      <td>...</td>\n",
              "      <td>...</td>\n",
              "    </tr>\n",
              "    <tr>\n",
              "      <th>52555</th>\n",
              "      <td>2963.980957</td>\n",
              "      <td>11.404030</td>\n",
              "      <td>3397.190793</td>\n",
              "      <td>80.502724</td>\n",
              "    </tr>\n",
              "    <tr>\n",
              "      <th>52556</th>\n",
              "      <td>1684.353027</td>\n",
              "      <td>7.332648</td>\n",
              "      <td>1173.055771</td>\n",
              "      <td>84.062599</td>\n",
              "    </tr>\n",
              "    <tr>\n",
              "      <th>52557</th>\n",
              "      <td>2201.106934</td>\n",
              "      <td>8.435358</td>\n",
              "      <td>1788.284755</td>\n",
              "      <td>84.742500</td>\n",
              "    </tr>\n",
              "    <tr>\n",
              "      <th>52558</th>\n",
              "      <td>2515.694092</td>\n",
              "      <td>9.421366</td>\n",
              "      <td>2418.382503</td>\n",
              "      <td>84.297913</td>\n",
              "    </tr>\n",
              "    <tr>\n",
              "      <th>52559</th>\n",
              "      <td>2820.466064</td>\n",
              "      <td>9.979332</td>\n",
              "      <td>2779.184096</td>\n",
              "      <td>82.274620</td>\n",
              "    </tr>\n",
              "  </tbody>\n",
              "</table>\n",
              "<p>52560 rows × 4 columns</p>\n",
              "</div>\n",
              "      <button class=\"colab-df-convert\" onclick=\"convertToInteractive('df-a573b32d-1dd5-48df-a893-f0f28d733bec')\"\n",
              "              title=\"Convert this dataframe to an interactive table.\"\n",
              "              style=\"display:none;\">\n",
              "        \n",
              "  <svg xmlns=\"http://www.w3.org/2000/svg\" height=\"24px\"viewBox=\"0 0 24 24\"\n",
              "       width=\"24px\">\n",
              "    <path d=\"M0 0h24v24H0V0z\" fill=\"none\"/>\n",
              "    <path d=\"M18.56 5.44l.94 2.06.94-2.06 2.06-.94-2.06-.94-.94-2.06-.94 2.06-2.06.94zm-11 1L8.5 8.5l.94-2.06 2.06-.94-2.06-.94L8.5 2.5l-.94 2.06-2.06.94zm10 10l.94 2.06.94-2.06 2.06-.94-2.06-.94-.94-2.06-.94 2.06-2.06.94z\"/><path d=\"M17.41 7.96l-1.37-1.37c-.4-.4-.92-.59-1.43-.59-.52 0-1.04.2-1.43.59L10.3 9.45l-7.72 7.72c-.78.78-.78 2.05 0 2.83L4 21.41c.39.39.9.59 1.41.59.51 0 1.02-.2 1.41-.59l7.78-7.78 2.81-2.81c.8-.78.8-2.07 0-2.86zM5.41 20L4 18.59l7.72-7.72 1.47 1.35L5.41 20z\"/>\n",
              "  </svg>\n",
              "      </button>\n",
              "      \n",
              "  <style>\n",
              "    .colab-df-container {\n",
              "      display:flex;\n",
              "      flex-wrap:wrap;\n",
              "      gap: 12px;\n",
              "    }\n",
              "\n",
              "    .colab-df-convert {\n",
              "      background-color: #E8F0FE;\n",
              "      border: none;\n",
              "      border-radius: 50%;\n",
              "      cursor: pointer;\n",
              "      display: none;\n",
              "      fill: #1967D2;\n",
              "      height: 32px;\n",
              "      padding: 0 0 0 0;\n",
              "      width: 32px;\n",
              "    }\n",
              "\n",
              "    .colab-df-convert:hover {\n",
              "      background-color: #E2EBFA;\n",
              "      box-shadow: 0px 1px 2px rgba(60, 64, 67, 0.3), 0px 1px 3px 1px rgba(60, 64, 67, 0.15);\n",
              "      fill: #174EA6;\n",
              "    }\n",
              "\n",
              "    [theme=dark] .colab-df-convert {\n",
              "      background-color: #3B4455;\n",
              "      fill: #D2E3FC;\n",
              "    }\n",
              "\n",
              "    [theme=dark] .colab-df-convert:hover {\n",
              "      background-color: #434B5C;\n",
              "      box-shadow: 0px 1px 3px 1px rgba(0, 0, 0, 0.15);\n",
              "      filter: drop-shadow(0px 1px 2px rgba(0, 0, 0, 0.3));\n",
              "      fill: #FFFFFF;\n",
              "    }\n",
              "  </style>\n",
              "\n",
              "      <script>\n",
              "        const buttonEl =\n",
              "          document.querySelector('#df-a573b32d-1dd5-48df-a893-f0f28d733bec button.colab-df-convert');\n",
              "        buttonEl.style.display =\n",
              "          google.colab.kernel.accessAllowed ? 'block' : 'none';\n",
              "\n",
              "        async function convertToInteractive(key) {\n",
              "          const element = document.querySelector('#df-a573b32d-1dd5-48df-a893-f0f28d733bec');\n",
              "          const dataTable =\n",
              "            await google.colab.kernel.invokeFunction('convertToInteractive',\n",
              "                                                     [key], {});\n",
              "          if (!dataTable) return;\n",
              "\n",
              "          const docLinkHtml = 'Like what you see? Visit the ' +\n",
              "            '<a target=\"_blank\" href=https://colab.research.google.com/notebooks/data_table.ipynb>data table notebook</a>'\n",
              "            + ' to learn more about interactive tables.';\n",
              "          element.innerHTML = '';\n",
              "          dataTable['output_type'] = 'display_data';\n",
              "          await google.colab.output.renderOutput(dataTable, element);\n",
              "          const docLink = document.createElement('div');\n",
              "          docLink.innerHTML = docLinkHtml;\n",
              "          element.appendChild(docLink);\n",
              "        }\n",
              "      </script>\n",
              "    </div>\n",
              "  </div>\n",
              "  "
            ]
          },
          "metadata": {},
          "execution_count": 14
        }
      ]
    },
    {
      "cell_type": "code",
      "source": [
        "max_values = df.max()              #normalizing data in between range [0,1]\n",
        "df = df.div(max_values) "
      ],
      "metadata": {
        "id": "7Uz47b-mTZsi",
        "execution": {
          "iopub.status.busy": "2023-01-09T10:34:43.370906Z",
          "iopub.execute_input": "2023-01-09T10:34:43.371511Z",
          "iopub.status.idle": "2023-01-09T10:34:43.385645Z",
          "shell.execute_reply.started": "2023-01-09T10:34:43.371475Z",
          "shell.execute_reply": "2023-01-09T10:34:43.384760Z"
        },
        "trusted": true
      },
      "execution_count": 15,
      "outputs": []
    },
    {
      "cell_type": "code",
      "source": [
        "df"
      ],
      "metadata": {
        "id": "zk5wMX9XVdyw",
        "outputId": "492efad9-74b7-45c5-a697-9d07d2d5c7a4",
        "colab": {
          "base_uri": "https://localhost:8080/",
          "height": 424
        },
        "execution": {
          "iopub.status.busy": "2023-01-09T10:34:43.387040Z",
          "iopub.execute_input": "2023-01-09T10:34:43.387502Z",
          "iopub.status.idle": "2023-01-09T10:34:43.409224Z",
          "shell.execute_reply.started": "2023-01-09T10:34:43.387465Z",
          "shell.execute_reply": "2023-01-09T10:34:43.407386Z"
        },
        "trusted": true
      },
      "execution_count": 16,
      "outputs": [
        {
          "output_type": "execute_result",
          "data": {
            "text/plain": [
              "       LV ActivePower (kW)  Wind Speed (m/s)  wind energy  Wind Direction (°)\n",
              "0                 0.105022          0.210717     0.115647            0.722213\n",
              "1                 0.125394          0.225032     0.144422            0.746230\n",
              "2                 0.084664          0.206936     0.108583            0.757129\n",
              "3                 0.115965          0.224537     0.143369            0.753500\n",
              "4                 0.105189          0.221294     0.136584            0.737989\n",
              "...                    ...               ...          ...                 ...\n",
              "52555             0.819066          0.452433     0.943664            0.223620\n",
              "52556             0.465454          0.290909     0.325849            0.233509\n",
              "52557             0.608253          0.334657     0.496746            0.235397\n",
              "52558             0.695186          0.373775     0.671773            0.234162\n",
              "52559             0.779407          0.395911     0.771996            0.228542\n",
              "\n",
              "[52560 rows x 4 columns]"
            ],
            "text/html": [
              "\n",
              "  <div id=\"df-de8aec95-5ae1-4858-822f-92ba0621a12b\">\n",
              "    <div class=\"colab-df-container\">\n",
              "      <div>\n",
              "<style scoped>\n",
              "    .dataframe tbody tr th:only-of-type {\n",
              "        vertical-align: middle;\n",
              "    }\n",
              "\n",
              "    .dataframe tbody tr th {\n",
              "        vertical-align: top;\n",
              "    }\n",
              "\n",
              "    .dataframe thead th {\n",
              "        text-align: right;\n",
              "    }\n",
              "</style>\n",
              "<table border=\"1\" class=\"dataframe\">\n",
              "  <thead>\n",
              "    <tr style=\"text-align: right;\">\n",
              "      <th></th>\n",
              "      <th>LV ActivePower (kW)</th>\n",
              "      <th>Wind Speed (m/s)</th>\n",
              "      <th>wind energy</th>\n",
              "      <th>Wind Direction (°)</th>\n",
              "    </tr>\n",
              "  </thead>\n",
              "  <tbody>\n",
              "    <tr>\n",
              "      <th>0</th>\n",
              "      <td>0.105022</td>\n",
              "      <td>0.210717</td>\n",
              "      <td>0.115647</td>\n",
              "      <td>0.722213</td>\n",
              "    </tr>\n",
              "    <tr>\n",
              "      <th>1</th>\n",
              "      <td>0.125394</td>\n",
              "      <td>0.225032</td>\n",
              "      <td>0.144422</td>\n",
              "      <td>0.746230</td>\n",
              "    </tr>\n",
              "    <tr>\n",
              "      <th>2</th>\n",
              "      <td>0.084664</td>\n",
              "      <td>0.206936</td>\n",
              "      <td>0.108583</td>\n",
              "      <td>0.757129</td>\n",
              "    </tr>\n",
              "    <tr>\n",
              "      <th>3</th>\n",
              "      <td>0.115965</td>\n",
              "      <td>0.224537</td>\n",
              "      <td>0.143369</td>\n",
              "      <td>0.753500</td>\n",
              "    </tr>\n",
              "    <tr>\n",
              "      <th>4</th>\n",
              "      <td>0.105189</td>\n",
              "      <td>0.221294</td>\n",
              "      <td>0.136584</td>\n",
              "      <td>0.737989</td>\n",
              "    </tr>\n",
              "    <tr>\n",
              "      <th>...</th>\n",
              "      <td>...</td>\n",
              "      <td>...</td>\n",
              "      <td>...</td>\n",
              "      <td>...</td>\n",
              "    </tr>\n",
              "    <tr>\n",
              "      <th>52555</th>\n",
              "      <td>0.819066</td>\n",
              "      <td>0.452433</td>\n",
              "      <td>0.943664</td>\n",
              "      <td>0.223620</td>\n",
              "    </tr>\n",
              "    <tr>\n",
              "      <th>52556</th>\n",
              "      <td>0.465454</td>\n",
              "      <td>0.290909</td>\n",
              "      <td>0.325849</td>\n",
              "      <td>0.233509</td>\n",
              "    </tr>\n",
              "    <tr>\n",
              "      <th>52557</th>\n",
              "      <td>0.608253</td>\n",
              "      <td>0.334657</td>\n",
              "      <td>0.496746</td>\n",
              "      <td>0.235397</td>\n",
              "    </tr>\n",
              "    <tr>\n",
              "      <th>52558</th>\n",
              "      <td>0.695186</td>\n",
              "      <td>0.373775</td>\n",
              "      <td>0.671773</td>\n",
              "      <td>0.234162</td>\n",
              "    </tr>\n",
              "    <tr>\n",
              "      <th>52559</th>\n",
              "      <td>0.779407</td>\n",
              "      <td>0.395911</td>\n",
              "      <td>0.771996</td>\n",
              "      <td>0.228542</td>\n",
              "    </tr>\n",
              "  </tbody>\n",
              "</table>\n",
              "<p>52560 rows × 4 columns</p>\n",
              "</div>\n",
              "      <button class=\"colab-df-convert\" onclick=\"convertToInteractive('df-de8aec95-5ae1-4858-822f-92ba0621a12b')\"\n",
              "              title=\"Convert this dataframe to an interactive table.\"\n",
              "              style=\"display:none;\">\n",
              "        \n",
              "  <svg xmlns=\"http://www.w3.org/2000/svg\" height=\"24px\"viewBox=\"0 0 24 24\"\n",
              "       width=\"24px\">\n",
              "    <path d=\"M0 0h24v24H0V0z\" fill=\"none\"/>\n",
              "    <path d=\"M18.56 5.44l.94 2.06.94-2.06 2.06-.94-2.06-.94-.94-2.06-.94 2.06-2.06.94zm-11 1L8.5 8.5l.94-2.06 2.06-.94-2.06-.94L8.5 2.5l-.94 2.06-2.06.94zm10 10l.94 2.06.94-2.06 2.06-.94-2.06-.94-.94-2.06-.94 2.06-2.06.94z\"/><path d=\"M17.41 7.96l-1.37-1.37c-.4-.4-.92-.59-1.43-.59-.52 0-1.04.2-1.43.59L10.3 9.45l-7.72 7.72c-.78.78-.78 2.05 0 2.83L4 21.41c.39.39.9.59 1.41.59.51 0 1.02-.2 1.41-.59l7.78-7.78 2.81-2.81c.8-.78.8-2.07 0-2.86zM5.41 20L4 18.59l7.72-7.72 1.47 1.35L5.41 20z\"/>\n",
              "  </svg>\n",
              "      </button>\n",
              "      \n",
              "  <style>\n",
              "    .colab-df-container {\n",
              "      display:flex;\n",
              "      flex-wrap:wrap;\n",
              "      gap: 12px;\n",
              "    }\n",
              "\n",
              "    .colab-df-convert {\n",
              "      background-color: #E8F0FE;\n",
              "      border: none;\n",
              "      border-radius: 50%;\n",
              "      cursor: pointer;\n",
              "      display: none;\n",
              "      fill: #1967D2;\n",
              "      height: 32px;\n",
              "      padding: 0 0 0 0;\n",
              "      width: 32px;\n",
              "    }\n",
              "\n",
              "    .colab-df-convert:hover {\n",
              "      background-color: #E2EBFA;\n",
              "      box-shadow: 0px 1px 2px rgba(60, 64, 67, 0.3), 0px 1px 3px 1px rgba(60, 64, 67, 0.15);\n",
              "      fill: #174EA6;\n",
              "    }\n",
              "\n",
              "    [theme=dark] .colab-df-convert {\n",
              "      background-color: #3B4455;\n",
              "      fill: #D2E3FC;\n",
              "    }\n",
              "\n",
              "    [theme=dark] .colab-df-convert:hover {\n",
              "      background-color: #434B5C;\n",
              "      box-shadow: 0px 1px 3px 1px rgba(0, 0, 0, 0.15);\n",
              "      filter: drop-shadow(0px 1px 2px rgba(0, 0, 0, 0.3));\n",
              "      fill: #FFFFFF;\n",
              "    }\n",
              "  </style>\n",
              "\n",
              "      <script>\n",
              "        const buttonEl =\n",
              "          document.querySelector('#df-de8aec95-5ae1-4858-822f-92ba0621a12b button.colab-df-convert');\n",
              "        buttonEl.style.display =\n",
              "          google.colab.kernel.accessAllowed ? 'block' : 'none';\n",
              "\n",
              "        async function convertToInteractive(key) {\n",
              "          const element = document.querySelector('#df-de8aec95-5ae1-4858-822f-92ba0621a12b');\n",
              "          const dataTable =\n",
              "            await google.colab.kernel.invokeFunction('convertToInteractive',\n",
              "                                                     [key], {});\n",
              "          if (!dataTable) return;\n",
              "\n",
              "          const docLinkHtml = 'Like what you see? Visit the ' +\n",
              "            '<a target=\"_blank\" href=https://colab.research.google.com/notebooks/data_table.ipynb>data table notebook</a>'\n",
              "            + ' to learn more about interactive tables.';\n",
              "          element.innerHTML = '';\n",
              "          dataTable['output_type'] = 'display_data';\n",
              "          await google.colab.output.renderOutput(dataTable, element);\n",
              "          const docLink = document.createElement('div');\n",
              "          docLink.innerHTML = docLinkHtml;\n",
              "          element.appendChild(docLink);\n",
              "        }\n",
              "      </script>\n",
              "    </div>\n",
              "  </div>\n",
              "  "
            ]
          },
          "metadata": {},
          "execution_count": 16
        }
      ]
    },
    {
      "cell_type": "code",
      "source": [
        "#switching columns to make LV activePower (kW) last column so that it will be easy\n",
        "# to prepare training and test datasets\n",
        "cols = df.columns.tolist()\n",
        "cols[0], cols[3] = cols[3], cols[0]\n",
        "df = df[cols]"
      ],
      "metadata": {
        "id": "pbMyw7MH-DZx",
        "execution": {
          "iopub.status.busy": "2023-01-09T10:34:43.414028Z",
          "iopub.execute_input": "2023-01-09T10:34:43.414358Z",
          "iopub.status.idle": "2023-01-09T10:34:43.421703Z",
          "shell.execute_reply.started": "2023-01-09T10:34:43.414298Z",
          "shell.execute_reply": "2023-01-09T10:34:43.420664Z"
        },
        "trusted": true
      },
      "execution_count": 17,
      "outputs": []
    },
    {
      "cell_type": "code",
      "source": [
        "df"
      ],
      "metadata": {
        "id": "ws-IXmPN-NR-",
        "outputId": "6f7657da-c827-4ace-fb6d-ceb73b519361",
        "colab": {
          "base_uri": "https://localhost:8080/",
          "height": 424
        },
        "execution": {
          "iopub.status.busy": "2023-01-09T10:34:43.423335Z",
          "iopub.execute_input": "2023-01-09T10:34:43.424455Z",
          "iopub.status.idle": "2023-01-09T10:34:43.444124Z",
          "shell.execute_reply.started": "2023-01-09T10:34:43.424416Z",
          "shell.execute_reply": "2023-01-09T10:34:43.443154Z"
        },
        "trusted": true
      },
      "execution_count": 18,
      "outputs": [
        {
          "output_type": "execute_result",
          "data": {
            "text/plain": [
              "       Wind Direction (°)  Wind Speed (m/s)  wind energy  LV ActivePower (kW)\n",
              "0                0.722213          0.210717     0.115647             0.105022\n",
              "1                0.746230          0.225032     0.144422             0.125394\n",
              "2                0.757129          0.206936     0.108583             0.084664\n",
              "3                0.753500          0.224537     0.143369             0.115965\n",
              "4                0.737989          0.221294     0.136584             0.105189\n",
              "...                   ...               ...          ...                  ...\n",
              "52555            0.223620          0.452433     0.943664             0.819066\n",
              "52556            0.233509          0.290909     0.325849             0.465454\n",
              "52557            0.235397          0.334657     0.496746             0.608253\n",
              "52558            0.234162          0.373775     0.671773             0.695186\n",
              "52559            0.228542          0.395911     0.771996             0.779407\n",
              "\n",
              "[52560 rows x 4 columns]"
            ],
            "text/html": [
              "\n",
              "  <div id=\"df-a37b6afb-6029-42f8-8ff6-8563dceeb137\">\n",
              "    <div class=\"colab-df-container\">\n",
              "      <div>\n",
              "<style scoped>\n",
              "    .dataframe tbody tr th:only-of-type {\n",
              "        vertical-align: middle;\n",
              "    }\n",
              "\n",
              "    .dataframe tbody tr th {\n",
              "        vertical-align: top;\n",
              "    }\n",
              "\n",
              "    .dataframe thead th {\n",
              "        text-align: right;\n",
              "    }\n",
              "</style>\n",
              "<table border=\"1\" class=\"dataframe\">\n",
              "  <thead>\n",
              "    <tr style=\"text-align: right;\">\n",
              "      <th></th>\n",
              "      <th>Wind Direction (°)</th>\n",
              "      <th>Wind Speed (m/s)</th>\n",
              "      <th>wind energy</th>\n",
              "      <th>LV ActivePower (kW)</th>\n",
              "    </tr>\n",
              "  </thead>\n",
              "  <tbody>\n",
              "    <tr>\n",
              "      <th>0</th>\n",
              "      <td>0.722213</td>\n",
              "      <td>0.210717</td>\n",
              "      <td>0.115647</td>\n",
              "      <td>0.105022</td>\n",
              "    </tr>\n",
              "    <tr>\n",
              "      <th>1</th>\n",
              "      <td>0.746230</td>\n",
              "      <td>0.225032</td>\n",
              "      <td>0.144422</td>\n",
              "      <td>0.125394</td>\n",
              "    </tr>\n",
              "    <tr>\n",
              "      <th>2</th>\n",
              "      <td>0.757129</td>\n",
              "      <td>0.206936</td>\n",
              "      <td>0.108583</td>\n",
              "      <td>0.084664</td>\n",
              "    </tr>\n",
              "    <tr>\n",
              "      <th>3</th>\n",
              "      <td>0.753500</td>\n",
              "      <td>0.224537</td>\n",
              "      <td>0.143369</td>\n",
              "      <td>0.115965</td>\n",
              "    </tr>\n",
              "    <tr>\n",
              "      <th>4</th>\n",
              "      <td>0.737989</td>\n",
              "      <td>0.221294</td>\n",
              "      <td>0.136584</td>\n",
              "      <td>0.105189</td>\n",
              "    </tr>\n",
              "    <tr>\n",
              "      <th>...</th>\n",
              "      <td>...</td>\n",
              "      <td>...</td>\n",
              "      <td>...</td>\n",
              "      <td>...</td>\n",
              "    </tr>\n",
              "    <tr>\n",
              "      <th>52555</th>\n",
              "      <td>0.223620</td>\n",
              "      <td>0.452433</td>\n",
              "      <td>0.943664</td>\n",
              "      <td>0.819066</td>\n",
              "    </tr>\n",
              "    <tr>\n",
              "      <th>52556</th>\n",
              "      <td>0.233509</td>\n",
              "      <td>0.290909</td>\n",
              "      <td>0.325849</td>\n",
              "      <td>0.465454</td>\n",
              "    </tr>\n",
              "    <tr>\n",
              "      <th>52557</th>\n",
              "      <td>0.235397</td>\n",
              "      <td>0.334657</td>\n",
              "      <td>0.496746</td>\n",
              "      <td>0.608253</td>\n",
              "    </tr>\n",
              "    <tr>\n",
              "      <th>52558</th>\n",
              "      <td>0.234162</td>\n",
              "      <td>0.373775</td>\n",
              "      <td>0.671773</td>\n",
              "      <td>0.695186</td>\n",
              "    </tr>\n",
              "    <tr>\n",
              "      <th>52559</th>\n",
              "      <td>0.228542</td>\n",
              "      <td>0.395911</td>\n",
              "      <td>0.771996</td>\n",
              "      <td>0.779407</td>\n",
              "    </tr>\n",
              "  </tbody>\n",
              "</table>\n",
              "<p>52560 rows × 4 columns</p>\n",
              "</div>\n",
              "      <button class=\"colab-df-convert\" onclick=\"convertToInteractive('df-a37b6afb-6029-42f8-8ff6-8563dceeb137')\"\n",
              "              title=\"Convert this dataframe to an interactive table.\"\n",
              "              style=\"display:none;\">\n",
              "        \n",
              "  <svg xmlns=\"http://www.w3.org/2000/svg\" height=\"24px\"viewBox=\"0 0 24 24\"\n",
              "       width=\"24px\">\n",
              "    <path d=\"M0 0h24v24H0V0z\" fill=\"none\"/>\n",
              "    <path d=\"M18.56 5.44l.94 2.06.94-2.06 2.06-.94-2.06-.94-.94-2.06-.94 2.06-2.06.94zm-11 1L8.5 8.5l.94-2.06 2.06-.94-2.06-.94L8.5 2.5l-.94 2.06-2.06.94zm10 10l.94 2.06.94-2.06 2.06-.94-2.06-.94-.94-2.06-.94 2.06-2.06.94z\"/><path d=\"M17.41 7.96l-1.37-1.37c-.4-.4-.92-.59-1.43-.59-.52 0-1.04.2-1.43.59L10.3 9.45l-7.72 7.72c-.78.78-.78 2.05 0 2.83L4 21.41c.39.39.9.59 1.41.59.51 0 1.02-.2 1.41-.59l7.78-7.78 2.81-2.81c.8-.78.8-2.07 0-2.86zM5.41 20L4 18.59l7.72-7.72 1.47 1.35L5.41 20z\"/>\n",
              "  </svg>\n",
              "      </button>\n",
              "      \n",
              "  <style>\n",
              "    .colab-df-container {\n",
              "      display:flex;\n",
              "      flex-wrap:wrap;\n",
              "      gap: 12px;\n",
              "    }\n",
              "\n",
              "    .colab-df-convert {\n",
              "      background-color: #E8F0FE;\n",
              "      border: none;\n",
              "      border-radius: 50%;\n",
              "      cursor: pointer;\n",
              "      display: none;\n",
              "      fill: #1967D2;\n",
              "      height: 32px;\n",
              "      padding: 0 0 0 0;\n",
              "      width: 32px;\n",
              "    }\n",
              "\n",
              "    .colab-df-convert:hover {\n",
              "      background-color: #E2EBFA;\n",
              "      box-shadow: 0px 1px 2px rgba(60, 64, 67, 0.3), 0px 1px 3px 1px rgba(60, 64, 67, 0.15);\n",
              "      fill: #174EA6;\n",
              "    }\n",
              "\n",
              "    [theme=dark] .colab-df-convert {\n",
              "      background-color: #3B4455;\n",
              "      fill: #D2E3FC;\n",
              "    }\n",
              "\n",
              "    [theme=dark] .colab-df-convert:hover {\n",
              "      background-color: #434B5C;\n",
              "      box-shadow: 0px 1px 3px 1px rgba(0, 0, 0, 0.15);\n",
              "      filter: drop-shadow(0px 1px 2px rgba(0, 0, 0, 0.3));\n",
              "      fill: #FFFFFF;\n",
              "    }\n",
              "  </style>\n",
              "\n",
              "      <script>\n",
              "        const buttonEl =\n",
              "          document.querySelector('#df-a37b6afb-6029-42f8-8ff6-8563dceeb137 button.colab-df-convert');\n",
              "        buttonEl.style.display =\n",
              "          google.colab.kernel.accessAllowed ? 'block' : 'none';\n",
              "\n",
              "        async function convertToInteractive(key) {\n",
              "          const element = document.querySelector('#df-a37b6afb-6029-42f8-8ff6-8563dceeb137');\n",
              "          const dataTable =\n",
              "            await google.colab.kernel.invokeFunction('convertToInteractive',\n",
              "                                                     [key], {});\n",
              "          if (!dataTable) return;\n",
              "\n",
              "          const docLinkHtml = 'Like what you see? Visit the ' +\n",
              "            '<a target=\"_blank\" href=https://colab.research.google.com/notebooks/data_table.ipynb>data table notebook</a>'\n",
              "            + ' to learn more about interactive tables.';\n",
              "          element.innerHTML = '';\n",
              "          dataTable['output_type'] = 'display_data';\n",
              "          await google.colab.output.renderOutput(dataTable, element);\n",
              "          const docLink = document.createElement('div');\n",
              "          docLink.innerHTML = docLinkHtml;\n",
              "          element.appendChild(docLink);\n",
              "        }\n",
              "      </script>\n",
              "    </div>\n",
              "  </div>\n",
              "  "
            ]
          },
          "metadata": {},
          "execution_count": 18
        }
      ]
    },
    {
      "cell_type": "code",
      "source": [
        "target=df['LV ActivePower (kW)']\n",
        "target.shape"
      ],
      "metadata": {
        "colab": {
          "base_uri": "https://localhost:8080/"
        },
        "id": "mj3pFE96NeoW",
        "outputId": "6915d012-eb4b-4d73-ad0d-4014ba1950af",
        "execution": {
          "iopub.status.busy": "2023-01-09T10:34:43.446373Z",
          "iopub.execute_input": "2023-01-09T10:34:43.447277Z",
          "iopub.status.idle": "2023-01-09T10:34:43.457216Z",
          "shell.execute_reply.started": "2023-01-09T10:34:43.447233Z",
          "shell.execute_reply": "2023-01-09T10:34:43.456342Z"
        },
        "trusted": true
      },
      "execution_count": 19,
      "outputs": [
        {
          "output_type": "execute_result",
          "data": {
            "text/plain": [
              "(52560,)"
            ]
          },
          "metadata": {},
          "execution_count": 19
        }
      ]
    },
    {
      "cell_type": "code",
      "source": [
        "# Calculate the number of readings per day\n",
        "readings_per_day = 144\n",
        "\n",
        "#n = number of day\n",
        "n = 3\n",
        "\n",
        "# Calculate the sequence length (n days in readings)\n",
        "sequence_length = readings_per_day * n\n",
        "\n",
        "# Set the lookback window to be the same as the sequence length\n",
        "lookback_window = sequence_length\n",
        "\n",
        "# Convert the data to a NumPy array\n",
        "df = df.values\n",
        "\n",
        "x, y = [], []\n",
        "for i in range(lookback_window, len(df)):\n",
        "    x.append(df[i - lookback_window:i, :])\n",
        "    y.append(df[i, -1])\n",
        "x = np.array(x)\n",
        "y = np.array(y)"
      ],
      "metadata": {
        "id": "M876lXATn8oh",
        "execution": {
          "iopub.status.busy": "2023-01-09T10:34:43.459203Z",
          "iopub.execute_input": "2023-01-09T10:34:43.460380Z",
          "iopub.status.idle": "2023-01-09T10:34:43.910741Z",
          "shell.execute_reply.started": "2023-01-09T10:34:43.460342Z",
          "shell.execute_reply": "2023-01-09T10:34:43.909716Z"
        },
        "trusted": true
      },
      "execution_count": 20,
      "outputs": []
    },
    {
      "cell_type": "code",
      "source": [
        "print(x.shape)\n",
        "print(y.shape)"
      ],
      "metadata": {
        "colab": {
          "base_uri": "https://localhost:8080/"
        },
        "id": "OZhcw_5dn_p5",
        "outputId": "ce9dae62-9c68-4708-c7b8-b7c5d19ab482",
        "execution": {
          "iopub.status.busy": "2023-01-09T10:34:43.912362Z",
          "iopub.execute_input": "2023-01-09T10:34:43.912771Z",
          "iopub.status.idle": "2023-01-09T10:34:43.919393Z",
          "shell.execute_reply.started": "2023-01-09T10:34:43.912724Z",
          "shell.execute_reply": "2023-01-09T10:34:43.917626Z"
        },
        "trusted": true
      },
      "execution_count": 21,
      "outputs": [
        {
          "output_type": "stream",
          "name": "stdout",
          "text": [
            "(52128, 432, 4)\n",
            "(52128,)\n"
          ]
        }
      ]
    },
    {
      "cell_type": "code",
      "source": [
        "# Calculate the number of test samples (last 3 days of the year)\n",
        "num_test_samples = readings_per_day * 3\n",
        "\n",
        "# Split the data into training and test sets\n",
        "x_train = x[:-num_test_samples]\n",
        "y_train = y[:-num_test_samples]\n",
        "x_test = x[-num_test_samples:]\n",
        "y_test = y[-num_test_samples:]"
      ],
      "metadata": {
        "id": "De9UykRToUgh",
        "execution": {
          "iopub.status.busy": "2023-01-09T10:34:43.920749Z",
          "iopub.execute_input": "2023-01-09T10:34:43.921784Z",
          "iopub.status.idle": "2023-01-09T10:34:43.931867Z",
          "shell.execute_reply.started": "2023-01-09T10:34:43.921732Z",
          "shell.execute_reply": "2023-01-09T10:34:43.930904Z"
        },
        "trusted": true
      },
      "execution_count": 22,
      "outputs": []
    },
    {
      "cell_type": "code",
      "source": [
        "x_train[lookback_window-1]"
      ],
      "metadata": {
        "id": "N0XeitG-5Fag",
        "outputId": "66413535-4cc6-4fad-96bf-f45072f2b2bc",
        "colab": {
          "base_uri": "https://localhost:8080/"
        },
        "execution": {
          "iopub.status.busy": "2023-01-09T10:34:43.933327Z",
          "iopub.execute_input": "2023-01-09T10:34:43.933809Z",
          "iopub.status.idle": "2023-01-09T10:34:43.951994Z",
          "shell.execute_reply.started": "2023-01-09T10:34:43.933773Z",
          "shell.execute_reply": "2023-01-09T10:34:43.950702Z"
        },
        "trusted": true
      },
      "execution_count": 23,
      "outputs": [
        {
          "output_type": "execute_result",
          "data": {
            "text/plain": [
              "array([[0.5493698 , 0.60997117, 1.        , 0.95625377],\n",
              "       [0.54131557, 0.72062099, 1.        , 0.99583008],\n",
              "       [0.54306224, 0.72051505, 1.        , 0.9957137 ],\n",
              "       ...,\n",
              "       [0.16005037, 0.32161255, 0.44211176, 0.37089142],\n",
              "       [0.15487882, 0.32176385, 0.44272998, 0.37636131],\n",
              "       [0.14924783, 0.2971684 , 0.34806015, 0.27876553]])"
            ]
          },
          "metadata": {},
          "execution_count": 23
        }
      ]
    },
    {
      "cell_type": "code",
      "source": [
        "y_train[0]"
      ],
      "metadata": {
        "id": "XWaRKBIe5HZf",
        "outputId": "b060cd26-6e3b-4372-fb66-7c4d06892d54",
        "colab": {
          "base_uri": "https://localhost:8080/"
        },
        "execution": {
          "iopub.status.busy": "2023-01-09T10:34:43.953939Z",
          "iopub.execute_input": "2023-01-09T10:34:43.954369Z",
          "iopub.status.idle": "2023-01-09T10:34:43.964589Z",
          "shell.execute_reply.started": "2023-01-09T10:34:43.954329Z",
          "shell.execute_reply": "2023-01-09T10:34:43.963369Z"
        },
        "trusted": true
      },
      "execution_count": 24,
      "outputs": [
        {
          "output_type": "execute_result",
          "data": {
            "text/plain": [
              "0.9958300752292879"
            ]
          },
          "metadata": {},
          "execution_count": 24
        }
      ]
    },
    {
      "cell_type": "markdown",
      "source": [
        "\n",
        "       array([[0.5493698 , 0.60997117, 1.        , 0.95625377],\n",
        "\n",
        "              [0.54131557, 0.72062099, 1.        , 0.99583008], <--- This 2nd sample will be predicted by the model that is stored as ground truth of first sample which is y_train[0]. \n",
        "       "
      ],
      "metadata": {
        "id": "Yr3qQprzA9wg"
      }
    },
    {
      "cell_type": "code",
      "source": [
        "model = keras.models.Sequential([\n",
        "    TCN(input_shape=(lookback_window, 4), \n",
        "        kernel_size=10,\n",
        "        nb_filters=32,\n",
        "        dilations=[1, 2, 4, 8, 16],\n",
        "        padding='causal',\n",
        "        activation='relu',\n",
        "        return_sequences=False,\n",
        "        nb_stacks=4,\n",
        "        use_skip_connections=False,\n",
        "        use_batch_norm=False\n",
        "        ),\n",
        "    keras.layers.Dense(1)\n",
        "])\n",
        "model.summary()\n",
        "model.compile('adam', 'mae',metrics=keras.metrics.MeanAbsolutePercentageError())"
      ],
      "metadata": {
        "colab": {
          "base_uri": "https://localhost:8080/"
        },
        "id": "IWOEdJ3dq1Zr",
        "outputId": "1c3427a1-44a0-4e65-aece-c895fec11830",
        "execution": {
          "iopub.status.busy": "2023-01-09T10:34:43.966653Z",
          "iopub.execute_input": "2023-01-09T10:34:43.967061Z",
          "iopub.status.idle": "2023-01-09T10:34:44.770424Z",
          "shell.execute_reply.started": "2023-01-09T10:34:43.967025Z",
          "shell.execute_reply": "2023-01-09T10:34:44.769212Z"
        },
        "trusted": true
      },
      "execution_count": 25,
      "outputs": [
        {
          "output_type": "stream",
          "name": "stdout",
          "text": [
            "Model: \"sequential\"\n",
            "_________________________________________________________________\n",
            " Layer (type)                Output Shape              Param #   \n",
            "=================================================================\n",
            " tcn (TCN)                   (None, 32)                402080    \n",
            "                                                                 \n",
            " dense (Dense)               (None, 1)                 33        \n",
            "                                                                 \n",
            "=================================================================\n",
            "Total params: 402,113\n",
            "Trainable params: 402,113\n",
            "Non-trainable params: 0\n",
            "_________________________________________________________________\n"
          ]
        }
      ]
    },
    {
      "cell_type": "code",
      "source": [
        "print('Train...')\n",
        "history = model.fit(x_train, y_train,\n",
        "                    epochs=50,\n",
        "                    verbose=1)"
      ],
      "metadata": {
        "id": "UrACcwd8fCie",
        "outputId": "94567132-31ae-4ed6-eace-cb6e0967b1be",
        "colab": {
          "base_uri": "https://localhost:8080/"
        }
      },
      "execution_count": 26,
      "outputs": [
        {
          "output_type": "stream",
          "name": "stdout",
          "text": [
            "Train...\n",
            "Epoch 1/50\n",
            "1616/1616 [==============================] - 67s 31ms/step - loss: 6.7914 - mean_absolute_percentage_error: 86589.0156\n",
            "Epoch 2/50\n",
            "1616/1616 [==============================] - 50s 31ms/step - loss: 0.1204 - mean_absolute_percentage_error: 12796.6211\n",
            "Epoch 3/50\n",
            "1616/1616 [==============================] - 48s 30ms/step - loss: 0.0799 - mean_absolute_percentage_error: 6090.2563\n",
            "Epoch 4/50\n",
            "1616/1616 [==============================] - 48s 30ms/step - loss: 0.0639 - mean_absolute_percentage_error: 6038.9858\n",
            "Epoch 5/50\n",
            "1616/1616 [==============================] - 49s 30ms/step - loss: 0.0557 - mean_absolute_percentage_error: 4098.5566\n",
            "Epoch 6/50\n",
            "1616/1616 [==============================] - 48s 30ms/step - loss: 0.0491 - mean_absolute_percentage_error: 2703.6821\n",
            "Epoch 7/50\n",
            "1616/1616 [==============================] - 48s 30ms/step - loss: 0.0464 - mean_absolute_percentage_error: 2151.3760\n",
            "Epoch 8/50\n",
            "1616/1616 [==============================] - 48s 30ms/step - loss: 0.0417 - mean_absolute_percentage_error: 1535.7264\n",
            "Epoch 9/50\n",
            "1616/1616 [==============================] - 48s 30ms/step - loss: 0.0384 - mean_absolute_percentage_error: 1117.9701\n",
            "Epoch 10/50\n",
            "1616/1616 [==============================] - 47s 29ms/step - loss: 0.0372 - mean_absolute_percentage_error: 886.6771\n",
            "Epoch 11/50\n",
            "1616/1616 [==============================] - 47s 29ms/step - loss: 0.0363 - mean_absolute_percentage_error: 901.9791\n",
            "Epoch 12/50\n",
            "1616/1616 [==============================] - 48s 29ms/step - loss: 0.0359 - mean_absolute_percentage_error: 990.4389\n",
            "Epoch 13/50\n",
            "1616/1616 [==============================] - 47s 29ms/step - loss: 0.0356 - mean_absolute_percentage_error: 786.8937\n",
            "Epoch 14/50\n",
            "1616/1616 [==============================] - 47s 29ms/step - loss: 0.0354 - mean_absolute_percentage_error: 836.0118\n",
            "Epoch 15/50\n",
            "1616/1616 [==============================] - 47s 29ms/step - loss: 0.0354 - mean_absolute_percentage_error: 712.3141\n",
            "Epoch 16/50\n",
            "1616/1616 [==============================] - 47s 29ms/step - loss: 0.0353 - mean_absolute_percentage_error: 730.6840\n",
            "Epoch 17/50\n",
            "1616/1616 [==============================] - 47s 29ms/step - loss: 0.0354 - mean_absolute_percentage_error: 826.5701\n",
            "Epoch 18/50\n",
            "1616/1616 [==============================] - 47s 29ms/step - loss: 0.0352 - mean_absolute_percentage_error: 744.8177\n",
            "Epoch 19/50\n",
            "1616/1616 [==============================] - 47s 29ms/step - loss: 0.0352 - mean_absolute_percentage_error: 718.0578\n",
            "Epoch 20/50\n",
            "1616/1616 [==============================] - 46s 29ms/step - loss: 0.0352 - mean_absolute_percentage_error: 842.8622\n",
            "Epoch 21/50\n",
            "1616/1616 [==============================] - 46s 28ms/step - loss: 0.0352 - mean_absolute_percentage_error: 733.3963\n",
            "Epoch 22/50\n",
            "1616/1616 [==============================] - 45s 28ms/step - loss: 0.0352 - mean_absolute_percentage_error: 847.5630\n",
            "Epoch 23/50\n",
            "1616/1616 [==============================] - 45s 28ms/step - loss: 0.0352 - mean_absolute_percentage_error: 764.3807\n",
            "Epoch 24/50\n",
            "1616/1616 [==============================] - 45s 28ms/step - loss: 0.0350 - mean_absolute_percentage_error: 799.1131\n",
            "Epoch 25/50\n",
            "1616/1616 [==============================] - 45s 28ms/step - loss: 0.0351 - mean_absolute_percentage_error: 784.1180\n",
            "Epoch 26/50\n",
            "1616/1616 [==============================] - 45s 28ms/step - loss: 0.0351 - mean_absolute_percentage_error: 800.2644\n",
            "Epoch 27/50\n",
            "1616/1616 [==============================] - 45s 28ms/step - loss: 0.0352 - mean_absolute_percentage_error: 806.7219\n",
            "Epoch 28/50\n",
            "1616/1616 [==============================] - 45s 28ms/step - loss: 0.0350 - mean_absolute_percentage_error: 747.1950\n",
            "Epoch 29/50\n",
            "1616/1616 [==============================] - 45s 28ms/step - loss: 0.0351 - mean_absolute_percentage_error: 761.7931\n",
            "Epoch 30/50\n",
            "1616/1616 [==============================] - 45s 28ms/step - loss: 0.0350 - mean_absolute_percentage_error: 789.7070\n",
            "Epoch 31/50\n",
            "1616/1616 [==============================] - 45s 28ms/step - loss: 0.0351 - mean_absolute_percentage_error: 792.4315\n",
            "Epoch 32/50\n",
            "1616/1616 [==============================] - 45s 28ms/step - loss: 0.0349 - mean_absolute_percentage_error: 783.1497\n",
            "Epoch 33/50\n",
            "1616/1616 [==============================] - 45s 28ms/step - loss: 0.0350 - mean_absolute_percentage_error: 792.6381\n",
            "Epoch 34/50\n",
            "1616/1616 [==============================] - 46s 28ms/step - loss: 0.0351 - mean_absolute_percentage_error: 784.7908\n",
            "Epoch 35/50\n",
            "1616/1616 [==============================] - 45s 28ms/step - loss: 0.0349 - mean_absolute_percentage_error: 808.8983\n",
            "Epoch 36/50\n",
            "1616/1616 [==============================] - 45s 28ms/step - loss: 0.0349 - mean_absolute_percentage_error: 794.5740\n",
            "Epoch 37/50\n",
            "1616/1616 [==============================] - 45s 28ms/step - loss: 0.0349 - mean_absolute_percentage_error: 775.2338\n",
            "Epoch 38/50\n",
            "1616/1616 [==============================] - 45s 28ms/step - loss: 0.0349 - mean_absolute_percentage_error: 840.8020\n",
            "Epoch 39/50\n",
            "1616/1616 [==============================] - 46s 28ms/step - loss: 0.0349 - mean_absolute_percentage_error: 776.5264\n",
            "Epoch 40/50\n",
            "1616/1616 [==============================] - 45s 28ms/step - loss: 0.0348 - mean_absolute_percentage_error: 850.6428\n",
            "Epoch 41/50\n",
            "1616/1616 [==============================] - 45s 28ms/step - loss: 0.0348 - mean_absolute_percentage_error: 808.2161\n",
            "Epoch 42/50\n",
            "1616/1616 [==============================] - 45s 28ms/step - loss: 0.0348 - mean_absolute_percentage_error: 824.5328\n",
            "Epoch 43/50\n",
            "1616/1616 [==============================] - 45s 28ms/step - loss: 0.0349 - mean_absolute_percentage_error: 815.4347\n",
            "Epoch 44/50\n",
            "1616/1616 [==============================] - 45s 28ms/step - loss: 0.0348 - mean_absolute_percentage_error: 749.2795\n",
            "Epoch 45/50\n",
            "1616/1616 [==============================] - 46s 28ms/step - loss: 0.0349 - mean_absolute_percentage_error: 781.0405\n",
            "Epoch 46/50\n",
            "1616/1616 [==============================] - 45s 28ms/step - loss: 0.0348 - mean_absolute_percentage_error: 835.5988\n",
            "Epoch 47/50\n",
            "1616/1616 [==============================] - 45s 28ms/step - loss: 0.0348 - mean_absolute_percentage_error: 753.9146\n",
            "Epoch 48/50\n",
            "1616/1616 [==============================] - 45s 28ms/step - loss: 0.0348 - mean_absolute_percentage_error: 734.7184\n",
            "Epoch 49/50\n",
            "1616/1616 [==============================] - 46s 28ms/step - loss: 0.0347 - mean_absolute_percentage_error: 798.7625\n",
            "Epoch 50/50\n",
            "1616/1616 [==============================] - 45s 28ms/step - loss: 0.0348 - mean_absolute_percentage_error: 753.1348\n"
          ]
        }
      ]
    },
    {
      "cell_type": "code",
      "source": [
        "import matplotlib.pyplot as plt\n",
        "\n",
        "# Extract the history of loss and metric result from the history object\n",
        "loss_history = history.history['loss']\n",
        "mape_history = history.history['mean_absolute_percentage_error']\n",
        "\n",
        "# Plot the history of loss\n",
        "plt.plot(loss_history)\n",
        "plt.title('Loss history')\n",
        "plt.xlabel('Epoch')\n",
        "plt.ylabel('Loss')\n",
        "plt.show()\n",
        "\n",
        "# Plot the history of metric result\n",
        "plt.plot(mape_history)\n",
        "plt.title('Metric result history')\n",
        "plt.xlabel('Epoch')\n",
        "plt.ylabel('Metric result')\n",
        "plt.show()\n"
      ],
      "metadata": {
        "id": "rfXrRz9447D_",
        "outputId": "b0aebb88-72a6-4e7e-96ef-d66d6c205671",
        "execution": {
          "iopub.status.busy": "2023-01-09T11:25:26.903348Z",
          "iopub.execute_input": "2023-01-09T11:25:26.903696Z",
          "iopub.status.idle": "2023-01-09T11:25:27.349462Z",
          "shell.execute_reply.started": "2023-01-09T11:25:26.903662Z",
          "shell.execute_reply": "2023-01-09T11:25:27.348262Z"
        },
        "trusted": true,
        "colab": {
          "base_uri": "https://localhost:8080/",
          "height": 573
        }
      },
      "execution_count": 27,
      "outputs": [
        {
          "output_type": "display_data",
          "data": {
            "text/plain": [
              "<Figure size 432x288 with 1 Axes>"
            ],
            "image/png": "[encoded data removed]"
          },
          "metadata": {
            "needs_background": "light"
          }
        },
        {
          "output_type": "display_data",
          "data": {
            "text/plain": [
              "<Figure size 432x288 with 1 Axes>"
            ],
            "image/png": "[encoded data removed]"
          },
          "metadata": {
            "needs_background": "light"
          }
        }
      ]
    },
    {
      "cell_type": "code",
      "source": [
        "p = model.predict(x_test)"
      ],
      "metadata": {
        "id": "pbEAZ5uiaazH",
        "execution": {
          "iopub.status.busy": "2023-01-09T11:25:27.350875Z",
          "iopub.execute_input": "2023-01-09T11:25:27.351333Z",
          "iopub.status.idle": "2023-01-09T11:25:29.481289Z",
          "shell.execute_reply.started": "2023-01-09T11:25:27.351206Z",
          "shell.execute_reply": "2023-01-09T11:25:29.480348Z"
        },
        "trusted": true,
        "outputId": "1441c80c-8e47-420f-c867-aa4927abf8a5",
        "colab": {
          "base_uri": "https://localhost:8080/"
        }
      },
      "execution_count": 28,
      "outputs": [
        {
          "output_type": "stream",
          "name": "stdout",
          "text": [
            "14/14 [==============================] - 1s 15ms/step\n"
          ]
        }
      ]
    },
    {
      "cell_type": "code",
      "source": [
        "print(x_test.shape)\n",
        "print(y_test.shape)\n",
        "print(p.shape)"
      ],
      "metadata": {
        "colab": {
          "base_uri": "https://localhost:8080/"
        },
        "id": "m9dNOhN1g2Mp",
        "outputId": "785ed17d-41ea-4246-9087-06af8709b24d",
        "execution": {
          "iopub.status.busy": "2023-01-09T11:25:29.482902Z",
          "iopub.execute_input": "2023-01-09T11:25:29.483855Z",
          "iopub.status.idle": "2023-01-09T11:25:29.489958Z",
          "shell.execute_reply.started": "2023-01-09T11:25:29.483815Z",
          "shell.execute_reply": "2023-01-09T11:25:29.489009Z"
        },
        "trusted": true
      },
      "execution_count": 29,
      "outputs": [
        {
          "output_type": "stream",
          "name": "stdout",
          "text": [
            "(432, 432, 4)\n",
            "(432,)\n",
            "(432, 1)\n"
          ]
        }
      ]
    },
    {
      "cell_type": "code",
      "source": [
        "p = model.predict(x_test)\n",
        "plt.plot(p*max_values[0]) #denormalizing prediction back\n",
        "plt.plot(y_test*max_values[0]) #denormalizing original data back\n",
        "plt.title('Two day window results')\n",
        "plt.legend(['predicted', 'actual'])\n",
        "plt.show()"
      ],
      "metadata": {
        "colab": {
          "base_uri": "https://localhost:8080/",
          "height": 298
        },
        "id": "AG6zcu_0ac-t",
        "outputId": "2edbde87-159e-47e2-f11b-0ebba1f32751",
        "execution": {
          "iopub.status.busy": "2023-01-09T11:25:29.491555Z",
          "iopub.execute_input": "2023-01-09T11:25:29.492707Z",
          "iopub.status.idle": "2023-01-09T11:25:29.875235Z",
          "shell.execute_reply.started": "2023-01-09T11:25:29.492671Z",
          "shell.execute_reply": "2023-01-09T11:25:29.874495Z"
        },
        "trusted": true
      },
      "execution_count": 30,
      "outputs": [
        {
          "output_type": "stream",
          "name": "stdout",
          "text": [
            "14/14 [==============================] - 0s 13ms/step\n"
          ]
        },
        {
          "output_type": "display_data",
          "data": {
            "text/plain": [
              "<Figure size 432x288 with 1 Axes>"
            ],
            "image/png": "[encoded data removed]"
          },
          "metadata": {
            "needs_background": "light"
          }
        }
      ]
    }
  ]
}