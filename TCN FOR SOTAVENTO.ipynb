{
  "cells": [
    {
      "cell_type": "code",
      "execution_count": 1,
      "metadata": {
        "execution": {
          "iopub.execute_input": "2023-01-09T10:34:29.369140Z",
          "iopub.status.busy": "2023-01-09T10:34:29.368761Z",
          "iopub.status.idle": "2023-01-09T10:34:30.452419Z",
          "shell.execute_reply": "2023-01-09T10:34:30.451084Z",
          "shell.execute_reply.started": "2023-01-09T10:34:29.369107Z"
        },
        "id": "Hw76cocj6xjp"
      },
      "outputs": [],
      "source": [
        "%%capture\n",
        "!git clone https://github.com/alphaameer007/RHM_FYP"
      ]
    },
    {
      "cell_type": "code",
      "execution_count": 2,
      "metadata": {
        "colab": {
          "base_uri": "https://localhost:8080/"
        },
        "execution": {
          "iopub.execute_input": "2023-01-09T10:34:30.455648Z",
          "iopub.status.busy": "2023-01-09T10:34:30.454890Z",
          "iopub.status.idle": "2023-01-09T10:34:33.293190Z",
          "shell.execute_reply": "2023-01-09T10:34:33.291946Z",
          "shell.execute_reply.started": "2023-01-09T10:34:30.455605Z"
        },
        "id": "g0l5Cyv6KgZQ",
        "outputId": "d213ae88-7384-466d-9d12-4ad49f1d8366"
      },
      "outputs": [
        {
          "output_type": "stream",
          "name": "stdout",
          "text": [
            "Looking in indexes: https://pypi.org/simple, https://us-python.pkg.dev/colab-wheels/public/simple/\n",
            "Requirement already satisfied: keras-tcn in /usr/local/lib/python3.8/dist-packages (3.5.0)\n"
          ]
        }
      ],
      "source": [
        "!pip install keras-tcn --no-dependencies "
      ]
    },
    {
      "cell_type": "code",
      "execution_count": 3,
      "metadata": {
        "execution": {
          "iopub.execute_input": "2023-01-09T10:34:43.225595Z",
          "iopub.status.busy": "2023-01-09T10:34:43.225164Z",
          "iopub.status.idle": "2023-01-09T10:34:43.232325Z",
          "shell.execute_reply": "2023-01-09T10:34:43.231348Z",
          "shell.execute_reply.started": "2023-01-09T10:34:43.225554Z"
        },
        "id": "Au7SgwNIAFZx"
      },
      "outputs": [],
      "source": [
        "from tcn import TCN\n",
        "import pandas as pd\n",
        "import tensorflow as tf\n",
        "from tensorflow import keras\n",
        "import matplotlib.pyplot as plt\n",
        "import numpy as np\n",
        "from tensorflow.keras import Sequential\n",
        "from tensorflow.keras.layers import Dense"
      ]
    },
    {
      "cell_type": "code",
      "execution_count": 18,
      "metadata": {
        "colab": {
          "base_uri": "https://localhost:8080/",
          "height": 424
        },
        "execution": {
          "iopub.execute_input": "2023-01-09T10:34:43.234026Z",
          "iopub.status.busy": "2023-01-09T10:34:43.233680Z",
          "iopub.status.idle": "2023-01-09T10:34:43.335835Z",
          "shell.execute_reply": "2023-01-09T10:34:43.334576Z",
          "shell.execute_reply.started": "2023-01-09T10:34:43.233991Z"
        },
        "id": "6R0YOhAXAewT",
        "outputId": "8fa73b58-adb3-485d-df11-5e5093cb32d6"
      },
      "outputs": [
        {
          "output_type": "execute_result",
          "data": {
            "text/plain": [
              "                   time  wind speed  wind direction  wind energy         mslp  \\\n",
              "0         1/1/2021 0:00        5.71           269.0        368.0  101506.1200   \n",
              "1         1/1/2021 0:10        4.41           259.0        360.0  101513.5375   \n",
              "2         1/1/2021 0:20        3.69           249.0        320.0  101520.9550   \n",
              "3         1/1/2021 0:30        4.07           245.0        288.0  101528.3725   \n",
              "4         1/1/2021 0:40        4.59           267.0        256.0  101535.7900   \n",
              "...                 ...         ...             ...          ...          ...   \n",
              "52555  12/31/2021 23:10        8.29           168.0       7280.0  102097.2983   \n",
              "52556  12/31/2021 23:20        8.60           167.0       7352.0  102097.7967   \n",
              "52557  12/31/2021 23:30        7.81           172.0       7296.0  102098.2950   \n",
              "52558  12/31/2021 23:40        7.48           181.0       7040.0  102098.7933   \n",
              "52559  12/31/2021 23:50        8.03           170.0       6904.0  102099.2917   \n",
              "\n",
              "             rh        temp  \n",
              "0      0.926421  276.749940  \n",
              "1      0.933887  276.464513  \n",
              "2      0.941352  276.179087  \n",
              "3      0.948818  275.893660  \n",
              "4      0.956283  275.608233  \n",
              "...         ...         ...  \n",
              "52555  0.603113  286.604758  \n",
              "52556  0.604884  286.569317  \n",
              "52557  0.606656  286.533875  \n",
              "52558  0.608428  286.498433  \n",
              "52559  0.610200  286.462992  \n",
              "\n",
              "[52560 rows x 7 columns]"
            ],
            "text/html": [
              "\n",
              "  <div id=\"df-50ea6e4b-8bdc-4078-aa21-642ea823a3c5\">\n",
              "    <div class=\"colab-df-container\">\n",
              "      <div>\n",
              "<style scoped>\n",
              "    .dataframe tbody tr th:only-of-type {\n",
              "        vertical-align: middle;\n",
              "    }\n",
              "\n",
              "    .dataframe tbody tr th {\n",
              "        vertical-align: top;\n",
              "    }\n",
              "\n",
              "    .dataframe thead th {\n",
              "        text-align: right;\n",
              "    }\n",
              "</style>\n",
              "<table border=\"1\" class=\"dataframe\">\n",
              "  <thead>\n",
              "    <tr style=\"text-align: right;\">\n",
              "      <th></th>\n",
              "      <th>time</th>\n",
              "      <th>wind speed</th>\n",
              "      <th>wind direction</th>\n",
              "      <th>wind energy</th>\n",
              "      <th>mslp</th>\n",
              "      <th>rh</th>\n",
              "      <th>temp</th>\n",
              "    </tr>\n",
              "  </thead>\n",
              "  <tbody>\n",
              "    <tr>\n",
              "      <th>0</th>\n",
              "      <td>1/1/2021 0:00</td>\n",
              "      <td>5.71</td>\n",
              "      <td>269.0</td>\n",
              "      <td>368.0</td>\n",
              "      <td>101506.1200</td>\n",
              "      <td>0.926421</td>\n",
              "      <td>276.749940</td>\n",
              "    </tr>\n",
              "    <tr>\n",
              "      <th>1</th>\n",
              "      <td>1/1/2021 0:10</td>\n",
              "      <td>4.41</td>\n",
              "      <td>259.0</td>\n",
              "      <td>360.0</td>\n",
              "      <td>101513.5375</td>\n",
              "      <td>0.933887</td>\n",
              "      <td>276.464513</td>\n",
              "    </tr>\n",
              "    <tr>\n",
              "      <th>2</th>\n",
              "      <td>1/1/2021 0:20</td>\n",
              "      <td>3.69</td>\n",
              "      <td>249.0</td>\n",
              "      <td>320.0</td>\n",
              "      <td>101520.9550</td>\n",
              "      <td>0.941352</td>\n",
              "      <td>276.179087</td>\n",
              "    </tr>\n",
              "    <tr>\n",
              "      <th>3</th>\n",
              "      <td>1/1/2021 0:30</td>\n",
              "      <td>4.07</td>\n",
              "      <td>245.0</td>\n",
              "      <td>288.0</td>\n",
              "      <td>101528.3725</td>\n",
              "      <td>0.948818</td>\n",
              "      <td>275.893660</td>\n",
              "    </tr>\n",
              "    <tr>\n",
              "      <th>4</th>\n",
              "      <td>1/1/2021 0:40</td>\n",
              "      <td>4.59</td>\n",
              "      <td>267.0</td>\n",
              "      <td>256.0</td>\n",
              "      <td>101535.7900</td>\n",
              "      <td>0.956283</td>\n",
              "      <td>275.608233</td>\n",
              "    </tr>\n",
              "    <tr>\n",
              "      <th>...</th>\n",
              "      <td>...</td>\n",
              "      <td>...</td>\n",
              "      <td>...</td>\n",
              "      <td>...</td>\n",
              "      <td>...</td>\n",
              "      <td>...</td>\n",
              "      <td>...</td>\n",
              "    </tr>\n",
              "    <tr>\n",
              "      <th>52555</th>\n",
              "      <td>12/31/2021 23:10</td>\n",
              "      <td>8.29</td>\n",
              "      <td>168.0</td>\n",
              "      <td>7280.0</td>\n",
              "      <td>102097.2983</td>\n",
              "      <td>0.603113</td>\n",
              "      <td>286.604758</td>\n",
              "    </tr>\n",
              "    <tr>\n",
              "      <th>52556</th>\n",
              "      <td>12/31/2021 23:20</td>\n",
              "      <td>8.60</td>\n",
              "      <td>167.0</td>\n",
              "      <td>7352.0</td>\n",
              "      <td>102097.7967</td>\n",
              "      <td>0.604884</td>\n",
              "      <td>286.569317</td>\n",
              "    </tr>\n",
              "    <tr>\n",
              "      <th>52557</th>\n",
              "      <td>12/31/2021 23:30</td>\n",
              "      <td>7.81</td>\n",
              "      <td>172.0</td>\n",
              "      <td>7296.0</td>\n",
              "      <td>102098.2950</td>\n",
              "      <td>0.606656</td>\n",
              "      <td>286.533875</td>\n",
              "    </tr>\n",
              "    <tr>\n",
              "      <th>52558</th>\n",
              "      <td>12/31/2021 23:40</td>\n",
              "      <td>7.48</td>\n",
              "      <td>181.0</td>\n",
              "      <td>7040.0</td>\n",
              "      <td>102098.7933</td>\n",
              "      <td>0.608428</td>\n",
              "      <td>286.498433</td>\n",
              "    </tr>\n",
              "    <tr>\n",
              "      <th>52559</th>\n",
              "      <td>12/31/2021 23:50</td>\n",
              "      <td>8.03</td>\n",
              "      <td>170.0</td>\n",
              "      <td>6904.0</td>\n",
              "      <td>102099.2917</td>\n",
              "      <td>0.610200</td>\n",
              "      <td>286.462992</td>\n",
              "    </tr>\n",
              "  </tbody>\n",
              "</table>\n",
              "<p>52560 rows × 7 columns</p>\n",
              "</div>\n",
              "      <button class=\"colab-df-convert\" onclick=\"convertToInteractive('df-50ea6e4b-8bdc-4078-aa21-642ea823a3c5')\"\n",
              "              title=\"Convert this dataframe to an interactive table.\"\n",
              "              style=\"display:none;\">\n",
              "        \n",
              "  <svg xmlns=\"http://www.w3.org/2000/svg\" height=\"24px\"viewBox=\"0 0 24 24\"\n",
              "       width=\"24px\">\n",
              "    <path d=\"M0 0h24v24H0V0z\" fill=\"none\"/>\n",
              "    <path d=\"M18.56 5.44l.94 2.06.94-2.06 2.06-.94-2.06-.94-.94-2.06-.94 2.06-2.06.94zm-11 1L8.5 8.5l.94-2.06 2.06-.94-2.06-.94L8.5 2.5l-.94 2.06-2.06.94zm10 10l.94 2.06.94-2.06 2.06-.94-2.06-.94-.94-2.06-.94 2.06-2.06.94z\"/><path d=\"M17.41 7.96l-1.37-1.37c-.4-.4-.92-.59-1.43-.59-.52 0-1.04.2-1.43.59L10.3 9.45l-7.72 7.72c-.78.78-.78 2.05 0 2.83L4 21.41c.39.39.9.59 1.41.59.51 0 1.02-.2 1.41-.59l7.78-7.78 2.81-2.81c.8-.78.8-2.07 0-2.86zM5.41 20L4 18.59l7.72-7.72 1.47 1.35L5.41 20z\"/>\n",
              "  </svg>\n",
              "      </button>\n",
              "      \n",
              "  <style>\n",
              "    .colab-df-container {\n",
              "      display:flex;\n",
              "      flex-wrap:wrap;\n",
              "      gap: 12px;\n",
              "    }\n",
              "\n",
              "    .colab-df-convert {\n",
              "      background-color: #E8F0FE;\n",
              "      border: none;\n",
              "      border-radius: 50%;\n",
              "      cursor: pointer;\n",
              "      display: none;\n",
              "      fill: #1967D2;\n",
              "      height: 32px;\n",
              "      padding: 0 0 0 0;\n",
              "      width: 32px;\n",
              "    }\n",
              "\n",
              "    .colab-df-convert:hover {\n",
              "      background-color: #E2EBFA;\n",
              "      box-shadow: 0px 1px 2px rgba(60, 64, 67, 0.3), 0px 1px 3px 1px rgba(60, 64, 67, 0.15);\n",
              "      fill: #174EA6;\n",
              "    }\n",
              "\n",
              "    [theme=dark] .colab-df-convert {\n",
              "      background-color: #3B4455;\n",
              "      fill: #D2E3FC;\n",
              "    }\n",
              "\n",
              "    [theme=dark] .colab-df-convert:hover {\n",
              "      background-color: #434B5C;\n",
              "      box-shadow: 0px 1px 3px 1px rgba(0, 0, 0, 0.15);\n",
              "      filter: drop-shadow(0px 1px 2px rgba(0, 0, 0, 0.3));\n",
              "      fill: #FFFFFF;\n",
              "    }\n",
              "  </style>\n",
              "\n",
              "      <script>\n",
              "        const buttonEl =\n",
              "          document.querySelector('#df-50ea6e4b-8bdc-4078-aa21-642ea823a3c5 button.colab-df-convert');\n",
              "        buttonEl.style.display =\n",
              "          google.colab.kernel.accessAllowed ? 'block' : 'none';\n",
              "\n",
              "        async function convertToInteractive(key) {\n",
              "          const element = document.querySelector('#df-50ea6e4b-8bdc-4078-aa21-642ea823a3c5');\n",
              "          const dataTable =\n",
              "            await google.colab.kernel.invokeFunction('convertToInteractive',\n",
              "                                                     [key], {});\n",
              "          if (!dataTable) return;\n",
              "\n",
              "          const docLinkHtml = 'Like what you see? Visit the ' +\n",
              "            '<a target=\"_blank\" href=https://colab.research.google.com/notebooks/data_table.ipynb>data table notebook</a>'\n",
              "            + ' to learn more about interactive tables.';\n",
              "          element.innerHTML = '';\n",
              "          dataTable['output_type'] = 'display_data';\n",
              "          await google.colab.output.renderOutput(dataTable, element);\n",
              "          const docLink = document.createElement('div');\n",
              "          docLink.innerHTML = docLinkHtml;\n",
              "          element.appendChild(docLink);\n",
              "        }\n",
              "      </script>\n",
              "    </div>\n",
              "  </div>\n",
              "  "
            ]
          },
          "metadata": {},
          "execution_count": 18
        }
      ],
      "source": [
        "#df=pd.read_csv('/content/RHM_FYP/TurkeyWindFarm.csv')\n",
        "df=pd.read_csv('book lstm rnn.csv')\n",
        "df"
      ]
    },
    {
      "cell_type": "code",
      "source": [
        "#df = df[:-288]\n",
        "df"
      ],
      "metadata": {
        "colab": {
          "base_uri": "https://localhost:8080/",
          "height": 468
        },
        "id": "0YAzZWCZCOuO",
        "outputId": "de0425ba-bd9f-4499-fb59-fc74e7293c32"
      },
      "execution_count": null,
      "outputs": [
        {
          "output_type": "execute_result",
          "data": {
            "text/plain": [
              "                   time  LV ActivePower (kW)  Wind Speed (m/s)  wind energy  \\\n",
              "0         1/1/2018 0:00           380.047791          5.311336   416.328908   \n",
              "1         1/1/2018 0:10           453.769196          5.672167   519.917511   \n",
              "2         1/1/2018 0:20           306.376587          5.216037   390.900016   \n",
              "3         1/1/2018 0:30           419.645904          5.659674   516.127569   \n",
              "4         1/1/2018 0:40           380.650696          5.577941   491.702972   \n",
              "...                 ...                  ...               ...          ...   \n",
              "52267  12/29/2018 23:10            58.565510          7.818377  1427.767684   \n",
              "52268  12/29/2018 23:20            60.552761          7.782953  1408.261175   \n",
              "52269  12/29/2018 23:30            62.694550          8.002207  1531.260701   \n",
              "52270  12/29/2018 23:40            92.361504          8.609998  1896.246296   \n",
              "52271  12/29/2018 23:50            31.895029          7.831416  1434.984411   \n",
              "\n",
              "       Wind Direction (°)  \n",
              "0              259.994904  \n",
              "1              268.641113  \n",
              "2              272.564789  \n",
              "3              271.258087  \n",
              "4              265.674286  \n",
              "...                   ...  \n",
              "52267           32.237999  \n",
              "52268           33.127121  \n",
              "52269           31.999310  \n",
              "52270           30.943451  \n",
              "52271           30.602200  \n",
              "\n",
              "[52272 rows x 5 columns]"
            ],
            "text/html": [
              "\n",
              "  <div id=\"df-0177b56d-bc2c-469f-8ea0-54db87b452b1\">\n",
              "    <div class=\"colab-df-container\">\n",
              "      <div>\n",
              "<style scoped>\n",
              "    .dataframe tbody tr th:only-of-type {\n",
              "        vertical-align: middle;\n",
              "    }\n",
              "\n",
              "    .dataframe tbody tr th {\n",
              "        vertical-align: top;\n",
              "    }\n",
              "\n",
              "    .dataframe thead th {\n",
              "        text-align: right;\n",
              "    }\n",
              "</style>\n",
              "<table border=\"1\" class=\"dataframe\">\n",
              "  <thead>\n",
              "    <tr style=\"text-align: right;\">\n",
              "      <th></th>\n",
              "      <th>time</th>\n",
              "      <th>LV ActivePower (kW)</th>\n",
              "      <th>Wind Speed (m/s)</th>\n",
              "      <th>wind energy</th>\n",
              "      <th>Wind Direction (°)</th>\n",
              "    </tr>\n",
              "  </thead>\n",
              "  <tbody>\n",
              "    <tr>\n",
              "      <th>0</th>\n",
              "      <td>1/1/2018 0:00</td>\n",
              "      <td>380.047791</td>\n",
              "      <td>5.311336</td>\n",
              "      <td>416.328908</td>\n",
              "      <td>259.994904</td>\n",
              "    </tr>\n",
              "    <tr>\n",
              "      <th>1</th>\n",
              "      <td>1/1/2018 0:10</td>\n",
              "      <td>453.769196</td>\n",
              "      <td>5.672167</td>\n",
              "      <td>519.917511</td>\n",
              "      <td>268.641113</td>\n",
              "    </tr>\n",
              "    <tr>\n",
              "      <th>2</th>\n",
              "      <td>1/1/2018 0:20</td>\n",
              "      <td>306.376587</td>\n",
              "      <td>5.216037</td>\n",
              "      <td>390.900016</td>\n",
              "      <td>272.564789</td>\n",
              "    </tr>\n",
              "    <tr>\n",
              "      <th>3</th>\n",
              "      <td>1/1/2018 0:30</td>\n",
              "      <td>419.645904</td>\n",
              "      <td>5.659674</td>\n",
              "      <td>516.127569</td>\n",
              "      <td>271.258087</td>\n",
              "    </tr>\n",
              "    <tr>\n",
              "      <th>4</th>\n",
              "      <td>1/1/2018 0:40</td>\n",
              "      <td>380.650696</td>\n",
              "      <td>5.577941</td>\n",
              "      <td>491.702972</td>\n",
              "      <td>265.674286</td>\n",
              "    </tr>\n",
              "    <tr>\n",
              "      <th>...</th>\n",
              "      <td>...</td>\n",
              "      <td>...</td>\n",
              "      <td>...</td>\n",
              "      <td>...</td>\n",
              "      <td>...</td>\n",
              "    </tr>\n",
              "    <tr>\n",
              "      <th>52267</th>\n",
              "      <td>12/29/2018 23:10</td>\n",
              "      <td>58.565510</td>\n",
              "      <td>7.818377</td>\n",
              "      <td>1427.767684</td>\n",
              "      <td>32.237999</td>\n",
              "    </tr>\n",
              "    <tr>\n",
              "      <th>52268</th>\n",
              "      <td>12/29/2018 23:20</td>\n",
              "      <td>60.552761</td>\n",
              "      <td>7.782953</td>\n",
              "      <td>1408.261175</td>\n",
              "      <td>33.127121</td>\n",
              "    </tr>\n",
              "    <tr>\n",
              "      <th>52269</th>\n",
              "      <td>12/29/2018 23:30</td>\n",
              "      <td>62.694550</td>\n",
              "      <td>8.002207</td>\n",
              "      <td>1531.260701</td>\n",
              "      <td>31.999310</td>\n",
              "    </tr>\n",
              "    <tr>\n",
              "      <th>52270</th>\n",
              "      <td>12/29/2018 23:40</td>\n",
              "      <td>92.361504</td>\n",
              "      <td>8.609998</td>\n",
              "      <td>1896.246296</td>\n",
              "      <td>30.943451</td>\n",
              "    </tr>\n",
              "    <tr>\n",
              "      <th>52271</th>\n",
              "      <td>12/29/2018 23:50</td>\n",
              "      <td>31.895029</td>\n",
              "      <td>7.831416</td>\n",
              "      <td>1434.984411</td>\n",
              "      <td>30.602200</td>\n",
              "    </tr>\n",
              "  </tbody>\n",
              "</table>\n",
              "<p>52272 rows × 5 columns</p>\n",
              "</div>\n",
              "      <button class=\"colab-df-convert\" onclick=\"convertToInteractive('df-0177b56d-bc2c-469f-8ea0-54db87b452b1')\"\n",
              "              title=\"Convert this dataframe to an interactive table.\"\n",
              "              style=\"display:none;\">\n",
              "        \n",
              "  <svg xmlns=\"http://www.w3.org/2000/svg\" height=\"24px\"viewBox=\"0 0 24 24\"\n",
              "       width=\"24px\">\n",
              "    <path d=\"M0 0h24v24H0V0z\" fill=\"none\"/>\n",
              "    <path d=\"M18.56 5.44l.94 2.06.94-2.06 2.06-.94-2.06-.94-.94-2.06-.94 2.06-2.06.94zm-11 1L8.5 8.5l.94-2.06 2.06-.94-2.06-.94L8.5 2.5l-.94 2.06-2.06.94zm10 10l.94 2.06.94-2.06 2.06-.94-2.06-.94-.94-2.06-.94 2.06-2.06.94z\"/><path d=\"M17.41 7.96l-1.37-1.37c-.4-.4-.92-.59-1.43-.59-.52 0-1.04.2-1.43.59L10.3 9.45l-7.72 7.72c-.78.78-.78 2.05 0 2.83L4 21.41c.39.39.9.59 1.41.59.51 0 1.02-.2 1.41-.59l7.78-7.78 2.81-2.81c.8-.78.8-2.07 0-2.86zM5.41 20L4 18.59l7.72-7.72 1.47 1.35L5.41 20z\"/>\n",
              "  </svg>\n",
              "      </button>\n",
              "      \n",
              "  <style>\n",
              "    .colab-df-container {\n",
              "      display:flex;\n",
              "      flex-wrap:wrap;\n",
              "      gap: 12px;\n",
              "    }\n",
              "\n",
              "    .colab-df-convert {\n",
              "      background-color: #E8F0FE;\n",
              "      border: none;\n",
              "      border-radius: 50%;\n",
              "      cursor: pointer;\n",
              "      display: none;\n",
              "      fill: #1967D2;\n",
              "      height: 32px;\n",
              "      padding: 0 0 0 0;\n",
              "      width: 32px;\n",
              "    }\n",
              "\n",
              "    .colab-df-convert:hover {\n",
              "      background-color: #E2EBFA;\n",
              "      box-shadow: 0px 1px 2px rgba(60, 64, 67, 0.3), 0px 1px 3px 1px rgba(60, 64, 67, 0.15);\n",
              "      fill: #174EA6;\n",
              "    }\n",
              "\n",
              "    [theme=dark] .colab-df-convert {\n",
              "      background-color: #3B4455;\n",
              "      fill: #D2E3FC;\n",
              "    }\n",
              "\n",
              "    [theme=dark] .colab-df-convert:hover {\n",
              "      background-color: #434B5C;\n",
              "      box-shadow: 0px 1px 3px 1px rgba(0, 0, 0, 0.15);\n",
              "      filter: drop-shadow(0px 1px 2px rgba(0, 0, 0, 0.3));\n",
              "      fill: #FFFFFF;\n",
              "    }\n",
              "  </style>\n",
              "\n",
              "      <script>\n",
              "        const buttonEl =\n",
              "          document.querySelector('#df-0177b56d-bc2c-469f-8ea0-54db87b452b1 button.colab-df-convert');\n",
              "        buttonEl.style.display =\n",
              "          google.colab.kernel.accessAllowed ? 'block' : 'none';\n",
              "\n",
              "        async function convertToInteractive(key) {\n",
              "          const element = document.querySelector('#df-0177b56d-bc2c-469f-8ea0-54db87b452b1');\n",
              "          const dataTable =\n",
              "            await google.colab.kernel.invokeFunction('convertToInteractive',\n",
              "                                                     [key], {});\n",
              "          if (!dataTable) return;\n",
              "\n",
              "          const docLinkHtml = 'Like what you see? Visit the ' +\n",
              "            '<a target=\"_blank\" href=https://colab.research.google.com/notebooks/data_table.ipynb>data table notebook</a>'\n",
              "            + ' to learn more about interactive tables.';\n",
              "          element.innerHTML = '';\n",
              "          dataTable['output_type'] = 'display_data';\n",
              "          await google.colab.output.renderOutput(dataTable, element);\n",
              "          const docLink = document.createElement('div');\n",
              "          docLink.innerHTML = docLinkHtml;\n",
              "          element.appendChild(docLink);\n",
              "        }\n",
              "      </script>\n",
              "    </div>\n",
              "  </div>\n",
              "  "
            ]
          },
          "metadata": {},
          "execution_count": 5
        }
      ]
    },
    {
      "cell_type": "code",
      "execution_count": 19,
      "metadata": {
        "execution": {
          "iopub.execute_input": "2023-01-09T10:34:43.339102Z",
          "iopub.status.busy": "2023-01-09T10:34:43.338272Z",
          "iopub.status.idle": "2023-01-09T10:34:43.348196Z",
          "shell.execute_reply": "2023-01-09T10:34:43.346827Z",
          "shell.execute_reply.started": "2023-01-09T10:34:43.339055Z"
        },
        "id": "ezO81MDWAink"
      },
      "outputs": [],
      "source": [
        "df.drop('time', inplace=True, axis=1)"
      ]
    },
    {
      "cell_type": "code",
      "execution_count": 20,
      "metadata": {
        "colab": {
          "base_uri": "https://localhost:8080/",
          "height": 424
        },
        "execution": {
          "iopub.execute_input": "2023-01-09T10:34:43.350428Z",
          "iopub.status.busy": "2023-01-09T10:34:43.350089Z",
          "iopub.status.idle": "2023-01-09T10:34:43.369480Z",
          "shell.execute_reply": "2023-01-09T10:34:43.368349Z",
          "shell.execute_reply.started": "2023-01-09T10:34:43.350399Z"
        },
        "id": "SQsNnFhUA2DB",
        "outputId": "c5c8e976-c31f-4725-af47-14788c55f2e3"
      },
      "outputs": [
        {
          "output_type": "execute_result",
          "data": {
            "text/plain": [
              "       wind speed  wind direction  wind energy         mslp        rh  \\\n",
              "0            5.71           269.0        368.0  101506.1200  0.926421   \n",
              "1            4.41           259.0        360.0  101513.5375  0.933887   \n",
              "2            3.69           249.0        320.0  101520.9550  0.941352   \n",
              "3            4.07           245.0        288.0  101528.3725  0.948818   \n",
              "4            4.59           267.0        256.0  101535.7900  0.956283   \n",
              "...           ...             ...          ...          ...       ...   \n",
              "52555        8.29           168.0       7280.0  102097.2983  0.603113   \n",
              "52556        8.60           167.0       7352.0  102097.7967  0.604884   \n",
              "52557        7.81           172.0       7296.0  102098.2950  0.606656   \n",
              "52558        7.48           181.0       7040.0  102098.7933  0.608428   \n",
              "52559        8.03           170.0       6904.0  102099.2917  0.610200   \n",
              "\n",
              "             temp  \n",
              "0      276.749940  \n",
              "1      276.464513  \n",
              "2      276.179087  \n",
              "3      275.893660  \n",
              "4      275.608233  \n",
              "...           ...  \n",
              "52555  286.604758  \n",
              "52556  286.569317  \n",
              "52557  286.533875  \n",
              "52558  286.498433  \n",
              "52559  286.462992  \n",
              "\n",
              "[52560 rows x 6 columns]"
            ],
            "text/html": [
              "\n",
              "  <div id=\"df-d00503ff-09a9-4d3e-bd6f-1ea5b557a894\">\n",
              "    <div class=\"colab-df-container\">\n",
              "      <div>\n",
              "<style scoped>\n",
              "    .dataframe tbody tr th:only-of-type {\n",
              "        vertical-align: middle;\n",
              "    }\n",
              "\n",
              "    .dataframe tbody tr th {\n",
              "        vertical-align: top;\n",
              "    }\n",
              "\n",
              "    .dataframe thead th {\n",
              "        text-align: right;\n",
              "    }\n",
              "</style>\n",
              "<table border=\"1\" class=\"dataframe\">\n",
              "  <thead>\n",
              "    <tr style=\"text-align: right;\">\n",
              "      <th></th>\n",
              "      <th>wind speed</th>\n",
              "      <th>wind direction</th>\n",
              "      <th>wind energy</th>\n",
              "      <th>mslp</th>\n",
              "      <th>rh</th>\n",
              "      <th>temp</th>\n",
              "    </tr>\n",
              "  </thead>\n",
              "  <tbody>\n",
              "    <tr>\n",
              "      <th>0</th>\n",
              "      <td>5.71</td>\n",
              "      <td>269.0</td>\n",
              "      <td>368.0</td>\n",
              "      <td>101506.1200</td>\n",
              "      <td>0.926421</td>\n",
              "      <td>276.749940</td>\n",
              "    </tr>\n",
              "    <tr>\n",
              "      <th>1</th>\n",
              "      <td>4.41</td>\n",
              "      <td>259.0</td>\n",
              "      <td>360.0</td>\n",
              "      <td>101513.5375</td>\n",
              "      <td>0.933887</td>\n",
              "      <td>276.464513</td>\n",
              "    </tr>\n",
              "    <tr>\n",
              "      <th>2</th>\n",
              "      <td>3.69</td>\n",
              "      <td>249.0</td>\n",
              "      <td>320.0</td>\n",
              "      <td>101520.9550</td>\n",
              "      <td>0.941352</td>\n",
              "      <td>276.179087</td>\n",
              "    </tr>\n",
              "    <tr>\n",
              "      <th>3</th>\n",
              "      <td>4.07</td>\n",
              "      <td>245.0</td>\n",
              "      <td>288.0</td>\n",
              "      <td>101528.3725</td>\n",
              "      <td>0.948818</td>\n",
              "      <td>275.893660</td>\n",
              "    </tr>\n",
              "    <tr>\n",
              "      <th>4</th>\n",
              "      <td>4.59</td>\n",
              "      <td>267.0</td>\n",
              "      <td>256.0</td>\n",
              "      <td>101535.7900</td>\n",
              "      <td>0.956283</td>\n",
              "      <td>275.608233</td>\n",
              "    </tr>\n",
              "    <tr>\n",
              "      <th>...</th>\n",
              "      <td>...</td>\n",
              "      <td>...</td>\n",
              "      <td>...</td>\n",
              "      <td>...</td>\n",
              "      <td>...</td>\n",
              "      <td>...</td>\n",
              "    </tr>\n",
              "    <tr>\n",
              "      <th>52555</th>\n",
              "      <td>8.29</td>\n",
              "      <td>168.0</td>\n",
              "      <td>7280.0</td>\n",
              "      <td>102097.2983</td>\n",
              "      <td>0.603113</td>\n",
              "      <td>286.604758</td>\n",
              "    </tr>\n",
              "    <tr>\n",
              "      <th>52556</th>\n",
              "      <td>8.60</td>\n",
              "      <td>167.0</td>\n",
              "      <td>7352.0</td>\n",
              "      <td>102097.7967</td>\n",
              "      <td>0.604884</td>\n",
              "      <td>286.569317</td>\n",
              "    </tr>\n",
              "    <tr>\n",
              "      <th>52557</th>\n",
              "      <td>7.81</td>\n",
              "      <td>172.0</td>\n",
              "      <td>7296.0</td>\n",
              "      <td>102098.2950</td>\n",
              "      <td>0.606656</td>\n",
              "      <td>286.533875</td>\n",
              "    </tr>\n",
              "    <tr>\n",
              "      <th>52558</th>\n",
              "      <td>7.48</td>\n",
              "      <td>181.0</td>\n",
              "      <td>7040.0</td>\n",
              "      <td>102098.7933</td>\n",
              "      <td>0.608428</td>\n",
              "      <td>286.498433</td>\n",
              "    </tr>\n",
              "    <tr>\n",
              "      <th>52559</th>\n",
              "      <td>8.03</td>\n",
              "      <td>170.0</td>\n",
              "      <td>6904.0</td>\n",
              "      <td>102099.2917</td>\n",
              "      <td>0.610200</td>\n",
              "      <td>286.462992</td>\n",
              "    </tr>\n",
              "  </tbody>\n",
              "</table>\n",
              "<p>52560 rows × 6 columns</p>\n",
              "</div>\n",
              "      <button class=\"colab-df-convert\" onclick=\"convertToInteractive('df-d00503ff-09a9-4d3e-bd6f-1ea5b557a894')\"\n",
              "              title=\"Convert this dataframe to an interactive table.\"\n",
              "              style=\"display:none;\">\n",
              "        \n",
              "  <svg xmlns=\"http://www.w3.org/2000/svg\" height=\"24px\"viewBox=\"0 0 24 24\"\n",
              "       width=\"24px\">\n",
              "    <path d=\"M0 0h24v24H0V0z\" fill=\"none\"/>\n",
              "    <path d=\"M18.56 5.44l.94 2.06.94-2.06 2.06-.94-2.06-.94-.94-2.06-.94 2.06-2.06.94zm-11 1L8.5 8.5l.94-2.06 2.06-.94-2.06-.94L8.5 2.5l-.94 2.06-2.06.94zm10 10l.94 2.06.94-2.06 2.06-.94-2.06-.94-.94-2.06-.94 2.06-2.06.94z\"/><path d=\"M17.41 7.96l-1.37-1.37c-.4-.4-.92-.59-1.43-.59-.52 0-1.04.2-1.43.59L10.3 9.45l-7.72 7.72c-.78.78-.78 2.05 0 2.83L4 21.41c.39.39.9.59 1.41.59.51 0 1.02-.2 1.41-.59l7.78-7.78 2.81-2.81c.8-.78.8-2.07 0-2.86zM5.41 20L4 18.59l7.72-7.72 1.47 1.35L5.41 20z\"/>\n",
              "  </svg>\n",
              "      </button>\n",
              "      \n",
              "  <style>\n",
              "    .colab-df-container {\n",
              "      display:flex;\n",
              "      flex-wrap:wrap;\n",
              "      gap: 12px;\n",
              "    }\n",
              "\n",
              "    .colab-df-convert {\n",
              "      background-color: #E8F0FE;\n",
              "      border: none;\n",
              "      border-radius: 50%;\n",
              "      cursor: pointer;\n",
              "      display: none;\n",
              "      fill: #1967D2;\n",
              "      height: 32px;\n",
              "      padding: 0 0 0 0;\n",
              "      width: 32px;\n",
              "    }\n",
              "\n",
              "    .colab-df-convert:hover {\n",
              "      background-color: #E2EBFA;\n",
              "      box-shadow: 0px 1px 2px rgba(60, 64, 67, 0.3), 0px 1px 3px 1px rgba(60, 64, 67, 0.15);\n",
              "      fill: #174EA6;\n",
              "    }\n",
              "\n",
              "    [theme=dark] .colab-df-convert {\n",
              "      background-color: #3B4455;\n",
              "      fill: #D2E3FC;\n",
              "    }\n",
              "\n",
              "    [theme=dark] .colab-df-convert:hover {\n",
              "      background-color: #434B5C;\n",
              "      box-shadow: 0px 1px 3px 1px rgba(0, 0, 0, 0.15);\n",
              "      filter: drop-shadow(0px 1px 2px rgba(0, 0, 0, 0.3));\n",
              "      fill: #FFFFFF;\n",
              "    }\n",
              "  </style>\n",
              "\n",
              "      <script>\n",
              "        const buttonEl =\n",
              "          document.querySelector('#df-d00503ff-09a9-4d3e-bd6f-1ea5b557a894 button.colab-df-convert');\n",
              "        buttonEl.style.display =\n",
              "          google.colab.kernel.accessAllowed ? 'block' : 'none';\n",
              "\n",
              "        async function convertToInteractive(key) {\n",
              "          const element = document.querySelector('#df-d00503ff-09a9-4d3e-bd6f-1ea5b557a894');\n",
              "          const dataTable =\n",
              "            await google.colab.kernel.invokeFunction('convertToInteractive',\n",
              "                                                     [key], {});\n",
              "          if (!dataTable) return;\n",
              "\n",
              "          const docLinkHtml = 'Like what you see? Visit the ' +\n",
              "            '<a target=\"_blank\" href=https://colab.research.google.com/notebooks/data_table.ipynb>data table notebook</a>'\n",
              "            + ' to learn more about interactive tables.';\n",
              "          element.innerHTML = '';\n",
              "          dataTable['output_type'] = 'display_data';\n",
              "          await google.colab.output.renderOutput(dataTable, element);\n",
              "          const docLink = document.createElement('div');\n",
              "          docLink.innerHTML = docLinkHtml;\n",
              "          element.appendChild(docLink);\n",
              "        }\n",
              "      </script>\n",
              "    </div>\n",
              "  </div>\n",
              "  "
            ]
          },
          "metadata": {},
          "execution_count": 20
        }
      ],
      "source": [
        "df"
      ]
    },
    {
      "cell_type": "code",
      "execution_count": null,
      "metadata": {
        "execution": {
          "iopub.execute_input": "2023-01-09T10:34:43.371511Z",
          "iopub.status.busy": "2023-01-09T10:34:43.370906Z",
          "iopub.status.idle": "2023-01-09T10:34:43.385645Z",
          "shell.execute_reply": "2023-01-09T10:34:43.384760Z",
          "shell.execute_reply.started": "2023-01-09T10:34:43.371475Z"
        },
        "id": "7Uz47b-mTZsi"
      },
      "outputs": [],
      "source": [
        "#max_values = df.max()              #normalizing data in between range [0,1]\n",
        "#df = df.div(max_values) "
      ]
    },
    {
      "cell_type": "code",
      "execution_count": null,
      "metadata": {
        "colab": {
          "base_uri": "https://localhost:8080/",
          "height": 424
        },
        "execution": {
          "iopub.execute_input": "2023-01-09T10:34:43.387502Z",
          "iopub.status.busy": "2023-01-09T10:34:43.387040Z",
          "iopub.status.idle": "2023-01-09T10:34:43.409224Z",
          "shell.execute_reply": "2023-01-09T10:34:43.407386Z",
          "shell.execute_reply.started": "2023-01-09T10:34:43.387465Z"
        },
        "id": "zk5wMX9XVdyw",
        "outputId": "c1fd059d-7bc5-4c8c-dc1f-2620f841f0af"
      },
      "outputs": [
        {
          "output_type": "execute_result",
          "data": {
            "text/plain": [
              "       wind speed  wind direction  wind energy      mslp        rh      temp\n",
              "0        0.193691        0.709763     0.016505  0.981200  0.926421  0.915474\n",
              "1        0.149593        0.683377     0.016146  0.981272  0.933887  0.914530\n",
              "2        0.125170        0.656992     0.014352  0.981344  0.941352  0.913585\n",
              "3        0.138060        0.646438     0.012917  0.981415  0.948818  0.912641\n",
              "4        0.155699        0.704485     0.011482  0.981487  0.956283  0.911697\n",
              "...           ...             ...          ...       ...       ...       ...\n",
              "52555    0.281208        0.443272     0.326516  0.986915  0.603113  0.948073\n",
              "52556    0.291723        0.440633     0.329745  0.986920  0.604884  0.947956\n",
              "52557    0.264925        0.453826     0.327234  0.986924  0.606656  0.947838\n",
              "52558    0.253731        0.477573     0.315752  0.986929  0.608428  0.947721\n",
              "52559    0.272388        0.448549     0.309652  0.986934  0.610200  0.947604\n",
              "\n",
              "[52560 rows x 6 columns]"
            ],
            "text/html": [
              "\n",
              "  <div id=\"df-8ee950f8-33c6-400a-b547-52c46a6acd81\">\n",
              "    <div class=\"colab-df-container\">\n",
              "      <div>\n",
              "<style scoped>\n",
              "    .dataframe tbody tr th:only-of-type {\n",
              "        vertical-align: middle;\n",
              "    }\n",
              "\n",
              "    .dataframe tbody tr th {\n",
              "        vertical-align: top;\n",
              "    }\n",
              "\n",
              "    .dataframe thead th {\n",
              "        text-align: right;\n",
              "    }\n",
              "</style>\n",
              "<table border=\"1\" class=\"dataframe\">\n",
              "  <thead>\n",
              "    <tr style=\"text-align: right;\">\n",
              "      <th></th>\n",
              "      <th>wind speed</th>\n",
              "      <th>wind direction</th>\n",
              "      <th>wind energy</th>\n",
              "      <th>mslp</th>\n",
              "      <th>rh</th>\n",
              "      <th>temp</th>\n",
              "    </tr>\n",
              "  </thead>\n",
              "  <tbody>\n",
              "    <tr>\n",
              "      <th>0</th>\n",
              "      <td>0.193691</td>\n",
              "      <td>0.709763</td>\n",
              "      <td>0.016505</td>\n",
              "      <td>0.981200</td>\n",
              "      <td>0.926421</td>\n",
              "      <td>0.915474</td>\n",
              "    </tr>\n",
              "    <tr>\n",
              "      <th>1</th>\n",
              "      <td>0.149593</td>\n",
              "      <td>0.683377</td>\n",
              "      <td>0.016146</td>\n",
              "      <td>0.981272</td>\n",
              "      <td>0.933887</td>\n",
              "      <td>0.914530</td>\n",
              "    </tr>\n",
              "    <tr>\n",
              "      <th>2</th>\n",
              "      <td>0.125170</td>\n",
              "      <td>0.656992</td>\n",
              "      <td>0.014352</td>\n",
              "      <td>0.981344</td>\n",
              "      <td>0.941352</td>\n",
              "      <td>0.913585</td>\n",
              "    </tr>\n",
              "    <tr>\n",
              "      <th>3</th>\n",
              "      <td>0.138060</td>\n",
              "      <td>0.646438</td>\n",
              "      <td>0.012917</td>\n",
              "      <td>0.981415</td>\n",
              "      <td>0.948818</td>\n",
              "      <td>0.912641</td>\n",
              "    </tr>\n",
              "    <tr>\n",
              "      <th>4</th>\n",
              "      <td>0.155699</td>\n",
              "      <td>0.704485</td>\n",
              "      <td>0.011482</td>\n",
              "      <td>0.981487</td>\n",
              "      <td>0.956283</td>\n",
              "      <td>0.911697</td>\n",
              "    </tr>\n",
              "    <tr>\n",
              "      <th>...</th>\n",
              "      <td>...</td>\n",
              "      <td>...</td>\n",
              "      <td>...</td>\n",
              "      <td>...</td>\n",
              "      <td>...</td>\n",
              "      <td>...</td>\n",
              "    </tr>\n",
              "    <tr>\n",
              "      <th>52555</th>\n",
              "      <td>0.281208</td>\n",
              "      <td>0.443272</td>\n",
              "      <td>0.326516</td>\n",
              "      <td>0.986915</td>\n",
              "      <td>0.603113</td>\n",
              "      <td>0.948073</td>\n",
              "    </tr>\n",
              "    <tr>\n",
              "      <th>52556</th>\n",
              "      <td>0.291723</td>\n",
              "      <td>0.440633</td>\n",
              "      <td>0.329745</td>\n",
              "      <td>0.986920</td>\n",
              "      <td>0.604884</td>\n",
              "      <td>0.947956</td>\n",
              "    </tr>\n",
              "    <tr>\n",
              "      <th>52557</th>\n",
              "      <td>0.264925</td>\n",
              "      <td>0.453826</td>\n",
              "      <td>0.327234</td>\n",
              "      <td>0.986924</td>\n",
              "      <td>0.606656</td>\n",
              "      <td>0.947838</td>\n",
              "    </tr>\n",
              "    <tr>\n",
              "      <th>52558</th>\n",
              "      <td>0.253731</td>\n",
              "      <td>0.477573</td>\n",
              "      <td>0.315752</td>\n",
              "      <td>0.986929</td>\n",
              "      <td>0.608428</td>\n",
              "      <td>0.947721</td>\n",
              "    </tr>\n",
              "    <tr>\n",
              "      <th>52559</th>\n",
              "      <td>0.272388</td>\n",
              "      <td>0.448549</td>\n",
              "      <td>0.309652</td>\n",
              "      <td>0.986934</td>\n",
              "      <td>0.610200</td>\n",
              "      <td>0.947604</td>\n",
              "    </tr>\n",
              "  </tbody>\n",
              "</table>\n",
              "<p>52560 rows × 6 columns</p>\n",
              "</div>\n",
              "      <button class=\"colab-df-convert\" onclick=\"convertToInteractive('df-8ee950f8-33c6-400a-b547-52c46a6acd81')\"\n",
              "              title=\"Convert this dataframe to an interactive table.\"\n",
              "              style=\"display:none;\">\n",
              "        \n",
              "  <svg xmlns=\"http://www.w3.org/2000/svg\" height=\"24px\"viewBox=\"0 0 24 24\"\n",
              "       width=\"24px\">\n",
              "    <path d=\"M0 0h24v24H0V0z\" fill=\"none\"/>\n",
              "    <path d=\"M18.56 5.44l.94 2.06.94-2.06 2.06-.94-2.06-.94-.94-2.06-.94 2.06-2.06.94zm-11 1L8.5 8.5l.94-2.06 2.06-.94-2.06-.94L8.5 2.5l-.94 2.06-2.06.94zm10 10l.94 2.06.94-2.06 2.06-.94-2.06-.94-.94-2.06-.94 2.06-2.06.94z\"/><path d=\"M17.41 7.96l-1.37-1.37c-.4-.4-.92-.59-1.43-.59-.52 0-1.04.2-1.43.59L10.3 9.45l-7.72 7.72c-.78.78-.78 2.05 0 2.83L4 21.41c.39.39.9.59 1.41.59.51 0 1.02-.2 1.41-.59l7.78-7.78 2.81-2.81c.8-.78.8-2.07 0-2.86zM5.41 20L4 18.59l7.72-7.72 1.47 1.35L5.41 20z\"/>\n",
              "  </svg>\n",
              "      </button>\n",
              "      \n",
              "  <style>\n",
              "    .colab-df-container {\n",
              "      display:flex;\n",
              "      flex-wrap:wrap;\n",
              "      gap: 12px;\n",
              "    }\n",
              "\n",
              "    .colab-df-convert {\n",
              "      background-color: #E8F0FE;\n",
              "      border: none;\n",
              "      border-radius: 50%;\n",
              "      cursor: pointer;\n",
              "      display: none;\n",
              "      fill: #1967D2;\n",
              "      height: 32px;\n",
              "      padding: 0 0 0 0;\n",
              "      width: 32px;\n",
              "    }\n",
              "\n",
              "    .colab-df-convert:hover {\n",
              "      background-color: #E2EBFA;\n",
              "      box-shadow: 0px 1px 2px rgba(60, 64, 67, 0.3), 0px 1px 3px 1px rgba(60, 64, 67, 0.15);\n",
              "      fill: #174EA6;\n",
              "    }\n",
              "\n",
              "    [theme=dark] .colab-df-convert {\n",
              "      background-color: #3B4455;\n",
              "      fill: #D2E3FC;\n",
              "    }\n",
              "\n",
              "    [theme=dark] .colab-df-convert:hover {\n",
              "      background-color: #434B5C;\n",
              "      box-shadow: 0px 1px 3px 1px rgba(0, 0, 0, 0.15);\n",
              "      filter: drop-shadow(0px 1px 2px rgba(0, 0, 0, 0.3));\n",
              "      fill: #FFFFFF;\n",
              "    }\n",
              "  </style>\n",
              "\n",
              "      <script>\n",
              "        const buttonEl =\n",
              "          document.querySelector('#df-8ee950f8-33c6-400a-b547-52c46a6acd81 button.colab-df-convert');\n",
              "        buttonEl.style.display =\n",
              "          google.colab.kernel.accessAllowed ? 'block' : 'none';\n",
              "\n",
              "        async function convertToInteractive(key) {\n",
              "          const element = document.querySelector('#df-8ee950f8-33c6-400a-b547-52c46a6acd81');\n",
              "          const dataTable =\n",
              "            await google.colab.kernel.invokeFunction('convertToInteractive',\n",
              "                                                     [key], {});\n",
              "          if (!dataTable) return;\n",
              "\n",
              "          const docLinkHtml = 'Like what you see? Visit the ' +\n",
              "            '<a target=\"_blank\" href=https://colab.research.google.com/notebooks/data_table.ipynb>data table notebook</a>'\n",
              "            + ' to learn more about interactive tables.';\n",
              "          element.innerHTML = '';\n",
              "          dataTable['output_type'] = 'display_data';\n",
              "          await google.colab.output.renderOutput(dataTable, element);\n",
              "          const docLink = document.createElement('div');\n",
              "          docLink.innerHTML = docLinkHtml;\n",
              "          element.appendChild(docLink);\n",
              "        }\n",
              "      </script>\n",
              "    </div>\n",
              "  </div>\n",
              "  "
            ]
          },
          "metadata": {},
          "execution_count": 23
        }
      ],
      "source": [
        "df"
      ]
    },
    {
      "cell_type": "code",
      "execution_count": 21,
      "metadata": {
        "execution": {
          "iopub.execute_input": "2023-01-09T10:34:43.414358Z",
          "iopub.status.busy": "2023-01-09T10:34:43.414028Z",
          "iopub.status.idle": "2023-01-09T10:34:43.421703Z",
          "shell.execute_reply": "2023-01-09T10:34:43.420664Z",
          "shell.execute_reply.started": "2023-01-09T10:34:43.414298Z"
        },
        "id": "pbMyw7MH-DZx"
      },
      "outputs": [],
      "source": [
        "#switching columns to make LV activePower (kW) last column so that it will be easy\n",
        "# to prepare training and test datasets\n",
        "cols = df.columns.tolist()\n",
        "cols[2], cols[5] = cols[5], cols[2]\n",
        "df = df[cols]"
      ]
    },
    {
      "cell_type": "code",
      "execution_count": null,
      "metadata": {
        "colab": {
          "base_uri": "https://localhost:8080/",
          "height": 424
        },
        "execution": {
          "iopub.execute_input": "2023-01-09T10:34:43.424455Z",
          "iopub.status.busy": "2023-01-09T10:34:43.423335Z",
          "iopub.status.idle": "2023-01-09T10:34:43.444124Z",
          "shell.execute_reply": "2023-01-09T10:34:43.443154Z",
          "shell.execute_reply.started": "2023-01-09T10:34:43.424416Z"
        },
        "id": "ws-IXmPN-NR-",
        "outputId": "483f142d-41b7-4cdd-8579-807fbe2bde31"
      },
      "outputs": [
        {
          "output_type": "execute_result",
          "data": {
            "text/plain": [
              "       wind speed  wind direction      temp      mslp        rh  wind energy\n",
              "0        0.193691        0.709763  0.915474  0.981200  0.926421     0.016505\n",
              "1        0.149593        0.683377  0.914530  0.981272  0.933887     0.016146\n",
              "2        0.125170        0.656992  0.913585  0.981344  0.941352     0.014352\n",
              "3        0.138060        0.646438  0.912641  0.981415  0.948818     0.012917\n",
              "4        0.155699        0.704485  0.911697  0.981487  0.956283     0.011482\n",
              "...           ...             ...       ...       ...       ...          ...\n",
              "52555    0.281208        0.443272  0.948073  0.986915  0.603113     0.326516\n",
              "52556    0.291723        0.440633  0.947956  0.986920  0.604884     0.329745\n",
              "52557    0.264925        0.453826  0.947838  0.986924  0.606656     0.327234\n",
              "52558    0.253731        0.477573  0.947721  0.986929  0.608428     0.315752\n",
              "52559    0.272388        0.448549  0.947604  0.986934  0.610200     0.309652\n",
              "\n",
              "[52560 rows x 6 columns]"
            ],
            "text/html": [
              "\n",
              "  <div id=\"df-41ff8629-b0e2-428b-b2e0-3dc623450da8\">\n",
              "    <div class=\"colab-df-container\">\n",
              "      <div>\n",
              "<style scoped>\n",
              "    .dataframe tbody tr th:only-of-type {\n",
              "        vertical-align: middle;\n",
              "    }\n",
              "\n",
              "    .dataframe tbody tr th {\n",
              "        vertical-align: top;\n",
              "    }\n",
              "\n",
              "    .dataframe thead th {\n",
              "        text-align: right;\n",
              "    }\n",
              "</style>\n",
              "<table border=\"1\" class=\"dataframe\">\n",
              "  <thead>\n",
              "    <tr style=\"text-align: right;\">\n",
              "      <th></th>\n",
              "      <th>wind speed</th>\n",
              "      <th>wind direction</th>\n",
              "      <th>temp</th>\n",
              "      <th>mslp</th>\n",
              "      <th>rh</th>\n",
              "      <th>wind energy</th>\n",
              "    </tr>\n",
              "  </thead>\n",
              "  <tbody>\n",
              "    <tr>\n",
              "      <th>0</th>\n",
              "      <td>0.193691</td>\n",
              "      <td>0.709763</td>\n",
              "      <td>0.915474</td>\n",
              "      <td>0.981200</td>\n",
              "      <td>0.926421</td>\n",
              "      <td>0.016505</td>\n",
              "    </tr>\n",
              "    <tr>\n",
              "      <th>1</th>\n",
              "      <td>0.149593</td>\n",
              "      <td>0.683377</td>\n",
              "      <td>0.914530</td>\n",
              "      <td>0.981272</td>\n",
              "      <td>0.933887</td>\n",
              "      <td>0.016146</td>\n",
              "    </tr>\n",
              "    <tr>\n",
              "      <th>2</th>\n",
              "      <td>0.125170</td>\n",
              "      <td>0.656992</td>\n",
              "      <td>0.913585</td>\n",
              "      <td>0.981344</td>\n",
              "      <td>0.941352</td>\n",
              "      <td>0.014352</td>\n",
              "    </tr>\n",
              "    <tr>\n",
              "      <th>3</th>\n",
              "      <td>0.138060</td>\n",
              "      <td>0.646438</td>\n",
              "      <td>0.912641</td>\n",
              "      <td>0.981415</td>\n",
              "      <td>0.948818</td>\n",
              "      <td>0.012917</td>\n",
              "    </tr>\n",
              "    <tr>\n",
              "      <th>4</th>\n",
              "      <td>0.155699</td>\n",
              "      <td>0.704485</td>\n",
              "      <td>0.911697</td>\n",
              "      <td>0.981487</td>\n",
              "      <td>0.956283</td>\n",
              "      <td>0.011482</td>\n",
              "    </tr>\n",
              "    <tr>\n",
              "      <th>...</th>\n",
              "      <td>...</td>\n",
              "      <td>...</td>\n",
              "      <td>...</td>\n",
              "      <td>...</td>\n",
              "      <td>...</td>\n",
              "      <td>...</td>\n",
              "    </tr>\n",
              "    <tr>\n",
              "      <th>52555</th>\n",
              "      <td>0.281208</td>\n",
              "      <td>0.443272</td>\n",
              "      <td>0.948073</td>\n",
              "      <td>0.986915</td>\n",
              "      <td>0.603113</td>\n",
              "      <td>0.326516</td>\n",
              "    </tr>\n",
              "    <tr>\n",
              "      <th>52556</th>\n",
              "      <td>0.291723</td>\n",
              "      <td>0.440633</td>\n",
              "      <td>0.947956</td>\n",
              "      <td>0.986920</td>\n",
              "      <td>0.604884</td>\n",
              "      <td>0.329745</td>\n",
              "    </tr>\n",
              "    <tr>\n",
              "      <th>52557</th>\n",
              "      <td>0.264925</td>\n",
              "      <td>0.453826</td>\n",
              "      <td>0.947838</td>\n",
              "      <td>0.986924</td>\n",
              "      <td>0.606656</td>\n",
              "      <td>0.327234</td>\n",
              "    </tr>\n",
              "    <tr>\n",
              "      <th>52558</th>\n",
              "      <td>0.253731</td>\n",
              "      <td>0.477573</td>\n",
              "      <td>0.947721</td>\n",
              "      <td>0.986929</td>\n",
              "      <td>0.608428</td>\n",
              "      <td>0.315752</td>\n",
              "    </tr>\n",
              "    <tr>\n",
              "      <th>52559</th>\n",
              "      <td>0.272388</td>\n",
              "      <td>0.448549</td>\n",
              "      <td>0.947604</td>\n",
              "      <td>0.986934</td>\n",
              "      <td>0.610200</td>\n",
              "      <td>0.309652</td>\n",
              "    </tr>\n",
              "  </tbody>\n",
              "</table>\n",
              "<p>52560 rows × 6 columns</p>\n",
              "</div>\n",
              "      <button class=\"colab-df-convert\" onclick=\"convertToInteractive('df-41ff8629-b0e2-428b-b2e0-3dc623450da8')\"\n",
              "              title=\"Convert this dataframe to an interactive table.\"\n",
              "              style=\"display:none;\">\n",
              "        \n",
              "  <svg xmlns=\"http://www.w3.org/2000/svg\" height=\"24px\"viewBox=\"0 0 24 24\"\n",
              "       width=\"24px\">\n",
              "    <path d=\"M0 0h24v24H0V0z\" fill=\"none\"/>\n",
              "    <path d=\"M18.56 5.44l.94 2.06.94-2.06 2.06-.94-2.06-.94-.94-2.06-.94 2.06-2.06.94zm-11 1L8.5 8.5l.94-2.06 2.06-.94-2.06-.94L8.5 2.5l-.94 2.06-2.06.94zm10 10l.94 2.06.94-2.06 2.06-.94-2.06-.94-.94-2.06-.94 2.06-2.06.94z\"/><path d=\"M17.41 7.96l-1.37-1.37c-.4-.4-.92-.59-1.43-.59-.52 0-1.04.2-1.43.59L10.3 9.45l-7.72 7.72c-.78.78-.78 2.05 0 2.83L4 21.41c.39.39.9.59 1.41.59.51 0 1.02-.2 1.41-.59l7.78-7.78 2.81-2.81c.8-.78.8-2.07 0-2.86zM5.41 20L4 18.59l7.72-7.72 1.47 1.35L5.41 20z\"/>\n",
              "  </svg>\n",
              "      </button>\n",
              "      \n",
              "  <style>\n",
              "    .colab-df-container {\n",
              "      display:flex;\n",
              "      flex-wrap:wrap;\n",
              "      gap: 12px;\n",
              "    }\n",
              "\n",
              "    .colab-df-convert {\n",
              "      background-color: #E8F0FE;\n",
              "      border: none;\n",
              "      border-radius: 50%;\n",
              "      cursor: pointer;\n",
              "      display: none;\n",
              "      fill: #1967D2;\n",
              "      height: 32px;\n",
              "      padding: 0 0 0 0;\n",
              "      width: 32px;\n",
              "    }\n",
              "\n",
              "    .colab-df-convert:hover {\n",
              "      background-color: #E2EBFA;\n",
              "      box-shadow: 0px 1px 2px rgba(60, 64, 67, 0.3), 0px 1px 3px 1px rgba(60, 64, 67, 0.15);\n",
              "      fill: #174EA6;\n",
              "    }\n",
              "\n",
              "    [theme=dark] .colab-df-convert {\n",
              "      background-color: #3B4455;\n",
              "      fill: #D2E3FC;\n",
              "    }\n",
              "\n",
              "    [theme=dark] .colab-df-convert:hover {\n",
              "      background-color: #434B5C;\n",
              "      box-shadow: 0px 1px 3px 1px rgba(0, 0, 0, 0.15);\n",
              "      filter: drop-shadow(0px 1px 2px rgba(0, 0, 0, 0.3));\n",
              "      fill: #FFFFFF;\n",
              "    }\n",
              "  </style>\n",
              "\n",
              "      <script>\n",
              "        const buttonEl =\n",
              "          document.querySelector('#df-41ff8629-b0e2-428b-b2e0-3dc623450da8 button.colab-df-convert');\n",
              "        buttonEl.style.display =\n",
              "          google.colab.kernel.accessAllowed ? 'block' : 'none';\n",
              "\n",
              "        async function convertToInteractive(key) {\n",
              "          const element = document.querySelector('#df-41ff8629-b0e2-428b-b2e0-3dc623450da8');\n",
              "          const dataTable =\n",
              "            await google.colab.kernel.invokeFunction('convertToInteractive',\n",
              "                                                     [key], {});\n",
              "          if (!dataTable) return;\n",
              "\n",
              "          const docLinkHtml = 'Like what you see? Visit the ' +\n",
              "            '<a target=\"_blank\" href=https://colab.research.google.com/notebooks/data_table.ipynb>data table notebook</a>'\n",
              "            + ' to learn more about interactive tables.';\n",
              "          element.innerHTML = '';\n",
              "          dataTable['output_type'] = 'display_data';\n",
              "          await google.colab.output.renderOutput(dataTable, element);\n",
              "          const docLink = document.createElement('div');\n",
              "          docLink.innerHTML = docLinkHtml;\n",
              "          element.appendChild(docLink);\n",
              "        }\n",
              "      </script>\n",
              "    </div>\n",
              "  </div>\n",
              "  "
            ]
          },
          "metadata": {},
          "execution_count": 25
        }
      ],
      "source": [
        "df"
      ]
    },
    {
      "cell_type": "code",
      "execution_count": 22,
      "metadata": {
        "execution": {
          "iopub.execute_input": "2023-01-09T10:34:43.460380Z",
          "iopub.status.busy": "2023-01-09T10:34:43.459203Z",
          "iopub.status.idle": "2023-01-09T10:34:43.910741Z",
          "shell.execute_reply": "2023-01-09T10:34:43.909716Z",
          "shell.execute_reply.started": "2023-01-09T10:34:43.460342Z"
        },
        "id": "M876lXATn8oh"
      },
      "outputs": [],
      "source": [
        "# Calculate the number of readings per day\n",
        "readings_per_day = 144\n",
        "\n",
        "#n = number of day\n",
        "n = 10\n",
        "\n",
        "# Calculate the sequence length (n days in readings)\n",
        "sequence_length = readings_per_day * n\n",
        "\n",
        "# Set the lookback window to be the same as the sequence length\n",
        "lookback_window = sequence_length\n",
        "\n",
        "# Convert the data to a NumPy array\n",
        "df = df.values\n",
        "\n",
        "x, y = [], []\n",
        "for i in range(lookback_window, len(df)):\n",
        "    x.append(df[i - lookback_window:i, :])\n",
        "    y.append(df[i, -1])\n",
        "x = np.array(x)\n",
        "y = np.array(y)"
      ]
    },
    {
      "cell_type": "code",
      "execution_count": null,
      "metadata": {
        "colab": {
          "base_uri": "https://localhost:8080/"
        },
        "execution": {
          "iopub.execute_input": "2023-01-09T10:34:43.912771Z",
          "iopub.status.busy": "2023-01-09T10:34:43.912362Z",
          "iopub.status.idle": "2023-01-09T10:34:43.919393Z",
          "shell.execute_reply": "2023-01-09T10:34:43.917626Z",
          "shell.execute_reply.started": "2023-01-09T10:34:43.912724Z"
        },
        "id": "OZhcw_5dn_p5",
        "outputId": "cdd60887-5362-4893-9a04-890f23e726a5"
      },
      "outputs": [
        {
          "output_type": "stream",
          "name": "stdout",
          "text": [
            "(52128, 432, 6)\n",
            "(52128,)\n"
          ]
        }
      ],
      "source": [
        "print(x.shape)\n",
        "print(y.shape)"
      ]
    },
    {
      "cell_type": "code",
      "execution_count": null,
      "metadata": {
        "colab": {
          "base_uri": "https://localhost:8080/"
        },
        "id": "ee2kD_bjs-7D",
        "outputId": "d24b0468-b75b-469b-b428-bcdc4f62ce06"
      },
      "outputs": [
        {
          "output_type": "stream",
          "name": "stdout",
          "text": [
            "[0.0326516  0.04736276 0.05023323 ... 0.32723358 0.3157517  0.30965196]\n"
          ]
        }
      ],
      "source": [
        "print(y)"
      ]
    },
    {
      "cell_type": "code",
      "execution_count": null,
      "metadata": {
        "colab": {
          "base_uri": "https://localhost:8080/"
        },
        "id": "CIbh8buG9blv",
        "outputId": "2c0aaf57-ccdc-4fca-ff76-a3985abacc9f"
      },
      "outputs": [
        {
          "output_type": "execute_result",
          "data": {
            "text/plain": [
              "array([0.21540027, 0.70448549, 0.91280022, 0.98172128, 0.97726752,\n",
              "       0.04736276])"
            ]
          },
          "metadata": {},
          "execution_count": 30
        }
      ],
      "source": [
        "df[432+1]"
      ]
    },
    {
      "cell_type": "code",
      "execution_count": 23,
      "metadata": {
        "execution": {
          "iopub.execute_input": "2023-01-09T10:34:43.921784Z",
          "iopub.status.busy": "2023-01-09T10:34:43.920749Z",
          "iopub.status.idle": "2023-01-09T10:34:43.931867Z",
          "shell.execute_reply": "2023-01-09T10:34:43.930904Z",
          "shell.execute_reply.started": "2023-01-09T10:34:43.921732Z"
        },
        "id": "De9UykRToUgh"
      },
      "outputs": [],
      "source": [
        "# Calculate the number of test samples (last 3 days of the year)\n",
        "num_test_samples = readings_per_day * 5\n",
        "\n",
        "# Split the data into training and test sets\n",
        "x_train = x[:-num_test_samples]\n",
        "y_train = y[:-num_test_samples]\n",
        "x_test = x[-num_test_samples:]\n",
        "y_test = y[-num_test_samples:]"
      ]
    },
    {
      "cell_type": "code",
      "execution_count": 24,
      "metadata": {
        "colab": {
          "base_uri": "https://localhost:8080/"
        },
        "execution": {
          "iopub.execute_input": "2023-01-09T10:34:43.933809Z",
          "iopub.status.busy": "2023-01-09T10:34:43.933327Z",
          "iopub.status.idle": "2023-01-09T10:34:43.951994Z",
          "shell.execute_reply": "2023-01-09T10:34:43.950702Z",
          "shell.execute_reply.started": "2023-01-09T10:34:43.933773Z"
        },
        "id": "N0XeitG-5Fag",
        "outputId": "0f1f3dfe-7e76-4975-894e-b26dc264f7a5"
      },
      "outputs": [
        {
          "output_type": "stream",
          "name": "stdout",
          "text": [
            "x_train : (50400, 1440, 6)\n",
            "x_test : (720, 1440, 6)\n",
            "y_train : (50400,)\n",
            "y_test : (720,)\n"
          ]
        }
      ],
      "source": [
        "print('x_train :',x_train.shape)\n",
        "print('x_test :',x_test.shape)\n",
        "print('y_train :',y_train.shape)\n",
        "print('y_test :',y_test.shape)\n"
      ]
    },
    {
      "cell_type": "code",
      "execution_count": null,
      "metadata": {
        "colab": {
          "base_uri": "https://localhost:8080/"
        },
        "id": "9kykwKRLv1t2",
        "outputId": "cf45e8d9-587d-48ce-c801-cd1175190d69"
      },
      "outputs": [
        {
          "output_type": "execute_result",
          "data": {
            "text/plain": [
              "52560"
            ]
          },
          "metadata": {},
          "execution_count": 121
        }
      ],
      "source": [
        "51840+720"
      ]
    },
    {
      "cell_type": "code",
      "execution_count": null,
      "metadata": {
        "colab": {
          "base_uri": "https://localhost:8080/"
        },
        "id": "JgxPJKSUuWvp",
        "outputId": "5c31b1a5-3753-48a5-bae8-05a429263f38"
      },
      "outputs": [
        {
          "output_type": "execute_result",
          "data": {
            "text/plain": [
              "array([0.5493698 , 0.60997117, 1.        , 0.95625377])"
            ]
          },
          "metadata": {},
          "execution_count": 122
        }
      ],
      "source": [
        "df[431]"
      ]
    },
    {
      "cell_type": "code",
      "execution_count": null,
      "metadata": {
        "colab": {
          "base_uri": "https://localhost:8080/"
        },
        "execution": {
          "iopub.execute_input": "2023-01-09T10:34:43.954369Z",
          "iopub.status.busy": "2023-01-09T10:34:43.953939Z",
          "iopub.status.idle": "2023-01-09T10:34:43.964589Z",
          "shell.execute_reply": "2023-01-09T10:34:43.963369Z",
          "shell.execute_reply.started": "2023-01-09T10:34:43.954329Z"
        },
        "id": "XWaRKBIe5HZf",
        "outputId": "539a0120-e8d7-4dc4-97b8-bf29bbca7f50"
      },
      "outputs": [
        {
          "output_type": "execute_result",
          "data": {
            "text/plain": [
              "array([[0.7222129 , 0.21071704, 0.11564692, 0.10502234],\n",
              "       [0.74623031, 0.22503231, 0.14442153, 0.1253945 ],\n",
              "       [0.75712948, 0.20693623, 0.10858334, 0.08466405],\n",
              "       ...,\n",
              "       [0.19712844, 0.14154479, 0.03086218, 0.02038635],\n",
              "       [0.19702649, 0.13872388, 0.02403727, 0.0135909 ],\n",
              "       [0.19692454, 0.13590298, 0.01721236, 0.00679545]])"
            ]
          },
          "metadata": {},
          "execution_count": 123
        }
      ],
      "source": [
        "x_train[0]"
      ]
    },
    {
      "cell_type": "code",
      "execution_count": null,
      "metadata": {
        "colab": {
          "base_uri": "https://localhost:8080/"
        },
        "id": "IEuNCqZhxZn7",
        "outputId": "c621e8b5-65f5-4bf2-d27a-7051488c497e"
      },
      "outputs": [
        {
          "output_type": "execute_result",
          "data": {
            "text/plain": [
              "array([0.54131557, 0.72062099, 1.        , 0.99583008])"
            ]
          },
          "metadata": {},
          "execution_count": 124
        }
      ],
      "source": [
        "df[432]"
      ]
    },
    {
      "cell_type": "code",
      "execution_count": null,
      "metadata": {
        "colab": {
          "base_uri": "https://localhost:8080/"
        },
        "id": "fmmvSLkIxlOq",
        "outputId": "cd0a80cb-cd93-481e-a81b-72b28b2af47b"
      },
      "outputs": [
        {
          "output_type": "execute_result",
          "data": {
            "text/plain": [
              "0.009888632135421493"
            ]
          },
          "metadata": {},
          "execution_count": 125
        }
      ],
      "source": [
        "y_train[0]"
      ]
    },
    {
      "cell_type": "code",
      "execution_count": 25,
      "metadata": {
        "colab": {
          "base_uri": "https://localhost:8080/"
        },
        "execution": {
          "iopub.execute_input": "2023-01-09T10:34:43.967061Z",
          "iopub.status.busy": "2023-01-09T10:34:43.966653Z",
          "iopub.status.idle": "2023-01-09T10:34:44.770424Z",
          "shell.execute_reply": "2023-01-09T10:34:44.769212Z",
          "shell.execute_reply.started": "2023-01-09T10:34:43.967025Z"
        },
        "id": "IWOEdJ3dq1Zr",
        "outputId": "e8150a78-0446-4123-c61d-5d50f23c241a"
      },
      "outputs": [
        {
          "output_type": "stream",
          "name": "stdout",
          "text": [
            "Model: \"sequential_1\"\n",
            "_________________________________________________________________\n",
            " Layer (type)                Output Shape              Param #   \n",
            "=================================================================\n",
            " tcn_1 (TCN)                 (None, 32)                197344    \n",
            "                                                                 \n",
            " dense_1 (Dense)             (None, 1)                 33        \n",
            "                                                                 \n",
            "=================================================================\n",
            "Total params: 197,377\n",
            "Trainable params: 197,377\n",
            "Non-trainable params: 0\n",
            "_________________________________________________________________\n",
            "Train...\n",
            "Epoch 1/50\n",
            "1575/1575 [==============================] - 84s 47ms/step - loss: 10429.4199 - mean_absolute_percentage_error: 1543411335168.0000 - val_loss: 704.8350 - val_mean_absolute_percentage_error: 15.1709\n",
            "Epoch 2/50\n",
            "1575/1575 [==============================] - 74s 47ms/step - loss: 966.2226 - mean_absolute_percentage_error: 138358358016.0000 - val_loss: 301.8008 - val_mean_absolute_percentage_error: 6.0396\n",
            "Epoch 3/50\n",
            "1575/1575 [==============================] - 74s 47ms/step - loss: 591.1939 - mean_absolute_percentage_error: 81882562560.0000 - val_loss: 777.1425 - val_mean_absolute_percentage_error: 15.6231\n",
            "Epoch 4/50\n",
            "1575/1575 [==============================] - 73s 47ms/step - loss: 300.3376 - mean_absolute_percentage_error: 38528491520.0000 - val_loss: 229.0771 - val_mean_absolute_percentage_error: 4.2794\n",
            "Epoch 5/50\n",
            "1575/1575 [==============================] - 73s 46ms/step - loss: 221.6019 - mean_absolute_percentage_error: 23973181440.0000 - val_loss: 221.4247 - val_mean_absolute_percentage_error: 4.3480\n",
            "Epoch 6/50\n",
            "1575/1575 [==============================] - 73s 46ms/step - loss: 219.6401 - mean_absolute_percentage_error: 22862422016.0000 - val_loss: 251.8204 - val_mean_absolute_percentage_error: 5.0062\n",
            "Epoch 7/50\n",
            "1575/1575 [==============================] - 73s 47ms/step - loss: 266.8499 - mean_absolute_percentage_error: 30167908352.0000 - val_loss: 209.6888 - val_mean_absolute_percentage_error: 4.1050\n",
            "Epoch 8/50\n",
            "1575/1575 [==============================] - 73s 46ms/step - loss: 200.2595 - mean_absolute_percentage_error: 19169939456.0000 - val_loss: 205.9130 - val_mean_absolute_percentage_error: 4.0506\n",
            "Epoch 9/50\n",
            "1575/1575 [==============================] - 73s 46ms/step - loss: 206.1114 - mean_absolute_percentage_error: 18244409344.0000 - val_loss: 210.7938 - val_mean_absolute_percentage_error: 4.1799\n",
            "Epoch 10/50\n",
            "1575/1575 [==============================] - 73s 46ms/step - loss: 186.6470 - mean_absolute_percentage_error: 16328679424.0000 - val_loss: 268.2219 - val_mean_absolute_percentage_error: 5.4585\n",
            "Epoch 11/50\n",
            "1575/1575 [==============================] - 73s 46ms/step - loss: 189.0358 - mean_absolute_percentage_error: 16654004224.0000 - val_loss: 232.1816 - val_mean_absolute_percentage_error: 4.3799\n",
            "Epoch 12/50\n",
            "1575/1575 [==============================] - 73s 46ms/step - loss: 182.8004 - mean_absolute_percentage_error: 15409261568.0000 - val_loss: 216.6559 - val_mean_absolute_percentage_error: 4.2240\n",
            "Epoch 13/50\n",
            "1575/1575 [==============================] - 72s 46ms/step - loss: 184.2898 - mean_absolute_percentage_error: 15797651456.0000 - val_loss: 210.1668 - val_mean_absolute_percentage_error: 4.1515\n",
            "Epoch 14/50\n",
            "1575/1575 [==============================] - 72s 46ms/step - loss: 195.6732 - mean_absolute_percentage_error: 15409212416.0000 - val_loss: 213.3928 - val_mean_absolute_percentage_error: 4.2828\n",
            "Epoch 15/50\n",
            "1575/1575 [==============================] - 73s 46ms/step - loss: 177.0070 - mean_absolute_percentage_error: 14033694720.0000 - val_loss: 215.1295 - val_mean_absolute_percentage_error: 4.2304\n",
            "Epoch 16/50\n",
            "1575/1575 [==============================] - 73s 46ms/step - loss: 181.0823 - mean_absolute_percentage_error: 15154103296.0000 - val_loss: 213.4281 - val_mean_absolute_percentage_error: 4.2359\n",
            "Epoch 17/50\n",
            "1575/1575 [==============================] - 73s 46ms/step - loss: 181.5051 - mean_absolute_percentage_error: 15315358720.0000 - val_loss: 279.2079 - val_mean_absolute_percentage_error: 5.2800\n",
            "Epoch 18/50\n",
            "1575/1575 [==============================] - 73s 46ms/step - loss: 185.7163 - mean_absolute_percentage_error: 16339248128.0000 - val_loss: 262.5524 - val_mean_absolute_percentage_error: 5.0829\n",
            "Epoch 19/50\n",
            "1575/1575 [==============================] - 73s 46ms/step - loss: 188.9147 - mean_absolute_percentage_error: 16744914944.0000 - val_loss: 247.6784 - val_mean_absolute_percentage_error: 5.2602\n",
            "Epoch 20/50\n",
            "1575/1575 [==============================] - 73s 46ms/step - loss: 189.0061 - mean_absolute_percentage_error: 16108735488.0000 - val_loss: 224.1881 - val_mean_absolute_percentage_error: 4.4812\n",
            "Epoch 21/50\n",
            "1575/1575 [==============================] - 73s 47ms/step - loss: 190.3687 - mean_absolute_percentage_error: 16327321600.0000 - val_loss: 250.9070 - val_mean_absolute_percentage_error: 5.0621\n",
            "Epoch 22/50\n",
            "1575/1575 [==============================] - 73s 46ms/step - loss: 194.4452 - mean_absolute_percentage_error: 17591955456.0000 - val_loss: 212.1081 - val_mean_absolute_percentage_error: 4.1579\n",
            "Epoch 23/50\n",
            "1575/1575 [==============================] - 73s 46ms/step - loss: 189.0817 - mean_absolute_percentage_error: 16675303424.0000 - val_loss: 212.3741 - val_mean_absolute_percentage_error: 4.1756\n",
            "Epoch 24/50\n",
            "1575/1575 [==============================] - 72s 46ms/step - loss: 182.4735 - mean_absolute_percentage_error: 15239505920.0000 - val_loss: 232.8071 - val_mean_absolute_percentage_error: 4.4679\n",
            "Epoch 25/50\n",
            "1575/1575 [==============================] - 73s 46ms/step - loss: 188.2235 - mean_absolute_percentage_error: 16709345280.0000 - val_loss: 246.4215 - val_mean_absolute_percentage_error: 4.8399\n",
            "Epoch 26/50\n",
            "1575/1575 [==============================] - 73s 46ms/step - loss: 199.2127 - mean_absolute_percentage_error: 18663997440.0000 - val_loss: 371.0183 - val_mean_absolute_percentage_error: 8.1404\n",
            "Epoch 27/50\n",
            "1575/1575 [==============================] - 73s 47ms/step - loss: 199.2612 - mean_absolute_percentage_error: 17894330368.0000 - val_loss: 253.1373 - val_mean_absolute_percentage_error: 5.3539\n",
            "Epoch 28/50\n",
            "1575/1575 [==============================] - 73s 46ms/step - loss: 182.6831 - mean_absolute_percentage_error: 15045624832.0000 - val_loss: 210.5790 - val_mean_absolute_percentage_error: 4.1605\n",
            "Epoch 29/50\n",
            "1575/1575 [==============================] - 73s 47ms/step - loss: 182.1985 - mean_absolute_percentage_error: 15228343296.0000 - val_loss: 305.6584 - val_mean_absolute_percentage_error: 5.7039\n",
            "Epoch 30/50\n",
            "1575/1575 [==============================] - 73s 47ms/step - loss: 180.6756 - mean_absolute_percentage_error: 15006666752.0000 - val_loss: 228.9422 - val_mean_absolute_percentage_error: 4.4597\n",
            "Epoch 31/50\n",
            "1575/1575 [==============================] - 73s 46ms/step - loss: 182.9419 - mean_absolute_percentage_error: 15438689280.0000 - val_loss: 234.3738 - val_mean_absolute_percentage_error: 4.6701\n",
            "Epoch 32/50\n",
            "1575/1575 [==============================] - 73s 46ms/step - loss: 184.1568 - mean_absolute_percentage_error: 15753768960.0000 - val_loss: 219.7850 - val_mean_absolute_percentage_error: 4.2290\n",
            "Epoch 33/50\n",
            "1575/1575 [==============================] - 72s 46ms/step - loss: 180.3926 - mean_absolute_percentage_error: 14859186176.0000 - val_loss: 262.4196 - val_mean_absolute_percentage_error: 5.0665\n",
            "Epoch 34/50\n",
            "1575/1575 [==============================] - 72s 46ms/step - loss: 177.9692 - mean_absolute_percentage_error: 14565935104.0000 - val_loss: 210.4980 - val_mean_absolute_percentage_error: 4.1497\n",
            "Epoch 35/50\n",
            "1575/1575 [==============================] - 72s 46ms/step - loss: 177.0775 - mean_absolute_percentage_error: 14230142976.0000 - val_loss: 210.5314 - val_mean_absolute_percentage_error: 4.1134\n",
            "Epoch 36/50\n",
            "1575/1575 [==============================] - 72s 46ms/step - loss: 178.7711 - mean_absolute_percentage_error: 14695488512.0000 - val_loss: 208.7138 - val_mean_absolute_percentage_error: 4.1022\n",
            "Epoch 37/50\n",
            "1575/1575 [==============================] - 72s 46ms/step - loss: 194.9834 - mean_absolute_percentage_error: 17072177152.0000 - val_loss: 212.8886 - val_mean_absolute_percentage_error: 4.1591\n",
            "Epoch 38/50\n",
            "1575/1575 [==============================] - 73s 46ms/step - loss: 177.1687 - mean_absolute_percentage_error: 14408557568.0000 - val_loss: 239.5577 - val_mean_absolute_percentage_error: 4.5835\n",
            "Epoch 39/50\n",
            "1575/1575 [==============================] - 73s 46ms/step - loss: 198.0402 - mean_absolute_percentage_error: 18280646656.0000 - val_loss: 211.0607 - val_mean_absolute_percentage_error: 4.2266\n",
            "Epoch 40/50\n",
            "1575/1575 [==============================] - 73s 46ms/step - loss: 177.3176 - mean_absolute_percentage_error: 14126275584.0000 - val_loss: 216.2000 - val_mean_absolute_percentage_error: 4.2452\n",
            "Epoch 41/50\n",
            "1575/1575 [==============================] - 73s 46ms/step - loss: 178.5279 - mean_absolute_percentage_error: 14616325120.0000 - val_loss: 214.1264 - val_mean_absolute_percentage_error: 4.2427\n",
            "Epoch 42/50\n",
            "1575/1575 [==============================] - 73s 46ms/step - loss: 178.4148 - mean_absolute_percentage_error: 14839306240.0000 - val_loss: 234.4106 - val_mean_absolute_percentage_error: 4.6012\n",
            "Epoch 43/50\n",
            "1575/1575 [==============================] - 73s 46ms/step - loss: 174.0661 - mean_absolute_percentage_error: 13620899840.0000 - val_loss: 209.4640 - val_mean_absolute_percentage_error: 4.1363\n",
            "Epoch 44/50\n",
            "1575/1575 [==============================] - 72s 46ms/step - loss: 176.2835 - mean_absolute_percentage_error: 14090913792.0000 - val_loss: 226.9346 - val_mean_absolute_percentage_error: 4.4408\n",
            "Epoch 45/50\n",
            "1575/1575 [==============================] - 73s 46ms/step - loss: 180.5278 - mean_absolute_percentage_error: 15352731648.0000 - val_loss: 216.3899 - val_mean_absolute_percentage_error: 4.4712\n",
            "Epoch 46/50\n",
            "1575/1575 [==============================] - 73s 46ms/step - loss: 176.8773 - mean_absolute_percentage_error: 14336113664.0000 - val_loss: 210.1221 - val_mean_absolute_percentage_error: 4.1935\n",
            "Epoch 47/50\n",
            "1575/1575 [==============================] - 72s 46ms/step - loss: 174.8512 - mean_absolute_percentage_error: 13781799936.0000 - val_loss: 210.1286 - val_mean_absolute_percentage_error: 4.1393\n",
            "Epoch 48/50\n",
            "1575/1575 [==============================] - 72s 46ms/step - loss: 176.9234 - mean_absolute_percentage_error: 14308257792.0000 - val_loss: 251.2392 - val_mean_absolute_percentage_error: 4.7140\n",
            "Epoch 49/50\n",
            "1575/1575 [==============================] - 72s 46ms/step - loss: 177.7381 - mean_absolute_percentage_error: 14512867328.0000 - val_loss: 223.7037 - val_mean_absolute_percentage_error: 4.3766\n",
            "Epoch 50/50\n",
            "1575/1575 [==============================] - 73s 46ms/step - loss: 178.6433 - mean_absolute_percentage_error: 14897600512.0000 - val_loss: 211.9989 - val_mean_absolute_percentage_error: 4.1945\n"
          ]
        }
      ],
      "source": [
        "model = keras.models.Sequential([\n",
        "    TCN(input_shape=(lookback_window, 6), \n",
        "        kernel_size=10,\n",
        "        nb_filters=32,\n",
        "        dilations=[1, 2, 4, 8, 16],\n",
        "        padding='causal',\n",
        "        activation='relu',\n",
        "        return_sequences=False,\n",
        "        nb_stacks=2,\n",
        "        use_skip_connections=False,\n",
        "        use_batch_norm=False\n",
        "        ),\n",
        "    keras.layers.Dense(1)\n",
        "])\n",
        "model.summary()\n",
        "early_stopping=tf.keras.callbacks.EarlyStopping(\n",
        "    monitor=\"val_mean_absolute_percentage_error\",\n",
        "    patience=15,\n",
        "    start_from_epoch=15,\n",
        "    restore_best_weights=True,\n",
        "    mode=\"min\"\n",
        ")\n",
        "model.compile('adam','mae',metrics=keras.metrics.MeanAbsolutePercentageError())\n",
        "print('Train...')\n",
        "history = model.fit(x_train, y_train,\n",
        "                    epochs=50,\n",
        "                    verbose=1,validation_data=(x_test,y_test),callbacks=[early_stopping])"
      ]
    },
    {
      "cell_type": "code",
      "execution_count": 26,
      "metadata": {
        "id": "YLPS-n4dwT5G",
        "colab": {
          "base_uri": "https://localhost:8080/",
          "height": 290
        },
        "outputId": "104d19a9-5573-4766-b69a-ba2a4e9dc210"
      },
      "outputs": [
        {
          "output_type": "display_data",
          "data": {
            "text/plain": [
              "<Figure size 1008x288 with 2 Axes>"
            ],
            "image/png": "[encoded data removed]"
          },
          "metadata": {
            "needs_background": "light"
          }
        }
      ],
      "source": [
        "import matplotlib.pyplot as plt\n",
        "logs = pd.DataFrame(history.history)\n",
        "\n",
        "plt.figure(figsize=(14, 4))\n",
        "plt.subplot(1, 2, 1)\n",
        "plt.plot(logs.loc[1:,\"loss\"], lw=2, label='training loss')\n",
        "plt.plot(logs.loc[1:,\"val_loss\"], lw=2, label='validation loss')\n",
        "plt.xlabel(\"Epoch\")\n",
        "plt.ylabel(\"Loss\")\n",
        "plt.legend()\n",
        "plt.subplot(1, 2, 2)\n",
        "plt.plot(logs.loc[1:,\"mean_absolute_percentage_error\"], lw=2, label='training MAE')\n",
        "plt.plot(logs.loc[1:,\"val_mean_absolute_percentage_error\"], lw=2, label='validation MAE')\n",
        "plt.xlabel(\"Epoch\")\n",
        "plt.ylabel(\"MAPE\")\n",
        "plt.legend(loc='upper right')\n",
        "plt.show()"
      ]
    },
    {
      "cell_type": "code",
      "source": [
        "plt.plot(logs.loc[1:,\"val_mean_absolute_percentage_error\"], lw=2, label='validation MAE')\n",
        "plt.xlabel(\"Epoch\")\n",
        "plt.ylabel(\"MAPE\")"
      ],
      "metadata": {
        "colab": {
          "base_uri": "https://localhost:8080/",
          "height": 297
        },
        "id": "obf1xk7mQCbM",
        "outputId": "cd464f91-8907-425c-bc12-713dcc55322d"
      },
      "execution_count": 27,
      "outputs": [
        {
          "output_type": "execute_result",
          "data": {
            "text/plain": [
              "Text(0, 0.5, 'MAPE')"
            ]
          },
          "metadata": {},
          "execution_count": 27
        },
        {
          "output_type": "display_data",
          "data": {
            "text/plain": [
              "<Figure size 432x288 with 1 Axes>"
            ],
            "image/png": "[encoded data removed]"
          },
          "metadata": {
            "needs_background": "light"
          }
        }
      ]
    },
    {
      "cell_type": "code",
      "execution_count": 33,
      "metadata": {
        "execution": {
          "iopub.execute_input": "2023-01-09T11:25:27.351333Z",
          "iopub.status.busy": "2023-01-09T11:25:27.350875Z",
          "iopub.status.idle": "2023-01-09T11:25:29.481289Z",
          "shell.execute_reply": "2023-01-09T11:25:29.480348Z",
          "shell.execute_reply.started": "2023-01-09T11:25:27.351206Z"
        },
        "id": "pbEAZ5uiaazH",
        "colab": {
          "base_uri": "https://localhost:8080/"
        },
        "outputId": "1a89f491-5df0-48ce-b3f8-8d1cfc0bd7c3"
      },
      "outputs": [
        {
          "output_type": "stream",
          "name": "stdout",
          "text": [
            "23/23 [==============================] - 0s 20ms/step\n"
          ]
        }
      ],
      "source": [
        "p = model.predict(x_test)"
      ]
    },
    {
      "cell_type": "code",
      "execution_count": 34,
      "metadata": {
        "execution": {
          "iopub.execute_input": "2023-01-09T11:25:29.483855Z",
          "iopub.status.busy": "2023-01-09T11:25:29.482902Z",
          "iopub.status.idle": "2023-01-09T11:25:29.489958Z",
          "shell.execute_reply": "2023-01-09T11:25:29.489009Z",
          "shell.execute_reply.started": "2023-01-09T11:25:29.483815Z"
        },
        "id": "m9dNOhN1g2Mp",
        "colab": {
          "base_uri": "https://localhost:8080/"
        },
        "outputId": "2e6bfc55-f86e-4dec-9509-ccdd65ec98cf"
      },
      "outputs": [
        {
          "output_type": "stream",
          "name": "stdout",
          "text": [
            "(720, 1440, 6)\n",
            "(720,)\n",
            "(720, 1)\n"
          ]
        }
      ],
      "source": [
        "print(x_test.shape)\n",
        "print(y_test.shape)\n",
        "print(p.shape)"
      ]
    },
    {
      "cell_type": "code",
      "execution_count": 35,
      "metadata": {
        "id": "TM7jGF5l0bAV",
        "colab": {
          "base_uri": "https://localhost:8080/",
          "height": 281
        },
        "outputId": "17bf0787-fe84-4dcf-9670-dc291cde1414"
      },
      "outputs": [
        {
          "output_type": "display_data",
          "data": {
            "text/plain": [
              "<Figure size 432x288 with 1 Axes>"
            ],
            "image/png": "[encoded data removed]"
          },
          "metadata": {
            "needs_background": "light"
          }
        }
      ],
      "source": [
        "#y_test = y_test*max_values[2] #denormalizing\n",
        "#predictions = p*max_values[2]\n",
        "predictions = p\n",
        "plt.plot(predictions) \n",
        "plt.plot(y_test) \n",
        "plt.title('After Denormalizing')\n",
        "plt.legend(['predicted', 'actual'])\n",
        "plt.show()\n"
      ]
    },
    {
      "cell_type": "code",
      "execution_count": 36,
      "metadata": {
        "id": "_L1xDvuK0bHU"
      },
      "outputs": [],
      "source": [
        "predictions = pd.DataFrame(predictions)\n",
        "actual_data = pd.DataFrame(y_test)\n",
        "result = pd.concat([actual_data,predictions],axis=1)\n",
        "result.columns = ['actual_data','predicted_data']"
      ]
    },
    {
      "cell_type": "code",
      "execution_count": 37,
      "metadata": {
        "id": "Vt_EiM3n0bO8",
        "colab": {
          "base_uri": "https://localhost:8080/"
        },
        "outputId": "2cceb025-1889-4d4e-e982-39c0c2a72921"
      },
      "outputs": [
        {
          "output_type": "stream",
          "name": "stdout",
          "text": [
            "Mean absolute percentage error : 0.04194545566299897\n"
          ]
        }
      ],
      "source": [
        "from sklearn.metrics import mean_absolute_percentage_error as mape\n",
        "  \n",
        "\n",
        "error = mape(result['actual_data'],result['predicted_data'])\n",
        "  \n",
        "\n",
        "print(\"Mean absolute percentage error : \" + str(error))"
      ]
    },
    {
      "cell_type": "code",
      "execution_count": null,
      "metadata": {
        "id": "RA8MyDZe0bSs"
      },
      "outputs": [],
      "source": []
    },
    {
      "cell_type": "code",
      "execution_count": null,
      "metadata": {
        "id": "M9RIG8QK0bWr"
      },
      "outputs": [],
      "source": []
    }
  ],
  "metadata": {
    "accelerator": "GPU",
    "colab": {
      "provenance": []
    },
    "gpuClass": "standard",
    "kernelspec": {
      "display_name": "Python 3 (ipykernel)",
      "language": "python",
      "name": "python3"
    },
    "language_info": {
      "codemirror_mode": {
        "name": "ipython",
        "version": 3
      },
      "file_extension": ".py",
      "mimetype": "text/x-python",
      "name": "python",
      "nbconvert_exporter": "python",
      "pygments_lexer": "ipython3",
      "version": "3.9.13"
    }
  },
  "nbformat": 4,
  "nbformat_minor": 0
}