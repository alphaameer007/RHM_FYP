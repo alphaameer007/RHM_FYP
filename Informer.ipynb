{
  "nbformat": 4,
  "nbformat_minor": 0,
  "metadata": {
    "colab": {
      "provenance": [],
      "authorship_tag": "ABX9TyMVVIc8O7T0KJxmGtq3c3JG",
      "include_colab_link": true
    },
    "kernelspec": {
      "name": "python3",
      "display_name": "Python 3"
    },
    "language_info": {
      "name": "python"
    },
    "accelerator": "GPU",
    "gpuClass": "standard"
  },
  "cells": [
    {
      "cell_type": "markdown",
      "metadata": {
        "id": "view-in-github",
        "colab_type": "text"
      },
      "source": [
        "<a href=\"https://colab.research.google.com/github/hammaad2002/RHM_FYP/blob/main/Informer.ipynb\" target=\"_parent\"><img src=\"https://colab.research.google.com/assets/colab-badge.svg\" alt=\"Open In Colab\"/></a>"
      ]
    },
    {
      "cell_type": "markdown",
      "source": [
        "# **---------------INFORMER MODEL FOR TIME SERIES---------------**"
      ],
      "metadata": {
        "id": "zUEkrRE5CDwe"
      }
    },
    {
      "cell_type": "markdown",
      "source": [
        "**Importing dataset from Github and installing a package**"
      ],
      "metadata": {
        "id": "Jf_sO99ZBT8d"
      }
    },
    {
      "cell_type": "code",
      "execution_count": 1,
      "metadata": {
        "id": "ln8b_2AMZtxt"
      },
      "outputs": [],
      "source": [
        "%%capture\n",
        "!git clone https://github.com/hammaad2002/RHM_FYP"
      ]
    },
    {
      "cell_type": "markdown",
      "source": [
        "**Adding current path to python's system path also**"
      ],
      "metadata": {
        "id": "aZhKZp5MBZHV"
      }
    },
    {
      "cell_type": "code",
      "source": [
        "import sys\n",
        "sys.path.append('/content/RHM_FYP/')"
      ],
      "metadata": {
        "id": "ffUEIIJJ-ixX"
      },
      "execution_count": 2,
      "outputs": []
    },
    {
      "cell_type": "markdown",
      "source": [
        "**Importing necessary libraries/packages**"
      ],
      "metadata": {
        "id": "fqtqj35bBX6F"
      }
    },
    {
      "cell_type": "code",
      "source": [
        "import pandas as pd\n",
        "from informer import Informer\n",
        "import torch\n",
        "import torch.nn as nn\n",
        "import torch.optim as optim\n",
        "import random\n",
        "import math\n",
        "import numpy as np\n",
        "import matplotlib.pyplot as plt"
      ],
      "metadata": {
        "id": "fJeKB1RSZz2U"
      },
      "execution_count": 3,
      "outputs": []
    },
    {
      "cell_type": "markdown",
      "source": [
        "**Importing data as dataframe**"
      ],
      "metadata": {
        "id": "mmFGVZHmBtoF"
      }
    },
    {
      "cell_type": "code",
      "source": [
        "df=pd.read_csv('/content/RHM_FYP/TurkeyWindFarm.csv')\n",
        "df"
      ],
      "metadata": {
        "colab": {
          "base_uri": "https://localhost:8080/",
          "height": 424
        },
        "id": "a-O-5WHMZ5ta",
        "outputId": "291ecce7-301c-4ea4-cf48-c96aee08a31a"
      },
      "execution_count": 4,
      "outputs": [
        {
          "output_type": "execute_result",
          "data": {
            "text/plain": [
              "                   time  LV ActivePower (kW)  Wind Speed (m/s)  wind energy  \\\n",
              "0         1/1/2018 0:00           380.047791          5.311336   416.328908   \n",
              "1         1/1/2018 0:10           453.769196          5.672167   519.917511   \n",
              "2         1/1/2018 0:20           306.376587          5.216037   390.900016   \n",
              "3         1/1/2018 0:30           419.645904          5.659674   516.127569   \n",
              "4         1/1/2018 0:40           380.650696          5.577941   491.702972   \n",
              "...                 ...                  ...               ...          ...   \n",
              "52555  12/31/2018 23:10          2963.980957         11.404030  3397.190793   \n",
              "52556  12/31/2018 23:20          1684.353027          7.332648  1173.055771   \n",
              "52557  12/31/2018 23:30          2201.106934          8.435358  1788.284755   \n",
              "52558  12/31/2018 23:40          2515.694092          9.421366  2418.382503   \n",
              "52559  12/31/2018 23:50          2820.466064          9.979332  2779.184096   \n",
              "\n",
              "       Wind Direction (°)  \n",
              "0              259.994904  \n",
              "1              268.641113  \n",
              "2              272.564789  \n",
              "3              271.258087  \n",
              "4              265.674286  \n",
              "...                   ...  \n",
              "52555           80.502724  \n",
              "52556           84.062599  \n",
              "52557           84.742500  \n",
              "52558           84.297913  \n",
              "52559           82.274620  \n",
              "\n",
              "[52560 rows x 5 columns]"
            ],
            "text/html": [
              "\n",
              "  <div id=\"df-46179ca3-ee88-41c5-92f9-f8a9d093d4f2\">\n",
              "    <div class=\"colab-df-container\">\n",
              "      <div>\n",
              "<style scoped>\n",
              "    .dataframe tbody tr th:only-of-type {\n",
              "        vertical-align: middle;\n",
              "    }\n",
              "\n",
              "    .dataframe tbody tr th {\n",
              "        vertical-align: top;\n",
              "    }\n",
              "\n",
              "    .dataframe thead th {\n",
              "        text-align: right;\n",
              "    }\n",
              "</style>\n",
              "<table border=\"1\" class=\"dataframe\">\n",
              "  <thead>\n",
              "    <tr style=\"text-align: right;\">\n",
              "      <th></th>\n",
              "      <th>time</th>\n",
              "      <th>LV ActivePower (kW)</th>\n",
              "      <th>Wind Speed (m/s)</th>\n",
              "      <th>wind energy</th>\n",
              "      <th>Wind Direction (°)</th>\n",
              "    </tr>\n",
              "  </thead>\n",
              "  <tbody>\n",
              "    <tr>\n",
              "      <th>0</th>\n",
              "      <td>1/1/2018 0:00</td>\n",
              "      <td>380.047791</td>\n",
              "      <td>5.311336</td>\n",
              "      <td>416.328908</td>\n",
              "      <td>259.994904</td>\n",
              "    </tr>\n",
              "    <tr>\n",
              "      <th>1</th>\n",
              "      <td>1/1/2018 0:10</td>\n",
              "      <td>453.769196</td>\n",
              "      <td>5.672167</td>\n",
              "      <td>519.917511</td>\n",
              "      <td>268.641113</td>\n",
              "    </tr>\n",
              "    <tr>\n",
              "      <th>2</th>\n",
              "      <td>1/1/2018 0:20</td>\n",
              "      <td>306.376587</td>\n",
              "      <td>5.216037</td>\n",
              "      <td>390.900016</td>\n",
              "      <td>272.564789</td>\n",
              "    </tr>\n",
              "    <tr>\n",
              "      <th>3</th>\n",
              "      <td>1/1/2018 0:30</td>\n",
              "      <td>419.645904</td>\n",
              "      <td>5.659674</td>\n",
              "      <td>516.127569</td>\n",
              "      <td>271.258087</td>\n",
              "    </tr>\n",
              "    <tr>\n",
              "      <th>4</th>\n",
              "      <td>1/1/2018 0:40</td>\n",
              "      <td>380.650696</td>\n",
              "      <td>5.577941</td>\n",
              "      <td>491.702972</td>\n",
              "      <td>265.674286</td>\n",
              "    </tr>\n",
              "    <tr>\n",
              "      <th>...</th>\n",
              "      <td>...</td>\n",
              "      <td>...</td>\n",
              "      <td>...</td>\n",
              "      <td>...</td>\n",
              "      <td>...</td>\n",
              "    </tr>\n",
              "    <tr>\n",
              "      <th>52555</th>\n",
              "      <td>12/31/2018 23:10</td>\n",
              "      <td>2963.980957</td>\n",
              "      <td>11.404030</td>\n",
              "      <td>3397.190793</td>\n",
              "      <td>80.502724</td>\n",
              "    </tr>\n",
              "    <tr>\n",
              "      <th>52556</th>\n",
              "      <td>12/31/2018 23:20</td>\n",
              "      <td>1684.353027</td>\n",
              "      <td>7.332648</td>\n",
              "      <td>1173.055771</td>\n",
              "      <td>84.062599</td>\n",
              "    </tr>\n",
              "    <tr>\n",
              "      <th>52557</th>\n",
              "      <td>12/31/2018 23:30</td>\n",
              "      <td>2201.106934</td>\n",
              "      <td>8.435358</td>\n",
              "      <td>1788.284755</td>\n",
              "      <td>84.742500</td>\n",
              "    </tr>\n",
              "    <tr>\n",
              "      <th>52558</th>\n",
              "      <td>12/31/2018 23:40</td>\n",
              "      <td>2515.694092</td>\n",
              "      <td>9.421366</td>\n",
              "      <td>2418.382503</td>\n",
              "      <td>84.297913</td>\n",
              "    </tr>\n",
              "    <tr>\n",
              "      <th>52559</th>\n",
              "      <td>12/31/2018 23:50</td>\n",
              "      <td>2820.466064</td>\n",
              "      <td>9.979332</td>\n",
              "      <td>2779.184096</td>\n",
              "      <td>82.274620</td>\n",
              "    </tr>\n",
              "  </tbody>\n",
              "</table>\n",
              "<p>52560 rows × 5 columns</p>\n",
              "</div>\n",
              "      <button class=\"colab-df-convert\" onclick=\"convertToInteractive('df-46179ca3-ee88-41c5-92f9-f8a9d093d4f2')\"\n",
              "              title=\"Convert this dataframe to an interactive table.\"\n",
              "              style=\"display:none;\">\n",
              "        \n",
              "  <svg xmlns=\"http://www.w3.org/2000/svg\" height=\"24px\"viewBox=\"0 0 24 24\"\n",
              "       width=\"24px\">\n",
              "    <path d=\"M0 0h24v24H0V0z\" fill=\"none\"/>\n",
              "    <path d=\"M18.56 5.44l.94 2.06.94-2.06 2.06-.94-2.06-.94-.94-2.06-.94 2.06-2.06.94zm-11 1L8.5 8.5l.94-2.06 2.06-.94-2.06-.94L8.5 2.5l-.94 2.06-2.06.94zm10 10l.94 2.06.94-2.06 2.06-.94-2.06-.94-.94-2.06-.94 2.06-2.06.94z\"/><path d=\"M17.41 7.96l-1.37-1.37c-.4-.4-.92-.59-1.43-.59-.52 0-1.04.2-1.43.59L10.3 9.45l-7.72 7.72c-.78.78-.78 2.05 0 2.83L4 21.41c.39.39.9.59 1.41.59.51 0 1.02-.2 1.41-.59l7.78-7.78 2.81-2.81c.8-.78.8-2.07 0-2.86zM5.41 20L4 18.59l7.72-7.72 1.47 1.35L5.41 20z\"/>\n",
              "  </svg>\n",
              "      </button>\n",
              "      \n",
              "  <style>\n",
              "    .colab-df-container {\n",
              "      display:flex;\n",
              "      flex-wrap:wrap;\n",
              "      gap: 12px;\n",
              "    }\n",
              "\n",
              "    .colab-df-convert {\n",
              "      background-color: #E8F0FE;\n",
              "      border: none;\n",
              "      border-radius: 50%;\n",
              "      cursor: pointer;\n",
              "      display: none;\n",
              "      fill: #1967D2;\n",
              "      height: 32px;\n",
              "      padding: 0 0 0 0;\n",
              "      width: 32px;\n",
              "    }\n",
              "\n",
              "    .colab-df-convert:hover {\n",
              "      background-color: #E2EBFA;\n",
              "      box-shadow: 0px 1px 2px rgba(60, 64, 67, 0.3), 0px 1px 3px 1px rgba(60, 64, 67, 0.15);\n",
              "      fill: #174EA6;\n",
              "    }\n",
              "\n",
              "    [theme=dark] .colab-df-convert {\n",
              "      background-color: #3B4455;\n",
              "      fill: #D2E3FC;\n",
              "    }\n",
              "\n",
              "    [theme=dark] .colab-df-convert:hover {\n",
              "      background-color: #434B5C;\n",
              "      box-shadow: 0px 1px 3px 1px rgba(0, 0, 0, 0.15);\n",
              "      filter: drop-shadow(0px 1px 2px rgba(0, 0, 0, 0.3));\n",
              "      fill: #FFFFFF;\n",
              "    }\n",
              "  </style>\n",
              "\n",
              "      <script>\n",
              "        const buttonEl =\n",
              "          document.querySelector('#df-46179ca3-ee88-41c5-92f9-f8a9d093d4f2 button.colab-df-convert');\n",
              "        buttonEl.style.display =\n",
              "          google.colab.kernel.accessAllowed ? 'block' : 'none';\n",
              "\n",
              "        async function convertToInteractive(key) {\n",
              "          const element = document.querySelector('#df-46179ca3-ee88-41c5-92f9-f8a9d093d4f2');\n",
              "          const dataTable =\n",
              "            await google.colab.kernel.invokeFunction('convertToInteractive',\n",
              "                                                     [key], {});\n",
              "          if (!dataTable) return;\n",
              "\n",
              "          const docLinkHtml = 'Like what you see? Visit the ' +\n",
              "            '<a target=\"_blank\" href=https://colab.research.google.com/notebooks/data_table.ipynb>data table notebook</a>'\n",
              "            + ' to learn more about interactive tables.';\n",
              "          element.innerHTML = '';\n",
              "          dataTable['output_type'] = 'display_data';\n",
              "          await google.colab.output.renderOutput(dataTable, element);\n",
              "          const docLink = document.createElement('div');\n",
              "          docLink.innerHTML = docLinkHtml;\n",
              "          element.appendChild(docLink);\n",
              "        }\n",
              "      </script>\n",
              "    </div>\n",
              "  </div>\n",
              "  "
            ]
          },
          "metadata": {},
          "execution_count": 4
        }
      ]
    },
    {
      "cell_type": "markdown",
      "source": [
        "# **Data Preparation (using sliding window technique)**"
      ],
      "metadata": {
        "id": "SA-YMCpoBwvO"
      }
    },
    {
      "cell_type": "markdown",
      "source": [
        "![image.png](data:image/png;base64,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)"
      ],
      "metadata": {
        "id": "ynSsd4KKB4BJ"
      }
    },
    {
      "cell_type": "markdown",
      "source": [
        "**Don't need time information in our case**"
      ],
      "metadata": {
        "id": "y7TRBersB8I8"
      }
    },
    {
      "cell_type": "code",
      "source": [
        "df.drop('time', inplace=True, axis=1)\n",
        "df"
      ],
      "metadata": {
        "colab": {
          "base_uri": "https://localhost:8080/",
          "height": 424
        },
        "id": "ddj4y-BlZ7ey",
        "outputId": "bf9d0e13-1208-4121-83a8-eac496d2b2aa"
      },
      "execution_count": 5,
      "outputs": [
        {
          "output_type": "execute_result",
          "data": {
            "text/plain": [
              "       LV ActivePower (kW)  Wind Speed (m/s)  wind energy  Wind Direction (°)\n",
              "0               380.047791          5.311336   416.328908          259.994904\n",
              "1               453.769196          5.672167   519.917511          268.641113\n",
              "2               306.376587          5.216037   390.900016          272.564789\n",
              "3               419.645904          5.659674   516.127569          271.258087\n",
              "4               380.650696          5.577941   491.702972          265.674286\n",
              "...                    ...               ...          ...                 ...\n",
              "52555          2963.980957         11.404030  3397.190793           80.502724\n",
              "52556          1684.353027          7.332648  1173.055771           84.062599\n",
              "52557          2201.106934          8.435358  1788.284755           84.742500\n",
              "52558          2515.694092          9.421366  2418.382503           84.297913\n",
              "52559          2820.466064          9.979332  2779.184096           82.274620\n",
              "\n",
              "[52560 rows x 4 columns]"
            ],
            "text/html": [
              "\n",
              "  <div id=\"df-ab38399a-ba46-489d-921d-bcab7db564f8\">\n",
              "    <div class=\"colab-df-container\">\n",
              "      <div>\n",
              "<style scoped>\n",
              "    .dataframe tbody tr th:only-of-type {\n",
              "        vertical-align: middle;\n",
              "    }\n",
              "\n",
              "    .dataframe tbody tr th {\n",
              "        vertical-align: top;\n",
              "    }\n",
              "\n",
              "    .dataframe thead th {\n",
              "        text-align: right;\n",
              "    }\n",
              "</style>\n",
              "<table border=\"1\" class=\"dataframe\">\n",
              "  <thead>\n",
              "    <tr style=\"text-align: right;\">\n",
              "      <th></th>\n",
              "      <th>LV ActivePower (kW)</th>\n",
              "      <th>Wind Speed (m/s)</th>\n",
              "      <th>wind energy</th>\n",
              "      <th>Wind Direction (°)</th>\n",
              "    </tr>\n",
              "  </thead>\n",
              "  <tbody>\n",
              "    <tr>\n",
              "      <th>0</th>\n",
              "      <td>380.047791</td>\n",
              "      <td>5.311336</td>\n",
              "      <td>416.328908</td>\n",
              "      <td>259.994904</td>\n",
              "    </tr>\n",
              "    <tr>\n",
              "      <th>1</th>\n",
              "      <td>453.769196</td>\n",
              "      <td>5.672167</td>\n",
              "      <td>519.917511</td>\n",
              "      <td>268.641113</td>\n",
              "    </tr>\n",
              "    <tr>\n",
              "      <th>2</th>\n",
              "      <td>306.376587</td>\n",
              "      <td>5.216037</td>\n",
              "      <td>390.900016</td>\n",
              "      <td>272.564789</td>\n",
              "    </tr>\n",
              "    <tr>\n",
              "      <th>3</th>\n",
              "      <td>419.645904</td>\n",
              "      <td>5.659674</td>\n",
              "      <td>516.127569</td>\n",
              "      <td>271.258087</td>\n",
              "    </tr>\n",
              "    <tr>\n",
              "      <th>4</th>\n",
              "      <td>380.650696</td>\n",
              "      <td>5.577941</td>\n",
              "      <td>491.702972</td>\n",
              "      <td>265.674286</td>\n",
              "    </tr>\n",
              "    <tr>\n",
              "      <th>...</th>\n",
              "      <td>...</td>\n",
              "      <td>...</td>\n",
              "      <td>...</td>\n",
              "      <td>...</td>\n",
              "    </tr>\n",
              "    <tr>\n",
              "      <th>52555</th>\n",
              "      <td>2963.980957</td>\n",
              "      <td>11.404030</td>\n",
              "      <td>3397.190793</td>\n",
              "      <td>80.502724</td>\n",
              "    </tr>\n",
              "    <tr>\n",
              "      <th>52556</th>\n",
              "      <td>1684.353027</td>\n",
              "      <td>7.332648</td>\n",
              "      <td>1173.055771</td>\n",
              "      <td>84.062599</td>\n",
              "    </tr>\n",
              "    <tr>\n",
              "      <th>52557</th>\n",
              "      <td>2201.106934</td>\n",
              "      <td>8.435358</td>\n",
              "      <td>1788.284755</td>\n",
              "      <td>84.742500</td>\n",
              "    </tr>\n",
              "    <tr>\n",
              "      <th>52558</th>\n",
              "      <td>2515.694092</td>\n",
              "      <td>9.421366</td>\n",
              "      <td>2418.382503</td>\n",
              "      <td>84.297913</td>\n",
              "    </tr>\n",
              "    <tr>\n",
              "      <th>52559</th>\n",
              "      <td>2820.466064</td>\n",
              "      <td>9.979332</td>\n",
              "      <td>2779.184096</td>\n",
              "      <td>82.274620</td>\n",
              "    </tr>\n",
              "  </tbody>\n",
              "</table>\n",
              "<p>52560 rows × 4 columns</p>\n",
              "</div>\n",
              "      <button class=\"colab-df-convert\" onclick=\"convertToInteractive('df-ab38399a-ba46-489d-921d-bcab7db564f8')\"\n",
              "              title=\"Convert this dataframe to an interactive table.\"\n",
              "              style=\"display:none;\">\n",
              "        \n",
              "  <svg xmlns=\"http://www.w3.org/2000/svg\" height=\"24px\"viewBox=\"0 0 24 24\"\n",
              "       width=\"24px\">\n",
              "    <path d=\"M0 0h24v24H0V0z\" fill=\"none\"/>\n",
              "    <path d=\"M18.56 5.44l.94 2.06.94-2.06 2.06-.94-2.06-.94-.94-2.06-.94 2.06-2.06.94zm-11 1L8.5 8.5l.94-2.06 2.06-.94-2.06-.94L8.5 2.5l-.94 2.06-2.06.94zm10 10l.94 2.06.94-2.06 2.06-.94-2.06-.94-.94-2.06-.94 2.06-2.06.94z\"/><path d=\"M17.41 7.96l-1.37-1.37c-.4-.4-.92-.59-1.43-.59-.52 0-1.04.2-1.43.59L10.3 9.45l-7.72 7.72c-.78.78-.78 2.05 0 2.83L4 21.41c.39.39.9.59 1.41.59.51 0 1.02-.2 1.41-.59l7.78-7.78 2.81-2.81c.8-.78.8-2.07 0-2.86zM5.41 20L4 18.59l7.72-7.72 1.47 1.35L5.41 20z\"/>\n",
              "  </svg>\n",
              "      </button>\n",
              "      \n",
              "  <style>\n",
              "    .colab-df-container {\n",
              "      display:flex;\n",
              "      flex-wrap:wrap;\n",
              "      gap: 12px;\n",
              "    }\n",
              "\n",
              "    .colab-df-convert {\n",
              "      background-color: #E8F0FE;\n",
              "      border: none;\n",
              "      border-radius: 50%;\n",
              "      cursor: pointer;\n",
              "      display: none;\n",
              "      fill: #1967D2;\n",
              "      height: 32px;\n",
              "      padding: 0 0 0 0;\n",
              "      width: 32px;\n",
              "    }\n",
              "\n",
              "    .colab-df-convert:hover {\n",
              "      background-color: #E2EBFA;\n",
              "      box-shadow: 0px 1px 2px rgba(60, 64, 67, 0.3), 0px 1px 3px 1px rgba(60, 64, 67, 0.15);\n",
              "      fill: #174EA6;\n",
              "    }\n",
              "\n",
              "    [theme=dark] .colab-df-convert {\n",
              "      background-color: #3B4455;\n",
              "      fill: #D2E3FC;\n",
              "    }\n",
              "\n",
              "    [theme=dark] .colab-df-convert:hover {\n",
              "      background-color: #434B5C;\n",
              "      box-shadow: 0px 1px 3px 1px rgba(0, 0, 0, 0.15);\n",
              "      filter: drop-shadow(0px 1px 2px rgba(0, 0, 0, 0.3));\n",
              "      fill: #FFFFFF;\n",
              "    }\n",
              "  </style>\n",
              "\n",
              "      <script>\n",
              "        const buttonEl =\n",
              "          document.querySelector('#df-ab38399a-ba46-489d-921d-bcab7db564f8 button.colab-df-convert');\n",
              "        buttonEl.style.display =\n",
              "          google.colab.kernel.accessAllowed ? 'block' : 'none';\n",
              "\n",
              "        async function convertToInteractive(key) {\n",
              "          const element = document.querySelector('#df-ab38399a-ba46-489d-921d-bcab7db564f8');\n",
              "          const dataTable =\n",
              "            await google.colab.kernel.invokeFunction('convertToInteractive',\n",
              "                                                     [key], {});\n",
              "          if (!dataTable) return;\n",
              "\n",
              "          const docLinkHtml = 'Like what you see? Visit the ' +\n",
              "            '<a target=\"_blank\" href=https://colab.research.google.com/notebooks/data_table.ipynb>data table notebook</a>'\n",
              "            + ' to learn more about interactive tables.';\n",
              "          element.innerHTML = '';\n",
              "          dataTable['output_type'] = 'display_data';\n",
              "          await google.colab.output.renderOutput(dataTable, element);\n",
              "          const docLink = document.createElement('div');\n",
              "          docLink.innerHTML = docLinkHtml;\n",
              "          element.appendChild(docLink);\n",
              "        }\n",
              "      </script>\n",
              "    </div>\n",
              "  </div>\n",
              "  "
            ]
          },
          "metadata": {},
          "execution_count": 5
        }
      ]
    },
    {
      "cell_type": "markdown",
      "source": [
        "**Normalizing data in between range [0,1]**"
      ],
      "metadata": {
        "id": "LWEAbiiSCiBr"
      }
    },
    {
      "cell_type": "code",
      "source": [
        "max_values = df.max()              #normalizing data in between range [0,1]\n",
        "df = df.div(max_values) \n",
        "df"
      ],
      "metadata": {
        "colab": {
          "base_uri": "https://localhost:8080/",
          "height": 424
        },
        "id": "DayUj6etZ88y",
        "outputId": "28699dd8-a9a2-464d-d2da-dd7a2f9f5ecc"
      },
      "execution_count": 6,
      "outputs": [
        {
          "output_type": "execute_result",
          "data": {
            "text/plain": [
              "       LV ActivePower (kW)  Wind Speed (m/s)  wind energy  Wind Direction (°)\n",
              "0                 0.105022          0.210717     0.115647            0.722213\n",
              "1                 0.125394          0.225032     0.144422            0.746230\n",
              "2                 0.084664          0.206936     0.108583            0.757129\n",
              "3                 0.115965          0.224537     0.143369            0.753500\n",
              "4                 0.105189          0.221294     0.136584            0.737989\n",
              "...                    ...               ...          ...                 ...\n",
              "52555             0.819066          0.452433     0.943664            0.223620\n",
              "52556             0.465454          0.290909     0.325849            0.233509\n",
              "52557             0.608253          0.334657     0.496746            0.235397\n",
              "52558             0.695186          0.373775     0.671773            0.234162\n",
              "52559             0.779407          0.395911     0.771996            0.228542\n",
              "\n",
              "[52560 rows x 4 columns]"
            ],
            "text/html": [
              "\n",
              "  <div id=\"df-bc9cc827-ac90-42d5-b83b-81fb572e6b07\">\n",
              "    <div class=\"colab-df-container\">\n",
              "      <div>\n",
              "<style scoped>\n",
              "    .dataframe tbody tr th:only-of-type {\n",
              "        vertical-align: middle;\n",
              "    }\n",
              "\n",
              "    .dataframe tbody tr th {\n",
              "        vertical-align: top;\n",
              "    }\n",
              "\n",
              "    .dataframe thead th {\n",
              "        text-align: right;\n",
              "    }\n",
              "</style>\n",
              "<table border=\"1\" class=\"dataframe\">\n",
              "  <thead>\n",
              "    <tr style=\"text-align: right;\">\n",
              "      <th></th>\n",
              "      <th>LV ActivePower (kW)</th>\n",
              "      <th>Wind Speed (m/s)</th>\n",
              "      <th>wind energy</th>\n",
              "      <th>Wind Direction (°)</th>\n",
              "    </tr>\n",
              "  </thead>\n",
              "  <tbody>\n",
              "    <tr>\n",
              "      <th>0</th>\n",
              "      <td>0.105022</td>\n",
              "      <td>0.210717</td>\n",
              "      <td>0.115647</td>\n",
              "      <td>0.722213</td>\n",
              "    </tr>\n",
              "    <tr>\n",
              "      <th>1</th>\n",
              "      <td>0.125394</td>\n",
              "      <td>0.225032</td>\n",
              "      <td>0.144422</td>\n",
              "      <td>0.746230</td>\n",
              "    </tr>\n",
              "    <tr>\n",
              "      <th>2</th>\n",
              "      <td>0.084664</td>\n",
              "      <td>0.206936</td>\n",
              "      <td>0.108583</td>\n",
              "      <td>0.757129</td>\n",
              "    </tr>\n",
              "    <tr>\n",
              "      <th>3</th>\n",
              "      <td>0.115965</td>\n",
              "      <td>0.224537</td>\n",
              "      <td>0.143369</td>\n",
              "      <td>0.753500</td>\n",
              "    </tr>\n",
              "    <tr>\n",
              "      <th>4</th>\n",
              "      <td>0.105189</td>\n",
              "      <td>0.221294</td>\n",
              "      <td>0.136584</td>\n",
              "      <td>0.737989</td>\n",
              "    </tr>\n",
              "    <tr>\n",
              "      <th>...</th>\n",
              "      <td>...</td>\n",
              "      <td>...</td>\n",
              "      <td>...</td>\n",
              "      <td>...</td>\n",
              "    </tr>\n",
              "    <tr>\n",
              "      <th>52555</th>\n",
              "      <td>0.819066</td>\n",
              "      <td>0.452433</td>\n",
              "      <td>0.943664</td>\n",
              "      <td>0.223620</td>\n",
              "    </tr>\n",
              "    <tr>\n",
              "      <th>52556</th>\n",
              "      <td>0.465454</td>\n",
              "      <td>0.290909</td>\n",
              "      <td>0.325849</td>\n",
              "      <td>0.233509</td>\n",
              "    </tr>\n",
              "    <tr>\n",
              "      <th>52557</th>\n",
              "      <td>0.608253</td>\n",
              "      <td>0.334657</td>\n",
              "      <td>0.496746</td>\n",
              "      <td>0.235397</td>\n",
              "    </tr>\n",
              "    <tr>\n",
              "      <th>52558</th>\n",
              "      <td>0.695186</td>\n",
              "      <td>0.373775</td>\n",
              "      <td>0.671773</td>\n",
              "      <td>0.234162</td>\n",
              "    </tr>\n",
              "    <tr>\n",
              "      <th>52559</th>\n",
              "      <td>0.779407</td>\n",
              "      <td>0.395911</td>\n",
              "      <td>0.771996</td>\n",
              "      <td>0.228542</td>\n",
              "    </tr>\n",
              "  </tbody>\n",
              "</table>\n",
              "<p>52560 rows × 4 columns</p>\n",
              "</div>\n",
              "      <button class=\"colab-df-convert\" onclick=\"convertToInteractive('df-bc9cc827-ac90-42d5-b83b-81fb572e6b07')\"\n",
              "              title=\"Convert this dataframe to an interactive table.\"\n",
              "              style=\"display:none;\">\n",
              "        \n",
              "  <svg xmlns=\"http://www.w3.org/2000/svg\" height=\"24px\"viewBox=\"0 0 24 24\"\n",
              "       width=\"24px\">\n",
              "    <path d=\"M0 0h24v24H0V0z\" fill=\"none\"/>\n",
              "    <path d=\"M18.56 5.44l.94 2.06.94-2.06 2.06-.94-2.06-.94-.94-2.06-.94 2.06-2.06.94zm-11 1L8.5 8.5l.94-2.06 2.06-.94-2.06-.94L8.5 2.5l-.94 2.06-2.06.94zm10 10l.94 2.06.94-2.06 2.06-.94-2.06-.94-.94-2.06-.94 2.06-2.06.94z\"/><path d=\"M17.41 7.96l-1.37-1.37c-.4-.4-.92-.59-1.43-.59-.52 0-1.04.2-1.43.59L10.3 9.45l-7.72 7.72c-.78.78-.78 2.05 0 2.83L4 21.41c.39.39.9.59 1.41.59.51 0 1.02-.2 1.41-.59l7.78-7.78 2.81-2.81c.8-.78.8-2.07 0-2.86zM5.41 20L4 18.59l7.72-7.72 1.47 1.35L5.41 20z\"/>\n",
              "  </svg>\n",
              "      </button>\n",
              "      \n",
              "  <style>\n",
              "    .colab-df-container {\n",
              "      display:flex;\n",
              "      flex-wrap:wrap;\n",
              "      gap: 12px;\n",
              "    }\n",
              "\n",
              "    .colab-df-convert {\n",
              "      background-color: #E8F0FE;\n",
              "      border: none;\n",
              "      border-radius: 50%;\n",
              "      cursor: pointer;\n",
              "      display: none;\n",
              "      fill: #1967D2;\n",
              "      height: 32px;\n",
              "      padding: 0 0 0 0;\n",
              "      width: 32px;\n",
              "    }\n",
              "\n",
              "    .colab-df-convert:hover {\n",
              "      background-color: #E2EBFA;\n",
              "      box-shadow: 0px 1px 2px rgba(60, 64, 67, 0.3), 0px 1px 3px 1px rgba(60, 64, 67, 0.15);\n",
              "      fill: #174EA6;\n",
              "    }\n",
              "\n",
              "    [theme=dark] .colab-df-convert {\n",
              "      background-color: #3B4455;\n",
              "      fill: #D2E3FC;\n",
              "    }\n",
              "\n",
              "    [theme=dark] .colab-df-convert:hover {\n",
              "      background-color: #434B5C;\n",
              "      box-shadow: 0px 1px 3px 1px rgba(0, 0, 0, 0.15);\n",
              "      filter: drop-shadow(0px 1px 2px rgba(0, 0, 0, 0.3));\n",
              "      fill: #FFFFFF;\n",
              "    }\n",
              "  </style>\n",
              "\n",
              "      <script>\n",
              "        const buttonEl =\n",
              "          document.querySelector('#df-bc9cc827-ac90-42d5-b83b-81fb572e6b07 button.colab-df-convert');\n",
              "        buttonEl.style.display =\n",
              "          google.colab.kernel.accessAllowed ? 'block' : 'none';\n",
              "\n",
              "        async function convertToInteractive(key) {\n",
              "          const element = document.querySelector('#df-bc9cc827-ac90-42d5-b83b-81fb572e6b07');\n",
              "          const dataTable =\n",
              "            await google.colab.kernel.invokeFunction('convertToInteractive',\n",
              "                                                     [key], {});\n",
              "          if (!dataTable) return;\n",
              "\n",
              "          const docLinkHtml = 'Like what you see? Visit the ' +\n",
              "            '<a target=\"_blank\" href=https://colab.research.google.com/notebooks/data_table.ipynb>data table notebook</a>'\n",
              "            + ' to learn more about interactive tables.';\n",
              "          element.innerHTML = '';\n",
              "          dataTable['output_type'] = 'display_data';\n",
              "          await google.colab.output.renderOutput(dataTable, element);\n",
              "          const docLink = document.createElement('div');\n",
              "          docLink.innerHTML = docLinkHtml;\n",
              "          element.appendChild(docLink);\n",
              "        }\n",
              "      </script>\n",
              "    </div>\n",
              "  </div>\n",
              "  "
            ]
          },
          "metadata": {},
          "execution_count": 6
        }
      ]
    },
    {
      "cell_type": "markdown",
      "source": [
        "**Permuting columns so that we can split dataset easily**"
      ],
      "metadata": {
        "id": "bLaUXfm3CkZZ"
      }
    },
    {
      "cell_type": "code",
      "source": [
        "#switching columns to make LV activePower (kW) last column so that it will be easy\n",
        "# to prepare training and test datasets\n",
        "cols = df.columns.tolist()\n",
        "cols[0], cols[3] = cols[3], cols[0]\n",
        "df = df[cols]\n",
        "df"
      ],
      "metadata": {
        "colab": {
          "base_uri": "https://localhost:8080/",
          "height": 424
        },
        "id": "FQ15z4dlZ-sh",
        "outputId": "6130567a-acb6-4781-ccd4-f7a9afc4db3c"
      },
      "execution_count": 7,
      "outputs": [
        {
          "output_type": "execute_result",
          "data": {
            "text/plain": [
              "       Wind Direction (°)  Wind Speed (m/s)  wind energy  LV ActivePower (kW)\n",
              "0                0.722213          0.210717     0.115647             0.105022\n",
              "1                0.746230          0.225032     0.144422             0.125394\n",
              "2                0.757129          0.206936     0.108583             0.084664\n",
              "3                0.753500          0.224537     0.143369             0.115965\n",
              "4                0.737989          0.221294     0.136584             0.105189\n",
              "...                   ...               ...          ...                  ...\n",
              "52555            0.223620          0.452433     0.943664             0.819066\n",
              "52556            0.233509          0.290909     0.325849             0.465454\n",
              "52557            0.235397          0.334657     0.496746             0.608253\n",
              "52558            0.234162          0.373775     0.671773             0.695186\n",
              "52559            0.228542          0.395911     0.771996             0.779407\n",
              "\n",
              "[52560 rows x 4 columns]"
            ],
            "text/html": [
              "\n",
              "  <div id=\"df-1ff561d9-9c40-4df0-baa1-df2ca6733fa9\">\n",
              "    <div class=\"colab-df-container\">\n",
              "      <div>\n",
              "<style scoped>\n",
              "    .dataframe tbody tr th:only-of-type {\n",
              "        vertical-align: middle;\n",
              "    }\n",
              "\n",
              "    .dataframe tbody tr th {\n",
              "        vertical-align: top;\n",
              "    }\n",
              "\n",
              "    .dataframe thead th {\n",
              "        text-align: right;\n",
              "    }\n",
              "</style>\n",
              "<table border=\"1\" class=\"dataframe\">\n",
              "  <thead>\n",
              "    <tr style=\"text-align: right;\">\n",
              "      <th></th>\n",
              "      <th>Wind Direction (°)</th>\n",
              "      <th>Wind Speed (m/s)</th>\n",
              "      <th>wind energy</th>\n",
              "      <th>LV ActivePower (kW)</th>\n",
              "    </tr>\n",
              "  </thead>\n",
              "  <tbody>\n",
              "    <tr>\n",
              "      <th>0</th>\n",
              "      <td>0.722213</td>\n",
              "      <td>0.210717</td>\n",
              "      <td>0.115647</td>\n",
              "      <td>0.105022</td>\n",
              "    </tr>\n",
              "    <tr>\n",
              "      <th>1</th>\n",
              "      <td>0.746230</td>\n",
              "      <td>0.225032</td>\n",
              "      <td>0.144422</td>\n",
              "      <td>0.125394</td>\n",
              "    </tr>\n",
              "    <tr>\n",
              "      <th>2</th>\n",
              "      <td>0.757129</td>\n",
              "      <td>0.206936</td>\n",
              "      <td>0.108583</td>\n",
              "      <td>0.084664</td>\n",
              "    </tr>\n",
              "    <tr>\n",
              "      <th>3</th>\n",
              "      <td>0.753500</td>\n",
              "      <td>0.224537</td>\n",
              "      <td>0.143369</td>\n",
              "      <td>0.115965</td>\n",
              "    </tr>\n",
              "    <tr>\n",
              "      <th>4</th>\n",
              "      <td>0.737989</td>\n",
              "      <td>0.221294</td>\n",
              "      <td>0.136584</td>\n",
              "      <td>0.105189</td>\n",
              "    </tr>\n",
              "    <tr>\n",
              "      <th>...</th>\n",
              "      <td>...</td>\n",
              "      <td>...</td>\n",
              "      <td>...</td>\n",
              "      <td>...</td>\n",
              "    </tr>\n",
              "    <tr>\n",
              "      <th>52555</th>\n",
              "      <td>0.223620</td>\n",
              "      <td>0.452433</td>\n",
              "      <td>0.943664</td>\n",
              "      <td>0.819066</td>\n",
              "    </tr>\n",
              "    <tr>\n",
              "      <th>52556</th>\n",
              "      <td>0.233509</td>\n",
              "      <td>0.290909</td>\n",
              "      <td>0.325849</td>\n",
              "      <td>0.465454</td>\n",
              "    </tr>\n",
              "    <tr>\n",
              "      <th>52557</th>\n",
              "      <td>0.235397</td>\n",
              "      <td>0.334657</td>\n",
              "      <td>0.496746</td>\n",
              "      <td>0.608253</td>\n",
              "    </tr>\n",
              "    <tr>\n",
              "      <th>52558</th>\n",
              "      <td>0.234162</td>\n",
              "      <td>0.373775</td>\n",
              "      <td>0.671773</td>\n",
              "      <td>0.695186</td>\n",
              "    </tr>\n",
              "    <tr>\n",
              "      <th>52559</th>\n",
              "      <td>0.228542</td>\n",
              "      <td>0.395911</td>\n",
              "      <td>0.771996</td>\n",
              "      <td>0.779407</td>\n",
              "    </tr>\n",
              "  </tbody>\n",
              "</table>\n",
              "<p>52560 rows × 4 columns</p>\n",
              "</div>\n",
              "      <button class=\"colab-df-convert\" onclick=\"convertToInteractive('df-1ff561d9-9c40-4df0-baa1-df2ca6733fa9')\"\n",
              "              title=\"Convert this dataframe to an interactive table.\"\n",
              "              style=\"display:none;\">\n",
              "        \n",
              "  <svg xmlns=\"http://www.w3.org/2000/svg\" height=\"24px\"viewBox=\"0 0 24 24\"\n",
              "       width=\"24px\">\n",
              "    <path d=\"M0 0h24v24H0V0z\" fill=\"none\"/>\n",
              "    <path d=\"M18.56 5.44l.94 2.06.94-2.06 2.06-.94-2.06-.94-.94-2.06-.94 2.06-2.06.94zm-11 1L8.5 8.5l.94-2.06 2.06-.94-2.06-.94L8.5 2.5l-.94 2.06-2.06.94zm10 10l.94 2.06.94-2.06 2.06-.94-2.06-.94-.94-2.06-.94 2.06-2.06.94z\"/><path d=\"M17.41 7.96l-1.37-1.37c-.4-.4-.92-.59-1.43-.59-.52 0-1.04.2-1.43.59L10.3 9.45l-7.72 7.72c-.78.78-.78 2.05 0 2.83L4 21.41c.39.39.9.59 1.41.59.51 0 1.02-.2 1.41-.59l7.78-7.78 2.81-2.81c.8-.78.8-2.07 0-2.86zM5.41 20L4 18.59l7.72-7.72 1.47 1.35L5.41 20z\"/>\n",
              "  </svg>\n",
              "      </button>\n",
              "      \n",
              "  <style>\n",
              "    .colab-df-container {\n",
              "      display:flex;\n",
              "      flex-wrap:wrap;\n",
              "      gap: 12px;\n",
              "    }\n",
              "\n",
              "    .colab-df-convert {\n",
              "      background-color: #E8F0FE;\n",
              "      border: none;\n",
              "      border-radius: 50%;\n",
              "      cursor: pointer;\n",
              "      display: none;\n",
              "      fill: #1967D2;\n",
              "      height: 32px;\n",
              "      padding: 0 0 0 0;\n",
              "      width: 32px;\n",
              "    }\n",
              "\n",
              "    .colab-df-convert:hover {\n",
              "      background-color: #E2EBFA;\n",
              "      box-shadow: 0px 1px 2px rgba(60, 64, 67, 0.3), 0px 1px 3px 1px rgba(60, 64, 67, 0.15);\n",
              "      fill: #174EA6;\n",
              "    }\n",
              "\n",
              "    [theme=dark] .colab-df-convert {\n",
              "      background-color: #3B4455;\n",
              "      fill: #D2E3FC;\n",
              "    }\n",
              "\n",
              "    [theme=dark] .colab-df-convert:hover {\n",
              "      background-color: #434B5C;\n",
              "      box-shadow: 0px 1px 3px 1px rgba(0, 0, 0, 0.15);\n",
              "      filter: drop-shadow(0px 1px 2px rgba(0, 0, 0, 0.3));\n",
              "      fill: #FFFFFF;\n",
              "    }\n",
              "  </style>\n",
              "\n",
              "      <script>\n",
              "        const buttonEl =\n",
              "          document.querySelector('#df-1ff561d9-9c40-4df0-baa1-df2ca6733fa9 button.colab-df-convert');\n",
              "        buttonEl.style.display =\n",
              "          google.colab.kernel.accessAllowed ? 'block' : 'none';\n",
              "\n",
              "        async function convertToInteractive(key) {\n",
              "          const element = document.querySelector('#df-1ff561d9-9c40-4df0-baa1-df2ca6733fa9');\n",
              "          const dataTable =\n",
              "            await google.colab.kernel.invokeFunction('convertToInteractive',\n",
              "                                                     [key], {});\n",
              "          if (!dataTable) return;\n",
              "\n",
              "          const docLinkHtml = 'Like what you see? Visit the ' +\n",
              "            '<a target=\"_blank\" href=https://colab.research.google.com/notebooks/data_table.ipynb>data table notebook</a>'\n",
              "            + ' to learn more about interactive tables.';\n",
              "          element.innerHTML = '';\n",
              "          dataTable['output_type'] = 'display_data';\n",
              "          await google.colab.output.renderOutput(dataTable, element);\n",
              "          const docLink = document.createElement('div');\n",
              "          docLink.innerHTML = docLinkHtml;\n",
              "          element.appendChild(docLink);\n",
              "        }\n",
              "      </script>\n",
              "    </div>\n",
              "  </div>\n",
              "  "
            ]
          },
          "metadata": {},
          "execution_count": 7
        }
      ]
    },
    {
      "cell_type": "markdown",
      "source": [
        "**Checking the shape of our target variable**"
      ],
      "metadata": {
        "id": "mTKtYbZiCori"
      }
    },
    {
      "cell_type": "code",
      "source": [
        "target=df['LV ActivePower (kW)']\n",
        "target.shape"
      ],
      "metadata": {
        "colab": {
          "base_uri": "https://localhost:8080/"
        },
        "id": "Hw_jVYBMaAXK",
        "outputId": "eb262d9f-ba89-4168-dc8d-f439f0f2faee"
      },
      "execution_count": 8,
      "outputs": [
        {
          "output_type": "execute_result",
          "data": {
            "text/plain": [
              "(52560,)"
            ]
          },
          "metadata": {},
          "execution_count": 8
        }
      ]
    },
    {
      "cell_type": "markdown",
      "source": [
        "**Preparing our dataset in a sliding window fashion with a particular window size**"
      ],
      "metadata": {
        "id": "blnFdS5lCrD4"
      }
    },
    {
      "cell_type": "code",
      "source": [
        "# Calculate the number of readings per day\n",
        "readings_per_day = 144\n",
        "\n",
        "#n = number of day\n",
        "n = 3\n",
        "\n",
        "# Calculate the sequence length (n days in readings)\n",
        "sequence_length = readings_per_day * n\n",
        "\n",
        "# Set the lookback window to be the same as the sequence length\n",
        "lookback_window = sequence_length\n",
        "\n",
        "# Convert the data to a NumPy array\n",
        "df = df.values\n",
        "\n",
        "x, y = [], []\n",
        "for i in range(lookback_window, len(df)):\n",
        "    x.append(df[i - lookback_window:i, :])\n",
        "    y.append(df[i, -1])\n",
        "x = np.array(x)\n",
        "y = np.array(y)\n",
        "print(x.shape)\n",
        "print(y.shape)"
      ],
      "metadata": {
        "colab": {
          "base_uri": "https://localhost:8080/"
        },
        "id": "HFHGtgDbaCNZ",
        "outputId": "804c95c1-f88c-403a-8ba9-91ae542a71f1"
      },
      "execution_count": 9,
      "outputs": [
        {
          "output_type": "stream",
          "name": "stdout",
          "text": [
            "(52128, 432, 4)\n",
            "(52128,)\n"
          ]
        }
      ]
    },
    {
      "cell_type": "markdown",
      "source": [
        "**Splitting our test and training part of dataset**"
      ],
      "metadata": {
        "id": "vzOX8FJkCzVh"
      }
    },
    {
      "cell_type": "code",
      "source": [
        "# Calculate the number of test samples (last 3 days of the year)\n",
        "num_test_samples = readings_per_day * 3\n",
        "\n",
        "# Split the data into training and test sets\n",
        "x_train = x[:-num_test_samples]\n",
        "y_train = y[:-num_test_samples]\n",
        "x_test = x[-num_test_samples:]\n",
        "y_test = y[-num_test_samples:]"
      ],
      "metadata": {
        "id": "tC2sxTbYaDo8"
      },
      "execution_count": 10,
      "outputs": []
    },
    {
      "cell_type": "markdown",
      "source": [
        "**Checking the shape of our train and test set**"
      ],
      "metadata": {
        "id": "vTN2XiHCC2Qa"
      }
    },
    {
      "cell_type": "code",
      "source": [
        "print(x_train.shape)\n",
        "print(y_train.shape)\n",
        "print(x_test.shape)\n",
        "print(y_test.shape)"
      ],
      "metadata": {
        "colab": {
          "base_uri": "https://localhost:8080/"
        },
        "id": "2LzMWEvIaE8Z",
        "outputId": "922d3ad0-539c-4bee-c6be-a9ad70b6e23f"
      },
      "execution_count": 11,
      "outputs": [
        {
          "output_type": "stream",
          "name": "stdout",
          "text": [
            "(51696, 432, 4)\n",
            "(51696,)\n",
            "(432, 432, 4)\n",
            "(432,)\n"
          ]
        }
      ]
    },
    {
      "cell_type": "markdown",
      "source": [
        "# **Informer Model**"
      ],
      "metadata": {
        "id": "PHloBBgoC6CQ"
      }
    },
    {
      "cell_type": "markdown",
      "source": [
        "![image.png](data:image/png;base64,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)"
      ],
      "metadata": {
        "id": "omA5F2LtDOKX"
      }
    },
    {
      "cell_type": "markdown",
      "source": [
        "**Initializing Informer model by passing its parameters**"
      ],
      "metadata": {
        "id": "iPnIz7SjDVRk"
      }
    },
    {
      "cell_type": "code",
      "source": [
        "# Define model parameters\n",
        "seq_length = lookback_window\n",
        "input_size = x_train.shape[-1]\n",
        "dim_model = 512\n",
        "num_heads = 8\n",
        "num_encoder_layers = 3\n",
        "num_decoder_layers = 3\n",
        "dropout_p = 0.2\n",
        "out_size = 1\n",
        "\n",
        "device = \"cuda\" if torch.cuda.is_available() else \"cpu\"\n",
        "\n",
        "# Initialize the model\n",
        "model = Informer(\n",
        "    seq_len=seq_length, \n",
        "    label_len=1,\n",
        "    pred_len=1,  # add pred_len argument\n",
        "    distil=True,  # add distil argument\n",
        "    enc_in=input_size, \n",
        "    dec_in=input_size, \n",
        "    c_out=out_size, \n",
        "    factor=5,\n",
        "    d_model=dim_model, \n",
        "    n_heads=num_heads, \n",
        "    e_layers=num_encoder_layers, \n",
        "    d_layers=num_decoder_layers, \n",
        "    d_ff=2048, \n",
        "    dropout=dropout_p,\n",
        "    activation='gelu',\n",
        "    cardinality=[1],  # add cardinality argument\n",
        "    output_attention=False,  # add output_attention argument\n",
        ").to(device)"
      ],
      "metadata": {
        "id": "9tne1zTKac5V"
      },
      "execution_count": 21,
      "outputs": []
    },
    {
      "cell_type": "markdown",
      "source": [
        "**Converting to tensors while also mounting them on the same device as the model**"
      ],
      "metadata": {
        "id": "TL6JfSNTDn6D"
      }
    },
    {
      "cell_type": "code",
      "source": [
        "# Convert data to tensors\n",
        "x_train_tensor = torch.tensor(x_train, dtype=torch.float32).to(device)\n",
        "y_train_tensor = torch.tensor(y_train, dtype=torch.float32).to(device)"
      ],
      "metadata": {
        "id": "XoUeFMpCDfhA"
      },
      "execution_count": 13,
      "outputs": []
    },
    {
      "cell_type": "markdown",
      "source": [
        "**Training the model after declaring optimizer, loss, metric and no. epochs**"
      ],
      "metadata": {
        "id": "q-4EHVP6DnM_"
      }
    },
    {
      "cell_type": "code",
      "source": [
        "rangee = 100\n",
        "Xtemp = x_train_tensor[0:rangee]\n",
        "Ytemp = y_train_tensor[0:rangee]"
      ],
      "metadata": {
        "id": "W7Hnv3G9QOKy"
      },
      "execution_count": 14,
      "outputs": []
    },
    {
      "cell_type": "code",
      "source": [
        "# Define loss function and optimizer\n",
        "criterion_1 = nn.MSELoss()                                         # MSE\n",
        "criterion_2 = nn.L1Loss()                                          # MAE (L1)\n",
        "criterion_3 = nn.L1Loss()                                          # MAE\n",
        "metricc = nn.L1Loss()                                              # MAPE metric\n",
        "optimizer = torch.optim.Adam(model.parameters(), lr=1e-4)          # Adam\n",
        "\n",
        "# Train the model\n",
        "num_epochs = 1\n",
        "batch_size = 1\n",
        "lossInfo = []\n",
        "metricInfo = []\n",
        "for epoch in range(num_epochs):\n",
        "    running_loss = 0.0               # MAE Loss\n",
        "    running_metric = 0.0             # MAPE metric\n",
        "    for i in range(0, len(Xtemp), batch_size):\n",
        "        # Get batch of inputs and targets\n",
        "        batch_x = x_train_tensor[i:i+batch_size]\n",
        "        batch_y = y_train_tensor[i:i+batch_size]\n",
        "        \n",
        "        # Reshape input tensor\n",
        "        batch_x = batch_x.view(-1, seq_length, input_size)\n",
        "        \n",
        "        # Zero the parameter gradients\n",
        "        optimizer.zero_grad()\n",
        "\n",
        "        # Forward pass\n",
        "        outputs = model(batch_x, batch_x, batch_x, batch_x) # provide the required arguments here\n",
        "        loss = criterion_3(outputs.view(-1), batch_y)\n",
        "        metric = metricc(outputs.view(-1), batch_y)\n",
        "\n",
        "        # Backward pass and optimize\n",
        "        loss.backward()\n",
        "        optimizer.step()\n",
        "\n",
        "        running_loss += loss.item()\n",
        "        running_metric += metric.item()\n",
        "      \n",
        "    epoch_loss = running_loss / (len(x_train) / batch_size)\n",
        "    epoch_metric = running_metric / (len(x_train) / batch_size)\n",
        "    lossInfo.append(epoch_loss)\n",
        "    metricInfo.append(epoch_metric)\n",
        "    print(\"-\"*25, f\"Epoch {epoch + 1}\",\"-\"*25)\n",
        "    print(f\"Epoch {epoch+1} MAE loss: {epoch_loss:.4f}\")\n",
        "    print(f\"Epoch {epoch+1} MAPE metric: {epoch_metric:.4f}\")"
      ],
      "metadata": {
        "colab": {
          "base_uri": "https://localhost:8080/"
        },
        "id": "Qsu217sEaJZF",
        "outputId": "08e0acf0-0d0f-472c-fe64-51546bebe29d"
      },
      "execution_count": 22,
      "outputs": [
        {
          "output_type": "stream",
          "name": "stdout",
          "text": [
            "------------------------- Epoch 1 -------------------------\n",
            "Epoch 1 MAE loss: nan\n",
            "Epoch 1 MAPE metric: nan\n"
          ]
        }
      ]
    },
    {
      "cell_type": "markdown",
      "source": [
        "**Plotting the loss and metric trend throughout the training of model**"
      ],
      "metadata": {
        "id": "d7sfhlU1EOQF"
      }
    },
    {
      "cell_type": "code",
      "source": [
        "# Plot the history of loss\n",
        "plt.plot(range(num_epochs), lossInfo)\n",
        "plt.title('Loss(MAE) history')\n",
        "plt.xlabel('Epoch')\n",
        "plt.ylabel('Loss')\n",
        "plt.show()\n",
        "\n",
        "# Plot the history of metric result\n",
        "plt.plot(range(num_epochs), metricInfo)\n",
        "plt.title('Metric(MAPE) result history')\n",
        "plt.xlabel('Epoch')\n",
        "plt.ylabel('Metric result')\n",
        "plt.show()"
      ],
      "metadata": {
        "colab": {
          "base_uri": "https://localhost:8080/",
          "height": 573
        },
        "id": "0ONUJ7DUEL3K",
        "outputId": "79e9f2fe-363a-49cb-9c93-188259ceaf37"
      },
      "execution_count": 23,
      "outputs": [
        {
          "output_type": "display_data",
          "data": {
            "text/plain": [
              "<Figure size 432x288 with 1 Axes>"
            ],
            "image/png": "[encoded data removed]"
          },
          "metadata": {
            "needs_background": "light"
          }
        },
        {
          "output_type": "display_data",
          "data": {
            "text/plain": [
              "<Figure size 432x288 with 1 Axes>"
            ],
            "image/png": "[encoded data removed]"
          },
          "metadata": {
            "needs_background": "light"
          }
        }
      ]
    },
    {
      "cell_type": "markdown",
      "source": [
        "**Testing model performance on testset**"
      ],
      "metadata": {
        "id": "7tECj99VD1RO"
      }
    },
    {
      "cell_type": "code",
      "source": [
        "# Convert test data to tensor\n",
        "x_test_tensor = torch.tensor(x_test, dtype=torch.float32).to(device)"
      ],
      "metadata": {
        "id": "eyUTW5AGR2AX"
      },
      "execution_count": 24,
      "outputs": []
    },
    {
      "cell_type": "code",
      "source": [
        "# Forward pass on test input tensor\n",
        "with torch.no_grad():\n",
        "    outputs = model(x_test_tensor[:rangee], x_test_tensor[:rangee], x_test_tensor[:rangee], x_test_tensor[:rangee])\n",
        "\n",
        "# Reshape output tensor to (432,) shape\n",
        "outputs = outputs.view(-1)"
      ],
      "metadata": {
        "id": "BzDnHOU56jcv"
      },
      "execution_count": 25,
      "outputs": []
    },
    {
      "cell_type": "markdown",
      "source": [
        "**Plotting the prediction of transformer on test with the ground truth**"
      ],
      "metadata": {
        "id": "p8uPu28VD3dQ"
      }
    },
    {
      "cell_type": "code",
      "source": [
        "plt.plot(outputs.cpu().detach())\n",
        "plt.plot(y_test[:rangee]) #denormalizing original data back\n",
        "plt.title('Two day window results')\n",
        "plt.legend(['predicted', 'actual'])\n",
        "plt.show()"
      ],
      "metadata": {
        "colab": {
          "base_uri": "https://localhost:8080/",
          "height": 281
        },
        "id": "jXbXHXu06s7Z",
        "outputId": "ef5b6f37-b687-471b-ed1e-ecd444c10a9b"
      },
      "execution_count": 26,
      "outputs": [
        {
          "output_type": "display_data",
          "data": {
            "text/plain": [
              "<Figure size 432x288 with 1 Axes>"
            ],
            "image/png": "[encoded data removed]"
          },
          "metadata": {
            "needs_background": "light"
          }
        }
      ]
    },
    {
      "cell_type": "code",
      "source": [
        "'''while True:\n",
        "  pass'''"
      ],
      "metadata": {
        "colab": {
          "base_uri": "https://localhost:8080/",
          "height": 35
        },
        "id": "IAhavszaFAqk",
        "outputId": "692ecf42-4786-444b-ecb9-f9c932593063"
      },
      "execution_count": 20,
      "outputs": [
        {
          "output_type": "execute_result",
          "data": {
            "text/plain": [
              "'while True:\\n  pass'"
            ],
            "application/vnd.google.colaboratory.intrinsic+json": {
              "type": "string"
            }
          },
          "metadata": {},
          "execution_count": 20
        }
      ]
    }
  ]
}