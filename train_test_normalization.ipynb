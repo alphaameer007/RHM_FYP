{
  "cells": [
    {
      "cell_type": "code",
      "execution_count": null,
      "metadata": {
        "execution": {
          "iopub.execute_input": "2023-01-09T10:34:29.369140Z",
          "iopub.status.busy": "2023-01-09T10:34:29.368761Z",
          "iopub.status.idle": "2023-01-09T10:34:30.452419Z",
          "shell.execute_reply": "2023-01-09T10:34:30.451084Z",
          "shell.execute_reply.started": "2023-01-09T10:34:29.369107Z"
        },
        "id": "Hw76cocj6xjp"
      },
      "outputs": [],
      "source": [
        "%%capture\n",
        "!git clone https://github.com/alphaameer007/RHM_FYP"
      ]
    },
    {
      "cell_type": "code",
      "execution_count": null,
      "metadata": {
        "colab": {
          "base_uri": "https://localhost:8080/"
        },
        "execution": {
          "iopub.execute_input": "2023-01-09T10:34:30.455648Z",
          "iopub.status.busy": "2023-01-09T10:34:30.454890Z",
          "iopub.status.idle": "2023-01-09T10:34:33.293190Z",
          "shell.execute_reply": "2023-01-09T10:34:33.291946Z",
          "shell.execute_reply.started": "2023-01-09T10:34:30.455605Z"
        },
        "id": "g0l5Cyv6KgZQ",
        "outputId": "28449627-c1c1-49be-fc7b-3a73923a7350"
      },
      "outputs": [
        {
          "output_type": "stream",
          "name": "stdout",
          "text": [
            "Looking in indexes: https://pypi.org/simple, https://us-python.pkg.dev/colab-wheels/public/simple/\n",
            "Requirement already satisfied: keras-tcn in /usr/local/lib/python3.10/dist-packages (3.5.0)\n"
          ]
        }
      ],
      "source": [
        "!pip install keras-tcn --no-dependencies "
      ]
    },
    {
      "cell_type": "code",
      "execution_count": null,
      "metadata": {
        "execution": {
          "iopub.execute_input": "2023-01-09T10:34:43.225595Z",
          "iopub.status.busy": "2023-01-09T10:34:43.225164Z",
          "iopub.status.idle": "2023-01-09T10:34:43.232325Z",
          "shell.execute_reply": "2023-01-09T10:34:43.231348Z",
          "shell.execute_reply.started": "2023-01-09T10:34:43.225554Z"
        },
        "id": "Au7SgwNIAFZx"
      },
      "outputs": [],
      "source": [
        "from tcn import TCN\n",
        "import pandas as pd\n",
        "import tensorflow as tf\n",
        "from tensorflow import keras\n",
        "import matplotlib.pyplot as plt\n",
        "import numpy as np\n",
        "from tensorflow.keras import Sequential\n",
        "from tensorflow.keras.layers import Dense\n",
        "import matplotlib.pyplot as plt"
      ]
    },
    {
      "cell_type": "code",
      "execution_count": null,
      "metadata": {
        "colab": {
          "base_uri": "https://localhost:8080/"
        },
        "execution": {
          "iopub.execute_input": "2023-01-09T10:34:43.234026Z",
          "iopub.status.busy": "2023-01-09T10:34:43.233680Z",
          "iopub.status.idle": "2023-01-09T10:34:43.335835Z",
          "shell.execute_reply": "2023-01-09T10:34:43.334576Z",
          "shell.execute_reply.started": "2023-01-09T10:34:43.233991Z"
        },
        "id": "6R0YOhAXAewT",
        "outputId": "c0117b45-96b6-441f-9bf2-c1c30d3a1304"
      },
      "outputs": [
        {
          "output_type": "stream",
          "name": "stdout",
          "text": [
            "          speed  power curve     angle     power\n",
            "0      0.206540     0.124294  0.734583  0.109252\n",
            "1      0.222424     0.123003  0.747290  0.108257\n",
            "2      0.207599     0.125296  0.751999  0.106380\n",
            "3      0.217767     0.130994  0.758163  0.109368\n",
            "4      0.221157     0.143468  0.740361  0.108339\n",
            "...         ...          ...       ...       ...\n",
            "42043  0.063216     0.015313  0.226506  0.011986\n",
            "42044  0.062339     0.002171  0.242306  0.017193\n",
            "42045  0.060473     0.011558  0.312457  0.019094\n",
            "42046  0.061001     0.011146  0.386255  0.016501\n",
            "42047  0.066055     0.005788  0.399528  0.017633\n",
            "\n",
            "[42048 rows x 4 columns]\n",
            "          speed  power curve     angle     power\n",
            "0      0.072603     0.002016  0.555998  0.016575\n",
            "1      0.068335     0.004308  0.578958  0.013022\n",
            "2      0.060905     0.007553  0.615745  0.022697\n",
            "3      0.059264     0.013040  0.678765  0.026320\n",
            "4      0.058021     0.014275  0.716684  0.012425\n",
            "...         ...          ...       ...       ...\n",
            "10507  0.421007     0.782620  0.224757  0.742711\n",
            "10508  0.341150     0.501963  0.229971  0.567131\n",
            "10509  0.322983     0.413823  0.234957  0.545296\n",
            "10510  0.349236     0.536475  0.231991  0.659432\n",
            "10511  0.374239     0.718097  0.230999  0.750863\n",
            "\n",
            "[10512 rows x 4 columns]\n",
            "                   time  Wind Speed (m/s)  wind energy  Wind Direction (°)  \\\n",
            "0       01/01/2018 0:00          5.311336   416.328908          259.994904   \n",
            "1       01/01/2018 0:10          5.672167   519.917511          268.641113   \n",
            "2       01/01/2018 0:20          5.216037   390.900016          272.564789   \n",
            "3       01/01/2018 0:30          5.659674   516.127569          271.258087   \n",
            "4       01/01/2018 0:40          5.577941   491.702972          265.674286   \n",
            "...                 ...               ...          ...                 ...   \n",
            "42043  10/19/2018 23:10          1.899933    39.714621           68.868103   \n",
            "42044  10/19/2018 23:20          1.645516    39.299767           80.923714   \n",
            "42045  10/19/2018 23:30          1.582637    38.884914          111.108299   \n",
            "42046  10/19/2018 23:40          1.494098    38.470060          150.824799   \n",
            "42047  10/19/2018 23:50          1.779607    38.055206          159.626099   \n",
            "\n",
            "       LV ActivePower (kW)  \n",
            "0               380.047791  \n",
            "1               453.769196  \n",
            "2               306.376587  \n",
            "3               419.645904  \n",
            "4               380.650696  \n",
            "...                    ...  \n",
            "42043            47.007420  \n",
            "42044            49.856054  \n",
            "42045            52.704689  \n",
            "42046            55.553324  \n",
            "42047            58.401958  \n",
            "\n",
            "[42048 rows x 5 columns]\n",
            "                   time  Wind Speed (m/s)  wind energy  Wind Direction (°)  \\\n",
            "0       10/20/2018 0:00          2.188426    37.640352          192.658905   \n",
            "1       10/20/2018 0:10          1.727103    37.225499          202.302994   \n",
            "2       10/20/2018 0:20          1.489966    36.810645          228.031906   \n",
            "3       10/20/2018 0:30          1.557715    36.395791          241.367493   \n",
            "4       10/20/2018 0:40          1.505661    35.980937          273.082886   \n",
            "...                 ...               ...          ...                 ...   \n",
            "10507  12/31/2018 23:10         11.404030  3397.190793           80.502724   \n",
            "10508  12/31/2018 23:20          7.332648  1173.055771           84.062599   \n",
            "10509  12/31/2018 23:30          8.435358  1788.284755           84.742500   \n",
            "10510  12/31/2018 23:40          9.421366  2418.382503           84.297913   \n",
            "10511  12/31/2018 23:50          9.979332  2779.184096           82.274620   \n",
            "\n",
            "       LV ActivePower (kW)  \n",
            "0                61.250593  \n",
            "1                64.099228  \n",
            "2                66.947862  \n",
            "3                69.796497  \n",
            "4                72.645131  \n",
            "...                    ...  \n",
            "10507          2963.980957  \n",
            "10508          1684.353027  \n",
            "10509          2201.106934  \n",
            "10510          2515.694092  \n",
            "10511          2820.466064  \n",
            "\n",
            "[10512 rows x 5 columns]\n"
          ]
        }
      ],
      "source": [
        "#df=pd.read_csv('/content/RHM_FYP/TurkeyWindFarm.csv')\n",
        "#df=pd.read_csv('book lstm rnn.csv')\n",
        "refined = pd.read_csv('refined_eemd_data.csv')\n",
        "refined_test = pd.read_csv('refined_eemd_test_data.csv')\n",
        "train = pd.read_csv('train_8020.csv')\n",
        "test = pd.read_csv('test_8020.csv')\n",
        "print(refined)\n",
        "print(refined_test)\n",
        "print(train)\n",
        "print(test)"
      ]
    },
    {
      "cell_type": "code",
      "execution_count": null,
      "metadata": {
        "execution": {
          "iopub.execute_input": "2023-01-09T10:34:43.339102Z",
          "iopub.status.busy": "2023-01-09T10:34:43.338272Z",
          "iopub.status.idle": "2023-01-09T10:34:43.348196Z",
          "shell.execute_reply": "2023-01-09T10:34:43.346827Z",
          "shell.execute_reply.started": "2023-01-09T10:34:43.339055Z"
        },
        "id": "ezO81MDWAink"
      },
      "outputs": [],
      "source": [
        "train.drop('time', inplace=True, axis=1)\n",
        "test.drop('time', inplace=True, axis=1)"
      ]
    },
    {
      "cell_type": "code",
      "execution_count": null,
      "metadata": {
        "execution": {
          "iopub.execute_input": "2023-01-09T10:34:43.371511Z",
          "iopub.status.busy": "2023-01-09T10:34:43.370906Z",
          "iopub.status.idle": "2023-01-09T10:34:43.385645Z",
          "shell.execute_reply": "2023-01-09T10:34:43.384760Z",
          "shell.execute_reply.started": "2023-01-09T10:34:43.371475Z"
        },
        "id": "7Uz47b-mTZsi",
        "colab": {
          "base_uri": "https://localhost:8080/"
        },
        "outputId": "99915e18-804e-4fa2-e6ac-61ba6e0b3a44"
      },
      "outputs": [
        {
          "output_type": "stream",
          "name": "stdout",
          "text": [
            "<class 'pandas.core.frame.DataFrame'>\n",
            "RangeIndex: 42048 entries, 0 to 42047\n",
            "Data columns (total 4 columns):\n",
            " #   Column       Non-Null Count  Dtype  \n",
            "---  ------       --------------  -----  \n",
            " 0   speed        42048 non-null  float64\n",
            " 1   power curve  42048 non-null  float64\n",
            " 2   angle        42048 non-null  float64\n",
            " 3   power        42048 non-null  float64\n",
            "dtypes: float64(4)\n",
            "memory usage: 1.3 MB\n",
            "None\n",
            "<class 'pandas.core.frame.DataFrame'>\n",
            "RangeIndex: 10512 entries, 0 to 10511\n",
            "Data columns (total 4 columns):\n",
            " #   Column       Non-Null Count  Dtype  \n",
            "---  ------       --------------  -----  \n",
            " 0   speed        10512 non-null  float64\n",
            " 1   power curve  10512 non-null  float64\n",
            " 2   angle        10512 non-null  float64\n",
            " 3   power        10512 non-null  float64\n",
            "dtypes: float64(4)\n",
            "memory usage: 328.6 KB\n",
            "None\n",
            "<class 'pandas.core.frame.DataFrame'>\n",
            "RangeIndex: 42048 entries, 0 to 42047\n",
            "Data columns (total 4 columns):\n",
            " #   Column               Non-Null Count  Dtype  \n",
            "---  ------               --------------  -----  \n",
            " 0   Wind Speed (m/s)     42048 non-null  float64\n",
            " 1   wind energy          42048 non-null  float64\n",
            " 2   Wind Direction (°)   42048 non-null  float64\n",
            " 3   LV ActivePower (kW)  42048 non-null  float64\n",
            "dtypes: float64(4)\n",
            "memory usage: 1.3 MB\n",
            "None\n",
            "<class 'pandas.core.frame.DataFrame'>\n",
            "RangeIndex: 10512 entries, 0 to 10511\n",
            "Data columns (total 4 columns):\n",
            " #   Column               Non-Null Count  Dtype  \n",
            "---  ------               --------------  -----  \n",
            " 0   Wind Speed (m/s)     10512 non-null  float64\n",
            " 1   wind energy          10512 non-null  float64\n",
            " 2   Wind Direction (°)   10512 non-null  float64\n",
            " 3   LV ActivePower (kW)  10512 non-null  float64\n",
            "dtypes: float64(4)\n",
            "memory usage: 328.6 KB\n",
            "None\n"
          ]
        }
      ],
      "source": [
        "print(refined.info())\n",
        "print(refined_test.info())\n",
        "print(train.info())\n",
        "print(test.info())"
      ]
    },
    {
      "cell_type": "code",
      "source": [
        "\n",
        "train_min = train.min(axis=0)\n",
        "train_max = train.max(axis=0)\n",
        "print(train_max)\n",
        "print(train_min)"
      ],
      "metadata": {
        "colab": {
          "base_uri": "https://localhost:8080/"
        },
        "id": "peG9cIzL-Hya",
        "outputId": "150186b8-363b-444d-bbf1-d8b54a60595d"
      },
      "execution_count": null,
      "outputs": [
        {
          "output_type": "stream",
          "name": "stdout",
          "text": [
            "Wind Speed (m/s)         25.206011\n",
            "wind energy            3600.000000\n",
            "Wind Direction (°)      359.987396\n",
            "LV ActivePower (kW)    3618.732910\n",
            "dtype: float64\n",
            "Wind Speed (m/s)        0.065332\n",
            "wind energy            10.903226\n",
            "Wind Direction (°)      0.015678\n",
            "LV ActivePower (kW)    -2.471405\n",
            "dtype: float64\n"
          ]
        }
      ]
    },
    {
      "cell_type": "code",
      "execution_count": null,
      "metadata": {
        "colab": {
          "base_uri": "https://localhost:8080/"
        },
        "execution": {
          "iopub.execute_input": "2023-01-09T10:34:43.387502Z",
          "iopub.status.busy": "2023-01-09T10:34:43.387040Z",
          "iopub.status.idle": "2023-01-09T10:34:43.409224Z",
          "shell.execute_reply": "2023-01-09T10:34:43.407386Z",
          "shell.execute_reply.started": "2023-01-09T10:34:43.387465Z"
        },
        "id": "zk5wMX9XVdyw",
        "outputId": "59d46e48-e58f-494d-95f8-a1af55741004"
      },
      "outputs": [
        {
          "output_type": "stream",
          "name": "stdout",
          "text": [
            "   Wind Speed (m/s)  wind energy  Wind Direction (°)  LV ActivePower (kW)\n",
            "0          0.208666     0.112960            0.722221             0.105633\n",
            "1          0.223018     0.141822            0.746240             0.125991\n",
            "2          0.204875     0.105875            0.757140             0.085289\n",
            "3          0.222522     0.140766            0.753510             0.116568\n",
            "4          0.219270     0.133961            0.737999             0.105800\n",
            "5          0.220309     0.136116            0.734955             0.111804\n",
            "6          0.227825     0.152258            0.739358             0.124289\n",
            "7          0.208456     0.112562            0.716539             0.107620\n",
            "8          0.219537     0.134511            0.704125             0.128720\n",
            "9          0.217094     0.129504            0.718690             0.122113\n",
            "   Wind Speed (m/s)  wind energy  Wind Direction (°)  LV ActivePower (kW)\n",
            "0          0.084449     0.007450            0.535162             0.017597\n",
            "1          0.066099     0.007334            0.561953             0.018384\n",
            "2          0.056667     0.007218            0.633428             0.019170\n",
            "3          0.059361     0.007103            0.670474             0.019957\n",
            "4          0.057291     0.006987            0.758580             0.020744\n",
            "5          0.063274     0.006872            0.701316             0.021530\n",
            "6          0.070658     0.006756            0.764660             0.022317\n",
            "7          0.058156     0.006640            0.760769             0.023103\n",
            "8          0.036842     0.006525            0.855492             0.023890\n",
            "9          0.033334     0.006409            0.077560             0.024677\n"
          ]
        }
      ],
      "source": [
        "\n",
        "train_min = train.min(axis=0)\n",
        "train_max = train.max(axis=0)\n",
        "\n",
        "\n",
        "train = (train - train_min) / ( train_max - train_min)\n",
        "test = (test - train_min) / ( train_max - train_min)\n",
        "\n",
        "print(train.head(10))\n",
        "print(test.head(10))\n",
        "\n"
      ]
    },
    {
      "cell_type": "code",
      "execution_count": null,
      "metadata": {
        "execution": {
          "iopub.execute_input": "2023-01-09T10:34:43.460380Z",
          "iopub.status.busy": "2023-01-09T10:34:43.459203Z",
          "iopub.status.idle": "2023-01-09T10:34:43.910741Z",
          "shell.execute_reply": "2023-01-09T10:34:43.909716Z",
          "shell.execute_reply.started": "2023-01-09T10:34:43.460342Z"
        },
        "id": "M876lXATn8oh",
        "colab": {
          "base_uri": "https://localhost:8080/"
        },
        "outputId": "c67a0be4-0b5a-4368-aa76-c7df9b2d362f"
      },
      "outputs": [
        {
          "output_type": "stream",
          "name": "stdout",
          "text": [
            "x_train : (41616, 432, 4)\n",
            "x_test : (10080, 432, 4)\n",
            "y_train : (41616,)\n",
            "y_test : (10080,)\n"
          ]
        }
      ],
      "source": [
        "# Calculate the number of readings per day\n",
        "readings_per_day = 144\n",
        "\n",
        "#n = number of day\n",
        "n = 3\n",
        "\n",
        "# Calculate the sequence length (n days in readings)\n",
        "sequence_length = readings_per_day * n\n",
        "\n",
        "# Set the lookback window to be the same as the sequence length\n",
        "lookback_window = sequence_length\n",
        "\n",
        "# Convert the data to a NumPy array\n",
        "refined = train.values\n",
        "refined_test = test.values\n",
        "\n",
        "\n",
        "x_train, y_train = [], []\n",
        "for i in range(lookback_window, len(refined)):\n",
        "    x_train.append(refined[i - lookback_window:i, :])\n",
        "    y_train.append(refined[i, -1])\n",
        "x_train = np.array(x_train)\n",
        "y_train = np.array(y_train)\n",
        "\n",
        "\n",
        "\n",
        "\n",
        "x_test, y_test = [], []\n",
        "for i in range(lookback_window, len(refined_test)):\n",
        "    x_test.append(refined_test[i - lookback_window:i, :])\n",
        "    y_test.append(refined_test[i, -1])\n",
        "x_test = np.array(x_test)\n",
        "y_test = np.array(y_test)\n",
        "\n",
        "\n",
        "\n",
        "print('x_train :',x_train.shape)\n",
        "print('x_test :',x_test.shape)\n",
        "print('y_train :',y_train.shape)\n",
        "print('y_test :',y_test.shape)"
      ]
    },
    {
      "cell_type": "code",
      "source": [
        "model = keras.models.Sequential([\n",
        "    TCN(input_shape=(lookback_window, 4), \n",
        "        kernel_size=10,\n",
        "        nb_filters=32,\n",
        "        dilations=[1, 2, 4, 8, 16],\n",
        "        padding='causal',\n",
        "        activation='relu',\n",
        "        return_sequences=False,\n",
        "        nb_stacks=2,\n",
        "        use_skip_connections=False,\n",
        "        use_batch_norm=False\n",
        "        ),\n",
        "    keras.layers.Dense(1)\n",
        "])\n",
        "model.summary()\n",
        "early_stopping=tf.keras.callbacks.EarlyStopping(\n",
        "    monitor=\"val_mean_absolute_percentage_error\",\n",
        "    patience=8,\n",
        "    start_from_epoch=1,\n",
        "    restore_best_weights=True,\n",
        "    mode=\"min\"\n",
        ")\n",
        "model.compile('adam','mae',metrics=keras.metrics.MeanAbsolutePercentageError())\n",
        "print('Train...')\n",
        "history = model.fit(x_train, y_train,\n",
        "                    epochs=50,\n",
        "                    verbose=1,validation_data=(x_test,y_test)\n",
        "                    #,callbacks=[early_stopping]\n",
        "                    )"
      ],
      "metadata": {
        "colab": {
          "base_uri": "https://localhost:8080/"
        },
        "id": "nZnl0Xbs89rs",
        "outputId": "71972b43-08ce-4670-d06d-60d091798874"
      },
      "execution_count": null,
      "outputs": [
        {
          "output_type": "stream",
          "name": "stdout",
          "text": [
            "Model: \"sequential_3\"\n",
            "_________________________________________________________________\n",
            " Layer (type)                Output Shape              Param #   \n",
            "=================================================================\n",
            " tcn_3 (TCN)                 (None, 32)                196640    \n",
            "                                                                 \n",
            " dense_3 (Dense)             (None, 1)                 33        \n",
            "                                                                 \n",
            "=================================================================\n",
            "Total params: 196,673\n",
            "Trainable params: 196,673\n",
            "Non-trainable params: 0\n",
            "_________________________________________________________________\n",
            "Train...\n",
            "Epoch 1/50\n",
            "1301/1301 [==============================] - 40s 22ms/step - loss: 0.3418 - mean_absolute_percentage_error: 3725.4417 - val_loss: 0.0762 - val_mean_absolute_percentage_error: 398.6171\n",
            "Epoch 2/50\n",
            "1301/1301 [==============================] - 23s 17ms/step - loss: 0.0626 - mean_absolute_percentage_error: 635.8903 - val_loss: 0.0571 - val_mean_absolute_percentage_error: 199.4944\n",
            "Epoch 3/50\n",
            "1301/1301 [==============================] - 23s 17ms/step - loss: 0.0494 - mean_absolute_percentage_error: 852.2870 - val_loss: 0.0449 - val_mean_absolute_percentage_error: 134.5753\n",
            "Epoch 4/50\n",
            "1301/1301 [==============================] - 22s 17ms/step - loss: 0.0444 - mean_absolute_percentage_error: 663.4893 - val_loss: 0.0407 - val_mean_absolute_percentage_error: 115.3570\n",
            "Epoch 5/50\n",
            "1301/1301 [==============================] - 21s 16ms/step - loss: 0.0411 - mean_absolute_percentage_error: 425.8010 - val_loss: 0.0404 - val_mean_absolute_percentage_error: 101.2357\n",
            "Epoch 6/50\n",
            "1301/1301 [==============================] - 21s 16ms/step - loss: 0.0393 - mean_absolute_percentage_error: 111.7985 - val_loss: 0.0385 - val_mean_absolute_percentage_error: 84.6669\n",
            "Epoch 7/50\n",
            "1301/1301 [==============================] - 22s 17ms/step - loss: 0.0373 - mean_absolute_percentage_error: 156.1149 - val_loss: 0.0372 - val_mean_absolute_percentage_error: 74.4565\n",
            "Epoch 8/50\n",
            "1301/1301 [==============================] - 22s 17ms/step - loss: 0.0363 - mean_absolute_percentage_error: 83.3454 - val_loss: 0.0358 - val_mean_absolute_percentage_error: 62.7608\n",
            "Epoch 9/50\n",
            "1301/1301 [==============================] - 22s 17ms/step - loss: 0.0360 - mean_absolute_percentage_error: 242.1572 - val_loss: 0.0361 - val_mean_absolute_percentage_error: 55.6326\n",
            "Epoch 10/50\n",
            "1301/1301 [==============================] - 22s 17ms/step - loss: 0.0356 - mean_absolute_percentage_error: 197.5626 - val_loss: 0.0362 - val_mean_absolute_percentage_error: 47.7012\n",
            "Epoch 11/50\n",
            "1301/1301 [==============================] - 22s 17ms/step - loss: 0.0354 - mean_absolute_percentage_error: 174.6958 - val_loss: 0.0353 - val_mean_absolute_percentage_error: 51.6944\n",
            "Epoch 12/50\n",
            "1301/1301 [==============================] - 22s 17ms/step - loss: 0.0351 - mean_absolute_percentage_error: 47.8052 - val_loss: 0.0349 - val_mean_absolute_percentage_error: 43.3231\n",
            "Epoch 13/50\n",
            "1301/1301 [==============================] - 21s 16ms/step - loss: 0.0352 - mean_absolute_percentage_error: 101.8171 - val_loss: 0.0346 - val_mean_absolute_percentage_error: 41.8169\n",
            "Epoch 14/50\n",
            "1301/1301 [==============================] - 22s 17ms/step - loss: 0.0351 - mean_absolute_percentage_error: 97.3114 - val_loss: 0.0352 - val_mean_absolute_percentage_error: 44.6731\n",
            "Epoch 15/50\n",
            "1301/1301 [==============================] - 21s 16ms/step - loss: 0.0350 - mean_absolute_percentage_error: 70.7136 - val_loss: 0.0339 - val_mean_absolute_percentage_error: 39.9790\n",
            "Epoch 16/50\n",
            "1301/1301 [==============================] - 21s 16ms/step - loss: 0.0349 - mean_absolute_percentage_error: 49.4944 - val_loss: 0.0341 - val_mean_absolute_percentage_error: 42.1755\n",
            "Epoch 17/50\n",
            "1301/1301 [==============================] - 22s 17ms/step - loss: 0.0349 - mean_absolute_percentage_error: 69.0119 - val_loss: 0.0341 - val_mean_absolute_percentage_error: 40.2757\n",
            "Epoch 18/50\n",
            "1301/1301 [==============================] - 21s 16ms/step - loss: 0.0349 - mean_absolute_percentage_error: 100.7915 - val_loss: 0.0353 - val_mean_absolute_percentage_error: 41.3701\n",
            "Epoch 19/50\n",
            "1301/1301 [==============================] - 22s 17ms/step - loss: 0.0349 - mean_absolute_percentage_error: 77.0795 - val_loss: 0.0339 - val_mean_absolute_percentage_error: 40.4465\n",
            "Epoch 20/50\n",
            "1301/1301 [==============================] - 21s 16ms/step - loss: 0.0349 - mean_absolute_percentage_error: 89.4094 - val_loss: 0.0357 - val_mean_absolute_percentage_error: 50.2795\n",
            "Epoch 21/50\n",
            "1301/1301 [==============================] - 21s 16ms/step - loss: 0.0348 - mean_absolute_percentage_error: 88.8370 - val_loss: 0.0342 - val_mean_absolute_percentage_error: 48.0071\n",
            "Epoch 22/50\n",
            "1301/1301 [==============================] - 22s 17ms/step - loss: 0.0348 - mean_absolute_percentage_error: 77.4803 - val_loss: 0.0354 - val_mean_absolute_percentage_error: 40.1504\n",
            "Epoch 23/50\n",
            "1301/1301 [==============================] - 21s 16ms/step - loss: 0.0348 - mean_absolute_percentage_error: 81.1470 - val_loss: 0.0339 - val_mean_absolute_percentage_error: 42.0945\n",
            "Epoch 24/50\n",
            "1301/1301 [==============================] - 22s 17ms/step - loss: 0.0348 - mean_absolute_percentage_error: 128.1982 - val_loss: 0.0338 - val_mean_absolute_percentage_error: 40.8609\n",
            "Epoch 25/50\n",
            "1301/1301 [==============================] - 22s 17ms/step - loss: 0.0347 - mean_absolute_percentage_error: 121.6376 - val_loss: 0.0342 - val_mean_absolute_percentage_error: 46.0352\n",
            "Epoch 26/50\n",
            "1301/1301 [==============================] - 21s 16ms/step - loss: 0.0350 - mean_absolute_percentage_error: 45.4935 - val_loss: 0.0345 - val_mean_absolute_percentage_error: 48.1058\n",
            "Epoch 27/50\n",
            "1301/1301 [==============================] - 21s 16ms/step - loss: 0.0347 - mean_absolute_percentage_error: 41.4943 - val_loss: 0.0347 - val_mean_absolute_percentage_error: 44.0441\n",
            "Epoch 28/50\n",
            "1301/1301 [==============================] - 21s 16ms/step - loss: 0.0347 - mean_absolute_percentage_error: 66.1967 - val_loss: 0.0343 - val_mean_absolute_percentage_error: 49.4753\n",
            "Epoch 29/50\n",
            "1301/1301 [==============================] - 22s 17ms/step - loss: 0.0347 - mean_absolute_percentage_error: 59.8895 - val_loss: 0.0345 - val_mean_absolute_percentage_error: 48.3792\n",
            "Epoch 30/50\n",
            "1301/1301 [==============================] - 22s 17ms/step - loss: 0.0347 - mean_absolute_percentage_error: 51.9473 - val_loss: 0.0342 - val_mean_absolute_percentage_error: 40.5530\n",
            "Epoch 31/50\n",
            "1301/1301 [==============================] - 22s 17ms/step - loss: 0.0346 - mean_absolute_percentage_error: 95.5518 - val_loss: 0.0351 - val_mean_absolute_percentage_error: 39.1405\n",
            "Epoch 32/50\n",
            "1301/1301 [==============================] - 22s 17ms/step - loss: 0.0346 - mean_absolute_percentage_error: 49.3204 - val_loss: 0.0341 - val_mean_absolute_percentage_error: 45.0661\n",
            "Epoch 33/50\n",
            "1301/1301 [==============================] - 21s 16ms/step - loss: 0.0346 - mean_absolute_percentage_error: 75.5422 - val_loss: 0.0347 - val_mean_absolute_percentage_error: 43.7769\n",
            "Epoch 34/50\n",
            "1301/1301 [==============================] - 21s 16ms/step - loss: 0.0346 - mean_absolute_percentage_error: 50.2269 - val_loss: 0.0340 - val_mean_absolute_percentage_error: 40.4898\n",
            "Epoch 35/50\n",
            "1301/1301 [==============================] - 22s 17ms/step - loss: 0.0346 - mean_absolute_percentage_error: 184.3509 - val_loss: 0.0361 - val_mean_absolute_percentage_error: 65.9817\n",
            "Epoch 36/50\n",
            "1301/1301 [==============================] - 22s 17ms/step - loss: 0.0346 - mean_absolute_percentage_error: 97.5316 - val_loss: 0.0340 - val_mean_absolute_percentage_error: 40.6061\n",
            "Epoch 37/50\n",
            "1301/1301 [==============================] - 21s 16ms/step - loss: 0.0346 - mean_absolute_percentage_error: 174.1440 - val_loss: 0.0339 - val_mean_absolute_percentage_error: 45.1398\n",
            "Epoch 38/50\n",
            "1301/1301 [==============================] - 22s 17ms/step - loss: 0.0345 - mean_absolute_percentage_error: 53.3130 - val_loss: 0.0346 - val_mean_absolute_percentage_error: 52.6360\n",
            "Epoch 39/50\n",
            "1301/1301 [==============================] - 21s 16ms/step - loss: 0.0346 - mean_absolute_percentage_error: 89.6869 - val_loss: 0.0347 - val_mean_absolute_percentage_error: 46.0661\n",
            "Epoch 40/50\n",
            "1301/1301 [==============================] - 22s 17ms/step - loss: 0.0345 - mean_absolute_percentage_error: 71.3264 - val_loss: 0.0350 - val_mean_absolute_percentage_error: 57.8380\n",
            "Epoch 41/50\n",
            "1301/1301 [==============================] - 21s 16ms/step - loss: 0.0346 - mean_absolute_percentage_error: 129.5327 - val_loss: 0.0346 - val_mean_absolute_percentage_error: 57.3491\n",
            "Epoch 42/50\n",
            "1301/1301 [==============================] - 22s 17ms/step - loss: 0.0345 - mean_absolute_percentage_error: 71.1458 - val_loss: 0.0337 - val_mean_absolute_percentage_error: 39.0954\n",
            "Epoch 43/50\n",
            "1301/1301 [==============================] - 21s 16ms/step - loss: 0.0345 - mean_absolute_percentage_error: 86.5560 - val_loss: 0.0339 - val_mean_absolute_percentage_error: 42.0335\n",
            "Epoch 44/50\n",
            "1301/1301 [==============================] - 21s 17ms/step - loss: 0.0345 - mean_absolute_percentage_error: 60.7589 - val_loss: 0.0349 - val_mean_absolute_percentage_error: 48.7104\n",
            "Epoch 45/50\n",
            "1301/1301 [==============================] - 21s 16ms/step - loss: 0.0344 - mean_absolute_percentage_error: 83.0630 - val_loss: 0.0343 - val_mean_absolute_percentage_error: 40.4243\n",
            "Epoch 46/50\n",
            "1301/1301 [==============================] - 21s 16ms/step - loss: 0.0344 - mean_absolute_percentage_error: 140.2491 - val_loss: 0.0341 - val_mean_absolute_percentage_error: 39.3920\n",
            "Epoch 47/50\n",
            "1301/1301 [==============================] - 21s 16ms/step - loss: 0.0345 - mean_absolute_percentage_error: 56.2910 - val_loss: 0.0343 - val_mean_absolute_percentage_error: 39.9849\n",
            "Epoch 48/50\n",
            "1301/1301 [==============================] - 21s 16ms/step - loss: 0.0344 - mean_absolute_percentage_error: 95.7207 - val_loss: 0.0341 - val_mean_absolute_percentage_error: 42.7902\n",
            "Epoch 49/50\n",
            "1301/1301 [==============================] - 22s 17ms/step - loss: 0.0343 - mean_absolute_percentage_error: 90.2189 - val_loss: 0.0339 - val_mean_absolute_percentage_error: 40.1019\n",
            "Epoch 50/50\n",
            "1301/1301 [==============================] - 22s 17ms/step - loss: 0.0343 - mean_absolute_percentage_error: 81.5381 - val_loss: 0.0338 - val_mean_absolute_percentage_error: 41.6480\n"
          ]
        }
      ]
    },
    {
      "cell_type": "code",
      "source": [
        "import matplotlib.pyplot as plt\n",
        "logs = pd.DataFrame(history.history)\n",
        "\n",
        "plt.figure(figsize=(14, 4))\n",
        "plt.subplot(1, 2, 1)\n",
        "plt.plot(logs.loc[1:,\"loss\"], lw=2, label='training loss')\n",
        "plt.plot(logs.loc[1:,\"val_loss\"], lw=2, label='validation loss')\n",
        "plt.xlabel(\"Epoch\")\n",
        "plt.ylabel(\"Loss\")\n",
        "plt.legend()\n",
        "plt.subplot(1, 2, 2)\n",
        "plt.plot(logs.loc[1:,\"mean_absolute_percentage_error\"], lw=2, label='training MAPE')\n",
        "plt.plot(logs.loc[1:,\"val_mean_absolute_percentage_error\"], lw=2, label='validation MAPE')\n",
        "plt.xlabel(\"Epoch\")\n",
        "plt.ylabel(\"MAPE\")\n",
        "plt.legend(loc='upper right')\n",
        "plt.show()"
      ],
      "metadata": {
        "colab": {
          "base_uri": "https://localhost:8080/",
          "height": 388
        },
        "id": "IbVxgGbT-YRn",
        "outputId": "56f7c022-f6ff-4881-b3d2-f8b2ce0d0699"
      },
      "execution_count": null,
      "outputs": [
        {
          "output_type": "display_data",
          "data": {
            "text/plain": [
              "<Figure size 1400x400 with 2 Axes>"
            ],
            "image/png": "[encoded data removed]"
          },
          "metadata": {}
        }
      ]
    },
    {
      "cell_type": "code",
      "execution_count": null,
      "metadata": {
        "execution": {
          "iopub.execute_input": "2023-01-09T11:25:27.351333Z",
          "iopub.status.busy": "2023-01-09T11:25:27.350875Z",
          "iopub.status.idle": "2023-01-09T11:25:29.481289Z",
          "shell.execute_reply": "2023-01-09T11:25:29.480348Z",
          "shell.execute_reply.started": "2023-01-09T11:25:27.351206Z"
        },
        "id": "pbEAZ5uiaazH",
        "colab": {
          "base_uri": "https://localhost:8080/"
        },
        "outputId": "e8a71afa-d2d6-4441-f3e4-fd28ae34a060"
      },
      "outputs": [
        {
          "output_type": "stream",
          "name": "stdout",
          "text": [
            "315/315 [==============================] - 2s 5ms/step\n"
          ]
        }
      ],
      "source": [
        "p = model.predict(x_test)"
      ]
    },
    {
      "cell_type": "code",
      "execution_count": null,
      "metadata": {
        "execution": {
          "iopub.execute_input": "2023-01-09T11:25:29.483855Z",
          "iopub.status.busy": "2023-01-09T11:25:29.482902Z",
          "iopub.status.idle": "2023-01-09T11:25:29.489958Z",
          "shell.execute_reply": "2023-01-09T11:25:29.489009Z",
          "shell.execute_reply.started": "2023-01-09T11:25:29.483815Z"
        },
        "id": "m9dNOhN1g2Mp",
        "colab": {
          "base_uri": "https://localhost:8080/"
        },
        "outputId": "91c95c47-be23-42f7-a476-bb1147cc4de7"
      },
      "outputs": [
        {
          "output_type": "stream",
          "name": "stdout",
          "text": [
            "(10080, 432, 4)\n",
            "(10080,)\n",
            "(10080, 1)\n"
          ]
        }
      ],
      "source": [
        "print(x_test.shape)\n",
        "print(y_test.shape)\n",
        "print(p.shape)"
      ]
    },
    {
      "cell_type": "code",
      "execution_count": null,
      "metadata": {
        "id": "TM7jGF5l0bAV",
        "colab": {
          "base_uri": "https://localhost:8080/",
          "height": 391
        },
        "outputId": "a41e7c6e-fa28-4282-f4ad-84ccddb3a7fe"
      },
      "outputs": [
        {
          "output_type": "display_data",
          "data": {
            "text/plain": [
              "<Figure size 1400x400 with 1 Axes>"
            ],
            "image/png": "[encoded data removed]"
          },
          "metadata": {}
        }
      ],
      "source": [
        "\n",
        "plt.figure(figsize=(14, 4))\n",
        "predictions = p\n",
        "\n",
        "predicted_data = ( (predictions * (train_max[3]-train_min[3])) + train_min[3] )\n",
        "y_test_data =  ( (y_test * (train_max[3]- train_min[3])) + train_min[3] )\n",
        "\n",
        "plt.plot(predicted_data[-720:]) \n",
        "plt.plot(y_test_data[-720:]) \n",
        "plt.title('Last 5 days of data')\n",
        "plt.legend(['predicted', 'actual'])\n",
        "plt.show()\n"
      ]
    },
    {
      "cell_type": "code",
      "execution_count": null,
      "metadata": {
        "id": "_L1xDvuK0bHU",
        "colab": {
          "base_uri": "https://localhost:8080/"
        },
        "outputId": "8be38b66-c8a5-4dac-c55d-0b6284a120c1"
      },
      "outputs": [
        {
          "output_type": "stream",
          "name": "stdout",
          "text": [
            "Mean absolute percentage error : 0.406601350006597\n",
            "Mean absolute  error : 35.9066983698582\n"
          ]
        }
      ],
      "source": [
        "from sklearn.metrics import mean_absolute_percentage_error as mape\n",
        "from sklearn.metrics import mean_absolute_error as mae\n",
        "\n",
        "\n",
        "predicted = pd.DataFrame(predicted_data[-720:])\n",
        "actual_data = pd.DataFrame(y_test_data[-720:])\n",
        "result = pd.concat([actual_data,predicted],axis=1)\n",
        "result.columns = ['actual_data','predicted_data']\n",
        "\n",
        "error_mape = mape(result['actual_data'],result['predicted_data'])\n",
        "error_mae = mae(result['actual_data'],result['predicted_data'])\n",
        "\n",
        "  \n",
        "\n",
        "print(\"Mean absolute percentage error : \" + str(error_mape))\n",
        "print(\"Mean absolute  error : \" + str(error_mae))"
      ]
    },
    {
      "cell_type": "code",
      "source": [
        "APE = []\n",
        "  \n",
        "# Iterate over the list values\n",
        "for day in range(720):\n",
        "  \n",
        "    # Calculate percentage error\n",
        "    per_err = (result['actual_data'][day] - result['predicted_data'][day]) / 1500\n",
        "  \n",
        "    # Take absolute value of\n",
        "    # the percentage error (APE)\n",
        "    per_err = abs(per_err)\n",
        "  \n",
        "    # Append it to the APE list\n",
        "    APE.append(per_err)\n",
        "  \n",
        "# Calculate the MAPE\n",
        "MAPE = sum(APE)/len(APE)\n",
        "  \n",
        "# Print the MAPE value and percentage\n",
        "print(f'''\n",
        "MAPE   : { round(MAPE, 2) }\n",
        "MAPE % : { round(MAPE*100, 2) } %\n",
        "''')"
      ],
      "metadata": {
        "colab": {
          "base_uri": "https://localhost:8080/"
        },
        "id": "bk6-i9N8siEg",
        "outputId": "7643ba26-4815-4921-ed6a-c6ea7a90e6e8"
      },
      "execution_count": null,
      "outputs": [
        {
          "output_type": "stream",
          "name": "stdout",
          "text": [
            "\n",
            "MAPE   : 0.02\n",
            "MAPE % : 2.39 %\n",
            "\n"
          ]
        }
      ]
    },
    {
      "cell_type": "code",
      "execution_count": null,
      "metadata": {
        "id": "RA8MyDZe0bSs",
        "colab": {
          "base_uri": "https://localhost:8080/"
        },
        "outputId": "cacb9ac0-55de-4dc9-8c44-62a387bf802c"
      },
      "outputs": [
        {
          "output_type": "execute_result",
          "data": {
            "text/plain": [
              "array([[1.        , 0.97338947],\n",
              "       [0.97338947, 1.        ]])"
            ]
          },
          "metadata": {},
          "execution_count": 75
        }
      ],
      "source": [
        "accuracy = np.corrcoef(result['actual_data'],result['predicted_data'])\n",
        "accuracy"
      ]
    },
    {
      "cell_type": "code",
      "source": [],
      "metadata": {
        "id": "CMHGE9fy6n6y"
      },
      "execution_count": null,
      "outputs": []
    }
  ],
  "metadata": {
    "accelerator": "GPU",
    "colab": {
      "provenance": []
    },
    "gpuClass": "standard",
    "kernelspec": {
      "display_name": "Python 3 (ipykernel)",
      "language": "python",
      "name": "python3"
    },
    "language_info": {
      "codemirror_mode": {
        "name": "ipython",
        "version": 3
      },
      "file_extension": ".py",
      "mimetype": "text/x-python",
      "name": "python",
      "nbconvert_exporter": "python",
      "pygments_lexer": "ipython3",
      "version": "3.9.13"
    }
  },
  "nbformat": 4,
  "nbformat_minor": 0
}