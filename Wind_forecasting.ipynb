{
 "cells": [
  {
   "cell_type": "code",
   "execution_count": 1,
   "metadata": {
    "id": "qwu9q7AIMIpr"
   },
   "outputs": [],
   "source": [
    "from tcn import TCN\n",
    "import pandas as pd\n",
    "import numpy as np\n",
    "import matplotlib.pyplot as plt\n",
    "import tensorflow as tf\n",
    "from tensorflow import keras"
   ]
  },
  {
   "cell_type": "code",
   "execution_count": 2,
   "metadata": {
    "id": "-VuYmf7KMUuL"
   },
   "outputs": [],
   "source": [
    "data=pd.read_csv('T2.csv')"
   ]
  },
  {
   "cell_type": "code",
   "execution_count": 3,
   "metadata": {
    "id": "B67n4t_1MuQu"
   },
   "outputs": [],
   "source": [
    "data.drop('time', inplace=True, axis=1)"
   ]
  },
  {
   "cell_type": "code",
   "execution_count": 4,
   "metadata": {
    "colab": {
     "base_uri": "https://localhost:8080/",
     "height": 424
    },
    "id": "ec0hCj0nMpP0",
    "outputId": "d5200269-9946-4dab-ecb9-53dbc6b0dea9"
   },
   "outputs": [
    {
     "data": {
      "text/html": [
       "<div>\n",
       "<style scoped>\n",
       "    .dataframe tbody tr th:only-of-type {\n",
       "        vertical-align: middle;\n",
       "    }\n",
       "\n",
       "    .dataframe tbody tr th {\n",
       "        vertical-align: top;\n",
       "    }\n",
       "\n",
       "    .dataframe thead th {\n",
       "        text-align: right;\n",
       "    }\n",
       "</style>\n",
       "<table border=\"1\" class=\"dataframe\">\n",
       "  <thead>\n",
       "    <tr style=\"text-align: right;\">\n",
       "      <th></th>\n",
       "      <th>LV ActivePower (kW)</th>\n",
       "      <th>Wind Speed (m/s)</th>\n",
       "      <th>wind energy</th>\n",
       "      <th>Wind Direction (°)</th>\n",
       "    </tr>\n",
       "  </thead>\n",
       "  <tbody>\n",
       "    <tr>\n",
       "      <th>0</th>\n",
       "      <td>380.047791</td>\n",
       "      <td>5.311336</td>\n",
       "      <td>416.328908</td>\n",
       "      <td>259.994904</td>\n",
       "    </tr>\n",
       "    <tr>\n",
       "      <th>1</th>\n",
       "      <td>453.769196</td>\n",
       "      <td>5.672167</td>\n",
       "      <td>519.917511</td>\n",
       "      <td>268.641113</td>\n",
       "    </tr>\n",
       "    <tr>\n",
       "      <th>2</th>\n",
       "      <td>306.376587</td>\n",
       "      <td>5.216037</td>\n",
       "      <td>390.900016</td>\n",
       "      <td>272.564789</td>\n",
       "    </tr>\n",
       "    <tr>\n",
       "      <th>3</th>\n",
       "      <td>419.645904</td>\n",
       "      <td>5.659674</td>\n",
       "      <td>516.127569</td>\n",
       "      <td>271.258087</td>\n",
       "    </tr>\n",
       "    <tr>\n",
       "      <th>4</th>\n",
       "      <td>380.650696</td>\n",
       "      <td>5.577941</td>\n",
       "      <td>491.702972</td>\n",
       "      <td>265.674286</td>\n",
       "    </tr>\n",
       "    <tr>\n",
       "      <th>...</th>\n",
       "      <td>...</td>\n",
       "      <td>...</td>\n",
       "      <td>...</td>\n",
       "      <td>...</td>\n",
       "    </tr>\n",
       "    <tr>\n",
       "      <th>52555</th>\n",
       "      <td>2963.980957</td>\n",
       "      <td>11.404030</td>\n",
       "      <td>3397.190793</td>\n",
       "      <td>80.502724</td>\n",
       "    </tr>\n",
       "    <tr>\n",
       "      <th>52556</th>\n",
       "      <td>1684.353027</td>\n",
       "      <td>7.332648</td>\n",
       "      <td>1173.055771</td>\n",
       "      <td>84.062599</td>\n",
       "    </tr>\n",
       "    <tr>\n",
       "      <th>52557</th>\n",
       "      <td>2201.106934</td>\n",
       "      <td>8.435358</td>\n",
       "      <td>1788.284755</td>\n",
       "      <td>84.742500</td>\n",
       "    </tr>\n",
       "    <tr>\n",
       "      <th>52558</th>\n",
       "      <td>2515.694092</td>\n",
       "      <td>9.421366</td>\n",
       "      <td>2418.382503</td>\n",
       "      <td>84.297913</td>\n",
       "    </tr>\n",
       "    <tr>\n",
       "      <th>52559</th>\n",
       "      <td>2820.466064</td>\n",
       "      <td>9.979332</td>\n",
       "      <td>2779.184096</td>\n",
       "      <td>82.274620</td>\n",
       "    </tr>\n",
       "  </tbody>\n",
       "</table>\n",
       "<p>52560 rows × 4 columns</p>\n",
       "</div>"
      ],
      "text/plain": [
       "       LV ActivePower (kW)  Wind Speed (m/s)  wind energy  Wind Direction (°)\n",
       "0               380.047791          5.311336   416.328908          259.994904\n",
       "1               453.769196          5.672167   519.917511          268.641113\n",
       "2               306.376587          5.216037   390.900016          272.564789\n",
       "3               419.645904          5.659674   516.127569          271.258087\n",
       "4               380.650696          5.577941   491.702972          265.674286\n",
       "...                    ...               ...          ...                 ...\n",
       "52555          2963.980957         11.404030  3397.190793           80.502724\n",
       "52556          1684.353027          7.332648  1173.055771           84.062599\n",
       "52557          2201.106934          8.435358  1788.284755           84.742500\n",
       "52558          2515.694092          9.421366  2418.382503           84.297913\n",
       "52559          2820.466064          9.979332  2779.184096           82.274620\n",
       "\n",
       "[52560 rows x 4 columns]"
      ]
     },
     "execution_count": 4,
     "metadata": {},
     "output_type": "execute_result"
    }
   ],
   "source": [
    "data"
   ]
  },
  {
   "cell_type": "code",
   "execution_count": 5,
   "metadata": {
    "id": "_ZhP0HGKNSq1"
   },
   "outputs": [],
   "source": [
    "df=data['LV ActivePower (kW)']"
   ]
  },
  {
   "cell_type": "code",
   "execution_count": 6,
   "metadata": {
    "colab": {
     "base_uri": "https://localhost:8080/"
    },
    "id": "8leoQYebNSWA",
    "outputId": "7d5bbfbf-a2b1-4055-fb7b-866aa8f856e2"
   },
   "outputs": [
    {
     "name": "stdout",
     "output_type": "stream",
     "text": [
      "negative at == 608\n",
      "negative at == 933\n",
      "negative at == 2114\n",
      "negative at == 3037\n",
      "negative at == 4424\n",
      "negative at == 5134\n",
      "negative at == 6062\n",
      "negative at == 6093\n",
      "negative at == 6105\n",
      "negative at == 6114\n",
      "negative at == 6221\n",
      "negative at == 6905\n",
      "negative at == 6910\n",
      "negative at == 6969\n",
      "negative at == 7308\n",
      "negative at == 7309\n",
      "negative at == 7323\n",
      "negative at == 7331\n",
      "negative at == 7342\n",
      "negative at == 7358\n",
      "negative at == 7433\n",
      "negative at == 7577\n",
      "negative at == 8442\n",
      "negative at == 8592\n",
      "negative at == 9021\n",
      "negative at == 10081\n",
      "negative at == 10083\n",
      "negative at == 13391\n",
      "negative at == 13395\n",
      "negative at == 18440\n",
      "negative at == 21839\n",
      "negative at == 21949\n",
      "negative at == 22991\n",
      "negative at == 23924\n",
      "negative at == 24056\n",
      "negative at == 27788\n",
      "negative at == 28091\n",
      "negative at == 29140\n",
      "negative at == 29666\n",
      "negative at == 29813\n",
      "negative at == 29928\n",
      "negative at == 30067\n",
      "negative at == 30068\n",
      "negative at == 30069\n",
      "negative at == 30070\n",
      "negative at == 30071\n",
      "negative at == 30072\n",
      "negative at == 30992\n",
      "negative at == 35244\n",
      "negative at == 37030\n",
      "negative at == 38324\n",
      "negative at == 38996\n",
      "negative at == 39003\n",
      "negative at == 39439\n",
      "negative at == 39523\n",
      "negative at == 40066\n",
      "negative at == 42886\n",
      "negative at == 44193\n",
      "negative at == 48118\n",
      "negative at == 48123\n",
      "negative at == 48249\n",
      "negative at == 50565\n",
      "negative at == 52380\n"
     ]
    }
   ],
   "source": [
    "for i in range(0, len(df)):\n",
    "  if df[i] <= 0:\n",
    "    print('negative at ==',i)\n",
    "    i\n",
    "  "
   ]
  },
  {
   "cell_type": "code",
   "execution_count": 7,
   "metadata": {
    "id": "6hNitKPCPOny"
   },
   "outputs": [],
   "source": [
    "num_train_samples=int(0.5 *len(data))\n",
    "num_val_samples=int(0.25* len(data))\n",
    "num_test_samples= len(data)-num_train_samples-num_val_samples"
   ]
  },
  {
   "cell_type": "code",
   "execution_count": 8,
   "metadata": {
    "id": "g2lWA29RPe96"
   },
   "outputs": [],
   "source": [
    "#Normalization of data\n",
    "mean=data.mean(axis=0)\n",
    "data -= mean"
   ]
  },
  {
   "cell_type": "code",
   "execution_count": 9,
   "metadata": {
    "id": "H28ITSFBQ1ms"
   },
   "outputs": [],
   "source": [
    "std =data.std(axis=0)\n",
    "data /= std"
   ]
  },
  {
   "cell_type": "code",
   "execution_count": 10,
   "metadata": {
    "colab": {
     "base_uri": "https://localhost:8080/",
     "height": 424
    },
    "id": "KrcMSIWsqBMz",
    "outputId": "93426596-ba8e-40b2-aa70-8120f469ff0a"
   },
   "outputs": [
    {
     "data": {
      "text/html": [
       "<div>\n",
       "<style scoped>\n",
       "    .dataframe tbody tr th:only-of-type {\n",
       "        vertical-align: middle;\n",
       "    }\n",
       "\n",
       "    .dataframe tbody tr th {\n",
       "        vertical-align: top;\n",
       "    }\n",
       "\n",
       "    .dataframe thead th {\n",
       "        text-align: right;\n",
       "    }\n",
       "</style>\n",
       "<table border=\"1\" class=\"dataframe\">\n",
       "  <thead>\n",
       "    <tr style=\"text-align: right;\">\n",
       "      <th></th>\n",
       "      <th>LV ActivePower (kW)</th>\n",
       "      <th>Wind Speed (m/s)</th>\n",
       "      <th>wind energy</th>\n",
       "      <th>Wind Direction (°)</th>\n",
       "    </tr>\n",
       "  </thead>\n",
       "  <tbody>\n",
       "    <tr>\n",
       "      <th>0</th>\n",
       "      <td>-0.746271</td>\n",
       "      <td>-0.534809</td>\n",
       "      <td>-0.814109</td>\n",
       "      <td>1.480642</td>\n",
       "    </tr>\n",
       "    <tr>\n",
       "      <th>1</th>\n",
       "      <td>-0.688842</td>\n",
       "      <td>-0.448718</td>\n",
       "      <td>-0.737507</td>\n",
       "      <td>1.573494</td>\n",
       "    </tr>\n",
       "    <tr>\n",
       "      <th>2</th>\n",
       "      <td>-0.803662</td>\n",
       "      <td>-0.557546</td>\n",
       "      <td>-0.832913</td>\n",
       "      <td>1.615630</td>\n",
       "    </tr>\n",
       "    <tr>\n",
       "      <th>3</th>\n",
       "      <td>-0.715424</td>\n",
       "      <td>-0.451699</td>\n",
       "      <td>-0.740310</td>\n",
       "      <td>1.601597</td>\n",
       "    </tr>\n",
       "    <tr>\n",
       "      <th>4</th>\n",
       "      <td>-0.745802</td>\n",
       "      <td>-0.471199</td>\n",
       "      <td>-0.758371</td>\n",
       "      <td>1.541633</td>\n",
       "    </tr>\n",
       "    <tr>\n",
       "      <th>...</th>\n",
       "      <td>...</td>\n",
       "      <td>...</td>\n",
       "      <td>...</td>\n",
       "      <td>...</td>\n",
       "    </tr>\n",
       "    <tr>\n",
       "      <th>52555</th>\n",
       "      <td>1.266630</td>\n",
       "      <td>0.918847</td>\n",
       "      <td>1.390174</td>\n",
       "      <td>-0.446921</td>\n",
       "    </tr>\n",
       "    <tr>\n",
       "      <th>52556</th>\n",
       "      <td>0.269791</td>\n",
       "      <td>-0.052544</td>\n",
       "      <td>-0.254526</td>\n",
       "      <td>-0.408691</td>\n",
       "    </tr>\n",
       "    <tr>\n",
       "      <th>52557</th>\n",
       "      <td>0.672346</td>\n",
       "      <td>0.210552</td>\n",
       "      <td>0.200423</td>\n",
       "      <td>-0.401390</td>\n",
       "    </tr>\n",
       "    <tr>\n",
       "      <th>52558</th>\n",
       "      <td>0.917412</td>\n",
       "      <td>0.445803</td>\n",
       "      <td>0.666367</td>\n",
       "      <td>-0.406164</td>\n",
       "    </tr>\n",
       "    <tr>\n",
       "      <th>52559</th>\n",
       "      <td>1.154831</td>\n",
       "      <td>0.578928</td>\n",
       "      <td>0.933172</td>\n",
       "      <td>-0.427892</td>\n",
       "    </tr>\n",
       "  </tbody>\n",
       "</table>\n",
       "<p>52560 rows × 4 columns</p>\n",
       "</div>"
      ],
      "text/plain": [
       "       LV ActivePower (kW)  Wind Speed (m/s)  wind energy  Wind Direction (°)\n",
       "0                -0.746271         -0.534809    -0.814109            1.480642\n",
       "1                -0.688842         -0.448718    -0.737507            1.573494\n",
       "2                -0.803662         -0.557546    -0.832913            1.615630\n",
       "3                -0.715424         -0.451699    -0.740310            1.601597\n",
       "4                -0.745802         -0.471199    -0.758371            1.541633\n",
       "...                    ...               ...          ...                 ...\n",
       "52555             1.266630          0.918847     1.390174           -0.446921\n",
       "52556             0.269791         -0.052544    -0.254526           -0.408691\n",
       "52557             0.672346          0.210552     0.200423           -0.401390\n",
       "52558             0.917412          0.445803     0.666367           -0.406164\n",
       "52559             1.154831          0.578928     0.933172           -0.427892\n",
       "\n",
       "[52560 rows x 4 columns]"
      ]
     },
     "execution_count": 10,
     "metadata": {},
     "output_type": "execute_result"
    }
   ],
   "source": [
    "data"
   ]
  },
  {
   "cell_type": "code",
   "execution_count": 11,
   "metadata": {
    "id": "pKq8BGXVp4J1"
   },
   "outputs": [],
   "source": [
    "raw_data=data\n",
    "target=data['LV ActivePower (kW)']"
   ]
  },
  {
   "cell_type": "code",
   "execution_count": 13,
   "metadata": {
    "colab": {
     "base_uri": "https://localhost:8080/"
    },
    "id": "u9t5x_1gqEev",
    "outputId": "53428957-6acd-4616-ae8f-79fe2a8b070d"
   },
   "outputs": [
    {
     "data": {
      "text/plain": [
       "0       -0.746271\n",
       "1       -0.688842\n",
       "2       -0.803662\n",
       "3       -0.715424\n",
       "4       -0.745802\n",
       "           ...   \n",
       "52555    1.266630\n",
       "52556    0.269791\n",
       "52557    0.672346\n",
       "52558    0.917412\n",
       "52559    1.154831\n",
       "Name: LV ActivePower (kW), Length: 52560, dtype: float64"
      ]
     },
     "execution_count": 13,
     "metadata": {},
     "output_type": "execute_result"
    }
   ],
   "source": [
    "target"
   ]
  },
  {
   "cell_type": "code",
   "execution_count": 21,
   "metadata": {
    "id": "kwZlDZcSSd6u"
   },
   "outputs": [],
   "source": [
    "sampling_rate = 6 # har 6th sample ko include karo 0-5 tak ignore 6th becomes first\n",
    "sequence_length = 120 # 5 days ka data le raha hai \n",
    "delay = 6*(sequence_length + 24 - 1) # 24, 36 and 72 hours prior rakhna hai according to paper\n",
    "batch_size = 256\n",
    "train_dataset = keras.utils.timeseries_dataset_from_array(\n",
    " raw_data[0:num_train_samples],\n",
    " targets=target[delay:num_train_samples],\n",
    " sampling_rate=sampling_rate,\n",
    " sequence_length=sequence_length,\n",
    " shuffle=False,\n",
    " batch_size=batch_size,)\n",
    " #start_index=0,\n",
    " #end_index=num_train_samples)\n",
    "val_dataset = keras.utils.timeseries_dataset_from_array(\n",
    " raw_data[num_train_samples+1:num_train_samples+num_val_samples],\n",
    " targets=target[delay:num_train_samples+num_val_samples],\n",
    " sampling_rate=sampling_rate,\n",
    " sequence_length=sequence_length,\n",
    " shuffle=False,\n",
    " batch_size=batch_size)\n",
    "test_dataset = keras.utils.timeseries_dataset_from_array(\n",
    " raw_data[num_val_samples+num_train_samples+1:num_test_samples+num_val_samples+num_train_samples],\n",
    " targets=target[delay:num_test_samples+num_val_samples+num_train_samples],\n",
    " sampling_rate=sampling_rate,\n",
    " sequence_length=sequence_length,\n",
    " shuffle=False,\n",
    " batch_size=batch_size)"
   ]
  },
  {
   "cell_type": "code",
   "execution_count": 22,
   "metadata": {
    "colab": {
     "base_uri": "https://localhost:8080/"
    },
    "id": "YenK0RcMgyhH",
    "outputId": "58e4506b-5eeb-44f5-8003-edd67d4403f1"
   },
   "outputs": [
    {
     "data": {
      "text/plain": [
       "<BatchDataset element_spec=(TensorSpec(shape=(None, None, 4), dtype=tf.float64, name=None), TensorSpec(shape=(None,), dtype=tf.float64, name=None))>"
      ]
     },
     "execution_count": 22,
     "metadata": {},
     "output_type": "execute_result"
    }
   ],
   "source": [
    "train_dataset"
   ]
  },
  {
   "cell_type": "code",
   "execution_count": 23,
   "metadata": {
    "colab": {
     "base_uri": "https://localhost:8080/"
    },
    "id": "L8OXb1Krgz9-",
    "outputId": "5255e6e5-2b1d-49f6-ae1e-564118bb2184"
   },
   "outputs": [
    {
     "name": "stdout",
     "output_type": "stream",
     "text": [
      "samples (256, 120, 4)\n",
      "targets (256,)\n"
     ]
    }
   ],
   "source": [
    "for samples, targets in train_dataset:\n",
    "  print('samples', samples.shape)\n",
    "  print('targets', targets.shape)\n",
    "  break"
   ]
  },
  {
   "cell_type": "code",
   "execution_count": 24,
   "metadata": {
    "id": "AhCDZk0iuemB"
   },
   "outputs": [],
   "source": [
    "from tensorflow.keras import layers"
   ]
  },
  {
   "cell_type": "code",
   "execution_count": 25,
   "metadata": {
    "colab": {
     "base_uri": "https://localhost:8080/"
    },
    "id": "VbhQYD_9yOae",
    "outputId": "13aa889e-b92d-49b1-bb22-c42b798965ad"
   },
   "outputs": [
    {
     "data": {
      "text/plain": [
       "<BatchDataset element_spec=(TensorSpec(shape=(None, None, 4), dtype=tf.float64, name=None), TensorSpec(shape=(None,), dtype=tf.float64, name=None))>"
      ]
     },
     "execution_count": 25,
     "metadata": {},
     "output_type": "execute_result"
    }
   ],
   "source": [
    "test_dataset"
   ]
  },
  {
   "cell_type": "code",
   "execution_count": null,
   "metadata": {
    "colab": {
     "base_uri": "https://localhost:8080/"
    },
    "id": "yu7dsGauyUdF",
    "outputId": "ecff0cb6-5285-4b37-f7b8-47b05777115c",
    "scrolled": false
   },
   "outputs": [
    {
     "name": "stdout",
     "output_type": "stream",
     "text": [
      "Model: \"sequential_1\"\n",
      "_________________________________________________________________\n",
      " Layer (type)                Output Shape              Param #   \n",
      "=================================================================\n",
      " tcn_1 (TCN)                 (None, 120, 32)           196640    \n",
      "                                                                 \n",
      " dense_1 (Dense)             (None, 120, 1)            33        \n",
      "                                                                 \n",
      "=================================================================\n",
      "Total params: 196,673\n",
      "Trainable params: 196,673\n",
      "Non-trainable params: 0\n",
      "_________________________________________________________________\n",
      "Train...\n",
      "Epoch 1/50\n",
      "100/100 [==============================] - 202s 2s/step - loss: 764.7419 - mape: 764.7417 - val_loss: 229.4052 - val_mape: 229.4052\n",
      "Epoch 2/50\n",
      "100/100 [==============================] - 193s 2s/step - loss: 284.0549 - mape: 284.0548 - val_loss: 178.3540 - val_mape: 178.3540\n",
      "Epoch 3/50\n",
      "100/100 [==============================] - 186s 2s/step - loss: 265.4981 - mape: 265.4980 - val_loss: 181.7788 - val_mape: 181.7788\n",
      "Epoch 4/50\n",
      "100/100 [==============================] - 186s 2s/step - loss: 201.4251 - mape: 201.4251 - val_loss: 157.9491 - val_mape: 157.9491\n",
      "Epoch 5/50\n",
      "100/100 [==============================] - 183s 2s/step - loss: 182.2954 - mape: 182.2954 - val_loss: 152.7587 - val_mape: 152.7587\n",
      "Epoch 6/50\n",
      "100/100 [==============================] - 183s 2s/step - loss: 159.2525 - mape: 159.2525 - val_loss: 141.8696 - val_mape: 141.8697\n",
      "Epoch 7/50\n",
      "100/100 [==============================] - 186s 2s/step - loss: 154.0119 - mape: 154.0119 - val_loss: 130.6168 - val_mape: 130.6168\n",
      "Epoch 8/50\n",
      "100/100 [==============================] - 187s 2s/step - loss: 139.4089 - mape: 139.4089 - val_loss: 127.1796 - val_mape: 127.1796\n",
      "Epoch 9/50\n",
      "100/100 [==============================] - 185s 2s/step - loss: 132.1969 - mape: 132.1969 - val_loss: 119.3516 - val_mape: 119.3516\n",
      "Epoch 10/50\n",
      "100/100 [==============================] - 184s 2s/step - loss: 134.8138 - mape: 134.8138 - val_loss: 120.2495 - val_mape: 120.2495\n",
      "Epoch 11/50\n",
      "100/100 [==============================] - 185s 2s/step - loss: 128.0612 - mape: 128.0612 - val_loss: 118.4514 - val_mape: 118.4515\n",
      "Epoch 12/50\n",
      "100/100 [==============================] - 183s 2s/step - loss: 127.2059 - mape: 127.2059 - val_loss: 123.7541 - val_mape: 123.7541\n",
      "Epoch 13/50\n",
      "100/100 [==============================] - 184s 2s/step - loss: 126.8708 - mape: 126.8708 - val_loss: 114.9779 - val_mape: 114.9779\n",
      "Epoch 14/50\n",
      "100/100 [==============================] - 183s 2s/step - loss: 141.9698 - mape: 141.9698 - val_loss: 131.0692 - val_mape: 131.0691\n",
      "Epoch 15/50\n",
      "100/100 [==============================] - 183s 2s/step - loss: 122.7456 - mape: 122.7456 - val_loss: 113.7657 - val_mape: 113.7657\n",
      "Epoch 16/50\n",
      "100/100 [==============================] - 183s 2s/step - loss: 121.0672 - mape: 121.0672 - val_loss: 112.1392 - val_mape: 112.1393\n",
      "Epoch 17/50\n",
      "100/100 [==============================] - 210s 2s/step - loss: 116.8431 - mape: 116.8431 - val_loss: 111.7075 - val_mape: 111.7075\n",
      "Epoch 18/50\n",
      "100/100 [==============================] - 206s 2s/step - loss: 116.1359 - mape: 116.1359 - val_loss: 111.8533 - val_mape: 111.8533\n",
      "Epoch 19/50\n",
      "100/100 [==============================] - 202s 2s/step - loss: 120.9361 - mape: 120.9361 - val_loss: 111.2065 - val_mape: 111.2065\n",
      "Epoch 20/50\n",
      "100/100 [==============================] - 197s 2s/step - loss: 115.0279 - mape: 115.0280 - val_loss: 111.8663 - val_mape: 111.8663\n",
      "Epoch 21/50\n",
      "100/100 [==============================] - 190s 2s/step - loss: 111.6349 - mape: 111.6349 - val_loss: 108.2067 - val_mape: 108.2067\n",
      "Epoch 22/50\n",
      "100/100 [==============================] - 209s 2s/step - loss: 111.4392 - mape: 111.4392 - val_loss: 109.8042 - val_mape: 109.8042\n",
      "Epoch 23/50\n",
      "100/100 [==============================] - 184s 2s/step - loss: 116.6812 - mape: 116.6812 - val_loss: 109.3740 - val_mape: 109.3740\n",
      "Epoch 24/50\n",
      "100/100 [==============================] - 185s 2s/step - loss: 111.8803 - mape: 111.8803 - val_loss: 111.6764 - val_mape: 111.6764\n",
      "Epoch 25/50\n",
      "100/100 [==============================] - 184s 2s/step - loss: 119.4853 - mape: 119.4853 - val_loss: 111.8866 - val_mape: 111.8866\n",
      "Epoch 26/50\n",
      "100/100 [==============================] - 189s 2s/step - loss: 123.5552 - mape: 123.5552 - val_loss: 108.5909 - val_mape: 108.5909\n",
      "Epoch 27/50\n",
      "100/100 [==============================] - 211s 2s/step - loss: 116.0187 - mape: 116.0187 - val_loss: 107.2645 - val_mape: 107.2645\n",
      "Epoch 28/50\n",
      "100/100 [==============================] - 298s 3s/step - loss: 111.6115 - mape: 111.6115 - val_loss: 107.9198 - val_mape: 107.9198\n",
      "Epoch 29/50\n",
      "100/100 [==============================] - 357s 4s/step - loss: 115.0681 - mape: 115.0681 - val_loss: 109.4729 - val_mape: 109.4729\n",
      "Epoch 30/50\n",
      "100/100 [==============================] - 356s 4s/step - loss: 109.2882 - mape: 109.2881 - val_loss: 106.8082 - val_mape: 106.8082\n",
      "Epoch 31/50\n",
      "100/100 [==============================] - 320s 3s/step - loss: 114.2070 - mape: 114.2070 - val_loss: 108.0584 - val_mape: 108.0584\n",
      "Epoch 32/50\n",
      "100/100 [==============================] - 373s 4s/step - loss: 110.4627 - mape: 110.4627 - val_loss: 107.1676 - val_mape: 107.1676\n",
      "Epoch 33/50\n",
      "100/100 [==============================] - 382s 4s/step - loss: 112.3819 - mape: 112.3819 - val_loss: 106.6955 - val_mape: 106.6955\n",
      "Epoch 34/50\n",
      "100/100 [==============================] - 385s 4s/step - loss: 107.0230 - mape: 107.0230 - val_loss: 105.4442 - val_mape: 105.4442\n",
      "Epoch 35/50\n",
      "  7/100 [=>............................] - ETA: 5:57 - loss: 103.1303 - mape: 103.1303"
     ]
    }
   ],
   "source": [
    "#48 hours prediction\n",
    "model = keras.models.Sequential([\n",
    "    TCN(input_shape=(120,4),#5day 4 features\n",
    "        kernel_size=10,\n",
    "        nb_filters=32,\n",
    "        dilations=[1, 2, 4, 8,16],\n",
    "        padding='causal',\n",
    "        activation='relu',\n",
    "        return_sequences=True,\n",
    "        nb_stacks=2,\n",
    "        use_skip_connections=False,\n",
    "        use_batch_norm=False,\n",
    "        use_weight_norm=False,\n",
    "        use_layer_norm=False\n",
    "        ),\n",
    "    keras.layers.Dense(1)\n",
    "])\n",
    "\n",
    "callbacks = [\n",
    "keras.callbacks.ModelCheckpoint(\"tcn.keras\",\n",
    "save_best_only=True)]\n",
    "model.summary()\n",
    "model.compile(optimizer=\"adam\", loss=\"mape\",metrics=[\"mape\"])\n",
    "\n",
    "print('Train...')\n",
    "history=model.fit(train_dataset,\n",
    "                  epochs=50,\n",
    "                  verbose=1,\n",
    "                  batch_size=256,\n",
    "                  validation_data=val_dataset,\n",
    "                  callbacks=callbacks)\n",
    "p =model.predict(samples)\n"
   ]
  },
  {
   "cell_type": "code",
   "execution_count": null,
   "metadata": {},
   "outputs": [],
   "source": [
    "import matplotlib.pyplot as plt\n",
    "loss = history.history[\"mape\"]\n",
    "val_loss = history.history[\"val_mape\"]\n",
    "epochs = range(1, len(loss) + 1)\n",
    "plt.figure()\n",
    "plt.plot(epochs, loss, \"bo\", label=\"Training MAPE\")\n",
    "plt.plot(epochs, val_loss, \"b\", label=\"Validation MAPE\")\n",
    "plt.title(\"Training and validation MAE\")\n",
    "plt.legend()\n",
    "plt.show()"
   ]
  },
  {
   "cell_type": "code",
   "execution_count": 331,
   "metadata": {
    "id": "eXrKJh2PFruy"
   },
   "outputs": [],
   "source": [
    "from tensorflow.keras import Sequential\n",
    "from tensorflow.keras.layers import Dense"
   ]
  },
  {
   "cell_type": "code",
   "execution_count": 341,
   "metadata": {
    "colab": {
     "base_uri": "https://localhost:8080/"
    },
    "id": "2upQhWotDLNu",
    "outputId": "29b9b05a-4118-41ae-e032-4abbaddd572e"
   },
   "outputs": [
    {
     "name": "stdout",
     "output_type": "stream",
     "text": [
      "Model: \"sequential_9\"\n",
      "_________________________________________________________________\n",
      " Layer (type)                Output Shape              Param #   \n",
      "=================================================================\n",
      " tcn_10 (TCN)                (None, 120, 32)           196640    \n",
      "                                                                 \n",
      " dense_29 (Dense)            (None, 120, 1)            33        \n",
      "                                                                 \n",
      "=================================================================\n",
      "Total params: 196,673\n",
      "Trainable params: 196,673\n",
      "Non-trainable params: 0\n",
      "_________________________________________________________________\n",
      "Train...\n",
      "Epoch 1/10\n",
      "100/100 - 204s - loss: 1050.7867 - mape: 1050.7865 - val_loss: 386.9817 - val_mape: 386.9817 - 204s/epoch - 2s/step\n",
      "Epoch 2/10\n",
      "100/100 - 196s - loss: 340.9109 - mape: 340.9109 - val_loss: 236.7146 - val_mape: 236.7146 - 196s/epoch - 2s/step\n",
      "Epoch 3/10\n",
      "100/100 - 193s - loss: 348.0700 - mape: 348.0700 - val_loss: 270.8522 - val_mape: 270.8523 - 193s/epoch - 2s/step\n",
      "Epoch 4/10\n",
      "100/100 - 193s - loss: 261.5437 - mape: 261.5436 - val_loss: 182.2118 - val_mape: 182.2118 - 193s/epoch - 2s/step\n",
      "Epoch 5/10\n",
      "100/100 - 192s - loss: 213.4209 - mape: 213.4209 - val_loss: 183.8545 - val_mape: 183.8545 - 192s/epoch - 2s/step\n",
      "Epoch 6/10\n",
      "100/100 - 192s - loss: 195.3331 - mape: 195.3331 - val_loss: 159.2349 - val_mape: 159.2349 - 192s/epoch - 2s/step\n",
      "Epoch 7/10\n",
      "100/100 - 194s - loss: 198.3976 - mape: 198.3975 - val_loss: 160.8156 - val_mape: 160.8156 - 194s/epoch - 2s/step\n",
      "Epoch 8/10\n",
      "100/100 - 193s - loss: 166.5759 - mape: 166.5759 - val_loss: 148.0969 - val_mape: 148.0968 - 193s/epoch - 2s/step\n",
      "Epoch 9/10\n",
      "100/100 - 193s - loss: 171.7417 - mape: 171.7417 - val_loss: 161.7752 - val_mape: 161.7752 - 193s/epoch - 2s/step\n",
      "Epoch 10/10\n",
      "100/100 - 193s - loss: 158.2867 - mape: 158.2867 - val_loss: 135.8688 - val_mape: 135.8687 - 193s/epoch - 2s/step\n",
      "8/8 [==============================] - 1s 58ms/step\n"
     ]
    }
   ],
   "source": [
    "#72 hours prediction\n",
    "model = keras.models.Sequential([\n",
    "    TCN(input_shape=(120,4),#5 day 4 features\n",
    "        kernel_size=10,\n",
    "        nb_filters=32,\n",
    "        dilations=[1, 2, 4, 8,16],\n",
    "        padding='causal',\n",
    "        activation='relu',\n",
    "        return_sequences=True,\n",
    "        nb_stacks=2,\n",
    "        use_skip_connections=False,\n",
    "        use_batch_norm=False,\n",
    "        use_weight_norm=False,\n",
    "        use_layer_norm=False\n",
    "        ),\n",
    "    keras.layers.Dense(1)\n",
    "])\n",
    "model.summary()\n",
    "model.compile(optimizer= 'adam', loss= 'mape', metrics=['mape'])\n",
    "\n",
    "print('Train...')\n",
    "history = model.fit(train_dataset,\n",
    "                    epochs=50,\n",
    "                    verbose=2,\n",
    "                    batch_size=256,\n",
    "                    validation_data=val_dataset,\n",
    "                    callbacks=callbacks\n",
    ")\n",
    "p=model.predict(samples)"
   ]
  },
  {
   "cell_type": "code",
   "execution_count": 342,
   "metadata": {
    "colab": {
     "base_uri": "https://localhost:8080/",
     "height": 499
    },
    "id": "K_UfGuctJ27P",
    "outputId": "5879e131-0a6a-4a51-ca35-cc515ee61085"
   },
   "outputs": [
    {
     "data": {
      "image/png": "[encoded data removed]",
      "text/plain": [
       "<Figure size 1080x576 with 1 Axes>"
      ]
     },
     "metadata": {
      "needs_background": "light"
     },
     "output_type": "display_data"
    }
   ],
   "source": [
    "import matplotlib.pyplot as plt\n",
    "loss = history.history[\"mape\"]\n",
    "val_loss = history.history[\"val_mape\"]\n",
    "epochs = range(1, len(loss) + 1)\n",
    "plt.figure()\n",
    "plt.plot(epochs, loss, \"bo\", label=\"Training MAPE\")\n",
    "plt.plot(epochs, val_loss, \"b\", label=\"Validation MAPE\")\n",
    "plt.title(\"Training and validation MAE\")\n",
    "plt.legend()\n",
    "plt.show()"
   ]
  },
  {
   "cell_type": "code",
   "execution_count": 345,
   "metadata": {
    "colab": {
     "base_uri": "https://localhost:8080/"
    },
    "id": "9QQZQ3O4hGEO",
    "outputId": "aa5229ca-0062-4a13-f1fe-19f8b955eec4"
   },
   "outputs": [
    {
     "name": "stdout",
     "output_type": "stream",
     "text": [
      "Model: \"sequential_10\"\n",
      "_________________________________________________________________\n",
      " Layer (type)                Output Shape              Param #   \n",
      "=================================================================\n",
      " tcn_11 (TCN)                (None, 120, 32)           196640    \n",
      "                                                                 \n",
      " dense_30 (Dense)            (None, 120, 1)            33        \n",
      "                                                                 \n",
      "=================================================================\n",
      "Total params: 196,673\n",
      "Trainable params: 196,673\n",
      "Non-trainable params: 0\n",
      "_________________________________________________________________\n",
      "Train...\n",
      "Epoch 1/10\n",
      "103/103 - 203s - loss: 719.8321 - mape: 719.8324 - val_loss: 290.7337 - val_mape: 290.7338 - 203s/epoch - 2s/step\n",
      "Epoch 2/10\n",
      "103/103 - 200s - loss: 336.6355 - mape: 336.6355 - val_loss: 267.2080 - val_mape: 267.2080 - 200s/epoch - 2s/step\n",
      "Epoch 3/10\n",
      "103/103 - 200s - loss: 203.4320 - mape: 203.4320 - val_loss: 156.2625 - val_mape: 156.2625 - 200s/epoch - 2s/step\n",
      "Epoch 4/10\n",
      "103/103 - 200s - loss: 167.3701 - mape: 167.3701 - val_loss: 152.7318 - val_mape: 152.7318 - 200s/epoch - 2s/step\n",
      "Epoch 5/10\n",
      "103/103 - 200s - loss: 202.4908 - mape: 202.4908 - val_loss: 206.2382 - val_mape: 206.2382 - 200s/epoch - 2s/step\n",
      "Epoch 6/10\n",
      "103/103 - 199s - loss: 162.8908 - mape: 162.8908 - val_loss: 130.7581 - val_mape: 130.7581 - 199s/epoch - 2s/step\n",
      "Epoch 7/10\n",
      "103/103 - 199s - loss: 149.7975 - mape: 149.7975 - val_loss: 175.0183 - val_mape: 175.0183 - 199s/epoch - 2s/step\n",
      "Epoch 8/10\n",
      "103/103 - 197s - loss: 153.8101 - mape: 153.8100 - val_loss: 146.3341 - val_mape: 146.3341 - 197s/epoch - 2s/step\n",
      "Epoch 9/10\n",
      "103/103 - 199s - loss: 154.8980 - mape: 154.8980 - val_loss: 150.0105 - val_mape: 150.0105 - 199s/epoch - 2s/step\n",
      "Epoch 10/10\n",
      "103/103 - 200s - loss: 147.7899 - mape: 147.7899 - val_loss: 142.2194 - val_mape: 142.2194 - 200s/epoch - 2s/step\n",
      "8/8 [==============================] - 1s 59ms/step\n"
     ]
    }
   ],
   "source": [
    "# 24 hours prior prediction\n",
    "model = keras.models.Sequential([\n",
    "    TCN(input_shape=(120,4), \n",
    "        kernel_size=10,\n",
    "        nb_filters=32,\n",
    "        dilations=[1, 2, 4, 8,16],\n",
    "        padding='causal',\n",
    "        activation='relu',\n",
    "        return_sequences=True,\n",
    "        nb_stacks=2,\n",
    "        use_skip_connections=False,\n",
    "        use_batch_norm=False,\n",
    "        use_weight_norm=False,\n",
    "        use_layer_norm=False\n",
    "        ),\n",
    "    keras.layers.Dense(1)\n",
    "])\n",
    "model.summary()\n",
    "model.compile(optimizer= 'adam', loss= 'mape', metrics=['mape'])\n",
    "\n",
    "print('Train...')\n",
    "history = model.fit(train_dataset,\n",
    "                    epochs=10,\n",
    "                    verbose=2,\n",
    "                    batch_size=256,\n",
    "                    validation_data=val_dataset,\n",
    "                    callbacks=callbacks\n",
    ")\n",
    "\n",
    "p = model.predict(samples)\n"
   ]
  },
  {
   "cell_type": "code",
   "execution_count": 346,
   "metadata": {
    "colab": {
     "base_uri": "https://localhost:8080/",
     "height": 499
    },
    "id": "tbjRmyv5qPq4",
    "outputId": "b7683b52-d772-45c6-a15c-4c61651bfe6a"
   },
   "outputs": [
    {
     "data": {
      "image/png": "[encoded data removed]",
      "text/plain": [
       "<Figure size 1080x576 with 1 Axes>"
      ]
     },
     "metadata": {
      "needs_background": "light"
     },
     "output_type": "display_data"
    }
   ],
   "source": [
    "import matplotlib.pyplot as plt\n",
    "loss = history.history[\"mape\"]\n",
    "val_loss = history.history[\"val_mape\"]\n",
    "epochs = range(1, len(loss) + 1)\n",
    "plt.figure()\n",
    "plt.plot(epochs, loss, \"bo\", label=\"Training MAPE\")\n",
    "plt.plot(epochs, val_loss, \"b\", label=\"Validation MAPE\")\n",
    "plt.title(\"Training and validation MAE\")\n",
    "plt.legend()\n",
    "plt.show()"
   ]
  },
  {
   "cell_type": "code",
   "execution_count": null,
   "metadata": {
    "id": "JpblvMbHMKMq"
   },
   "outputs": [],
   "source": []
  }
 ],
 "metadata": {
  "colab": {
   "provenance": []
  },
  "kernelspec": {
   "display_name": "Python 3 (ipykernel)",
   "language": "python",
   "name": "python3"
  },
  "language_info": {
   "codemirror_mode": {
    "name": "ipython",
    "version": 3
   },
   "file_extension": ".py",
   "mimetype": "text/x-python",
   "name": "python",
   "nbconvert_exporter": "python",
   "pygments_lexer": "ipython3",
   "version": "3.9.13"
  }
 },
 "nbformat": 4,
 "nbformat_minor": 1
}
