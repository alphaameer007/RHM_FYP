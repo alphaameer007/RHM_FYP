{
  "nbformat": 4,
  "nbformat_minor": 0,
  "metadata": {
    "colab": {
      "provenance": []
    },
    "kernelspec": {
      "name": "python3",
      "display_name": "Python 3"
    },
    "language_info": {
      "name": "python"
    }
  },
  "cells": [
    {
      "cell_type": "code",
      "source": [
        "from tcn import TCN\n",
        "import pandas as pd\n",
        "import numpy as np\n",
        "import matplotlib.pyplot as plt\n",
        "import tensorflow as tf\n",
        "from tensorflow import keras"
      ],
      "metadata": {
        "id": "qwu9q7AIMIpr"
      },
      "execution_count": 261,
      "outputs": []
    },
    {
      "cell_type": "code",
      "source": [
        "data=pd.read_csv('T2.csv')"
      ],
      "metadata": {
        "id": "-VuYmf7KMUuL"
      },
      "execution_count": 262,
      "outputs": []
    },
    {
      "cell_type": "code",
      "source": [
        "data.drop('time', inplace=True, axis=1)"
      ],
      "metadata": {
        "id": "B67n4t_1MuQu"
      },
      "execution_count": 263,
      "outputs": []
    },
    {
      "cell_type": "code",
      "source": [
        "data"
      ],
      "metadata": {
        "colab": {
          "base_uri": "https://localhost:8080/",
          "height": 424
        },
        "id": "ec0hCj0nMpP0",
        "outputId": "d5200269-9946-4dab-ecb9-53dbc6b0dea9"
      },
      "execution_count": 264,
      "outputs": [
        {
          "output_type": "execute_result",
          "data": {
            "text/plain": [
              "       LV ActivePower (kW)  Wind Speed (m/s)  wind energy  Wind Direction (°)\n",
              "0               380.047791          5.311336   416.328908          259.994904\n",
              "1               453.769196          5.672167   519.917511          268.641113\n",
              "2               306.376587          5.216037   390.900016          272.564789\n",
              "3               419.645904          5.659674   516.127569          271.258087\n",
              "4               380.650696          5.577941   491.702972          265.674286\n",
              "...                    ...               ...          ...                 ...\n",
              "52555          2963.980957         11.404030  3397.190793           80.502724\n",
              "52556          1684.353027          7.332648  1173.055771           84.062599\n",
              "52557          2201.106934          8.435358  1788.284755           84.742500\n",
              "52558          2515.694092          9.421366  2418.382503           84.297913\n",
              "52559          2820.466064          9.979332  2779.184096           82.274620\n",
              "\n",
              "[52560 rows x 4 columns]"
            ],
            "text/html": [
              "\n",
              "  <div id=\"df-ea748ff6-0c47-4f30-8212-be3b336e4fb9\">\n",
              "    <div class=\"colab-df-container\">\n",
              "      <div>\n",
              "<style scoped>\n",
              "    .dataframe tbody tr th:only-of-type {\n",
              "        vertical-align: middle;\n",
              "    }\n",
              "\n",
              "    .dataframe tbody tr th {\n",
              "        vertical-align: top;\n",
              "    }\n",
              "\n",
              "    .dataframe thead th {\n",
              "        text-align: right;\n",
              "    }\n",
              "</style>\n",
              "<table border=\"1\" class=\"dataframe\">\n",
              "  <thead>\n",
              "    <tr style=\"text-align: right;\">\n",
              "      <th></th>\n",
              "      <th>LV ActivePower (kW)</th>\n",
              "      <th>Wind Speed (m/s)</th>\n",
              "      <th>wind energy</th>\n",
              "      <th>Wind Direction (°)</th>\n",
              "    </tr>\n",
              "  </thead>\n",
              "  <tbody>\n",
              "    <tr>\n",
              "      <th>0</th>\n",
              "      <td>380.047791</td>\n",
              "      <td>5.311336</td>\n",
              "      <td>416.328908</td>\n",
              "      <td>259.994904</td>\n",
              "    </tr>\n",
              "    <tr>\n",
              "      <th>1</th>\n",
              "      <td>453.769196</td>\n",
              "      <td>5.672167</td>\n",
              "      <td>519.917511</td>\n",
              "      <td>268.641113</td>\n",
              "    </tr>\n",
              "    <tr>\n",
              "      <th>2</th>\n",
              "      <td>306.376587</td>\n",
              "      <td>5.216037</td>\n",
              "      <td>390.900016</td>\n",
              "      <td>272.564789</td>\n",
              "    </tr>\n",
              "    <tr>\n",
              "      <th>3</th>\n",
              "      <td>419.645904</td>\n",
              "      <td>5.659674</td>\n",
              "      <td>516.127569</td>\n",
              "      <td>271.258087</td>\n",
              "    </tr>\n",
              "    <tr>\n",
              "      <th>4</th>\n",
              "      <td>380.650696</td>\n",
              "      <td>5.577941</td>\n",
              "      <td>491.702972</td>\n",
              "      <td>265.674286</td>\n",
              "    </tr>\n",
              "    <tr>\n",
              "      <th>...</th>\n",
              "      <td>...</td>\n",
              "      <td>...</td>\n",
              "      <td>...</td>\n",
              "      <td>...</td>\n",
              "    </tr>\n",
              "    <tr>\n",
              "      <th>52555</th>\n",
              "      <td>2963.980957</td>\n",
              "      <td>11.404030</td>\n",
              "      <td>3397.190793</td>\n",
              "      <td>80.502724</td>\n",
              "    </tr>\n",
              "    <tr>\n",
              "      <th>52556</th>\n",
              "      <td>1684.353027</td>\n",
              "      <td>7.332648</td>\n",
              "      <td>1173.055771</td>\n",
              "      <td>84.062599</td>\n",
              "    </tr>\n",
              "    <tr>\n",
              "      <th>52557</th>\n",
              "      <td>2201.106934</td>\n",
              "      <td>8.435358</td>\n",
              "      <td>1788.284755</td>\n",
              "      <td>84.742500</td>\n",
              "    </tr>\n",
              "    <tr>\n",
              "      <th>52558</th>\n",
              "      <td>2515.694092</td>\n",
              "      <td>9.421366</td>\n",
              "      <td>2418.382503</td>\n",
              "      <td>84.297913</td>\n",
              "    </tr>\n",
              "    <tr>\n",
              "      <th>52559</th>\n",
              "      <td>2820.466064</td>\n",
              "      <td>9.979332</td>\n",
              "      <td>2779.184096</td>\n",
              "      <td>82.274620</td>\n",
              "    </tr>\n",
              "  </tbody>\n",
              "</table>\n",
              "<p>52560 rows × 4 columns</p>\n",
              "</div>\n",
              "      <button class=\"colab-df-convert\" onclick=\"convertToInteractive('df-ea748ff6-0c47-4f30-8212-be3b336e4fb9')\"\n",
              "              title=\"Convert this dataframe to an interactive table.\"\n",
              "              style=\"display:none;\">\n",
              "        \n",
              "  <svg xmlns=\"http://www.w3.org/2000/svg\" height=\"24px\"viewBox=\"0 0 24 24\"\n",
              "       width=\"24px\">\n",
              "    <path d=\"M0 0h24v24H0V0z\" fill=\"none\"/>\n",
              "    <path d=\"M18.56 5.44l.94 2.06.94-2.06 2.06-.94-2.06-.94-.94-2.06-.94 2.06-2.06.94zm-11 1L8.5 8.5l.94-2.06 2.06-.94-2.06-.94L8.5 2.5l-.94 2.06-2.06.94zm10 10l.94 2.06.94-2.06 2.06-.94-2.06-.94-.94-2.06-.94 2.06-2.06.94z\"/><path d=\"M17.41 7.96l-1.37-1.37c-.4-.4-.92-.59-1.43-.59-.52 0-1.04.2-1.43.59L10.3 9.45l-7.72 7.72c-.78.78-.78 2.05 0 2.83L4 21.41c.39.39.9.59 1.41.59.51 0 1.02-.2 1.41-.59l7.78-7.78 2.81-2.81c.8-.78.8-2.07 0-2.86zM5.41 20L4 18.59l7.72-7.72 1.47 1.35L5.41 20z\"/>\n",
              "  </svg>\n",
              "      </button>\n",
              "      \n",
              "  <style>\n",
              "    .colab-df-container {\n",
              "      display:flex;\n",
              "      flex-wrap:wrap;\n",
              "      gap: 12px;\n",
              "    }\n",
              "\n",
              "    .colab-df-convert {\n",
              "      background-color: #E8F0FE;\n",
              "      border: none;\n",
              "      border-radius: 50%;\n",
              "      cursor: pointer;\n",
              "      display: none;\n",
              "      fill: #1967D2;\n",
              "      height: 32px;\n",
              "      padding: 0 0 0 0;\n",
              "      width: 32px;\n",
              "    }\n",
              "\n",
              "    .colab-df-convert:hover {\n",
              "      background-color: #E2EBFA;\n",
              "      box-shadow: 0px 1px 2px rgba(60, 64, 67, 0.3), 0px 1px 3px 1px rgba(60, 64, 67, 0.15);\n",
              "      fill: #174EA6;\n",
              "    }\n",
              "\n",
              "    [theme=dark] .colab-df-convert {\n",
              "      background-color: #3B4455;\n",
              "      fill: #D2E3FC;\n",
              "    }\n",
              "\n",
              "    [theme=dark] .colab-df-convert:hover {\n",
              "      background-color: #434B5C;\n",
              "      box-shadow: 0px 1px 3px 1px rgba(0, 0, 0, 0.15);\n",
              "      filter: drop-shadow(0px 1px 2px rgba(0, 0, 0, 0.3));\n",
              "      fill: #FFFFFF;\n",
              "    }\n",
              "  </style>\n",
              "\n",
              "      <script>\n",
              "        const buttonEl =\n",
              "          document.querySelector('#df-ea748ff6-0c47-4f30-8212-be3b336e4fb9 button.colab-df-convert');\n",
              "        buttonEl.style.display =\n",
              "          google.colab.kernel.accessAllowed ? 'block' : 'none';\n",
              "\n",
              "        async function convertToInteractive(key) {\n",
              "          const element = document.querySelector('#df-ea748ff6-0c47-4f30-8212-be3b336e4fb9');\n",
              "          const dataTable =\n",
              "            await google.colab.kernel.invokeFunction('convertToInteractive',\n",
              "                                                     [key], {});\n",
              "          if (!dataTable) return;\n",
              "\n",
              "          const docLinkHtml = 'Like what you see? Visit the ' +\n",
              "            '<a target=\"_blank\" href=https://colab.research.google.com/notebooks/data_table.ipynb>data table notebook</a>'\n",
              "            + ' to learn more about interactive tables.';\n",
              "          element.innerHTML = '';\n",
              "          dataTable['output_type'] = 'display_data';\n",
              "          await google.colab.output.renderOutput(dataTable, element);\n",
              "          const docLink = document.createElement('div');\n",
              "          docLink.innerHTML = docLinkHtml;\n",
              "          element.appendChild(docLink);\n",
              "        }\n",
              "      </script>\n",
              "    </div>\n",
              "  </div>\n",
              "  "
            ]
          },
          "metadata": {},
          "execution_count": 264
        }
      ]
    },
    {
      "cell_type": "code",
      "source": [
        "df=data['LV ActivePower (kW)']"
      ],
      "metadata": {
        "id": "_ZhP0HGKNSq1"
      },
      "execution_count": 265,
      "outputs": []
    },
    {
      "cell_type": "code",
      "source": [
        "for i in range(0, len(df)):\n",
        "  if df[i] <= 0:\n",
        "    print('negative at ==',i)\n",
        "    i\n",
        "  "
      ],
      "metadata": {
        "colab": {
          "base_uri": "https://localhost:8080/"
        },
        "id": "8leoQYebNSWA",
        "outputId": "7d5bbfbf-a2b1-4055-fb7b-866aa8f856e2"
      },
      "execution_count": 266,
      "outputs": [
        {
          "output_type": "stream",
          "name": "stdout",
          "text": [
            "negative at == 608\n",
            "negative at == 933\n",
            "negative at == 2114\n",
            "negative at == 3037\n",
            "negative at == 4424\n",
            "negative at == 5134\n",
            "negative at == 6062\n",
            "negative at == 6093\n",
            "negative at == 6105\n",
            "negative at == 6114\n",
            "negative at == 6221\n",
            "negative at == 6905\n",
            "negative at == 6910\n",
            "negative at == 6969\n",
            "negative at == 7308\n",
            "negative at == 7309\n",
            "negative at == 7323\n",
            "negative at == 7331\n",
            "negative at == 7342\n",
            "negative at == 7358\n",
            "negative at == 7433\n",
            "negative at == 7577\n",
            "negative at == 8442\n",
            "negative at == 8592\n",
            "negative at == 9021\n",
            "negative at == 10081\n",
            "negative at == 10083\n",
            "negative at == 13391\n",
            "negative at == 13395\n",
            "negative at == 18440\n",
            "negative at == 21839\n",
            "negative at == 21949\n",
            "negative at == 22991\n",
            "negative at == 23924\n",
            "negative at == 24056\n",
            "negative at == 27788\n",
            "negative at == 28091\n",
            "negative at == 29140\n",
            "negative at == 29666\n",
            "negative at == 29813\n",
            "negative at == 29928\n",
            "negative at == 30067\n",
            "negative at == 30068\n",
            "negative at == 30069\n",
            "negative at == 30070\n",
            "negative at == 30071\n",
            "negative at == 30072\n",
            "negative at == 30992\n",
            "negative at == 35244\n",
            "negative at == 37030\n",
            "negative at == 38324\n",
            "negative at == 38996\n",
            "negative at == 39003\n",
            "negative at == 39439\n",
            "negative at == 39523\n",
            "negative at == 40066\n",
            "negative at == 42886\n",
            "negative at == 44193\n",
            "negative at == 48118\n",
            "negative at == 48123\n",
            "negative at == 48249\n",
            "negative at == 50565\n",
            "negative at == 52380\n"
          ]
        }
      ]
    },
    {
      "cell_type": "code",
      "source": [
        "num_train_samples=int(0.5 *len(raw_data))\n",
        "num_val_samples=int(0.25* len(raw_data))\n",
        "num_test_samples= len(raw_data)-num_train_samples-num_val_samples"
      ],
      "metadata": {
        "id": "6hNitKPCPOny"
      },
      "execution_count": 267,
      "outputs": []
    },
    {
      "cell_type": "code",
      "source": [
        "#Normalization of data\n",
        "mean=data.mean(axis=0)\n",
        "data -= mean"
      ],
      "metadata": {
        "id": "g2lWA29RPe96"
      },
      "execution_count": 268,
      "outputs": []
    },
    {
      "cell_type": "code",
      "source": [
        "std =data.std(axis=0)\n",
        "data /= std"
      ],
      "metadata": {
        "id": "H28ITSFBQ1ms"
      },
      "execution_count": 269,
      "outputs": []
    },
    {
      "cell_type": "code",
      "source": [
        "data"
      ],
      "metadata": {
        "colab": {
          "base_uri": "https://localhost:8080/",
          "height": 424
        },
        "id": "KrcMSIWsqBMz",
        "outputId": "93426596-ba8e-40b2-aa70-8120f469ff0a"
      },
      "execution_count": 270,
      "outputs": [
        {
          "output_type": "execute_result",
          "data": {
            "text/plain": [
              "       LV ActivePower (kW)  Wind Speed (m/s)  wind energy  Wind Direction (°)\n",
              "0                -0.746271         -0.534809    -0.814109            1.480642\n",
              "1                -0.688842         -0.448718    -0.737507            1.573494\n",
              "2                -0.803662         -0.557546    -0.832913            1.615630\n",
              "3                -0.715424         -0.451699    -0.740310            1.601597\n",
              "4                -0.745802         -0.471199    -0.758371            1.541633\n",
              "...                    ...               ...          ...                 ...\n",
              "52555             1.266630          0.918847     1.390174           -0.446921\n",
              "52556             0.269791         -0.052544    -0.254526           -0.408691\n",
              "52557             0.672346          0.210552     0.200423           -0.401390\n",
              "52558             0.917412          0.445803     0.666367           -0.406164\n",
              "52559             1.154831          0.578928     0.933172           -0.427892\n",
              "\n",
              "[52560 rows x 4 columns]"
            ],
            "text/html": [
              "\n",
              "  <div id=\"df-c3d0ccb2-742b-4fa3-b6df-34cd2829549d\">\n",
              "    <div class=\"colab-df-container\">\n",
              "      <div>\n",
              "<style scoped>\n",
              "    .dataframe tbody tr th:only-of-type {\n",
              "        vertical-align: middle;\n",
              "    }\n",
              "\n",
              "    .dataframe tbody tr th {\n",
              "        vertical-align: top;\n",
              "    }\n",
              "\n",
              "    .dataframe thead th {\n",
              "        text-align: right;\n",
              "    }\n",
              "</style>\n",
              "<table border=\"1\" class=\"dataframe\">\n",
              "  <thead>\n",
              "    <tr style=\"text-align: right;\">\n",
              "      <th></th>\n",
              "      <th>LV ActivePower (kW)</th>\n",
              "      <th>Wind Speed (m/s)</th>\n",
              "      <th>wind energy</th>\n",
              "      <th>Wind Direction (°)</th>\n",
              "    </tr>\n",
              "  </thead>\n",
              "  <tbody>\n",
              "    <tr>\n",
              "      <th>0</th>\n",
              "      <td>-0.746271</td>\n",
              "      <td>-0.534809</td>\n",
              "      <td>-0.814109</td>\n",
              "      <td>1.480642</td>\n",
              "    </tr>\n",
              "    <tr>\n",
              "      <th>1</th>\n",
              "      <td>-0.688842</td>\n",
              "      <td>-0.448718</td>\n",
              "      <td>-0.737507</td>\n",
              "      <td>1.573494</td>\n",
              "    </tr>\n",
              "    <tr>\n",
              "      <th>2</th>\n",
              "      <td>-0.803662</td>\n",
              "      <td>-0.557546</td>\n",
              "      <td>-0.832913</td>\n",
              "      <td>1.615630</td>\n",
              "    </tr>\n",
              "    <tr>\n",
              "      <th>3</th>\n",
              "      <td>-0.715424</td>\n",
              "      <td>-0.451699</td>\n",
              "      <td>-0.740310</td>\n",
              "      <td>1.601597</td>\n",
              "    </tr>\n",
              "    <tr>\n",
              "      <th>4</th>\n",
              "      <td>-0.745802</td>\n",
              "      <td>-0.471199</td>\n",
              "      <td>-0.758371</td>\n",
              "      <td>1.541633</td>\n",
              "    </tr>\n",
              "    <tr>\n",
              "      <th>...</th>\n",
              "      <td>...</td>\n",
              "      <td>...</td>\n",
              "      <td>...</td>\n",
              "      <td>...</td>\n",
              "    </tr>\n",
              "    <tr>\n",
              "      <th>52555</th>\n",
              "      <td>1.266630</td>\n",
              "      <td>0.918847</td>\n",
              "      <td>1.390174</td>\n",
              "      <td>-0.446921</td>\n",
              "    </tr>\n",
              "    <tr>\n",
              "      <th>52556</th>\n",
              "      <td>0.269791</td>\n",
              "      <td>-0.052544</td>\n",
              "      <td>-0.254526</td>\n",
              "      <td>-0.408691</td>\n",
              "    </tr>\n",
              "    <tr>\n",
              "      <th>52557</th>\n",
              "      <td>0.672346</td>\n",
              "      <td>0.210552</td>\n",
              "      <td>0.200423</td>\n",
              "      <td>-0.401390</td>\n",
              "    </tr>\n",
              "    <tr>\n",
              "      <th>52558</th>\n",
              "      <td>0.917412</td>\n",
              "      <td>0.445803</td>\n",
              "      <td>0.666367</td>\n",
              "      <td>-0.406164</td>\n",
              "    </tr>\n",
              "    <tr>\n",
              "      <th>52559</th>\n",
              "      <td>1.154831</td>\n",
              "      <td>0.578928</td>\n",
              "      <td>0.933172</td>\n",
              "      <td>-0.427892</td>\n",
              "    </tr>\n",
              "  </tbody>\n",
              "</table>\n",
              "<p>52560 rows × 4 columns</p>\n",
              "</div>\n",
              "      <button class=\"colab-df-convert\" onclick=\"convertToInteractive('df-c3d0ccb2-742b-4fa3-b6df-34cd2829549d')\"\n",
              "              title=\"Convert this dataframe to an interactive table.\"\n",
              "              style=\"display:none;\">\n",
              "        \n",
              "  <svg xmlns=\"http://www.w3.org/2000/svg\" height=\"24px\"viewBox=\"0 0 24 24\"\n",
              "       width=\"24px\">\n",
              "    <path d=\"M0 0h24v24H0V0z\" fill=\"none\"/>\n",
              "    <path d=\"M18.56 5.44l.94 2.06.94-2.06 2.06-.94-2.06-.94-.94-2.06-.94 2.06-2.06.94zm-11 1L8.5 8.5l.94-2.06 2.06-.94-2.06-.94L8.5 2.5l-.94 2.06-2.06.94zm10 10l.94 2.06.94-2.06 2.06-.94-2.06-.94-.94-2.06-.94 2.06-2.06.94z\"/><path d=\"M17.41 7.96l-1.37-1.37c-.4-.4-.92-.59-1.43-.59-.52 0-1.04.2-1.43.59L10.3 9.45l-7.72 7.72c-.78.78-.78 2.05 0 2.83L4 21.41c.39.39.9.59 1.41.59.51 0 1.02-.2 1.41-.59l7.78-7.78 2.81-2.81c.8-.78.8-2.07 0-2.86zM5.41 20L4 18.59l7.72-7.72 1.47 1.35L5.41 20z\"/>\n",
              "  </svg>\n",
              "      </button>\n",
              "      \n",
              "  <style>\n",
              "    .colab-df-container {\n",
              "      display:flex;\n",
              "      flex-wrap:wrap;\n",
              "      gap: 12px;\n",
              "    }\n",
              "\n",
              "    .colab-df-convert {\n",
              "      background-color: #E8F0FE;\n",
              "      border: none;\n",
              "      border-radius: 50%;\n",
              "      cursor: pointer;\n",
              "      display: none;\n",
              "      fill: #1967D2;\n",
              "      height: 32px;\n",
              "      padding: 0 0 0 0;\n",
              "      width: 32px;\n",
              "    }\n",
              "\n",
              "    .colab-df-convert:hover {\n",
              "      background-color: #E2EBFA;\n",
              "      box-shadow: 0px 1px 2px rgba(60, 64, 67, 0.3), 0px 1px 3px 1px rgba(60, 64, 67, 0.15);\n",
              "      fill: #174EA6;\n",
              "    }\n",
              "\n",
              "    [theme=dark] .colab-df-convert {\n",
              "      background-color: #3B4455;\n",
              "      fill: #D2E3FC;\n",
              "    }\n",
              "\n",
              "    [theme=dark] .colab-df-convert:hover {\n",
              "      background-color: #434B5C;\n",
              "      box-shadow: 0px 1px 3px 1px rgba(0, 0, 0, 0.15);\n",
              "      filter: drop-shadow(0px 1px 2px rgba(0, 0, 0, 0.3));\n",
              "      fill: #FFFFFF;\n",
              "    }\n",
              "  </style>\n",
              "\n",
              "      <script>\n",
              "        const buttonEl =\n",
              "          document.querySelector('#df-c3d0ccb2-742b-4fa3-b6df-34cd2829549d button.colab-df-convert');\n",
              "        buttonEl.style.display =\n",
              "          google.colab.kernel.accessAllowed ? 'block' : 'none';\n",
              "\n",
              "        async function convertToInteractive(key) {\n",
              "          const element = document.querySelector('#df-c3d0ccb2-742b-4fa3-b6df-34cd2829549d');\n",
              "          const dataTable =\n",
              "            await google.colab.kernel.invokeFunction('convertToInteractive',\n",
              "                                                     [key], {});\n",
              "          if (!dataTable) return;\n",
              "\n",
              "          const docLinkHtml = 'Like what you see? Visit the ' +\n",
              "            '<a target=\"_blank\" href=https://colab.research.google.com/notebooks/data_table.ipynb>data table notebook</a>'\n",
              "            + ' to learn more about interactive tables.';\n",
              "          element.innerHTML = '';\n",
              "          dataTable['output_type'] = 'display_data';\n",
              "          await google.colab.output.renderOutput(dataTable, element);\n",
              "          const docLink = document.createElement('div');\n",
              "          docLink.innerHTML = docLinkHtml;\n",
              "          element.appendChild(docLink);\n",
              "        }\n",
              "      </script>\n",
              "    </div>\n",
              "  </div>\n",
              "  "
            ]
          },
          "metadata": {},
          "execution_count": 270
        }
      ]
    },
    {
      "cell_type": "code",
      "source": [
        "raw_data=data\n",
        "target=data['LV ActivePower (kW)']"
      ],
      "metadata": {
        "id": "pKq8BGXVp4J1"
      },
      "execution_count": 271,
      "outputs": []
    },
    {
      "cell_type": "code",
      "source": [
        "target[190:]"
      ],
      "metadata": {
        "colab": {
          "base_uri": "https://localhost:8080/"
        },
        "id": "u9t5x_1gqEev",
        "outputId": "53428957-6acd-4616-ae8f-79fe2a8b070d"
      },
      "execution_count": 277,
      "outputs": [
        {
          "output_type": "execute_result",
          "data": {
            "text/plain": [
              "190      1.763587\n",
              "191      1.748203\n",
              "192      1.394190\n",
              "193      1.755225\n",
              "194      1.764090\n",
              "           ...   \n",
              "52555    1.266630\n",
              "52556    0.269791\n",
              "52557    0.672346\n",
              "52558    0.917412\n",
              "52559    1.154831\n",
              "Name: LV ActivePower (kW), Length: 52370, dtype: float64"
            ]
          },
          "metadata": {},
          "execution_count": 277
        }
      ]
    },
    {
      "cell_type": "code",
      "source": [
        "sampling_rate = 1 # har 6th sample ko include karo 0-5 tak ignore 6th becomes first\n",
        "sequence_length = 120 # 5 days ka data le raha hai \n",
        "delay = 6*(sequence_length + 24 - 1) # 24, 36 and 72 hours prior rakhna hai according to paper\n",
        "batch_size = 256\n",
        "train_dataset = keras.utils.timeseries_dataset_from_array(\n",
        " raw_data[0:num_train_samples],\n",
        " targets=target[delay:],\n",
        " sampling_rate=sampling_rate,\n",
        " sequence_length=sequence_length,\n",
        " shuffle=False,\n",
        " batch_size=batch_size,)\n",
        " #start_index=0,\n",
        " #end_index=num_train_samples)\n",
        "val_dataset = keras.utils.timeseries_dataset_from_array(\n",
        " raw_data[num_train_samples+1:num_train_samples+num_val_samples],\n",
        " targets=target[delay:],\n",
        " sampling_rate=sampling_rate,\n",
        " sequence_length=sequence_length,\n",
        " shuffle=False,\n",
        " batch_size=batch_size)\n",
        "test_dataset = keras.utils.timeseries_dataset_from_array(\n",
        " raw_data[num_val_samples+num_train_samples+1:num_test_samples+num_val_samples+num_train_samples],\n",
        " targets=target[delay:],\n",
        " sampling_rate=sampling_rate,\n",
        " sequence_length=sequence_length,\n",
        " shuffle=False,\n",
        " batch_size=batch_size)"
      ],
      "metadata": {
        "id": "kwZlDZcSSd6u"
      },
      "execution_count": 344,
      "outputs": []
    },
    {
      "cell_type": "code",
      "source": [
        "train_dataset"
      ],
      "metadata": {
        "colab": {
          "base_uri": "https://localhost:8080/"
        },
        "id": "YenK0RcMgyhH",
        "outputId": "58e4506b-5eeb-44f5-8003-edd67d4403f1"
      },
      "execution_count": 325,
      "outputs": [
        {
          "output_type": "execute_result",
          "data": {
            "text/plain": [
              "<BatchDataset element_spec=(TensorSpec(shape=(None, None, 4), dtype=tf.float64, name=None), TensorSpec(shape=(None,), dtype=tf.float64, name=None))>"
            ]
          },
          "metadata": {},
          "execution_count": 325
        }
      ]
    },
    {
      "cell_type": "code",
      "source": [
        "for samples, targets in train_dataset:\n",
        "  print('samples', samples.shape)\n",
        "  print('targets', targets.shape)\n",
        "  break"
      ],
      "metadata": {
        "colab": {
          "base_uri": "https://localhost:8080/"
        },
        "id": "L8OXb1Krgz9-",
        "outputId": "5255e6e5-2b1d-49f6-ae1e-564118bb2184"
      },
      "execution_count": 326,
      "outputs": [
        {
          "output_type": "stream",
          "name": "stdout",
          "text": [
            "samples (256, 120, 4)\n",
            "targets (256,)\n"
          ]
        }
      ]
    },
    {
      "cell_type": "code",
      "source": [
        "from tensorflow.keras import layers"
      ],
      "metadata": {
        "id": "AhCDZk0iuemB"
      },
      "execution_count": 327,
      "outputs": []
    },
    {
      "cell_type": "code",
      "source": [
        "import matplotlib.pyplot as plt\n",
        "loss = history.history[\"mape\"]\n",
        "val_loss = history.history[\"val_mape\"]\n",
        "epochs = range(1, len(loss) + 1)\n",
        "plt.figure()\n",
        "plt.plot(epochs, loss, \"bo\", label=\"Training MAPE\")\n",
        "plt.plot(epochs, val_loss, \"b\", label=\"Validation MAPE\")\n",
        "plt.title(\"Training and validation MAE\")\n",
        "plt.legend()\n",
        "plt.show()"
      ],
      "metadata": {
        "colab": {
          "base_uri": "https://localhost:8080/",
          "height": 499
        },
        "id": "n5wHZLJWusD6",
        "outputId": "a42eefa9-48e2-4cc3-a834-b36ad2ba12d5"
      },
      "execution_count": 330,
      "outputs": [
        {
          "output_type": "display_data",
          "data": {
            "text/plain": [
              "<Figure size 1080x576 with 1 Axes>"
            ],
            "image/png": "[encoded data removed]"
          },
          "metadata": {
            "needs_background": "light"
          }
        }
      ]
    },
    {
      "cell_type": "code",
      "source": [
        "test_dataset"
      ],
      "metadata": {
        "colab": {
          "base_uri": "https://localhost:8080/"
        },
        "id": "VbhQYD_9yOae",
        "outputId": "13aa889e-b92d-49b1-bb22-c42b798965ad"
      },
      "execution_count": 308,
      "outputs": [
        {
          "output_type": "execute_result",
          "data": {
            "text/plain": [
              "<BatchDataset element_spec=(TensorSpec(shape=(None, None, 4), dtype=tf.float64, name=None), TensorSpec(shape=(None,), dtype=tf.float64, name=None))>"
            ]
          },
          "metadata": {},
          "execution_count": 308
        }
      ]
    },
    {
      "cell_type": "code",
      "source": [
        "#48 hours prediction\n",
        "model = keras.models.Sequential([\n",
        "    TCN(input_shape=(120,4),#5day 4 features\n",
        "        kernel_size=10,\n",
        "        nb_filters=32,\n",
        "        dilations=[1, 2, 4, 8,16],\n",
        "        padding='causal',\n",
        "        activation='relu',\n",
        "        return_sequences=True,\n",
        "        nb_stacks=2,\n",
        "        use_skip_connections=False,\n",
        "        use_batch_norm=False,\n",
        "        use_weight_norm=False,\n",
        "        use_layer_norm=False\n",
        "        ),\n",
        "    keras.layers.Dense(1)\n",
        "])\n",
        "model.summary()\n",
        "model.compile(optimizer=\"adam\", loss=\"mae\",metrics=[\"mape\"])\n",
        "\n",
        "print('Train...')\n",
        "history=model.fit(train_dataset,\n",
        "                  epochs=5,\n",
        "                  verbose=2,\n",
        "                  batch_size=256,\n",
        "                  validation_data=val_dataset,\n",
        "                  callbacks=callbacks)\n",
        "p =model.predict(samples)\n"
      ],
      "metadata": {
        "colab": {
          "base_uri": "https://localhost:8080/"
        },
        "id": "yu7dsGauyUdF",
        "outputId": "ecff0cb6-5285-4b37-f7b8-47b05777115c"
      },
      "execution_count": 328,
      "outputs": [
        {
          "output_type": "stream",
          "name": "stdout",
          "text": [
            "Model: \"sequential_5\"\n",
            "_________________________________________________________________\n",
            " Layer (type)                Output Shape              Param #   \n",
            "=================================================================\n",
            " tcn_6 (TCN)                 (None, 120, 32)           196640    \n",
            "                                                                 \n",
            " dense_25 (Dense)            (None, 120, 1)            33        \n",
            "                                                                 \n",
            "=================================================================\n",
            "Total params: 196,673\n",
            "Trainable params: 196,673\n",
            "Non-trainable params: 0\n",
            "_________________________________________________________________\n",
            "Train...\n",
            "Epoch 1/5\n",
            "100/100 - 207s - loss: 1.8241 - mape: 626.4900 - val_loss: 1.0592 - val_mape: 273.9064 - lr: 0.0010 - 207s/epoch - 2s/step\n",
            "Epoch 2/5\n",
            "100/100 - 238s - loss: 1.0670 - mape: 356.3975 - val_loss: 1.0309 - val_mape: 247.2864 - lr: 0.0010 - 238s/epoch - 2s/step\n",
            "Epoch 3/5\n",
            "100/100 - 207s - loss: 0.9834 - mape: 304.5809 - val_loss: 1.0505 - val_mape: 265.1304 - lr: 0.0010 - 207s/epoch - 2s/step\n",
            "Epoch 4/5\n",
            "100/100 - 195s - loss: 0.9655 - mape: 274.0813 - val_loss: 0.9850 - val_mape: 197.6781 - lr: 0.0010 - 195s/epoch - 2s/step\n",
            "Epoch 5/5\n",
            "100/100 - 194s - loss: 0.9222 - mape: 245.1521 - val_loss: 0.9788 - val_mape: 185.8657 - lr: 0.0010 - 194s/epoch - 2s/step\n"
          ]
        }
      ]
    },
    {
      "cell_type": "code",
      "source": [
        "from tensorflow.keras import Sequential\n",
        "from tensorflow.keras.layers import Dense"
      ],
      "metadata": {
        "id": "eXrKJh2PFruy"
      },
      "execution_count": 331,
      "outputs": []
    },
    {
      "cell_type": "code",
      "source": [
        "#72 hours prediction\n",
        "model = keras.models.Sequential([\n",
        "    TCN(input_shape=(120,4),#5 day 4 features\n",
        "        kernel_size=10,\n",
        "        nb_filters=32,\n",
        "        dilations=[1, 2, 4, 8,16],\n",
        "        padding='causal',\n",
        "        activation='relu',\n",
        "        return_sequences=True,\n",
        "        nb_stacks=2,\n",
        "        use_skip_connections=False,\n",
        "        use_batch_norm=False,\n",
        "        use_weight_norm=False,\n",
        "        use_layer_norm=False\n",
        "        ),\n",
        "    keras.layers.Dense(1)\n",
        "])\n",
        "model.summary()\n",
        "model.compile(optimizer= 'adam', loss= 'mape', metrics=['mape'])\n",
        "\n",
        "print('Train...')\n",
        "history = model.fit(train_dataset,\n",
        "                    epochs=10,\n",
        "                    verbose=2,\n",
        "                    batch_size=256,\n",
        "                    validation_data=val_dataset,\n",
        "                    callbacks=callbacks\n",
        ")\n",
        "p=model.predict(samples)"
      ],
      "metadata": {
        "colab": {
          "base_uri": "https://localhost:8080/"
        },
        "id": "2upQhWotDLNu",
        "outputId": "29b9b05a-4118-41ae-e032-4abbaddd572e"
      },
      "execution_count": 341,
      "outputs": [
        {
          "output_type": "stream",
          "name": "stdout",
          "text": [
            "Model: \"sequential_9\"\n",
            "_________________________________________________________________\n",
            " Layer (type)                Output Shape              Param #   \n",
            "=================================================================\n",
            " tcn_10 (TCN)                (None, 120, 32)           196640    \n",
            "                                                                 \n",
            " dense_29 (Dense)            (None, 120, 1)            33        \n",
            "                                                                 \n",
            "=================================================================\n",
            "Total params: 196,673\n",
            "Trainable params: 196,673\n",
            "Non-trainable params: 0\n",
            "_________________________________________________________________\n",
            "Train...\n",
            "Epoch 1/10\n",
            "100/100 - 204s - loss: 1050.7867 - mape: 1050.7865 - val_loss: 386.9817 - val_mape: 386.9817 - 204s/epoch - 2s/step\n",
            "Epoch 2/10\n",
            "100/100 - 196s - loss: 340.9109 - mape: 340.9109 - val_loss: 236.7146 - val_mape: 236.7146 - 196s/epoch - 2s/step\n",
            "Epoch 3/10\n",
            "100/100 - 193s - loss: 348.0700 - mape: 348.0700 - val_loss: 270.8522 - val_mape: 270.8523 - 193s/epoch - 2s/step\n",
            "Epoch 4/10\n",
            "100/100 - 193s - loss: 261.5437 - mape: 261.5436 - val_loss: 182.2118 - val_mape: 182.2118 - 193s/epoch - 2s/step\n",
            "Epoch 5/10\n",
            "100/100 - 192s - loss: 213.4209 - mape: 213.4209 - val_loss: 183.8545 - val_mape: 183.8545 - 192s/epoch - 2s/step\n",
            "Epoch 6/10\n",
            "100/100 - 192s - loss: 195.3331 - mape: 195.3331 - val_loss: 159.2349 - val_mape: 159.2349 - 192s/epoch - 2s/step\n",
            "Epoch 7/10\n",
            "100/100 - 194s - loss: 198.3976 - mape: 198.3975 - val_loss: 160.8156 - val_mape: 160.8156 - 194s/epoch - 2s/step\n",
            "Epoch 8/10\n",
            "100/100 - 193s - loss: 166.5759 - mape: 166.5759 - val_loss: 148.0969 - val_mape: 148.0968 - 193s/epoch - 2s/step\n",
            "Epoch 9/10\n",
            "100/100 - 193s - loss: 171.7417 - mape: 171.7417 - val_loss: 161.7752 - val_mape: 161.7752 - 193s/epoch - 2s/step\n",
            "Epoch 10/10\n",
            "100/100 - 193s - loss: 158.2867 - mape: 158.2867 - val_loss: 135.8688 - val_mape: 135.8687 - 193s/epoch - 2s/step\n",
            "8/8 [==============================] - 1s 58ms/step\n"
          ]
        }
      ]
    },
    {
      "cell_type": "code",
      "source": [
        "import matplotlib.pyplot as plt\n",
        "loss = history.history[\"mape\"]\n",
        "val_loss = history.history[\"val_mape\"]\n",
        "epochs = range(1, len(loss) + 1)\n",
        "plt.figure()\n",
        "plt.plot(epochs, loss, \"bo\", label=\"Training MAPE\")\n",
        "plt.plot(epochs, val_loss, \"b\", label=\"Validation MAPE\")\n",
        "plt.title(\"Training and validation MAE\")\n",
        "plt.legend()\n",
        "plt.show()"
      ],
      "metadata": {
        "colab": {
          "base_uri": "https://localhost:8080/",
          "height": 499
        },
        "id": "K_UfGuctJ27P",
        "outputId": "5879e131-0a6a-4a51-ca35-cc515ee61085"
      },
      "execution_count": 342,
      "outputs": [
        {
          "output_type": "display_data",
          "data": {
            "text/plain": [
              "<Figure size 1080x576 with 1 Axes>"
            ],
            "image/png": "[encoded data removed]"
          },
          "metadata": {
            "needs_background": "light"
          }
        }
      ]
    },
    {
      "cell_type": "code",
      "source": [
        "# 24 hours prior prediction\n",
        "model = keras.models.Sequential([\n",
        "    TCN(input_shape=(120,4), \n",
        "        kernel_size=10,\n",
        "        nb_filters=32,\n",
        "        dilations=[1, 2, 4, 8,16],\n",
        "        padding='causal',\n",
        "        activation='relu',\n",
        "        return_sequences=True,\n",
        "        nb_stacks=2,\n",
        "        use_skip_connections=False,\n",
        "        use_batch_norm=False,\n",
        "        use_weight_norm=False,\n",
        "        use_layer_norm=False\n",
        "        ),\n",
        "    keras.layers.Dense(1)\n",
        "])\n",
        "model.summary()\n",
        "model.compile(optimizer= 'adam', loss= 'mape', metrics=['mape'])\n",
        "\n",
        "print('Train...')\n",
        "history = model.fit(train_dataset,\n",
        "                    epochs=10,\n",
        "                    verbose=2,\n",
        "                    batch_size=256,\n",
        "                    validation_data=val_dataset,\n",
        "                    callbacks=callbacks\n",
        ")\n",
        "\n",
        "p = model.predict(samples)\n"
      ],
      "metadata": {
        "colab": {
          "base_uri": "https://localhost:8080/"
        },
        "id": "9QQZQ3O4hGEO",
        "outputId": "aa5229ca-0062-4a13-f1fe-19f8b955eec4"
      },
      "execution_count": 345,
      "outputs": [
        {
          "output_type": "stream",
          "name": "stdout",
          "text": [
            "Model: \"sequential_10\"\n",
            "_________________________________________________________________\n",
            " Layer (type)                Output Shape              Param #   \n",
            "=================================================================\n",
            " tcn_11 (TCN)                (None, 120, 32)           196640    \n",
            "                                                                 \n",
            " dense_30 (Dense)            (None, 120, 1)            33        \n",
            "                                                                 \n",
            "=================================================================\n",
            "Total params: 196,673\n",
            "Trainable params: 196,673\n",
            "Non-trainable params: 0\n",
            "_________________________________________________________________\n",
            "Train...\n",
            "Epoch 1/10\n",
            "103/103 - 203s - loss: 719.8321 - mape: 719.8324 - val_loss: 290.7337 - val_mape: 290.7338 - 203s/epoch - 2s/step\n",
            "Epoch 2/10\n",
            "103/103 - 200s - loss: 336.6355 - mape: 336.6355 - val_loss: 267.2080 - val_mape: 267.2080 - 200s/epoch - 2s/step\n",
            "Epoch 3/10\n",
            "103/103 - 200s - loss: 203.4320 - mape: 203.4320 - val_loss: 156.2625 - val_mape: 156.2625 - 200s/epoch - 2s/step\n",
            "Epoch 4/10\n",
            "103/103 - 200s - loss: 167.3701 - mape: 167.3701 - val_loss: 152.7318 - val_mape: 152.7318 - 200s/epoch - 2s/step\n",
            "Epoch 5/10\n",
            "103/103 - 200s - loss: 202.4908 - mape: 202.4908 - val_loss: 206.2382 - val_mape: 206.2382 - 200s/epoch - 2s/step\n",
            "Epoch 6/10\n",
            "103/103 - 199s - loss: 162.8908 - mape: 162.8908 - val_loss: 130.7581 - val_mape: 130.7581 - 199s/epoch - 2s/step\n",
            "Epoch 7/10\n",
            "103/103 - 199s - loss: 149.7975 - mape: 149.7975 - val_loss: 175.0183 - val_mape: 175.0183 - 199s/epoch - 2s/step\n",
            "Epoch 8/10\n",
            "103/103 - 197s - loss: 153.8101 - mape: 153.8100 - val_loss: 146.3341 - val_mape: 146.3341 - 197s/epoch - 2s/step\n",
            "Epoch 9/10\n",
            "103/103 - 199s - loss: 154.8980 - mape: 154.8980 - val_loss: 150.0105 - val_mape: 150.0105 - 199s/epoch - 2s/step\n",
            "Epoch 10/10\n",
            "103/103 - 200s - loss: 147.7899 - mape: 147.7899 - val_loss: 142.2194 - val_mape: 142.2194 - 200s/epoch - 2s/step\n",
            "8/8 [==============================] - 1s 59ms/step\n"
          ]
        }
      ]
    },
    {
      "cell_type": "code",
      "source": [
        "import matplotlib.pyplot as plt\n",
        "loss = history.history[\"mape\"]\n",
        "val_loss = history.history[\"val_mape\"]\n",
        "epochs = range(1, len(loss) + 1)\n",
        "plt.figure()\n",
        "plt.plot(epochs, loss, \"bo\", label=\"Training MAPE\")\n",
        "plt.plot(epochs, val_loss, \"b\", label=\"Validation MAPE\")\n",
        "plt.title(\"Training and validation MAE\")\n",
        "plt.legend()\n",
        "plt.show()"
      ],
      "metadata": {
        "colab": {
          "base_uri": "https://localhost:8080/",
          "height": 499
        },
        "id": "tbjRmyv5qPq4",
        "outputId": "b7683b52-d772-45c6-a15c-4c61651bfe6a"
      },
      "execution_count": 346,
      "outputs": [
        {
          "output_type": "display_data",
          "data": {
            "text/plain": [
              "<Figure size 1080x576 with 1 Axes>"
            ],
            "image/png": "[encoded data removed]"
          },
          "metadata": {
            "needs_background": "light"
          }
        }
      ]
    },
    {
      "cell_type": "code",
      "source": [],
      "metadata": {
        "id": "JpblvMbHMKMq"
      },
      "execution_count": null,
      "outputs": []
    }
  ]
}